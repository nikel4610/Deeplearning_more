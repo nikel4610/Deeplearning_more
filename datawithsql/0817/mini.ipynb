{
 "cells": [
  {
   "cell_type": "code",
   "execution_count": 116,
   "metadata": {},
   "outputs": [],
   "source": [
    "import pandas as pd\n",
    "PATH = 'D:/vsc_project/Deeplearning_more/00_data/'\n",
    "\n",
    "products = pd.read_csv(PATH + \"olist_products_dataset.csv\", encoding='utf-8-sig')\n",
    "customers = pd.read_csv(PATH + \"olist_customers_dataset.csv\", encoding='utf-8-sig')\n",
    "geolocation = pd.read_csv(PATH + \"olist_geolocation_dataset.csv\", encoding='utf-8-sig')\n",
    "order_items = pd.read_csv(PATH + \"olist_order_items_dataset.csv\", encoding='utf-8-sig')\n",
    "payments = pd.read_csv(PATH + \"olist_order_payments_dataset.csv\", encoding='utf-8-sig')\n",
    "reviews = pd.read_csv(PATH + \"olist_order_reviews_dataset.csv\", encoding='utf-8-sig')\n",
    "orders = pd.read_csv(PATH + \"olist_orders_dataset.csv\", encoding='utf-8-sig')\n",
    "sellers = pd.read_csv(PATH + \"olist_sellers_dataset.csv\", encoding='utf-8-sig')\n",
    "category_name = pd.read_csv(PATH + \"product_category_name_translation.csv\", encoding='utf-8-sig')\n"
   ]
  },
  {
   "cell_type": "code",
   "execution_count": 117,
   "metadata": {},
   "outputs": [
    {
     "data": {
      "text/html": [
       "        <script type=\"text/javascript\">\n",
       "        window.PlotlyConfig = {MathJaxConfig: 'local'};\n",
       "        if (window.MathJax && window.MathJax.Hub && window.MathJax.Hub.Config) {window.MathJax.Hub.Config({SVG: {font: \"STIX-Web\"}});}\n",
       "        if (typeof require !== 'undefined') {\n",
       "        require.undef(\"plotly\");\n",
       "        requirejs.config({\n",
       "            paths: {\n",
       "                'plotly': ['https://cdn.plot.ly/plotly-2.14.0.min']\n",
       "            }\n",
       "        });\n",
       "        require(['plotly'], function(Plotly) {\n",
       "            window._Plotly = Plotly;\n",
       "        });\n",
       "        }\n",
       "        </script>\n",
       "        "
      ]
     },
     "metadata": {},
     "output_type": "display_data"
    }
   ],
   "source": [
    "import chart_studio.plotly as py\n",
    "import cufflinks as cf\n",
    "cf.go_offline(connected=True)"
   ]
  },
  {
   "cell_type": "code",
   "execution_count": 118,
   "metadata": {},
   "outputs": [],
   "source": [
    "orders = orders.dropna()\n",
    "payments = payments.dropna()"
   ]
  },
  {
   "cell_type": "code",
   "execution_count": 119,
   "metadata": {},
   "outputs": [
    {
     "data": {
      "text/html": [
       "<div>\n",
       "<style scoped>\n",
       "    .dataframe tbody tr th:only-of-type {\n",
       "        vertical-align: middle;\n",
       "    }\n",
       "\n",
       "    .dataframe tbody tr th {\n",
       "        vertical-align: top;\n",
       "    }\n",
       "\n",
       "    .dataframe thead th {\n",
       "        text-align: right;\n",
       "    }\n",
       "</style>\n",
       "<table border=\"1\" class=\"dataframe\">\n",
       "  <thead>\n",
       "    <tr style=\"text-align: right;\">\n",
       "      <th></th>\n",
       "      <th>product_category_name_english</th>\n",
       "      <th>product_id</th>\n",
       "    </tr>\n",
       "  </thead>\n",
       "  <tbody>\n",
       "    <tr>\n",
       "      <th>0</th>\n",
       "      <td>perfumery</td>\n",
       "      <td>1e9e8ef04dbcff4541ed26657ea517e5</td>\n",
       "    </tr>\n",
       "    <tr>\n",
       "      <th>1</th>\n",
       "      <td>art</td>\n",
       "      <td>3aa071139cb16b67ca9e5dea641aaa2f</td>\n",
       "    </tr>\n",
       "    <tr>\n",
       "      <th>2</th>\n",
       "      <td>sports_leisure</td>\n",
       "      <td>96bd76ec8810374ed1b65e291975717f</td>\n",
       "    </tr>\n",
       "    <tr>\n",
       "      <th>3</th>\n",
       "      <td>baby</td>\n",
       "      <td>cef67bcfe19066a932b7673e239eb23d</td>\n",
       "    </tr>\n",
       "    <tr>\n",
       "      <th>4</th>\n",
       "      <td>housewares</td>\n",
       "      <td>9dc1a7de274444849c219cff195d0b71</td>\n",
       "    </tr>\n",
       "    <tr>\n",
       "      <th>...</th>\n",
       "      <td>...</td>\n",
       "      <td>...</td>\n",
       "    </tr>\n",
       "    <tr>\n",
       "      <th>32946</th>\n",
       "      <td>furniture_decor</td>\n",
       "      <td>a0b7d5a992ccda646f2d34e418fff5a0</td>\n",
       "    </tr>\n",
       "    <tr>\n",
       "      <th>32947</th>\n",
       "      <td>construction_tools_lights</td>\n",
       "      <td>bf4538d88321d0fd4412a93c974510e6</td>\n",
       "    </tr>\n",
       "    <tr>\n",
       "      <th>32948</th>\n",
       "      <td>bed_bath_table</td>\n",
       "      <td>9a7c6041fa9592d9d9ef6cfe62a71f8c</td>\n",
       "    </tr>\n",
       "    <tr>\n",
       "      <th>32949</th>\n",
       "      <td>computers_accessories</td>\n",
       "      <td>83808703fc0706a22e264b9d75f04a2e</td>\n",
       "    </tr>\n",
       "    <tr>\n",
       "      <th>32950</th>\n",
       "      <td>bed_bath_table</td>\n",
       "      <td>106392145fca363410d287a815be6de4</td>\n",
       "    </tr>\n",
       "  </tbody>\n",
       "</table>\n",
       "<p>32951 rows × 2 columns</p>\n",
       "</div>"
      ],
      "text/plain": [
       "      product_category_name_english                        product_id\n",
       "0                         perfumery  1e9e8ef04dbcff4541ed26657ea517e5\n",
       "1                               art  3aa071139cb16b67ca9e5dea641aaa2f\n",
       "2                    sports_leisure  96bd76ec8810374ed1b65e291975717f\n",
       "3                              baby  cef67bcfe19066a932b7673e239eb23d\n",
       "4                        housewares  9dc1a7de274444849c219cff195d0b71\n",
       "...                             ...                               ...\n",
       "32946               furniture_decor  a0b7d5a992ccda646f2d34e418fff5a0\n",
       "32947     construction_tools_lights  bf4538d88321d0fd4412a93c974510e6\n",
       "32948                bed_bath_table  9a7c6041fa9592d9d9ef6cfe62a71f8c\n",
       "32949         computers_accessories  83808703fc0706a22e264b9d75f04a2e\n",
       "32950                bed_bath_table  106392145fca363410d287a815be6de4\n",
       "\n",
       "[32951 rows x 2 columns]"
      ]
     },
     "execution_count": 119,
     "metadata": {},
     "output_type": "execute_result"
    }
   ],
   "source": [
    "products = pd.merge(products, category_name, on='product_category_name', how='left')\n",
    "products = products[['product_category_name_english', 'product_id']]\n",
    "products"
   ]
  },
  {
   "cell_type": "code",
   "execution_count": 120,
   "metadata": {},
   "outputs": [
    {
     "data": {
      "text/html": [
       "<div>\n",
       "<style scoped>\n",
       "    .dataframe tbody tr th:only-of-type {\n",
       "        vertical-align: middle;\n",
       "    }\n",
       "\n",
       "    .dataframe tbody tr th {\n",
       "        vertical-align: top;\n",
       "    }\n",
       "\n",
       "    .dataframe thead th {\n",
       "        text-align: right;\n",
       "    }\n",
       "</style>\n",
       "<table border=\"1\" class=\"dataframe\">\n",
       "  <thead>\n",
       "    <tr style=\"text-align: right;\">\n",
       "      <th></th>\n",
       "      <th>product_category_name_english</th>\n",
       "      <th>order_id</th>\n",
       "      <th>seller_id</th>\n",
       "    </tr>\n",
       "  </thead>\n",
       "  <tbody>\n",
       "    <tr>\n",
       "      <th>0</th>\n",
       "      <td>perfumery</td>\n",
       "      <td>e17e4f88e31525f7deef66779844ddce</td>\n",
       "      <td>5670f4db5b62c43d542e1b2d56b0cf7c</td>\n",
       "    </tr>\n",
       "    <tr>\n",
       "      <th>1</th>\n",
       "      <td>art</td>\n",
       "      <td>5236307716393b7114b53ee991f36956</td>\n",
       "      <td>b561927807645834b59ef0d16ba55a24</td>\n",
       "    </tr>\n",
       "    <tr>\n",
       "      <th>2</th>\n",
       "      <td>sports_leisure</td>\n",
       "      <td>01f66e58769f84129811d43eefd187fb</td>\n",
       "      <td>7b07b3c7487f0ea825fc6df75abd658b</td>\n",
       "    </tr>\n",
       "    <tr>\n",
       "      <th>3</th>\n",
       "      <td>baby</td>\n",
       "      <td>143d00a4f2dde4e0364ee1821577adb3</td>\n",
       "      <td>c510bc1718f0f2961eaa42a23330681a</td>\n",
       "    </tr>\n",
       "    <tr>\n",
       "      <th>4</th>\n",
       "      <td>housewares</td>\n",
       "      <td>86cafb8794cb99a9b1b77fc8e48fbbbb</td>\n",
       "      <td>0be8ff43f22e456b4e0371b2245e4d01</td>\n",
       "    </tr>\n",
       "    <tr>\n",
       "      <th>...</th>\n",
       "      <td>...</td>\n",
       "      <td>...</td>\n",
       "      <td>...</td>\n",
       "    </tr>\n",
       "    <tr>\n",
       "      <th>112645</th>\n",
       "      <td>computers_accessories</td>\n",
       "      <td>59e88b7d3675e89aceaf86f372d3bc9a</td>\n",
       "      <td>4324dd16853115efb0fd9d0d131ba6f4</td>\n",
       "    </tr>\n",
       "    <tr>\n",
       "      <th>112646</th>\n",
       "      <td>computers_accessories</td>\n",
       "      <td>6e4465d771f02e4fe335225de3c6c043</td>\n",
       "      <td>4324dd16853115efb0fd9d0d131ba6f4</td>\n",
       "    </tr>\n",
       "    <tr>\n",
       "      <th>112647</th>\n",
       "      <td>computers_accessories</td>\n",
       "      <td>6e4465d771f02e4fe335225de3c6c043</td>\n",
       "      <td>4324dd16853115efb0fd9d0d131ba6f4</td>\n",
       "    </tr>\n",
       "    <tr>\n",
       "      <th>112648</th>\n",
       "      <td>computers_accessories</td>\n",
       "      <td>6e4465d771f02e4fe335225de3c6c043</td>\n",
       "      <td>4324dd16853115efb0fd9d0d131ba6f4</td>\n",
       "    </tr>\n",
       "    <tr>\n",
       "      <th>112649</th>\n",
       "      <td>bed_bath_table</td>\n",
       "      <td>f3a47ba087f05d39a74ed1b653f0be1b</td>\n",
       "      <td>4a3ca9315b744ce9f8e9374361493884</td>\n",
       "    </tr>\n",
       "  </tbody>\n",
       "</table>\n",
       "<p>112650 rows × 3 columns</p>\n",
       "</div>"
      ],
      "text/plain": [
       "       product_category_name_english                          order_id  \\\n",
       "0                          perfumery  e17e4f88e31525f7deef66779844ddce   \n",
       "1                                art  5236307716393b7114b53ee991f36956   \n",
       "2                     sports_leisure  01f66e58769f84129811d43eefd187fb   \n",
       "3                               baby  143d00a4f2dde4e0364ee1821577adb3   \n",
       "4                         housewares  86cafb8794cb99a9b1b77fc8e48fbbbb   \n",
       "...                              ...                               ...   \n",
       "112645         computers_accessories  59e88b7d3675e89aceaf86f372d3bc9a   \n",
       "112646         computers_accessories  6e4465d771f02e4fe335225de3c6c043   \n",
       "112647         computers_accessories  6e4465d771f02e4fe335225de3c6c043   \n",
       "112648         computers_accessories  6e4465d771f02e4fe335225de3c6c043   \n",
       "112649                bed_bath_table  f3a47ba087f05d39a74ed1b653f0be1b   \n",
       "\n",
       "                               seller_id  \n",
       "0       5670f4db5b62c43d542e1b2d56b0cf7c  \n",
       "1       b561927807645834b59ef0d16ba55a24  \n",
       "2       7b07b3c7487f0ea825fc6df75abd658b  \n",
       "3       c510bc1718f0f2961eaa42a23330681a  \n",
       "4       0be8ff43f22e456b4e0371b2245e4d01  \n",
       "...                                  ...  \n",
       "112645  4324dd16853115efb0fd9d0d131ba6f4  \n",
       "112646  4324dd16853115efb0fd9d0d131ba6f4  \n",
       "112647  4324dd16853115efb0fd9d0d131ba6f4  \n",
       "112648  4324dd16853115efb0fd9d0d131ba6f4  \n",
       "112649  4a3ca9315b744ce9f8e9374361493884  \n",
       "\n",
       "[112650 rows x 3 columns]"
      ]
     },
     "execution_count": 120,
     "metadata": {},
     "output_type": "execute_result"
    }
   ],
   "source": [
    "products = pd.merge(products, order_items, on='product_id', how='left')\n",
    "products = products[['product_category_name_english','order_id', 'seller_id']]\n",
    "products"
   ]
  },
  {
   "cell_type": "code",
   "execution_count": 121,
   "metadata": {},
   "outputs": [
    {
     "data": {
      "text/html": [
       "<div>\n",
       "<style scoped>\n",
       "    .dataframe tbody tr th:only-of-type {\n",
       "        vertical-align: middle;\n",
       "    }\n",
       "\n",
       "    .dataframe tbody tr th {\n",
       "        vertical-align: top;\n",
       "    }\n",
       "\n",
       "    .dataframe thead th {\n",
       "        text-align: right;\n",
       "    }\n",
       "</style>\n",
       "<table border=\"1\" class=\"dataframe\">\n",
       "  <thead>\n",
       "    <tr style=\"text-align: right;\">\n",
       "      <th></th>\n",
       "      <th>product_category_name_english</th>\n",
       "      <th>order_id</th>\n",
       "      <th>customer_id</th>\n",
       "    </tr>\n",
       "  </thead>\n",
       "  <tbody>\n",
       "    <tr>\n",
       "      <th>0</th>\n",
       "      <td>perfumery</td>\n",
       "      <td>e17e4f88e31525f7deef66779844ddce</td>\n",
       "      <td>f8a3e963a310aa58b60a5b1fed5bceb5</td>\n",
       "    </tr>\n",
       "    <tr>\n",
       "      <th>1</th>\n",
       "      <td>art</td>\n",
       "      <td>5236307716393b7114b53ee991f36956</td>\n",
       "      <td>03fc97548af8f58fefc768d12b546c9c</td>\n",
       "    </tr>\n",
       "    <tr>\n",
       "      <th>2</th>\n",
       "      <td>sports_leisure</td>\n",
       "      <td>01f66e58769f84129811d43eefd187fb</td>\n",
       "      <td>e41819d1c95c12c9ce495b630eab8aee</td>\n",
       "    </tr>\n",
       "    <tr>\n",
       "      <th>3</th>\n",
       "      <td>baby</td>\n",
       "      <td>143d00a4f2dde4e0364ee1821577adb3</td>\n",
       "      <td>322162b5ca010c2b059cb5224dd818b1</td>\n",
       "    </tr>\n",
       "    <tr>\n",
       "      <th>4</th>\n",
       "      <td>housewares</td>\n",
       "      <td>86cafb8794cb99a9b1b77fc8e48fbbbb</td>\n",
       "      <td>c11c31965ff02cc1d7132df8edfcbc22</td>\n",
       "    </tr>\n",
       "    <tr>\n",
       "      <th>...</th>\n",
       "      <td>...</td>\n",
       "      <td>...</td>\n",
       "      <td>...</td>\n",
       "    </tr>\n",
       "    <tr>\n",
       "      <th>112645</th>\n",
       "      <td>computers_accessories</td>\n",
       "      <td>59e88b7d3675e89aceaf86f372d3bc9a</td>\n",
       "      <td>e750210dde7e68dbd5194c0809e97f7e</td>\n",
       "    </tr>\n",
       "    <tr>\n",
       "      <th>112646</th>\n",
       "      <td>computers_accessories</td>\n",
       "      <td>6e4465d771f02e4fe335225de3c6c043</td>\n",
       "      <td>0f139d1b208a62a37671423e5eff5016</td>\n",
       "    </tr>\n",
       "    <tr>\n",
       "      <th>112647</th>\n",
       "      <td>computers_accessories</td>\n",
       "      <td>6e4465d771f02e4fe335225de3c6c043</td>\n",
       "      <td>0f139d1b208a62a37671423e5eff5016</td>\n",
       "    </tr>\n",
       "    <tr>\n",
       "      <th>112648</th>\n",
       "      <td>computers_accessories</td>\n",
       "      <td>6e4465d771f02e4fe335225de3c6c043</td>\n",
       "      <td>0f139d1b208a62a37671423e5eff5016</td>\n",
       "    </tr>\n",
       "    <tr>\n",
       "      <th>112649</th>\n",
       "      <td>bed_bath_table</td>\n",
       "      <td>f3a47ba087f05d39a74ed1b653f0be1b</td>\n",
       "      <td>b7fbfcea57659b5d18c20c95db45e908</td>\n",
       "    </tr>\n",
       "  </tbody>\n",
       "</table>\n",
       "<p>112650 rows × 3 columns</p>\n",
       "</div>"
      ],
      "text/plain": [
       "       product_category_name_english                          order_id  \\\n",
       "0                          perfumery  e17e4f88e31525f7deef66779844ddce   \n",
       "1                                art  5236307716393b7114b53ee991f36956   \n",
       "2                     sports_leisure  01f66e58769f84129811d43eefd187fb   \n",
       "3                               baby  143d00a4f2dde4e0364ee1821577adb3   \n",
       "4                         housewares  86cafb8794cb99a9b1b77fc8e48fbbbb   \n",
       "...                              ...                               ...   \n",
       "112645         computers_accessories  59e88b7d3675e89aceaf86f372d3bc9a   \n",
       "112646         computers_accessories  6e4465d771f02e4fe335225de3c6c043   \n",
       "112647         computers_accessories  6e4465d771f02e4fe335225de3c6c043   \n",
       "112648         computers_accessories  6e4465d771f02e4fe335225de3c6c043   \n",
       "112649                bed_bath_table  f3a47ba087f05d39a74ed1b653f0be1b   \n",
       "\n",
       "                             customer_id  \n",
       "0       f8a3e963a310aa58b60a5b1fed5bceb5  \n",
       "1       03fc97548af8f58fefc768d12b546c9c  \n",
       "2       e41819d1c95c12c9ce495b630eab8aee  \n",
       "3       322162b5ca010c2b059cb5224dd818b1  \n",
       "4       c11c31965ff02cc1d7132df8edfcbc22  \n",
       "...                                  ...  \n",
       "112645  e750210dde7e68dbd5194c0809e97f7e  \n",
       "112646  0f139d1b208a62a37671423e5eff5016  \n",
       "112647  0f139d1b208a62a37671423e5eff5016  \n",
       "112648  0f139d1b208a62a37671423e5eff5016  \n",
       "112649  b7fbfcea57659b5d18c20c95db45e908  \n",
       "\n",
       "[112650 rows x 3 columns]"
      ]
     },
     "execution_count": 121,
     "metadata": {},
     "output_type": "execute_result"
    }
   ],
   "source": [
    "products = pd.merge(products, orders, on='order_id', how='left')\n",
    "products = products[['product_category_name_english','order_id', 'customer_id']]\n",
    "products"
   ]
  },
  {
   "cell_type": "code",
   "execution_count": 122,
   "metadata": {},
   "outputs": [
    {
     "data": {
      "text/html": [
       "<div>\n",
       "<style scoped>\n",
       "    .dataframe tbody tr th:only-of-type {\n",
       "        vertical-align: middle;\n",
       "    }\n",
       "\n",
       "    .dataframe tbody tr th {\n",
       "        vertical-align: top;\n",
       "    }\n",
       "\n",
       "    .dataframe thead th {\n",
       "        text-align: right;\n",
       "    }\n",
       "</style>\n",
       "<table border=\"1\" class=\"dataframe\">\n",
       "  <thead>\n",
       "    <tr style=\"text-align: right;\">\n",
       "      <th></th>\n",
       "      <th>product_category_name_english</th>\n",
       "      <th>order_id</th>\n",
       "      <th>customer_id</th>\n",
       "      <th>customer_state</th>\n",
       "    </tr>\n",
       "  </thead>\n",
       "  <tbody>\n",
       "    <tr>\n",
       "      <th>0</th>\n",
       "      <td>perfumery</td>\n",
       "      <td>e17e4f88e31525f7deef66779844ddce</td>\n",
       "      <td>f8a3e963a310aa58b60a5b1fed5bceb5</td>\n",
       "      <td>SP</td>\n",
       "    </tr>\n",
       "    <tr>\n",
       "      <th>1</th>\n",
       "      <td>art</td>\n",
       "      <td>5236307716393b7114b53ee991f36956</td>\n",
       "      <td>03fc97548af8f58fefc768d12b546c9c</td>\n",
       "      <td>RJ</td>\n",
       "    </tr>\n",
       "    <tr>\n",
       "      <th>2</th>\n",
       "      <td>sports_leisure</td>\n",
       "      <td>01f66e58769f84129811d43eefd187fb</td>\n",
       "      <td>e41819d1c95c12c9ce495b630eab8aee</td>\n",
       "      <td>SP</td>\n",
       "    </tr>\n",
       "    <tr>\n",
       "      <th>3</th>\n",
       "      <td>baby</td>\n",
       "      <td>143d00a4f2dde4e0364ee1821577adb3</td>\n",
       "      <td>322162b5ca010c2b059cb5224dd818b1</td>\n",
       "      <td>SP</td>\n",
       "    </tr>\n",
       "    <tr>\n",
       "      <th>4</th>\n",
       "      <td>housewares</td>\n",
       "      <td>86cafb8794cb99a9b1b77fc8e48fbbbb</td>\n",
       "      <td>c11c31965ff02cc1d7132df8edfcbc22</td>\n",
       "      <td>SP</td>\n",
       "    </tr>\n",
       "    <tr>\n",
       "      <th>...</th>\n",
       "      <td>...</td>\n",
       "      <td>...</td>\n",
       "      <td>...</td>\n",
       "      <td>...</td>\n",
       "    </tr>\n",
       "    <tr>\n",
       "      <th>112645</th>\n",
       "      <td>computers_accessories</td>\n",
       "      <td>59e88b7d3675e89aceaf86f372d3bc9a</td>\n",
       "      <td>e750210dde7e68dbd5194c0809e97f7e</td>\n",
       "      <td>MG</td>\n",
       "    </tr>\n",
       "    <tr>\n",
       "      <th>112646</th>\n",
       "      <td>computers_accessories</td>\n",
       "      <td>6e4465d771f02e4fe335225de3c6c043</td>\n",
       "      <td>0f139d1b208a62a37671423e5eff5016</td>\n",
       "      <td>BA</td>\n",
       "    </tr>\n",
       "    <tr>\n",
       "      <th>112647</th>\n",
       "      <td>computers_accessories</td>\n",
       "      <td>6e4465d771f02e4fe335225de3c6c043</td>\n",
       "      <td>0f139d1b208a62a37671423e5eff5016</td>\n",
       "      <td>BA</td>\n",
       "    </tr>\n",
       "    <tr>\n",
       "      <th>112648</th>\n",
       "      <td>computers_accessories</td>\n",
       "      <td>6e4465d771f02e4fe335225de3c6c043</td>\n",
       "      <td>0f139d1b208a62a37671423e5eff5016</td>\n",
       "      <td>BA</td>\n",
       "    </tr>\n",
       "    <tr>\n",
       "      <th>112649</th>\n",
       "      <td>bed_bath_table</td>\n",
       "      <td>f3a47ba087f05d39a74ed1b653f0be1b</td>\n",
       "      <td>b7fbfcea57659b5d18c20c95db45e908</td>\n",
       "      <td>MG</td>\n",
       "    </tr>\n",
       "  </tbody>\n",
       "</table>\n",
       "<p>112650 rows × 4 columns</p>\n",
       "</div>"
      ],
      "text/plain": [
       "       product_category_name_english                          order_id  \\\n",
       "0                          perfumery  e17e4f88e31525f7deef66779844ddce   \n",
       "1                                art  5236307716393b7114b53ee991f36956   \n",
       "2                     sports_leisure  01f66e58769f84129811d43eefd187fb   \n",
       "3                               baby  143d00a4f2dde4e0364ee1821577adb3   \n",
       "4                         housewares  86cafb8794cb99a9b1b77fc8e48fbbbb   \n",
       "...                              ...                               ...   \n",
       "112645         computers_accessories  59e88b7d3675e89aceaf86f372d3bc9a   \n",
       "112646         computers_accessories  6e4465d771f02e4fe335225de3c6c043   \n",
       "112647         computers_accessories  6e4465d771f02e4fe335225de3c6c043   \n",
       "112648         computers_accessories  6e4465d771f02e4fe335225de3c6c043   \n",
       "112649                bed_bath_table  f3a47ba087f05d39a74ed1b653f0be1b   \n",
       "\n",
       "                             customer_id customer_state  \n",
       "0       f8a3e963a310aa58b60a5b1fed5bceb5             SP  \n",
       "1       03fc97548af8f58fefc768d12b546c9c             RJ  \n",
       "2       e41819d1c95c12c9ce495b630eab8aee             SP  \n",
       "3       322162b5ca010c2b059cb5224dd818b1             SP  \n",
       "4       c11c31965ff02cc1d7132df8edfcbc22             SP  \n",
       "...                                  ...            ...  \n",
       "112645  e750210dde7e68dbd5194c0809e97f7e             MG  \n",
       "112646  0f139d1b208a62a37671423e5eff5016             BA  \n",
       "112647  0f139d1b208a62a37671423e5eff5016             BA  \n",
       "112648  0f139d1b208a62a37671423e5eff5016             BA  \n",
       "112649  b7fbfcea57659b5d18c20c95db45e908             MG  \n",
       "\n",
       "[112650 rows x 4 columns]"
      ]
     },
     "execution_count": 122,
     "metadata": {},
     "output_type": "execute_result"
    }
   ],
   "source": [
    "products = pd.merge(products, customers, on='customer_id', how='left')\n",
    "products = products[['product_category_name_english','order_id', 'customer_id', 'customer_state']]\n",
    "products"
   ]
  },
  {
   "cell_type": "code",
   "execution_count": 123,
   "metadata": {},
   "outputs": [
    {
     "data": {
      "text/html": [
       "<div>\n",
       "<style scoped>\n",
       "    .dataframe tbody tr th:only-of-type {\n",
       "        vertical-align: middle;\n",
       "    }\n",
       "\n",
       "    .dataframe tbody tr th {\n",
       "        vertical-align: top;\n",
       "    }\n",
       "\n",
       "    .dataframe thead th {\n",
       "        text-align: right;\n",
       "    }\n",
       "</style>\n",
       "<table border=\"1\" class=\"dataframe\">\n",
       "  <thead>\n",
       "    <tr style=\"text-align: right;\">\n",
       "      <th></th>\n",
       "      <th>product_category_name_english</th>\n",
       "      <th>customer_state</th>\n",
       "      <th>payment_type</th>\n",
       "      <th>payment_value</th>\n",
       "    </tr>\n",
       "  </thead>\n",
       "  <tbody>\n",
       "    <tr>\n",
       "      <th>0</th>\n",
       "      <td>perfumery</td>\n",
       "      <td>SP</td>\n",
       "      <td>debit_card</td>\n",
       "      <td>18.30</td>\n",
       "    </tr>\n",
       "    <tr>\n",
       "      <th>1</th>\n",
       "      <td>art</td>\n",
       "      <td>RJ</td>\n",
       "      <td>voucher</td>\n",
       "      <td>265.99</td>\n",
       "    </tr>\n",
       "    <tr>\n",
       "      <th>2</th>\n",
       "      <td>sports_leisure</td>\n",
       "      <td>SP</td>\n",
       "      <td>credit_card</td>\n",
       "      <td>87.62</td>\n",
       "    </tr>\n",
       "    <tr>\n",
       "      <th>3</th>\n",
       "      <td>baby</td>\n",
       "      <td>SP</td>\n",
       "      <td>credit_card</td>\n",
       "      <td>121.84</td>\n",
       "    </tr>\n",
       "    <tr>\n",
       "      <th>4</th>\n",
       "      <td>housewares</td>\n",
       "      <td>SP</td>\n",
       "      <td>credit_card</td>\n",
       "      <td>46.19</td>\n",
       "    </tr>\n",
       "    <tr>\n",
       "      <th>...</th>\n",
       "      <td>...</td>\n",
       "      <td>...</td>\n",
       "      <td>...</td>\n",
       "      <td>...</td>\n",
       "    </tr>\n",
       "    <tr>\n",
       "      <th>117599</th>\n",
       "      <td>computers_accessories</td>\n",
       "      <td>MG</td>\n",
       "      <td>boleto</td>\n",
       "      <td>92.02</td>\n",
       "    </tr>\n",
       "    <tr>\n",
       "      <th>117600</th>\n",
       "      <td>computers_accessories</td>\n",
       "      <td>BA</td>\n",
       "      <td>boleto</td>\n",
       "      <td>159.54</td>\n",
       "    </tr>\n",
       "    <tr>\n",
       "      <th>117601</th>\n",
       "      <td>computers_accessories</td>\n",
       "      <td>BA</td>\n",
       "      <td>boleto</td>\n",
       "      <td>159.54</td>\n",
       "    </tr>\n",
       "    <tr>\n",
       "      <th>117602</th>\n",
       "      <td>computers_accessories</td>\n",
       "      <td>BA</td>\n",
       "      <td>boleto</td>\n",
       "      <td>159.54</td>\n",
       "    </tr>\n",
       "    <tr>\n",
       "      <th>117603</th>\n",
       "      <td>bed_bath_table</td>\n",
       "      <td>MG</td>\n",
       "      <td>credit_card</td>\n",
       "      <td>134.55</td>\n",
       "    </tr>\n",
       "  </tbody>\n",
       "</table>\n",
       "<p>117604 rows × 4 columns</p>\n",
       "</div>"
      ],
      "text/plain": [
       "       product_category_name_english customer_state payment_type  \\\n",
       "0                          perfumery             SP   debit_card   \n",
       "1                                art             RJ      voucher   \n",
       "2                     sports_leisure             SP  credit_card   \n",
       "3                               baby             SP  credit_card   \n",
       "4                         housewares             SP  credit_card   \n",
       "...                              ...            ...          ...   \n",
       "117599         computers_accessories             MG       boleto   \n",
       "117600         computers_accessories             BA       boleto   \n",
       "117601         computers_accessories             BA       boleto   \n",
       "117602         computers_accessories             BA       boleto   \n",
       "117603                bed_bath_table             MG  credit_card   \n",
       "\n",
       "        payment_value  \n",
       "0               18.30  \n",
       "1              265.99  \n",
       "2               87.62  \n",
       "3              121.84  \n",
       "4               46.19  \n",
       "...               ...  \n",
       "117599          92.02  \n",
       "117600         159.54  \n",
       "117601         159.54  \n",
       "117602         159.54  \n",
       "117603         134.55  \n",
       "\n",
       "[117604 rows x 4 columns]"
      ]
     },
     "execution_count": 123,
     "metadata": {},
     "output_type": "execute_result"
    }
   ],
   "source": [
    "products = pd.merge(products, payments, on='order_id', how='left')\n",
    "products = products[['product_category_name_english', 'customer_state', 'payment_type', 'payment_value']]\n",
    "products"
   ]
  },
  {
   "cell_type": "code",
   "execution_count": 124,
   "metadata": {},
   "outputs": [
    {
     "data": {
      "text/html": [
       "<div>\n",
       "<style scoped>\n",
       "    .dataframe tbody tr th:only-of-type {\n",
       "        vertical-align: middle;\n",
       "    }\n",
       "\n",
       "    .dataframe tbody tr th {\n",
       "        vertical-align: top;\n",
       "    }\n",
       "\n",
       "    .dataframe thead th {\n",
       "        text-align: right;\n",
       "    }\n",
       "</style>\n",
       "<table border=\"1\" class=\"dataframe\">\n",
       "  <thead>\n",
       "    <tr style=\"text-align: right;\">\n",
       "      <th></th>\n",
       "      <th>product_category_name_english</th>\n",
       "      <th>customer_state</th>\n",
       "      <th>payment_type</th>\n",
       "      <th>payment_value</th>\n",
       "    </tr>\n",
       "  </thead>\n",
       "  <tbody>\n",
       "    <tr>\n",
       "      <th>0</th>\n",
       "      <td>perfumery</td>\n",
       "      <td>SP</td>\n",
       "      <td>debit_card</td>\n",
       "      <td>18.30</td>\n",
       "    </tr>\n",
       "    <tr>\n",
       "      <th>1</th>\n",
       "      <td>art</td>\n",
       "      <td>RJ</td>\n",
       "      <td>voucher</td>\n",
       "      <td>265.99</td>\n",
       "    </tr>\n",
       "    <tr>\n",
       "      <th>2</th>\n",
       "      <td>sports_leisure</td>\n",
       "      <td>SP</td>\n",
       "      <td>credit_card</td>\n",
       "      <td>87.62</td>\n",
       "    </tr>\n",
       "    <tr>\n",
       "      <th>3</th>\n",
       "      <td>baby</td>\n",
       "      <td>SP</td>\n",
       "      <td>credit_card</td>\n",
       "      <td>121.84</td>\n",
       "    </tr>\n",
       "    <tr>\n",
       "      <th>4</th>\n",
       "      <td>housewares</td>\n",
       "      <td>SP</td>\n",
       "      <td>credit_card</td>\n",
       "      <td>46.19</td>\n",
       "    </tr>\n",
       "    <tr>\n",
       "      <th>...</th>\n",
       "      <td>...</td>\n",
       "      <td>...</td>\n",
       "      <td>...</td>\n",
       "      <td>...</td>\n",
       "    </tr>\n",
       "    <tr>\n",
       "      <th>117599</th>\n",
       "      <td>computers_accessories</td>\n",
       "      <td>MG</td>\n",
       "      <td>boleto</td>\n",
       "      <td>92.02</td>\n",
       "    </tr>\n",
       "    <tr>\n",
       "      <th>117600</th>\n",
       "      <td>computers_accessories</td>\n",
       "      <td>BA</td>\n",
       "      <td>boleto</td>\n",
       "      <td>159.54</td>\n",
       "    </tr>\n",
       "    <tr>\n",
       "      <th>117601</th>\n",
       "      <td>computers_accessories</td>\n",
       "      <td>BA</td>\n",
       "      <td>boleto</td>\n",
       "      <td>159.54</td>\n",
       "    </tr>\n",
       "    <tr>\n",
       "      <th>117602</th>\n",
       "      <td>computers_accessories</td>\n",
       "      <td>BA</td>\n",
       "      <td>boleto</td>\n",
       "      <td>159.54</td>\n",
       "    </tr>\n",
       "    <tr>\n",
       "      <th>117603</th>\n",
       "      <td>bed_bath_table</td>\n",
       "      <td>MG</td>\n",
       "      <td>credit_card</td>\n",
       "      <td>134.55</td>\n",
       "    </tr>\n",
       "  </tbody>\n",
       "</table>\n",
       "<p>113368 rows × 4 columns</p>\n",
       "</div>"
      ],
      "text/plain": [
       "       product_category_name_english customer_state payment_type  \\\n",
       "0                          perfumery             SP   debit_card   \n",
       "1                                art             RJ      voucher   \n",
       "2                     sports_leisure             SP  credit_card   \n",
       "3                               baby             SP  credit_card   \n",
       "4                         housewares             SP  credit_card   \n",
       "...                              ...            ...          ...   \n",
       "117599         computers_accessories             MG       boleto   \n",
       "117600         computers_accessories             BA       boleto   \n",
       "117601         computers_accessories             BA       boleto   \n",
       "117602         computers_accessories             BA       boleto   \n",
       "117603                bed_bath_table             MG  credit_card   \n",
       "\n",
       "        payment_value  \n",
       "0               18.30  \n",
       "1              265.99  \n",
       "2               87.62  \n",
       "3              121.84  \n",
       "4               46.19  \n",
       "...               ...  \n",
       "117599          92.02  \n",
       "117600         159.54  \n",
       "117601         159.54  \n",
       "117602         159.54  \n",
       "117603         134.55  \n",
       "\n",
       "[113368 rows x 4 columns]"
      ]
     },
     "execution_count": 124,
     "metadata": {},
     "output_type": "execute_result"
    }
   ],
   "source": [
    "products.sort_values(by = 'payment_value', ascending = False)\n",
    "products.reset_index\n",
    "products = products.dropna()\n",
    "products\n"
   ]
  },
  {
   "cell_type": "code",
   "execution_count": 125,
   "metadata": {},
   "outputs": [
    {
     "data": {
      "text/html": [
       "<div>\n",
       "<style scoped>\n",
       "    .dataframe tbody tr th:only-of-type {\n",
       "        vertical-align: middle;\n",
       "    }\n",
       "\n",
       "    .dataframe tbody tr th {\n",
       "        vertical-align: top;\n",
       "    }\n",
       "\n",
       "    .dataframe thead th {\n",
       "        text-align: right;\n",
       "    }\n",
       "</style>\n",
       "<table border=\"1\" class=\"dataframe\">\n",
       "  <thead>\n",
       "    <tr style=\"text-align: right;\">\n",
       "      <th></th>\n",
       "      <th>customer_state</th>\n",
       "      <th>payment_type</th>\n",
       "      <th>payment_value</th>\n",
       "    </tr>\n",
       "  </thead>\n",
       "  <tbody>\n",
       "    <tr>\n",
       "      <th>0</th>\n",
       "      <td>AC</td>\n",
       "      <td>boleto</td>\n",
       "      <td>3908.46</td>\n",
       "    </tr>\n",
       "    <tr>\n",
       "      <th>1</th>\n",
       "      <td>AC</td>\n",
       "      <td>credit_card</td>\n",
       "      <td>19707.94</td>\n",
       "    </tr>\n",
       "    <tr>\n",
       "      <th>2</th>\n",
       "      <td>AC</td>\n",
       "      <td>debit_card</td>\n",
       "      <td>349.62</td>\n",
       "    </tr>\n",
       "    <tr>\n",
       "      <th>3</th>\n",
       "      <td>AC</td>\n",
       "      <td>voucher</td>\n",
       "      <td>797.13</td>\n",
       "    </tr>\n",
       "    <tr>\n",
       "      <th>4</th>\n",
       "      <td>AL</td>\n",
       "      <td>boleto</td>\n",
       "      <td>16005.95</td>\n",
       "    </tr>\n",
       "    <tr>\n",
       "      <th>...</th>\n",
       "      <td>...</td>\n",
       "      <td>...</td>\n",
       "      <td>...</td>\n",
       "    </tr>\n",
       "    <tr>\n",
       "      <th>100</th>\n",
       "      <td>SP</td>\n",
       "      <td>voucher</td>\n",
       "      <td>151697.94</td>\n",
       "    </tr>\n",
       "    <tr>\n",
       "      <th>101</th>\n",
       "      <td>TO</td>\n",
       "      <td>boleto</td>\n",
       "      <td>14312.29</td>\n",
       "    </tr>\n",
       "    <tr>\n",
       "      <th>102</th>\n",
       "      <td>TO</td>\n",
       "      <td>credit_card</td>\n",
       "      <td>53358.41</td>\n",
       "    </tr>\n",
       "    <tr>\n",
       "      <th>103</th>\n",
       "      <td>TO</td>\n",
       "      <td>debit_card</td>\n",
       "      <td>896.65</td>\n",
       "    </tr>\n",
       "    <tr>\n",
       "      <th>104</th>\n",
       "      <td>TO</td>\n",
       "      <td>voucher</td>\n",
       "      <td>1688.14</td>\n",
       "    </tr>\n",
       "  </tbody>\n",
       "</table>\n",
       "<p>105 rows × 3 columns</p>\n",
       "</div>"
      ],
      "text/plain": [
       "    customer_state payment_type  payment_value\n",
       "0               AC       boleto        3908.46\n",
       "1               AC  credit_card       19707.94\n",
       "2               AC   debit_card         349.62\n",
       "3               AC      voucher         797.13\n",
       "4               AL       boleto       16005.95\n",
       "..             ...          ...            ...\n",
       "100             SP      voucher      151697.94\n",
       "101             TO       boleto       14312.29\n",
       "102             TO  credit_card       53358.41\n",
       "103             TO   debit_card         896.65\n",
       "104             TO      voucher        1688.14\n",
       "\n",
       "[105 rows x 3 columns]"
      ]
     },
     "execution_count": 125,
     "metadata": {},
     "output_type": "execute_result"
    }
   ],
   "source": [
    "products_state_payment_value = products.groupby(['customer_state', 'payment_type'])['payment_value'].sum()\n",
    "products_state_payment_value = products_state_payment_value.reset_index()\n",
    "products_state_payment_value"
   ]
  },
  {
   "cell_type": "code",
   "execution_count": 126,
   "metadata": {},
   "outputs": [
    {
     "data": {
      "application/vnd.plotly.v1+json": {
       "config": {
        "linkText": "Export to plot.ly",
        "plotlyServerURL": "https://plot.ly",
        "showLink": true
       },
       "data": [
        {
         "colorscale": [
          [
           0,
           "rgb(255,245,240)"
          ],
          [
           0.125,
           "rgb(254,224,210)"
          ],
          [
           0.25,
           "rgb(252,187,161)"
          ],
          [
           0.375,
           "rgb(252,146,114)"
          ],
          [
           0.5,
           "rgb(251,106,74)"
          ],
          [
           0.625,
           "rgb(239,59,44)"
          ],
          [
           0.75,
           "rgb(203,24,29)"
          ],
          [
           0.875,
           "rgb(165,15,21)"
          ],
          [
           1,
           "rgb(103,0,13)"
          ]
         ],
         "type": "heatmap",
         "x": [
          "AC",
          "AC",
          "AC",
          "AC",
          "AL",
          "AL",
          "AL",
          "AL",
          "AM",
          "AM",
          "AM",
          "AM",
          "AP",
          "AP",
          "AP",
          "BA",
          "BA",
          "BA",
          "BA",
          "CE",
          "CE",
          "CE",
          "CE",
          "DF",
          "DF",
          "DF",
          "DF",
          "ES",
          "ES",
          "ES",
          "ES",
          "GO",
          "GO",
          "GO",
          "GO",
          "MA",
          "MA",
          "MA",
          "MA",
          "MG",
          "MG",
          "MG",
          "MG",
          "MS",
          "MS",
          "MS",
          "MS",
          "MT",
          "MT",
          "MT",
          "MT",
          "PA",
          "PA",
          "PA",
          "PA",
          "PB",
          "PB",
          "PB",
          "PB",
          "PE",
          "PE",
          "PE",
          "PE",
          "PI",
          "PI",
          "PI",
          "PI",
          "PR",
          "PR",
          "PR",
          "PR",
          "RJ",
          "RJ",
          "RJ",
          "RJ",
          "RN",
          "RN",
          "RN",
          "RN",
          "RO",
          "RO",
          "RO",
          "RO",
          "RR",
          "RR",
          "RS",
          "RS",
          "RS",
          "RS",
          "SC",
          "SC",
          "SC",
          "SC",
          "SE",
          "SE",
          "SE",
          "SE",
          "SP",
          "SP",
          "SP",
          "SP",
          "TO",
          "TO",
          "TO",
          "TO"
         ],
         "y": [
          "boleto",
          "credit_card",
          "debit_card",
          "voucher",
          "boleto",
          "credit_card",
          "debit_card",
          "voucher",
          "boleto",
          "credit_card",
          "debit_card",
          "voucher",
          "boleto",
          "credit_card",
          "voucher",
          "boleto",
          "credit_card",
          "debit_card",
          "voucher",
          "boleto",
          "credit_card",
          "debit_card",
          "voucher",
          "boleto",
          "credit_card",
          "debit_card",
          "voucher",
          "boleto",
          "credit_card",
          "debit_card",
          "voucher",
          "boleto",
          "credit_card",
          "debit_card",
          "voucher",
          "boleto",
          "credit_card",
          "debit_card",
          "voucher",
          "boleto",
          "credit_card",
          "debit_card",
          "voucher",
          "boleto",
          "credit_card",
          "debit_card",
          "voucher",
          "boleto",
          "credit_card",
          "debit_card",
          "voucher",
          "boleto",
          "credit_card",
          "debit_card",
          "voucher",
          "boleto",
          "credit_card",
          "debit_card",
          "voucher",
          "boleto",
          "credit_card",
          "debit_card",
          "voucher",
          "boleto",
          "credit_card",
          "debit_card",
          "voucher",
          "boleto",
          "credit_card",
          "debit_card",
          "voucher",
          "boleto",
          "credit_card",
          "debit_card",
          "voucher",
          "boleto",
          "credit_card",
          "debit_card",
          "voucher",
          "boleto",
          "credit_card",
          "debit_card",
          "voucher",
          "boleto",
          "credit_card",
          "boleto",
          "credit_card",
          "debit_card",
          "voucher",
          "boleto",
          "credit_card",
          "debit_card",
          "voucher",
          "boleto",
          "credit_card",
          "debit_card",
          "voucher",
          "boleto",
          "credit_card",
          "debit_card",
          "voucher",
          "boleto",
          "credit_card",
          "debit_card",
          "voucher"
         ],
         "z": [
          3908.46,
          19707.94,
          349.62,
          797.13,
          16005.95,
          89397.24,
          625.6500000000001,
          1705.79,
          6361.900000000001,
          26500.98,
          152.01999999999998,
          210.82,
          4813.21,
          16471.079999999998,
          237.42000000000002,
          126811.75,
          612667.09,
          6699.67,
          16145.55,
          41196.27,
          276024.55,
          3073.19,
          6930.99,
          63923.58,
          343651.21,
          1695.51,
          8768.82,
          105991.78,
          278074.46,
          4550.99,
          7726.6,
          76474.34,
          394651.44,
          4283.29,
          7520.38,
          66424.69,
          124092.19,
          518.31,
          2122.8,
          484199.07,
          1706519.69,
          25183.49,
          40621.51,
          33843.03,
          123977.42,
          1674.65,
          2477.05,
          47677.89,
          199247.68,
          1096.9,
          2230.96,
          47640.17,
          187273.16,
          4916.16,
          4374.7300000000005,
          49606.409999999996,
          116260.29,
          5426.04,
          2842.55,
          53895.91,
          291802.07,
          3073.71,
          6230.3,
          24139.23,
          105490.6,
          969.99,
          2208.8,
          219972.98,
          768398.21,
          10301.96,
          21479.11,
          458567.19,
          2103203.58,
          41581.77,
          54280.78,
          20199.24,
          89491.37,
          1497.73,
          3134.02,
          15521.96,
          47813.01,
          450.23,
          496.52,
          3133.74,
          7865.32,
          257003.67,
          796093.29,
          12169.52,
          25609.54,
          170010.98,
          567561.02,
          7937.25,
          13196.27,
          15877.08,
          63580.37,
          1763.83,
          4250,
          1457796.77,
          5600783.11,
          101114.95,
          151697.94,
          14312.29,
          53358.409999999996,
          896.65,
          1688.14
         ],
         "zmax": 5600783.11,
         "zmin": 152.01999999999998
        }
       ],
       "layout": {
        "template": {
         "data": {
          "bar": [
           {
            "error_x": {
             "color": "#f2f5fa"
            },
            "error_y": {
             "color": "#f2f5fa"
            },
            "marker": {
             "line": {
              "color": "rgb(17,17,17)",
              "width": 0.5
             },
             "pattern": {
              "fillmode": "overlay",
              "size": 10,
              "solidity": 0.2
             }
            },
            "type": "bar"
           }
          ],
          "barpolar": [
           {
            "marker": {
             "line": {
              "color": "rgb(17,17,17)",
              "width": 0.5
             },
             "pattern": {
              "fillmode": "overlay",
              "size": 10,
              "solidity": 0.2
             }
            },
            "type": "barpolar"
           }
          ],
          "carpet": [
           {
            "aaxis": {
             "endlinecolor": "#A2B1C6",
             "gridcolor": "#506784",
             "linecolor": "#506784",
             "minorgridcolor": "#506784",
             "startlinecolor": "#A2B1C6"
            },
            "baxis": {
             "endlinecolor": "#A2B1C6",
             "gridcolor": "#506784",
             "linecolor": "#506784",
             "minorgridcolor": "#506784",
             "startlinecolor": "#A2B1C6"
            },
            "type": "carpet"
           }
          ],
          "choropleth": [
           {
            "colorbar": {
             "outlinewidth": 0,
             "ticks": ""
            },
            "type": "choropleth"
           }
          ],
          "contour": [
           {
            "colorbar": {
             "outlinewidth": 0,
             "ticks": ""
            },
            "colorscale": [
             [
              0,
              "#0d0887"
             ],
             [
              0.1111111111111111,
              "#46039f"
             ],
             [
              0.2222222222222222,
              "#7201a8"
             ],
             [
              0.3333333333333333,
              "#9c179e"
             ],
             [
              0.4444444444444444,
              "#bd3786"
             ],
             [
              0.5555555555555556,
              "#d8576b"
             ],
             [
              0.6666666666666666,
              "#ed7953"
             ],
             [
              0.7777777777777778,
              "#fb9f3a"
             ],
             [
              0.8888888888888888,
              "#fdca26"
             ],
             [
              1,
              "#f0f921"
             ]
            ],
            "type": "contour"
           }
          ],
          "contourcarpet": [
           {
            "colorbar": {
             "outlinewidth": 0,
             "ticks": ""
            },
            "type": "contourcarpet"
           }
          ],
          "heatmap": [
           {
            "colorbar": {
             "outlinewidth": 0,
             "ticks": ""
            },
            "colorscale": [
             [
              0,
              "#0d0887"
             ],
             [
              0.1111111111111111,
              "#46039f"
             ],
             [
              0.2222222222222222,
              "#7201a8"
             ],
             [
              0.3333333333333333,
              "#9c179e"
             ],
             [
              0.4444444444444444,
              "#bd3786"
             ],
             [
              0.5555555555555556,
              "#d8576b"
             ],
             [
              0.6666666666666666,
              "#ed7953"
             ],
             [
              0.7777777777777778,
              "#fb9f3a"
             ],
             [
              0.8888888888888888,
              "#fdca26"
             ],
             [
              1,
              "#f0f921"
             ]
            ],
            "type": "heatmap"
           }
          ],
          "heatmapgl": [
           {
            "colorbar": {
             "outlinewidth": 0,
             "ticks": ""
            },
            "colorscale": [
             [
              0,
              "#0d0887"
             ],
             [
              0.1111111111111111,
              "#46039f"
             ],
             [
              0.2222222222222222,
              "#7201a8"
             ],
             [
              0.3333333333333333,
              "#9c179e"
             ],
             [
              0.4444444444444444,
              "#bd3786"
             ],
             [
              0.5555555555555556,
              "#d8576b"
             ],
             [
              0.6666666666666666,
              "#ed7953"
             ],
             [
              0.7777777777777778,
              "#fb9f3a"
             ],
             [
              0.8888888888888888,
              "#fdca26"
             ],
             [
              1,
              "#f0f921"
             ]
            ],
            "type": "heatmapgl"
           }
          ],
          "histogram": [
           {
            "marker": {
             "pattern": {
              "fillmode": "overlay",
              "size": 10,
              "solidity": 0.2
             }
            },
            "type": "histogram"
           }
          ],
          "histogram2d": [
           {
            "colorbar": {
             "outlinewidth": 0,
             "ticks": ""
            },
            "colorscale": [
             [
              0,
              "#0d0887"
             ],
             [
              0.1111111111111111,
              "#46039f"
             ],
             [
              0.2222222222222222,
              "#7201a8"
             ],
             [
              0.3333333333333333,
              "#9c179e"
             ],
             [
              0.4444444444444444,
              "#bd3786"
             ],
             [
              0.5555555555555556,
              "#d8576b"
             ],
             [
              0.6666666666666666,
              "#ed7953"
             ],
             [
              0.7777777777777778,
              "#fb9f3a"
             ],
             [
              0.8888888888888888,
              "#fdca26"
             ],
             [
              1,
              "#f0f921"
             ]
            ],
            "type": "histogram2d"
           }
          ],
          "histogram2dcontour": [
           {
            "colorbar": {
             "outlinewidth": 0,
             "ticks": ""
            },
            "colorscale": [
             [
              0,
              "#0d0887"
             ],
             [
              0.1111111111111111,
              "#46039f"
             ],
             [
              0.2222222222222222,
              "#7201a8"
             ],
             [
              0.3333333333333333,
              "#9c179e"
             ],
             [
              0.4444444444444444,
              "#bd3786"
             ],
             [
              0.5555555555555556,
              "#d8576b"
             ],
             [
              0.6666666666666666,
              "#ed7953"
             ],
             [
              0.7777777777777778,
              "#fb9f3a"
             ],
             [
              0.8888888888888888,
              "#fdca26"
             ],
             [
              1,
              "#f0f921"
             ]
            ],
            "type": "histogram2dcontour"
           }
          ],
          "mesh3d": [
           {
            "colorbar": {
             "outlinewidth": 0,
             "ticks": ""
            },
            "type": "mesh3d"
           }
          ],
          "parcoords": [
           {
            "line": {
             "colorbar": {
              "outlinewidth": 0,
              "ticks": ""
             }
            },
            "type": "parcoords"
           }
          ],
          "pie": [
           {
            "automargin": true,
            "type": "pie"
           }
          ],
          "scatter": [
           {
            "marker": {
             "line": {
              "color": "#283442"
             }
            },
            "type": "scatter"
           }
          ],
          "scatter3d": [
           {
            "line": {
             "colorbar": {
              "outlinewidth": 0,
              "ticks": ""
             }
            },
            "marker": {
             "colorbar": {
              "outlinewidth": 0,
              "ticks": ""
             }
            },
            "type": "scatter3d"
           }
          ],
          "scattercarpet": [
           {
            "marker": {
             "colorbar": {
              "outlinewidth": 0,
              "ticks": ""
             }
            },
            "type": "scattercarpet"
           }
          ],
          "scattergeo": [
           {
            "marker": {
             "colorbar": {
              "outlinewidth": 0,
              "ticks": ""
             }
            },
            "type": "scattergeo"
           }
          ],
          "scattergl": [
           {
            "marker": {
             "line": {
              "color": "#283442"
             }
            },
            "type": "scattergl"
           }
          ],
          "scattermapbox": [
           {
            "marker": {
             "colorbar": {
              "outlinewidth": 0,
              "ticks": ""
             }
            },
            "type": "scattermapbox"
           }
          ],
          "scatterpolar": [
           {
            "marker": {
             "colorbar": {
              "outlinewidth": 0,
              "ticks": ""
             }
            },
            "type": "scatterpolar"
           }
          ],
          "scatterpolargl": [
           {
            "marker": {
             "colorbar": {
              "outlinewidth": 0,
              "ticks": ""
             }
            },
            "type": "scatterpolargl"
           }
          ],
          "scatterternary": [
           {
            "marker": {
             "colorbar": {
              "outlinewidth": 0,
              "ticks": ""
             }
            },
            "type": "scatterternary"
           }
          ],
          "surface": [
           {
            "colorbar": {
             "outlinewidth": 0,
             "ticks": ""
            },
            "colorscale": [
             [
              0,
              "#0d0887"
             ],
             [
              0.1111111111111111,
              "#46039f"
             ],
             [
              0.2222222222222222,
              "#7201a8"
             ],
             [
              0.3333333333333333,
              "#9c179e"
             ],
             [
              0.4444444444444444,
              "#bd3786"
             ],
             [
              0.5555555555555556,
              "#d8576b"
             ],
             [
              0.6666666666666666,
              "#ed7953"
             ],
             [
              0.7777777777777778,
              "#fb9f3a"
             ],
             [
              0.8888888888888888,
              "#fdca26"
             ],
             [
              1,
              "#f0f921"
             ]
            ],
            "type": "surface"
           }
          ],
          "table": [
           {
            "cells": {
             "fill": {
              "color": "#506784"
             },
             "line": {
              "color": "rgb(17,17,17)"
             }
            },
            "header": {
             "fill": {
              "color": "#2a3f5f"
             },
             "line": {
              "color": "rgb(17,17,17)"
             }
            },
            "type": "table"
           }
          ]
         },
         "layout": {
          "annotationdefaults": {
           "arrowcolor": "#f2f5fa",
           "arrowhead": 0,
           "arrowwidth": 1
          },
          "autotypenumbers": "strict",
          "coloraxis": {
           "colorbar": {
            "outlinewidth": 0,
            "ticks": ""
           }
          },
          "colorscale": {
           "diverging": [
            [
             0,
             "#8e0152"
            ],
            [
             0.1,
             "#c51b7d"
            ],
            [
             0.2,
             "#de77ae"
            ],
            [
             0.3,
             "#f1b6da"
            ],
            [
             0.4,
             "#fde0ef"
            ],
            [
             0.5,
             "#f7f7f7"
            ],
            [
             0.6,
             "#e6f5d0"
            ],
            [
             0.7,
             "#b8e186"
            ],
            [
             0.8,
             "#7fbc41"
            ],
            [
             0.9,
             "#4d9221"
            ],
            [
             1,
             "#276419"
            ]
           ],
           "sequential": [
            [
             0,
             "#0d0887"
            ],
            [
             0.1111111111111111,
             "#46039f"
            ],
            [
             0.2222222222222222,
             "#7201a8"
            ],
            [
             0.3333333333333333,
             "#9c179e"
            ],
            [
             0.4444444444444444,
             "#bd3786"
            ],
            [
             0.5555555555555556,
             "#d8576b"
            ],
            [
             0.6666666666666666,
             "#ed7953"
            ],
            [
             0.7777777777777778,
             "#fb9f3a"
            ],
            [
             0.8888888888888888,
             "#fdca26"
            ],
            [
             1,
             "#f0f921"
            ]
           ],
           "sequentialminus": [
            [
             0,
             "#0d0887"
            ],
            [
             0.1111111111111111,
             "#46039f"
            ],
            [
             0.2222222222222222,
             "#7201a8"
            ],
            [
             0.3333333333333333,
             "#9c179e"
            ],
            [
             0.4444444444444444,
             "#bd3786"
            ],
            [
             0.5555555555555556,
             "#d8576b"
            ],
            [
             0.6666666666666666,
             "#ed7953"
            ],
            [
             0.7777777777777778,
             "#fb9f3a"
            ],
            [
             0.8888888888888888,
             "#fdca26"
            ],
            [
             1,
             "#f0f921"
            ]
           ]
          },
          "colorway": [
           "#636efa",
           "#EF553B",
           "#00cc96",
           "#ab63fa",
           "#FFA15A",
           "#19d3f3",
           "#FF6692",
           "#B6E880",
           "#FF97FF",
           "#FECB52"
          ],
          "font": {
           "color": "#f2f5fa"
          },
          "geo": {
           "bgcolor": "rgb(17,17,17)",
           "lakecolor": "rgb(17,17,17)",
           "landcolor": "rgb(17,17,17)",
           "showlakes": true,
           "showland": true,
           "subunitcolor": "#506784"
          },
          "hoverlabel": {
           "align": "left"
          },
          "hovermode": "closest",
          "mapbox": {
           "style": "dark"
          },
          "paper_bgcolor": "rgb(17,17,17)",
          "plot_bgcolor": "rgb(17,17,17)",
          "polar": {
           "angularaxis": {
            "gridcolor": "#506784",
            "linecolor": "#506784",
            "ticks": ""
           },
           "bgcolor": "rgb(17,17,17)",
           "radialaxis": {
            "gridcolor": "#506784",
            "linecolor": "#506784",
            "ticks": ""
           }
          },
          "scene": {
           "xaxis": {
            "backgroundcolor": "rgb(17,17,17)",
            "gridcolor": "#506784",
            "gridwidth": 2,
            "linecolor": "#506784",
            "showbackground": true,
            "ticks": "",
            "zerolinecolor": "#C8D4E3"
           },
           "yaxis": {
            "backgroundcolor": "rgb(17,17,17)",
            "gridcolor": "#506784",
            "gridwidth": 2,
            "linecolor": "#506784",
            "showbackground": true,
            "ticks": "",
            "zerolinecolor": "#C8D4E3"
           },
           "zaxis": {
            "backgroundcolor": "rgb(17,17,17)",
            "gridcolor": "#506784",
            "gridwidth": 2,
            "linecolor": "#506784",
            "showbackground": true,
            "ticks": "",
            "zerolinecolor": "#C8D4E3"
           }
          },
          "shapedefaults": {
           "line": {
            "color": "#f2f5fa"
           }
          },
          "sliderdefaults": {
           "bgcolor": "#C8D4E3",
           "bordercolor": "rgb(17,17,17)",
           "borderwidth": 1,
           "tickwidth": 0
          },
          "ternary": {
           "aaxis": {
            "gridcolor": "#506784",
            "linecolor": "#506784",
            "ticks": ""
           },
           "baxis": {
            "gridcolor": "#506784",
            "linecolor": "#506784",
            "ticks": ""
           },
           "bgcolor": "rgb(17,17,17)",
           "caxis": {
            "gridcolor": "#506784",
            "linecolor": "#506784",
            "ticks": ""
           }
          },
          "title": {
           "x": 0.05
          },
          "updatemenudefaults": {
           "bgcolor": "#506784",
           "borderwidth": 0
          },
          "xaxis": {
           "automargin": true,
           "gridcolor": "#283442",
           "linecolor": "#506784",
           "ticks": "",
           "title": {
            "standoff": 15
           },
           "zerolinecolor": "#283442",
           "zerolinewidth": 2
          },
          "yaxis": {
           "automargin": true,
           "gridcolor": "#283442",
           "linecolor": "#506784",
           "ticks": "",
           "title": {
            "standoff": 15
           },
           "zerolinecolor": "#283442",
           "zerolinewidth": 2
          }
         }
        },
        "title": {
         "font": {
          "size": 16
         },
         "text": "<b>도시별 지불 방법과 비용</b>",
         "x": 0.5,
         "y": 0.87
        },
        "xaxis": {
         "dtick": 1,
         "showticklabels": true,
         "title": {
          "text": "<b>지불 방법</b>"
         }
        },
        "yaxis": {
         "title": {
          "text": "<b>도시</b>"
         }
        }
       }
      },
      "text/html": [
       "<div>                            <div id=\"efec622b-80b0-4c5b-9f63-b006c7045d56\" class=\"plotly-graph-div\" style=\"height:525px; width:100%;\"></div>            <script type=\"text/javascript\">                require([\"plotly\"], function(Plotly) {                    window.PLOTLYENV=window.PLOTLYENV || {};\n",
       "                    window.PLOTLYENV.BASE_URL='https://plot.ly';                                    if (document.getElementById(\"efec622b-80b0-4c5b-9f63-b006c7045d56\")) {                    Plotly.newPlot(                        \"efec622b-80b0-4c5b-9f63-b006c7045d56\",                        [{\"colorscale\":[[0.0,\"rgb(255,245,240)\"],[0.125,\"rgb(254,224,210)\"],[0.25,\"rgb(252,187,161)\"],[0.375,\"rgb(252,146,114)\"],[0.5,\"rgb(251,106,74)\"],[0.625,\"rgb(239,59,44)\"],[0.75,\"rgb(203,24,29)\"],[0.875,\"rgb(165,15,21)\"],[1.0,\"rgb(103,0,13)\"]],\"x\":[\"AC\",\"AC\",\"AC\",\"AC\",\"AL\",\"AL\",\"AL\",\"AL\",\"AM\",\"AM\",\"AM\",\"AM\",\"AP\",\"AP\",\"AP\",\"BA\",\"BA\",\"BA\",\"BA\",\"CE\",\"CE\",\"CE\",\"CE\",\"DF\",\"DF\",\"DF\",\"DF\",\"ES\",\"ES\",\"ES\",\"ES\",\"GO\",\"GO\",\"GO\",\"GO\",\"MA\",\"MA\",\"MA\",\"MA\",\"MG\",\"MG\",\"MG\",\"MG\",\"MS\",\"MS\",\"MS\",\"MS\",\"MT\",\"MT\",\"MT\",\"MT\",\"PA\",\"PA\",\"PA\",\"PA\",\"PB\",\"PB\",\"PB\",\"PB\",\"PE\",\"PE\",\"PE\",\"PE\",\"PI\",\"PI\",\"PI\",\"PI\",\"PR\",\"PR\",\"PR\",\"PR\",\"RJ\",\"RJ\",\"RJ\",\"RJ\",\"RN\",\"RN\",\"RN\",\"RN\",\"RO\",\"RO\",\"RO\",\"RO\",\"RR\",\"RR\",\"RS\",\"RS\",\"RS\",\"RS\",\"SC\",\"SC\",\"SC\",\"SC\",\"SE\",\"SE\",\"SE\",\"SE\",\"SP\",\"SP\",\"SP\",\"SP\",\"TO\",\"TO\",\"TO\",\"TO\"],\"y\":[\"boleto\",\"credit_card\",\"debit_card\",\"voucher\",\"boleto\",\"credit_card\",\"debit_card\",\"voucher\",\"boleto\",\"credit_card\",\"debit_card\",\"voucher\",\"boleto\",\"credit_card\",\"voucher\",\"boleto\",\"credit_card\",\"debit_card\",\"voucher\",\"boleto\",\"credit_card\",\"debit_card\",\"voucher\",\"boleto\",\"credit_card\",\"debit_card\",\"voucher\",\"boleto\",\"credit_card\",\"debit_card\",\"voucher\",\"boleto\",\"credit_card\",\"debit_card\",\"voucher\",\"boleto\",\"credit_card\",\"debit_card\",\"voucher\",\"boleto\",\"credit_card\",\"debit_card\",\"voucher\",\"boleto\",\"credit_card\",\"debit_card\",\"voucher\",\"boleto\",\"credit_card\",\"debit_card\",\"voucher\",\"boleto\",\"credit_card\",\"debit_card\",\"voucher\",\"boleto\",\"credit_card\",\"debit_card\",\"voucher\",\"boleto\",\"credit_card\",\"debit_card\",\"voucher\",\"boleto\",\"credit_card\",\"debit_card\",\"voucher\",\"boleto\",\"credit_card\",\"debit_card\",\"voucher\",\"boleto\",\"credit_card\",\"debit_card\",\"voucher\",\"boleto\",\"credit_card\",\"debit_card\",\"voucher\",\"boleto\",\"credit_card\",\"debit_card\",\"voucher\",\"boleto\",\"credit_card\",\"boleto\",\"credit_card\",\"debit_card\",\"voucher\",\"boleto\",\"credit_card\",\"debit_card\",\"voucher\",\"boleto\",\"credit_card\",\"debit_card\",\"voucher\",\"boleto\",\"credit_card\",\"debit_card\",\"voucher\",\"boleto\",\"credit_card\",\"debit_card\",\"voucher\"],\"z\":[3908.46,19707.94,349.62,797.13,16005.95,89397.24,625.6500000000001,1705.79,6361.900000000001,26500.98,152.01999999999998,210.82,4813.21,16471.079999999998,237.42000000000002,126811.75,612667.09,6699.67,16145.55,41196.27,276024.55,3073.19,6930.99,63923.58,343651.21,1695.51,8768.82,105991.78,278074.46,4550.99,7726.6,76474.34,394651.44,4283.29,7520.38,66424.69,124092.19,518.31,2122.8,484199.07,1706519.69,25183.49,40621.51,33843.03,123977.42,1674.65,2477.05,47677.89,199247.68,1096.9,2230.96,47640.17,187273.16,4916.16,4374.7300000000005,49606.409999999996,116260.29,5426.04,2842.55,53895.91,291802.07,3073.71,6230.3,24139.23,105490.6,969.99,2208.8,219972.98,768398.21,10301.96,21479.11,458567.19,2103203.58,41581.77,54280.78,20199.24,89491.37,1497.73,3134.02,15521.96,47813.01,450.23,496.52,3133.74,7865.32,257003.67,796093.29,12169.52,25609.54,170010.98,567561.02,7937.25,13196.27,15877.08,63580.37,1763.83,4250.0,1457796.77,5600783.11,101114.95,151697.94,14312.29,53358.409999999996,896.65,1688.14],\"zmax\":5600783.11,\"zmin\":152.01999999999998,\"type\":\"heatmap\"}],                        {\"template\":{\"data\":{\"barpolar\":[{\"marker\":{\"line\":{\"color\":\"rgb(17,17,17)\",\"width\":0.5},\"pattern\":{\"fillmode\":\"overlay\",\"size\":10,\"solidity\":0.2}},\"type\":\"barpolar\"}],\"bar\":[{\"error_x\":{\"color\":\"#f2f5fa\"},\"error_y\":{\"color\":\"#f2f5fa\"},\"marker\":{\"line\":{\"color\":\"rgb(17,17,17)\",\"width\":0.5},\"pattern\":{\"fillmode\":\"overlay\",\"size\":10,\"solidity\":0.2}},\"type\":\"bar\"}],\"carpet\":[{\"aaxis\":{\"endlinecolor\":\"#A2B1C6\",\"gridcolor\":\"#506784\",\"linecolor\":\"#506784\",\"minorgridcolor\":\"#506784\",\"startlinecolor\":\"#A2B1C6\"},\"baxis\":{\"endlinecolor\":\"#A2B1C6\",\"gridcolor\":\"#506784\",\"linecolor\":\"#506784\",\"minorgridcolor\":\"#506784\",\"startlinecolor\":\"#A2B1C6\"},\"type\":\"carpet\"}],\"choropleth\":[{\"colorbar\":{\"outlinewidth\":0,\"ticks\":\"\"},\"type\":\"choropleth\"}],\"contourcarpet\":[{\"colorbar\":{\"outlinewidth\":0,\"ticks\":\"\"},\"type\":\"contourcarpet\"}],\"contour\":[{\"colorbar\":{\"outlinewidth\":0,\"ticks\":\"\"},\"colorscale\":[[0.0,\"#0d0887\"],[0.1111111111111111,\"#46039f\"],[0.2222222222222222,\"#7201a8\"],[0.3333333333333333,\"#9c179e\"],[0.4444444444444444,\"#bd3786\"],[0.5555555555555556,\"#d8576b\"],[0.6666666666666666,\"#ed7953\"],[0.7777777777777778,\"#fb9f3a\"],[0.8888888888888888,\"#fdca26\"],[1.0,\"#f0f921\"]],\"type\":\"contour\"}],\"heatmapgl\":[{\"colorbar\":{\"outlinewidth\":0,\"ticks\":\"\"},\"colorscale\":[[0.0,\"#0d0887\"],[0.1111111111111111,\"#46039f\"],[0.2222222222222222,\"#7201a8\"],[0.3333333333333333,\"#9c179e\"],[0.4444444444444444,\"#bd3786\"],[0.5555555555555556,\"#d8576b\"],[0.6666666666666666,\"#ed7953\"],[0.7777777777777778,\"#fb9f3a\"],[0.8888888888888888,\"#fdca26\"],[1.0,\"#f0f921\"]],\"type\":\"heatmapgl\"}],\"heatmap\":[{\"colorbar\":{\"outlinewidth\":0,\"ticks\":\"\"},\"colorscale\":[[0.0,\"#0d0887\"],[0.1111111111111111,\"#46039f\"],[0.2222222222222222,\"#7201a8\"],[0.3333333333333333,\"#9c179e\"],[0.4444444444444444,\"#bd3786\"],[0.5555555555555556,\"#d8576b\"],[0.6666666666666666,\"#ed7953\"],[0.7777777777777778,\"#fb9f3a\"],[0.8888888888888888,\"#fdca26\"],[1.0,\"#f0f921\"]],\"type\":\"heatmap\"}],\"histogram2dcontour\":[{\"colorbar\":{\"outlinewidth\":0,\"ticks\":\"\"},\"colorscale\":[[0.0,\"#0d0887\"],[0.1111111111111111,\"#46039f\"],[0.2222222222222222,\"#7201a8\"],[0.3333333333333333,\"#9c179e\"],[0.4444444444444444,\"#bd3786\"],[0.5555555555555556,\"#d8576b\"],[0.6666666666666666,\"#ed7953\"],[0.7777777777777778,\"#fb9f3a\"],[0.8888888888888888,\"#fdca26\"],[1.0,\"#f0f921\"]],\"type\":\"histogram2dcontour\"}],\"histogram2d\":[{\"colorbar\":{\"outlinewidth\":0,\"ticks\":\"\"},\"colorscale\":[[0.0,\"#0d0887\"],[0.1111111111111111,\"#46039f\"],[0.2222222222222222,\"#7201a8\"],[0.3333333333333333,\"#9c179e\"],[0.4444444444444444,\"#bd3786\"],[0.5555555555555556,\"#d8576b\"],[0.6666666666666666,\"#ed7953\"],[0.7777777777777778,\"#fb9f3a\"],[0.8888888888888888,\"#fdca26\"],[1.0,\"#f0f921\"]],\"type\":\"histogram2d\"}],\"histogram\":[{\"marker\":{\"pattern\":{\"fillmode\":\"overlay\",\"size\":10,\"solidity\":0.2}},\"type\":\"histogram\"}],\"mesh3d\":[{\"colorbar\":{\"outlinewidth\":0,\"ticks\":\"\"},\"type\":\"mesh3d\"}],\"parcoords\":[{\"line\":{\"colorbar\":{\"outlinewidth\":0,\"ticks\":\"\"}},\"type\":\"parcoords\"}],\"pie\":[{\"automargin\":true,\"type\":\"pie\"}],\"scatter3d\":[{\"line\":{\"colorbar\":{\"outlinewidth\":0,\"ticks\":\"\"}},\"marker\":{\"colorbar\":{\"outlinewidth\":0,\"ticks\":\"\"}},\"type\":\"scatter3d\"}],\"scattercarpet\":[{\"marker\":{\"colorbar\":{\"outlinewidth\":0,\"ticks\":\"\"}},\"type\":\"scattercarpet\"}],\"scattergeo\":[{\"marker\":{\"colorbar\":{\"outlinewidth\":0,\"ticks\":\"\"}},\"type\":\"scattergeo\"}],\"scattergl\":[{\"marker\":{\"line\":{\"color\":\"#283442\"}},\"type\":\"scattergl\"}],\"scattermapbox\":[{\"marker\":{\"colorbar\":{\"outlinewidth\":0,\"ticks\":\"\"}},\"type\":\"scattermapbox\"}],\"scatterpolargl\":[{\"marker\":{\"colorbar\":{\"outlinewidth\":0,\"ticks\":\"\"}},\"type\":\"scatterpolargl\"}],\"scatterpolar\":[{\"marker\":{\"colorbar\":{\"outlinewidth\":0,\"ticks\":\"\"}},\"type\":\"scatterpolar\"}],\"scatter\":[{\"marker\":{\"line\":{\"color\":\"#283442\"}},\"type\":\"scatter\"}],\"scatterternary\":[{\"marker\":{\"colorbar\":{\"outlinewidth\":0,\"ticks\":\"\"}},\"type\":\"scatterternary\"}],\"surface\":[{\"colorbar\":{\"outlinewidth\":0,\"ticks\":\"\"},\"colorscale\":[[0.0,\"#0d0887\"],[0.1111111111111111,\"#46039f\"],[0.2222222222222222,\"#7201a8\"],[0.3333333333333333,\"#9c179e\"],[0.4444444444444444,\"#bd3786\"],[0.5555555555555556,\"#d8576b\"],[0.6666666666666666,\"#ed7953\"],[0.7777777777777778,\"#fb9f3a\"],[0.8888888888888888,\"#fdca26\"],[1.0,\"#f0f921\"]],\"type\":\"surface\"}],\"table\":[{\"cells\":{\"fill\":{\"color\":\"#506784\"},\"line\":{\"color\":\"rgb(17,17,17)\"}},\"header\":{\"fill\":{\"color\":\"#2a3f5f\"},\"line\":{\"color\":\"rgb(17,17,17)\"}},\"type\":\"table\"}]},\"layout\":{\"annotationdefaults\":{\"arrowcolor\":\"#f2f5fa\",\"arrowhead\":0,\"arrowwidth\":1},\"autotypenumbers\":\"strict\",\"coloraxis\":{\"colorbar\":{\"outlinewidth\":0,\"ticks\":\"\"}},\"colorscale\":{\"diverging\":[[0,\"#8e0152\"],[0.1,\"#c51b7d\"],[0.2,\"#de77ae\"],[0.3,\"#f1b6da\"],[0.4,\"#fde0ef\"],[0.5,\"#f7f7f7\"],[0.6,\"#e6f5d0\"],[0.7,\"#b8e186\"],[0.8,\"#7fbc41\"],[0.9,\"#4d9221\"],[1,\"#276419\"]],\"sequential\":[[0.0,\"#0d0887\"],[0.1111111111111111,\"#46039f\"],[0.2222222222222222,\"#7201a8\"],[0.3333333333333333,\"#9c179e\"],[0.4444444444444444,\"#bd3786\"],[0.5555555555555556,\"#d8576b\"],[0.6666666666666666,\"#ed7953\"],[0.7777777777777778,\"#fb9f3a\"],[0.8888888888888888,\"#fdca26\"],[1.0,\"#f0f921\"]],\"sequentialminus\":[[0.0,\"#0d0887\"],[0.1111111111111111,\"#46039f\"],[0.2222222222222222,\"#7201a8\"],[0.3333333333333333,\"#9c179e\"],[0.4444444444444444,\"#bd3786\"],[0.5555555555555556,\"#d8576b\"],[0.6666666666666666,\"#ed7953\"],[0.7777777777777778,\"#fb9f3a\"],[0.8888888888888888,\"#fdca26\"],[1.0,\"#f0f921\"]]},\"colorway\":[\"#636efa\",\"#EF553B\",\"#00cc96\",\"#ab63fa\",\"#FFA15A\",\"#19d3f3\",\"#FF6692\",\"#B6E880\",\"#FF97FF\",\"#FECB52\"],\"font\":{\"color\":\"#f2f5fa\"},\"geo\":{\"bgcolor\":\"rgb(17,17,17)\",\"lakecolor\":\"rgb(17,17,17)\",\"landcolor\":\"rgb(17,17,17)\",\"showlakes\":true,\"showland\":true,\"subunitcolor\":\"#506784\"},\"hoverlabel\":{\"align\":\"left\"},\"hovermode\":\"closest\",\"mapbox\":{\"style\":\"dark\"},\"paper_bgcolor\":\"rgb(17,17,17)\",\"plot_bgcolor\":\"rgb(17,17,17)\",\"polar\":{\"angularaxis\":{\"gridcolor\":\"#506784\",\"linecolor\":\"#506784\",\"ticks\":\"\"},\"bgcolor\":\"rgb(17,17,17)\",\"radialaxis\":{\"gridcolor\":\"#506784\",\"linecolor\":\"#506784\",\"ticks\":\"\"}},\"scene\":{\"xaxis\":{\"backgroundcolor\":\"rgb(17,17,17)\",\"gridcolor\":\"#506784\",\"gridwidth\":2,\"linecolor\":\"#506784\",\"showbackground\":true,\"ticks\":\"\",\"zerolinecolor\":\"#C8D4E3\"},\"yaxis\":{\"backgroundcolor\":\"rgb(17,17,17)\",\"gridcolor\":\"#506784\",\"gridwidth\":2,\"linecolor\":\"#506784\",\"showbackground\":true,\"ticks\":\"\",\"zerolinecolor\":\"#C8D4E3\"},\"zaxis\":{\"backgroundcolor\":\"rgb(17,17,17)\",\"gridcolor\":\"#506784\",\"gridwidth\":2,\"linecolor\":\"#506784\",\"showbackground\":true,\"ticks\":\"\",\"zerolinecolor\":\"#C8D4E3\"}},\"shapedefaults\":{\"line\":{\"color\":\"#f2f5fa\"}},\"sliderdefaults\":{\"bgcolor\":\"#C8D4E3\",\"bordercolor\":\"rgb(17,17,17)\",\"borderwidth\":1,\"tickwidth\":0},\"ternary\":{\"aaxis\":{\"gridcolor\":\"#506784\",\"linecolor\":\"#506784\",\"ticks\":\"\"},\"baxis\":{\"gridcolor\":\"#506784\",\"linecolor\":\"#506784\",\"ticks\":\"\"},\"bgcolor\":\"rgb(17,17,17)\",\"caxis\":{\"gridcolor\":\"#506784\",\"linecolor\":\"#506784\",\"ticks\":\"\"}},\"title\":{\"x\":0.05},\"updatemenudefaults\":{\"bgcolor\":\"#506784\",\"borderwidth\":0},\"xaxis\":{\"automargin\":true,\"gridcolor\":\"#283442\",\"linecolor\":\"#506784\",\"ticks\":\"\",\"title\":{\"standoff\":15},\"zerolinecolor\":\"#283442\",\"zerolinewidth\":2},\"yaxis\":{\"automargin\":true,\"gridcolor\":\"#283442\",\"linecolor\":\"#506784\",\"ticks\":\"\",\"title\":{\"standoff\":15},\"zerolinecolor\":\"#283442\",\"zerolinewidth\":2}}},\"title\":{\"font\":{\"size\":16},\"text\":\"<b>\\ub3c4\\uc2dc\\ubcc4 \\uc9c0\\ubd88 \\ubc29\\ubc95\\uacfc \\ube44\\uc6a9</b>\",\"x\":0.5,\"y\":0.87},\"xaxis\":{\"dtick\":1,\"showticklabels\":true,\"title\":{\"text\":\"<b>\\uc9c0\\ubd88 \\ubc29\\ubc95</b>\"}},\"yaxis\":{\"title\":{\"text\":\"<b>\\ub3c4\\uc2dc</b>\"}}},                        {\"showLink\": true, \"linkText\": \"Export to plot.ly\", \"plotlyServerURL\": \"https://plot.ly\", \"responsive\": true}                    ).then(function(){\n",
       "                            \n",
       "var gd = document.getElementById('efec622b-80b0-4c5b-9f63-b006c7045d56');\n",
       "var x = new MutationObserver(function (mutations, observer) {{\n",
       "        var display = window.getComputedStyle(gd).display;\n",
       "        if (!display || display === 'none') {{\n",
       "            console.log([gd, 'removed!']);\n",
       "            Plotly.purge(gd);\n",
       "            observer.disconnect();\n",
       "        }}\n",
       "}});\n",
       "\n",
       "// Listen for the removal of the full notebook cells\n",
       "var notebookContainer = gd.closest('#notebook-container');\n",
       "if (notebookContainer) {{\n",
       "    x.observe(notebookContainer, {childList: true});\n",
       "}}\n",
       "\n",
       "// Listen for the clearing of the current output cell\n",
       "var outputEl = gd.closest('.output');\n",
       "if (outputEl) {{\n",
       "    x.observe(outputEl, {childList: true});\n",
       "}}\n",
       "\n",
       "                        })                };                });            </script>        </div>"
      ]
     },
     "metadata": {},
     "output_type": "display_data"
    }
   ],
   "source": [
    "layout = {\n",
    "    'title':  {\n",
    "            \"text\": \"<b>도시별 지불 방법과 비용</b>\",\n",
    "            \"x\": 0.5,\n",
    "            \"y\": 0.87,\n",
    "            \"font\": {\n",
    "                \"size\": 16\n",
    "            }\n",
    "    },\n",
    "    'xaxis': {\n",
    "        'title': '<b>지불 방법</b>',\n",
    "        'showticklabels':True,\n",
    "        'dtick': 1\n",
    "    },\n",
    "    \"yaxis\": {\n",
    "        \"title\": \"<b>도시</b>\"\n",
    "    },\n",
    "    \"template\":'plotly_dark'\n",
    "}\n",
    "products_state_payment_value.iplot(kind = 'heatmap', x = 'customer_state', y = 'payment_type', z = 'payment_value', colorscale = 'Reds', layout = layout)\n",
    "\n",
    "# boleto: 기프티콘처럼 바코드 그려져 있는데 그게 통장이랑 연결됨 기프티콘 + 페이 느낌\n",
    "# SP 즉 상파울루가 너무 압도적이라서 불만 값을 조정함\n",
    "# 빈칸은 아예 그 지불수단을 사용하지 않은 경우"
   ]
  },
  {
   "cell_type": "code",
   "execution_count": 127,
   "metadata": {},
   "outputs": [
    {
     "data": {
      "text/html": [
       "<div>\n",
       "<style scoped>\n",
       "    .dataframe tbody tr th:only-of-type {\n",
       "        vertical-align: middle;\n",
       "    }\n",
       "\n",
       "    .dataframe tbody tr th {\n",
       "        vertical-align: top;\n",
       "    }\n",
       "\n",
       "    .dataframe thead th {\n",
       "        text-align: right;\n",
       "    }\n",
       "</style>\n",
       "<table border=\"1\" class=\"dataframe\">\n",
       "  <thead>\n",
       "    <tr style=\"text-align: right;\">\n",
       "      <th></th>\n",
       "      <th>customer_state</th>\n",
       "      <th>payment_type</th>\n",
       "      <th>payment_value</th>\n",
       "    </tr>\n",
       "  </thead>\n",
       "  <tbody>\n",
       "    <tr>\n",
       "      <th>5</th>\n",
       "      <td>AL</td>\n",
       "      <td>credit_card</td>\n",
       "      <td>89397.24</td>\n",
       "    </tr>\n",
       "    <tr>\n",
       "      <th>15</th>\n",
       "      <td>BA</td>\n",
       "      <td>boleto</td>\n",
       "      <td>126811.75</td>\n",
       "    </tr>\n",
       "    <tr>\n",
       "      <th>16</th>\n",
       "      <td>BA</td>\n",
       "      <td>credit_card</td>\n",
       "      <td>612667.09</td>\n",
       "    </tr>\n",
       "    <tr>\n",
       "      <th>20</th>\n",
       "      <td>CE</td>\n",
       "      <td>credit_card</td>\n",
       "      <td>276024.55</td>\n",
       "    </tr>\n",
       "    <tr>\n",
       "      <th>23</th>\n",
       "      <td>DF</td>\n",
       "      <td>boleto</td>\n",
       "      <td>63923.58</td>\n",
       "    </tr>\n",
       "    <tr>\n",
       "      <th>24</th>\n",
       "      <td>DF</td>\n",
       "      <td>credit_card</td>\n",
       "      <td>343651.21</td>\n",
       "    </tr>\n",
       "    <tr>\n",
       "      <th>27</th>\n",
       "      <td>ES</td>\n",
       "      <td>boleto</td>\n",
       "      <td>105991.78</td>\n",
       "    </tr>\n",
       "    <tr>\n",
       "      <th>28</th>\n",
       "      <td>ES</td>\n",
       "      <td>credit_card</td>\n",
       "      <td>278074.46</td>\n",
       "    </tr>\n",
       "    <tr>\n",
       "      <th>31</th>\n",
       "      <td>GO</td>\n",
       "      <td>boleto</td>\n",
       "      <td>76474.34</td>\n",
       "    </tr>\n",
       "    <tr>\n",
       "      <th>32</th>\n",
       "      <td>GO</td>\n",
       "      <td>credit_card</td>\n",
       "      <td>394651.44</td>\n",
       "    </tr>\n",
       "    <tr>\n",
       "      <th>35</th>\n",
       "      <td>MA</td>\n",
       "      <td>boleto</td>\n",
       "      <td>66424.69</td>\n",
       "    </tr>\n",
       "    <tr>\n",
       "      <th>36</th>\n",
       "      <td>MA</td>\n",
       "      <td>credit_card</td>\n",
       "      <td>124092.19</td>\n",
       "    </tr>\n",
       "    <tr>\n",
       "      <th>39</th>\n",
       "      <td>MG</td>\n",
       "      <td>boleto</td>\n",
       "      <td>484199.07</td>\n",
       "    </tr>\n",
       "    <tr>\n",
       "      <th>40</th>\n",
       "      <td>MG</td>\n",
       "      <td>credit_card</td>\n",
       "      <td>1706519.69</td>\n",
       "    </tr>\n",
       "    <tr>\n",
       "      <th>44</th>\n",
       "      <td>MS</td>\n",
       "      <td>credit_card</td>\n",
       "      <td>123977.42</td>\n",
       "    </tr>\n",
       "    <tr>\n",
       "      <th>48</th>\n",
       "      <td>MT</td>\n",
       "      <td>credit_card</td>\n",
       "      <td>199247.68</td>\n",
       "    </tr>\n",
       "    <tr>\n",
       "      <th>52</th>\n",
       "      <td>PA</td>\n",
       "      <td>credit_card</td>\n",
       "      <td>187273.16</td>\n",
       "    </tr>\n",
       "    <tr>\n",
       "      <th>56</th>\n",
       "      <td>PB</td>\n",
       "      <td>credit_card</td>\n",
       "      <td>116260.29</td>\n",
       "    </tr>\n",
       "    <tr>\n",
       "      <th>59</th>\n",
       "      <td>PE</td>\n",
       "      <td>boleto</td>\n",
       "      <td>53895.91</td>\n",
       "    </tr>\n",
       "    <tr>\n",
       "      <th>60</th>\n",
       "      <td>PE</td>\n",
       "      <td>credit_card</td>\n",
       "      <td>291802.07</td>\n",
       "    </tr>\n",
       "    <tr>\n",
       "      <th>64</th>\n",
       "      <td>PI</td>\n",
       "      <td>credit_card</td>\n",
       "      <td>105490.60</td>\n",
       "    </tr>\n",
       "    <tr>\n",
       "      <th>67</th>\n",
       "      <td>PR</td>\n",
       "      <td>boleto</td>\n",
       "      <td>219972.98</td>\n",
       "    </tr>\n",
       "    <tr>\n",
       "      <th>68</th>\n",
       "      <td>PR</td>\n",
       "      <td>credit_card</td>\n",
       "      <td>768398.21</td>\n",
       "    </tr>\n",
       "    <tr>\n",
       "      <th>71</th>\n",
       "      <td>RJ</td>\n",
       "      <td>boleto</td>\n",
       "      <td>458567.19</td>\n",
       "    </tr>\n",
       "    <tr>\n",
       "      <th>72</th>\n",
       "      <td>RJ</td>\n",
       "      <td>credit_card</td>\n",
       "      <td>2103203.58</td>\n",
       "    </tr>\n",
       "    <tr>\n",
       "      <th>74</th>\n",
       "      <td>RJ</td>\n",
       "      <td>voucher</td>\n",
       "      <td>54280.78</td>\n",
       "    </tr>\n",
       "    <tr>\n",
       "      <th>76</th>\n",
       "      <td>RN</td>\n",
       "      <td>credit_card</td>\n",
       "      <td>89491.37</td>\n",
       "    </tr>\n",
       "    <tr>\n",
       "      <th>85</th>\n",
       "      <td>RS</td>\n",
       "      <td>boleto</td>\n",
       "      <td>257003.67</td>\n",
       "    </tr>\n",
       "    <tr>\n",
       "      <th>86</th>\n",
       "      <td>RS</td>\n",
       "      <td>credit_card</td>\n",
       "      <td>796093.29</td>\n",
       "    </tr>\n",
       "    <tr>\n",
       "      <th>89</th>\n",
       "      <td>SC</td>\n",
       "      <td>boleto</td>\n",
       "      <td>170010.98</td>\n",
       "    </tr>\n",
       "    <tr>\n",
       "      <th>90</th>\n",
       "      <td>SC</td>\n",
       "      <td>credit_card</td>\n",
       "      <td>567561.02</td>\n",
       "    </tr>\n",
       "    <tr>\n",
       "      <th>94</th>\n",
       "      <td>SE</td>\n",
       "      <td>credit_card</td>\n",
       "      <td>63580.37</td>\n",
       "    </tr>\n",
       "    <tr>\n",
       "      <th>97</th>\n",
       "      <td>SP</td>\n",
       "      <td>boleto</td>\n",
       "      <td>1457796.77</td>\n",
       "    </tr>\n",
       "    <tr>\n",
       "      <th>98</th>\n",
       "      <td>SP</td>\n",
       "      <td>credit_card</td>\n",
       "      <td>5600783.11</td>\n",
       "    </tr>\n",
       "    <tr>\n",
       "      <th>99</th>\n",
       "      <td>SP</td>\n",
       "      <td>debit_card</td>\n",
       "      <td>101114.95</td>\n",
       "    </tr>\n",
       "    <tr>\n",
       "      <th>100</th>\n",
       "      <td>SP</td>\n",
       "      <td>voucher</td>\n",
       "      <td>151697.94</td>\n",
       "    </tr>\n",
       "    <tr>\n",
       "      <th>102</th>\n",
       "      <td>TO</td>\n",
       "      <td>credit_card</td>\n",
       "      <td>53358.41</td>\n",
       "    </tr>\n",
       "  </tbody>\n",
       "</table>\n",
       "</div>"
      ],
      "text/plain": [
       "    customer_state payment_type  payment_value\n",
       "5               AL  credit_card       89397.24\n",
       "15              BA       boleto      126811.75\n",
       "16              BA  credit_card      612667.09\n",
       "20              CE  credit_card      276024.55\n",
       "23              DF       boleto       63923.58\n",
       "24              DF  credit_card      343651.21\n",
       "27              ES       boleto      105991.78\n",
       "28              ES  credit_card      278074.46\n",
       "31              GO       boleto       76474.34\n",
       "32              GO  credit_card      394651.44\n",
       "35              MA       boleto       66424.69\n",
       "36              MA  credit_card      124092.19\n",
       "39              MG       boleto      484199.07\n",
       "40              MG  credit_card     1706519.69\n",
       "44              MS  credit_card      123977.42\n",
       "48              MT  credit_card      199247.68\n",
       "52              PA  credit_card      187273.16\n",
       "56              PB  credit_card      116260.29\n",
       "59              PE       boleto       53895.91\n",
       "60              PE  credit_card      291802.07\n",
       "64              PI  credit_card      105490.60\n",
       "67              PR       boleto      219972.98\n",
       "68              PR  credit_card      768398.21\n",
       "71              RJ       boleto      458567.19\n",
       "72              RJ  credit_card     2103203.58\n",
       "74              RJ      voucher       54280.78\n",
       "76              RN  credit_card       89491.37\n",
       "85              RS       boleto      257003.67\n",
       "86              RS  credit_card      796093.29\n",
       "89              SC       boleto      170010.98\n",
       "90              SC  credit_card      567561.02\n",
       "94              SE  credit_card       63580.37\n",
       "97              SP       boleto     1457796.77\n",
       "98              SP  credit_card     5600783.11\n",
       "99              SP   debit_card      101114.95\n",
       "100             SP      voucher      151697.94\n",
       "102             TO  credit_card       53358.41"
      ]
     },
     "execution_count": 127,
     "metadata": {},
     "output_type": "execute_result"
    }
   ],
   "source": [
    "products_state_payment_value = products_state_payment_value[products_state_payment_value['payment_value'] > 50000]\n",
    "products_state_payment_value"
   ]
  },
  {
   "cell_type": "code",
   "execution_count": 128,
   "metadata": {},
   "outputs": [
    {
     "data": {
      "application/vnd.plotly.v1+json": {
       "config": {
        "linkText": "Export to plot.ly",
        "plotlyServerURL": "https://plot.ly",
        "showLink": true
       },
       "data": [
        {
         "colorscale": [
          [
           0,
           "rgb(255,245,240)"
          ],
          [
           0.125,
           "rgb(254,224,210)"
          ],
          [
           0.25,
           "rgb(252,187,161)"
          ],
          [
           0.375,
           "rgb(252,146,114)"
          ],
          [
           0.5,
           "rgb(251,106,74)"
          ],
          [
           0.625,
           "rgb(239,59,44)"
          ],
          [
           0.75,
           "rgb(203,24,29)"
          ],
          [
           0.875,
           "rgb(165,15,21)"
          ],
          [
           1,
           "rgb(103,0,13)"
          ]
         ],
         "type": "heatmap",
         "x": [
          "AL",
          "BA",
          "BA",
          "CE",
          "DF",
          "DF",
          "ES",
          "ES",
          "GO",
          "GO",
          "MA",
          "MA",
          "MG",
          "MG",
          "MS",
          "MT",
          "PA",
          "PB",
          "PE",
          "PE",
          "PI",
          "PR",
          "PR",
          "RJ",
          "RJ",
          "RJ",
          "RN",
          "RS",
          "RS",
          "SC",
          "SC",
          "SE",
          "SP",
          "SP",
          "SP",
          "SP",
          "TO"
         ],
         "y": [
          "credit_card",
          "boleto",
          "credit_card",
          "credit_card",
          "boleto",
          "credit_card",
          "boleto",
          "credit_card",
          "boleto",
          "credit_card",
          "boleto",
          "credit_card",
          "boleto",
          "credit_card",
          "credit_card",
          "credit_card",
          "credit_card",
          "credit_card",
          "boleto",
          "credit_card",
          "credit_card",
          "boleto",
          "credit_card",
          "boleto",
          "credit_card",
          "voucher",
          "credit_card",
          "boleto",
          "credit_card",
          "boleto",
          "credit_card",
          "credit_card",
          "boleto",
          "credit_card",
          "debit_card",
          "voucher",
          "credit_card"
         ],
         "z": [
          89397.24,
          126811.75,
          612667.09,
          276024.55,
          63923.58,
          343651.21,
          105991.78,
          278074.46,
          76474.34,
          394651.44,
          66424.69,
          124092.19,
          484199.07,
          1706519.69,
          123977.42,
          199247.68,
          187273.16,
          116260.29,
          53895.91,
          291802.07,
          105490.6,
          219972.98,
          768398.21,
          458567.19,
          2103203.58,
          54280.78,
          89491.37,
          257003.67,
          796093.29,
          170010.98,
          567561.02,
          63580.37,
          1457796.77,
          5600783.11,
          101114.95,
          151697.94,
          53358.409999999996
         ],
         "zmax": 5600783.11,
         "zmin": 53358.409999999996
        }
       ],
       "layout": {
        "template": {
         "data": {
          "bar": [
           {
            "error_x": {
             "color": "#f2f5fa"
            },
            "error_y": {
             "color": "#f2f5fa"
            },
            "marker": {
             "line": {
              "color": "rgb(17,17,17)",
              "width": 0.5
             },
             "pattern": {
              "fillmode": "overlay",
              "size": 10,
              "solidity": 0.2
             }
            },
            "type": "bar"
           }
          ],
          "barpolar": [
           {
            "marker": {
             "line": {
              "color": "rgb(17,17,17)",
              "width": 0.5
             },
             "pattern": {
              "fillmode": "overlay",
              "size": 10,
              "solidity": 0.2
             }
            },
            "type": "barpolar"
           }
          ],
          "carpet": [
           {
            "aaxis": {
             "endlinecolor": "#A2B1C6",
             "gridcolor": "#506784",
             "linecolor": "#506784",
             "minorgridcolor": "#506784",
             "startlinecolor": "#A2B1C6"
            },
            "baxis": {
             "endlinecolor": "#A2B1C6",
             "gridcolor": "#506784",
             "linecolor": "#506784",
             "minorgridcolor": "#506784",
             "startlinecolor": "#A2B1C6"
            },
            "type": "carpet"
           }
          ],
          "choropleth": [
           {
            "colorbar": {
             "outlinewidth": 0,
             "ticks": ""
            },
            "type": "choropleth"
           }
          ],
          "contour": [
           {
            "colorbar": {
             "outlinewidth": 0,
             "ticks": ""
            },
            "colorscale": [
             [
              0,
              "#0d0887"
             ],
             [
              0.1111111111111111,
              "#46039f"
             ],
             [
              0.2222222222222222,
              "#7201a8"
             ],
             [
              0.3333333333333333,
              "#9c179e"
             ],
             [
              0.4444444444444444,
              "#bd3786"
             ],
             [
              0.5555555555555556,
              "#d8576b"
             ],
             [
              0.6666666666666666,
              "#ed7953"
             ],
             [
              0.7777777777777778,
              "#fb9f3a"
             ],
             [
              0.8888888888888888,
              "#fdca26"
             ],
             [
              1,
              "#f0f921"
             ]
            ],
            "type": "contour"
           }
          ],
          "contourcarpet": [
           {
            "colorbar": {
             "outlinewidth": 0,
             "ticks": ""
            },
            "type": "contourcarpet"
           }
          ],
          "heatmap": [
           {
            "colorbar": {
             "outlinewidth": 0,
             "ticks": ""
            },
            "colorscale": [
             [
              0,
              "#0d0887"
             ],
             [
              0.1111111111111111,
              "#46039f"
             ],
             [
              0.2222222222222222,
              "#7201a8"
             ],
             [
              0.3333333333333333,
              "#9c179e"
             ],
             [
              0.4444444444444444,
              "#bd3786"
             ],
             [
              0.5555555555555556,
              "#d8576b"
             ],
             [
              0.6666666666666666,
              "#ed7953"
             ],
             [
              0.7777777777777778,
              "#fb9f3a"
             ],
             [
              0.8888888888888888,
              "#fdca26"
             ],
             [
              1,
              "#f0f921"
             ]
            ],
            "type": "heatmap"
           }
          ],
          "heatmapgl": [
           {
            "colorbar": {
             "outlinewidth": 0,
             "ticks": ""
            },
            "colorscale": [
             [
              0,
              "#0d0887"
             ],
             [
              0.1111111111111111,
              "#46039f"
             ],
             [
              0.2222222222222222,
              "#7201a8"
             ],
             [
              0.3333333333333333,
              "#9c179e"
             ],
             [
              0.4444444444444444,
              "#bd3786"
             ],
             [
              0.5555555555555556,
              "#d8576b"
             ],
             [
              0.6666666666666666,
              "#ed7953"
             ],
             [
              0.7777777777777778,
              "#fb9f3a"
             ],
             [
              0.8888888888888888,
              "#fdca26"
             ],
             [
              1,
              "#f0f921"
             ]
            ],
            "type": "heatmapgl"
           }
          ],
          "histogram": [
           {
            "marker": {
             "pattern": {
              "fillmode": "overlay",
              "size": 10,
              "solidity": 0.2
             }
            },
            "type": "histogram"
           }
          ],
          "histogram2d": [
           {
            "colorbar": {
             "outlinewidth": 0,
             "ticks": ""
            },
            "colorscale": [
             [
              0,
              "#0d0887"
             ],
             [
              0.1111111111111111,
              "#46039f"
             ],
             [
              0.2222222222222222,
              "#7201a8"
             ],
             [
              0.3333333333333333,
              "#9c179e"
             ],
             [
              0.4444444444444444,
              "#bd3786"
             ],
             [
              0.5555555555555556,
              "#d8576b"
             ],
             [
              0.6666666666666666,
              "#ed7953"
             ],
             [
              0.7777777777777778,
              "#fb9f3a"
             ],
             [
              0.8888888888888888,
              "#fdca26"
             ],
             [
              1,
              "#f0f921"
             ]
            ],
            "type": "histogram2d"
           }
          ],
          "histogram2dcontour": [
           {
            "colorbar": {
             "outlinewidth": 0,
             "ticks": ""
            },
            "colorscale": [
             [
              0,
              "#0d0887"
             ],
             [
              0.1111111111111111,
              "#46039f"
             ],
             [
              0.2222222222222222,
              "#7201a8"
             ],
             [
              0.3333333333333333,
              "#9c179e"
             ],
             [
              0.4444444444444444,
              "#bd3786"
             ],
             [
              0.5555555555555556,
              "#d8576b"
             ],
             [
              0.6666666666666666,
              "#ed7953"
             ],
             [
              0.7777777777777778,
              "#fb9f3a"
             ],
             [
              0.8888888888888888,
              "#fdca26"
             ],
             [
              1,
              "#f0f921"
             ]
            ],
            "type": "histogram2dcontour"
           }
          ],
          "mesh3d": [
           {
            "colorbar": {
             "outlinewidth": 0,
             "ticks": ""
            },
            "type": "mesh3d"
           }
          ],
          "parcoords": [
           {
            "line": {
             "colorbar": {
              "outlinewidth": 0,
              "ticks": ""
             }
            },
            "type": "parcoords"
           }
          ],
          "pie": [
           {
            "automargin": true,
            "type": "pie"
           }
          ],
          "scatter": [
           {
            "marker": {
             "line": {
              "color": "#283442"
             }
            },
            "type": "scatter"
           }
          ],
          "scatter3d": [
           {
            "line": {
             "colorbar": {
              "outlinewidth": 0,
              "ticks": ""
             }
            },
            "marker": {
             "colorbar": {
              "outlinewidth": 0,
              "ticks": ""
             }
            },
            "type": "scatter3d"
           }
          ],
          "scattercarpet": [
           {
            "marker": {
             "colorbar": {
              "outlinewidth": 0,
              "ticks": ""
             }
            },
            "type": "scattercarpet"
           }
          ],
          "scattergeo": [
           {
            "marker": {
             "colorbar": {
              "outlinewidth": 0,
              "ticks": ""
             }
            },
            "type": "scattergeo"
           }
          ],
          "scattergl": [
           {
            "marker": {
             "line": {
              "color": "#283442"
             }
            },
            "type": "scattergl"
           }
          ],
          "scattermapbox": [
           {
            "marker": {
             "colorbar": {
              "outlinewidth": 0,
              "ticks": ""
             }
            },
            "type": "scattermapbox"
           }
          ],
          "scatterpolar": [
           {
            "marker": {
             "colorbar": {
              "outlinewidth": 0,
              "ticks": ""
             }
            },
            "type": "scatterpolar"
           }
          ],
          "scatterpolargl": [
           {
            "marker": {
             "colorbar": {
              "outlinewidth": 0,
              "ticks": ""
             }
            },
            "type": "scatterpolargl"
           }
          ],
          "scatterternary": [
           {
            "marker": {
             "colorbar": {
              "outlinewidth": 0,
              "ticks": ""
             }
            },
            "type": "scatterternary"
           }
          ],
          "surface": [
           {
            "colorbar": {
             "outlinewidth": 0,
             "ticks": ""
            },
            "colorscale": [
             [
              0,
              "#0d0887"
             ],
             [
              0.1111111111111111,
              "#46039f"
             ],
             [
              0.2222222222222222,
              "#7201a8"
             ],
             [
              0.3333333333333333,
              "#9c179e"
             ],
             [
              0.4444444444444444,
              "#bd3786"
             ],
             [
              0.5555555555555556,
              "#d8576b"
             ],
             [
              0.6666666666666666,
              "#ed7953"
             ],
             [
              0.7777777777777778,
              "#fb9f3a"
             ],
             [
              0.8888888888888888,
              "#fdca26"
             ],
             [
              1,
              "#f0f921"
             ]
            ],
            "type": "surface"
           }
          ],
          "table": [
           {
            "cells": {
             "fill": {
              "color": "#506784"
             },
             "line": {
              "color": "rgb(17,17,17)"
             }
            },
            "header": {
             "fill": {
              "color": "#2a3f5f"
             },
             "line": {
              "color": "rgb(17,17,17)"
             }
            },
            "type": "table"
           }
          ]
         },
         "layout": {
          "annotationdefaults": {
           "arrowcolor": "#f2f5fa",
           "arrowhead": 0,
           "arrowwidth": 1
          },
          "autotypenumbers": "strict",
          "coloraxis": {
           "colorbar": {
            "outlinewidth": 0,
            "ticks": ""
           }
          },
          "colorscale": {
           "diverging": [
            [
             0,
             "#8e0152"
            ],
            [
             0.1,
             "#c51b7d"
            ],
            [
             0.2,
             "#de77ae"
            ],
            [
             0.3,
             "#f1b6da"
            ],
            [
             0.4,
             "#fde0ef"
            ],
            [
             0.5,
             "#f7f7f7"
            ],
            [
             0.6,
             "#e6f5d0"
            ],
            [
             0.7,
             "#b8e186"
            ],
            [
             0.8,
             "#7fbc41"
            ],
            [
             0.9,
             "#4d9221"
            ],
            [
             1,
             "#276419"
            ]
           ],
           "sequential": [
            [
             0,
             "#0d0887"
            ],
            [
             0.1111111111111111,
             "#46039f"
            ],
            [
             0.2222222222222222,
             "#7201a8"
            ],
            [
             0.3333333333333333,
             "#9c179e"
            ],
            [
             0.4444444444444444,
             "#bd3786"
            ],
            [
             0.5555555555555556,
             "#d8576b"
            ],
            [
             0.6666666666666666,
             "#ed7953"
            ],
            [
             0.7777777777777778,
             "#fb9f3a"
            ],
            [
             0.8888888888888888,
             "#fdca26"
            ],
            [
             1,
             "#f0f921"
            ]
           ],
           "sequentialminus": [
            [
             0,
             "#0d0887"
            ],
            [
             0.1111111111111111,
             "#46039f"
            ],
            [
             0.2222222222222222,
             "#7201a8"
            ],
            [
             0.3333333333333333,
             "#9c179e"
            ],
            [
             0.4444444444444444,
             "#bd3786"
            ],
            [
             0.5555555555555556,
             "#d8576b"
            ],
            [
             0.6666666666666666,
             "#ed7953"
            ],
            [
             0.7777777777777778,
             "#fb9f3a"
            ],
            [
             0.8888888888888888,
             "#fdca26"
            ],
            [
             1,
             "#f0f921"
            ]
           ]
          },
          "colorway": [
           "#636efa",
           "#EF553B",
           "#00cc96",
           "#ab63fa",
           "#FFA15A",
           "#19d3f3",
           "#FF6692",
           "#B6E880",
           "#FF97FF",
           "#FECB52"
          ],
          "font": {
           "color": "#f2f5fa"
          },
          "geo": {
           "bgcolor": "rgb(17,17,17)",
           "lakecolor": "rgb(17,17,17)",
           "landcolor": "rgb(17,17,17)",
           "showlakes": true,
           "showland": true,
           "subunitcolor": "#506784"
          },
          "hoverlabel": {
           "align": "left"
          },
          "hovermode": "closest",
          "mapbox": {
           "style": "dark"
          },
          "paper_bgcolor": "rgb(17,17,17)",
          "plot_bgcolor": "rgb(17,17,17)",
          "polar": {
           "angularaxis": {
            "gridcolor": "#506784",
            "linecolor": "#506784",
            "ticks": ""
           },
           "bgcolor": "rgb(17,17,17)",
           "radialaxis": {
            "gridcolor": "#506784",
            "linecolor": "#506784",
            "ticks": ""
           }
          },
          "scene": {
           "xaxis": {
            "backgroundcolor": "rgb(17,17,17)",
            "gridcolor": "#506784",
            "gridwidth": 2,
            "linecolor": "#506784",
            "showbackground": true,
            "ticks": "",
            "zerolinecolor": "#C8D4E3"
           },
           "yaxis": {
            "backgroundcolor": "rgb(17,17,17)",
            "gridcolor": "#506784",
            "gridwidth": 2,
            "linecolor": "#506784",
            "showbackground": true,
            "ticks": "",
            "zerolinecolor": "#C8D4E3"
           },
           "zaxis": {
            "backgroundcolor": "rgb(17,17,17)",
            "gridcolor": "#506784",
            "gridwidth": 2,
            "linecolor": "#506784",
            "showbackground": true,
            "ticks": "",
            "zerolinecolor": "#C8D4E3"
           }
          },
          "shapedefaults": {
           "line": {
            "color": "#f2f5fa"
           }
          },
          "sliderdefaults": {
           "bgcolor": "#C8D4E3",
           "bordercolor": "rgb(17,17,17)",
           "borderwidth": 1,
           "tickwidth": 0
          },
          "ternary": {
           "aaxis": {
            "gridcolor": "#506784",
            "linecolor": "#506784",
            "ticks": ""
           },
           "baxis": {
            "gridcolor": "#506784",
            "linecolor": "#506784",
            "ticks": ""
           },
           "bgcolor": "rgb(17,17,17)",
           "caxis": {
            "gridcolor": "#506784",
            "linecolor": "#506784",
            "ticks": ""
           }
          },
          "title": {
           "x": 0.05
          },
          "updatemenudefaults": {
           "bgcolor": "#506784",
           "borderwidth": 0
          },
          "xaxis": {
           "automargin": true,
           "gridcolor": "#283442",
           "linecolor": "#506784",
           "ticks": "",
           "title": {
            "standoff": 15
           },
           "zerolinecolor": "#283442",
           "zerolinewidth": 2
          },
          "yaxis": {
           "automargin": true,
           "gridcolor": "#283442",
           "linecolor": "#506784",
           "ticks": "",
           "title": {
            "standoff": 15
           },
           "zerolinecolor": "#283442",
           "zerolinewidth": 2
          }
         }
        },
        "title": {
         "font": {
          "size": 16
         },
         "text": "<b>도시별 지불 방법과 비용</b>",
         "x": 0.5,
         "y": 0.87
        },
        "xaxis": {
         "dtick": 1,
         "showticklabels": true,
         "title": {
          "text": "<b>지불 방법</b>"
         }
        },
        "yaxis": {
         "title": {
          "text": "<b>도시</b>"
         }
        }
       }
      },
      "text/html": [
       "<div>                            <div id=\"a4775323-6e18-439e-b749-7e4319e66d70\" class=\"plotly-graph-div\" style=\"height:525px; width:100%;\"></div>            <script type=\"text/javascript\">                require([\"plotly\"], function(Plotly) {                    window.PLOTLYENV=window.PLOTLYENV || {};\n",
       "                    window.PLOTLYENV.BASE_URL='https://plot.ly';                                    if (document.getElementById(\"a4775323-6e18-439e-b749-7e4319e66d70\")) {                    Plotly.newPlot(                        \"a4775323-6e18-439e-b749-7e4319e66d70\",                        [{\"colorscale\":[[0.0,\"rgb(255,245,240)\"],[0.125,\"rgb(254,224,210)\"],[0.25,\"rgb(252,187,161)\"],[0.375,\"rgb(252,146,114)\"],[0.5,\"rgb(251,106,74)\"],[0.625,\"rgb(239,59,44)\"],[0.75,\"rgb(203,24,29)\"],[0.875,\"rgb(165,15,21)\"],[1.0,\"rgb(103,0,13)\"]],\"x\":[\"AL\",\"BA\",\"BA\",\"CE\",\"DF\",\"DF\",\"ES\",\"ES\",\"GO\",\"GO\",\"MA\",\"MA\",\"MG\",\"MG\",\"MS\",\"MT\",\"PA\",\"PB\",\"PE\",\"PE\",\"PI\",\"PR\",\"PR\",\"RJ\",\"RJ\",\"RJ\",\"RN\",\"RS\",\"RS\",\"SC\",\"SC\",\"SE\",\"SP\",\"SP\",\"SP\",\"SP\",\"TO\"],\"y\":[\"credit_card\",\"boleto\",\"credit_card\",\"credit_card\",\"boleto\",\"credit_card\",\"boleto\",\"credit_card\",\"boleto\",\"credit_card\",\"boleto\",\"credit_card\",\"boleto\",\"credit_card\",\"credit_card\",\"credit_card\",\"credit_card\",\"credit_card\",\"boleto\",\"credit_card\",\"credit_card\",\"boleto\",\"credit_card\",\"boleto\",\"credit_card\",\"voucher\",\"credit_card\",\"boleto\",\"credit_card\",\"boleto\",\"credit_card\",\"credit_card\",\"boleto\",\"credit_card\",\"debit_card\",\"voucher\",\"credit_card\"],\"z\":[89397.24,126811.75,612667.09,276024.55,63923.58,343651.21,105991.78,278074.46,76474.34,394651.44,66424.69,124092.19,484199.07,1706519.69,123977.42,199247.68,187273.16,116260.29,53895.91,291802.07,105490.6,219972.98,768398.21,458567.19,2103203.58,54280.78,89491.37,257003.67,796093.29,170010.98,567561.02,63580.37,1457796.77,5600783.11,101114.95,151697.94,53358.409999999996],\"zmax\":5600783.11,\"zmin\":53358.409999999996,\"type\":\"heatmap\"}],                        {\"template\":{\"data\":{\"barpolar\":[{\"marker\":{\"line\":{\"color\":\"rgb(17,17,17)\",\"width\":0.5},\"pattern\":{\"fillmode\":\"overlay\",\"size\":10,\"solidity\":0.2}},\"type\":\"barpolar\"}],\"bar\":[{\"error_x\":{\"color\":\"#f2f5fa\"},\"error_y\":{\"color\":\"#f2f5fa\"},\"marker\":{\"line\":{\"color\":\"rgb(17,17,17)\",\"width\":0.5},\"pattern\":{\"fillmode\":\"overlay\",\"size\":10,\"solidity\":0.2}},\"type\":\"bar\"}],\"carpet\":[{\"aaxis\":{\"endlinecolor\":\"#A2B1C6\",\"gridcolor\":\"#506784\",\"linecolor\":\"#506784\",\"minorgridcolor\":\"#506784\",\"startlinecolor\":\"#A2B1C6\"},\"baxis\":{\"endlinecolor\":\"#A2B1C6\",\"gridcolor\":\"#506784\",\"linecolor\":\"#506784\",\"minorgridcolor\":\"#506784\",\"startlinecolor\":\"#A2B1C6\"},\"type\":\"carpet\"}],\"choropleth\":[{\"colorbar\":{\"outlinewidth\":0,\"ticks\":\"\"},\"type\":\"choropleth\"}],\"contourcarpet\":[{\"colorbar\":{\"outlinewidth\":0,\"ticks\":\"\"},\"type\":\"contourcarpet\"}],\"contour\":[{\"colorbar\":{\"outlinewidth\":0,\"ticks\":\"\"},\"colorscale\":[[0.0,\"#0d0887\"],[0.1111111111111111,\"#46039f\"],[0.2222222222222222,\"#7201a8\"],[0.3333333333333333,\"#9c179e\"],[0.4444444444444444,\"#bd3786\"],[0.5555555555555556,\"#d8576b\"],[0.6666666666666666,\"#ed7953\"],[0.7777777777777778,\"#fb9f3a\"],[0.8888888888888888,\"#fdca26\"],[1.0,\"#f0f921\"]],\"type\":\"contour\"}],\"heatmapgl\":[{\"colorbar\":{\"outlinewidth\":0,\"ticks\":\"\"},\"colorscale\":[[0.0,\"#0d0887\"],[0.1111111111111111,\"#46039f\"],[0.2222222222222222,\"#7201a8\"],[0.3333333333333333,\"#9c179e\"],[0.4444444444444444,\"#bd3786\"],[0.5555555555555556,\"#d8576b\"],[0.6666666666666666,\"#ed7953\"],[0.7777777777777778,\"#fb9f3a\"],[0.8888888888888888,\"#fdca26\"],[1.0,\"#f0f921\"]],\"type\":\"heatmapgl\"}],\"heatmap\":[{\"colorbar\":{\"outlinewidth\":0,\"ticks\":\"\"},\"colorscale\":[[0.0,\"#0d0887\"],[0.1111111111111111,\"#46039f\"],[0.2222222222222222,\"#7201a8\"],[0.3333333333333333,\"#9c179e\"],[0.4444444444444444,\"#bd3786\"],[0.5555555555555556,\"#d8576b\"],[0.6666666666666666,\"#ed7953\"],[0.7777777777777778,\"#fb9f3a\"],[0.8888888888888888,\"#fdca26\"],[1.0,\"#f0f921\"]],\"type\":\"heatmap\"}],\"histogram2dcontour\":[{\"colorbar\":{\"outlinewidth\":0,\"ticks\":\"\"},\"colorscale\":[[0.0,\"#0d0887\"],[0.1111111111111111,\"#46039f\"],[0.2222222222222222,\"#7201a8\"],[0.3333333333333333,\"#9c179e\"],[0.4444444444444444,\"#bd3786\"],[0.5555555555555556,\"#d8576b\"],[0.6666666666666666,\"#ed7953\"],[0.7777777777777778,\"#fb9f3a\"],[0.8888888888888888,\"#fdca26\"],[1.0,\"#f0f921\"]],\"type\":\"histogram2dcontour\"}],\"histogram2d\":[{\"colorbar\":{\"outlinewidth\":0,\"ticks\":\"\"},\"colorscale\":[[0.0,\"#0d0887\"],[0.1111111111111111,\"#46039f\"],[0.2222222222222222,\"#7201a8\"],[0.3333333333333333,\"#9c179e\"],[0.4444444444444444,\"#bd3786\"],[0.5555555555555556,\"#d8576b\"],[0.6666666666666666,\"#ed7953\"],[0.7777777777777778,\"#fb9f3a\"],[0.8888888888888888,\"#fdca26\"],[1.0,\"#f0f921\"]],\"type\":\"histogram2d\"}],\"histogram\":[{\"marker\":{\"pattern\":{\"fillmode\":\"overlay\",\"size\":10,\"solidity\":0.2}},\"type\":\"histogram\"}],\"mesh3d\":[{\"colorbar\":{\"outlinewidth\":0,\"ticks\":\"\"},\"type\":\"mesh3d\"}],\"parcoords\":[{\"line\":{\"colorbar\":{\"outlinewidth\":0,\"ticks\":\"\"}},\"type\":\"parcoords\"}],\"pie\":[{\"automargin\":true,\"type\":\"pie\"}],\"scatter3d\":[{\"line\":{\"colorbar\":{\"outlinewidth\":0,\"ticks\":\"\"}},\"marker\":{\"colorbar\":{\"outlinewidth\":0,\"ticks\":\"\"}},\"type\":\"scatter3d\"}],\"scattercarpet\":[{\"marker\":{\"colorbar\":{\"outlinewidth\":0,\"ticks\":\"\"}},\"type\":\"scattercarpet\"}],\"scattergeo\":[{\"marker\":{\"colorbar\":{\"outlinewidth\":0,\"ticks\":\"\"}},\"type\":\"scattergeo\"}],\"scattergl\":[{\"marker\":{\"line\":{\"color\":\"#283442\"}},\"type\":\"scattergl\"}],\"scattermapbox\":[{\"marker\":{\"colorbar\":{\"outlinewidth\":0,\"ticks\":\"\"}},\"type\":\"scattermapbox\"}],\"scatterpolargl\":[{\"marker\":{\"colorbar\":{\"outlinewidth\":0,\"ticks\":\"\"}},\"type\":\"scatterpolargl\"}],\"scatterpolar\":[{\"marker\":{\"colorbar\":{\"outlinewidth\":0,\"ticks\":\"\"}},\"type\":\"scatterpolar\"}],\"scatter\":[{\"marker\":{\"line\":{\"color\":\"#283442\"}},\"type\":\"scatter\"}],\"scatterternary\":[{\"marker\":{\"colorbar\":{\"outlinewidth\":0,\"ticks\":\"\"}},\"type\":\"scatterternary\"}],\"surface\":[{\"colorbar\":{\"outlinewidth\":0,\"ticks\":\"\"},\"colorscale\":[[0.0,\"#0d0887\"],[0.1111111111111111,\"#46039f\"],[0.2222222222222222,\"#7201a8\"],[0.3333333333333333,\"#9c179e\"],[0.4444444444444444,\"#bd3786\"],[0.5555555555555556,\"#d8576b\"],[0.6666666666666666,\"#ed7953\"],[0.7777777777777778,\"#fb9f3a\"],[0.8888888888888888,\"#fdca26\"],[1.0,\"#f0f921\"]],\"type\":\"surface\"}],\"table\":[{\"cells\":{\"fill\":{\"color\":\"#506784\"},\"line\":{\"color\":\"rgb(17,17,17)\"}},\"header\":{\"fill\":{\"color\":\"#2a3f5f\"},\"line\":{\"color\":\"rgb(17,17,17)\"}},\"type\":\"table\"}]},\"layout\":{\"annotationdefaults\":{\"arrowcolor\":\"#f2f5fa\",\"arrowhead\":0,\"arrowwidth\":1},\"autotypenumbers\":\"strict\",\"coloraxis\":{\"colorbar\":{\"outlinewidth\":0,\"ticks\":\"\"}},\"colorscale\":{\"diverging\":[[0,\"#8e0152\"],[0.1,\"#c51b7d\"],[0.2,\"#de77ae\"],[0.3,\"#f1b6da\"],[0.4,\"#fde0ef\"],[0.5,\"#f7f7f7\"],[0.6,\"#e6f5d0\"],[0.7,\"#b8e186\"],[0.8,\"#7fbc41\"],[0.9,\"#4d9221\"],[1,\"#276419\"]],\"sequential\":[[0.0,\"#0d0887\"],[0.1111111111111111,\"#46039f\"],[0.2222222222222222,\"#7201a8\"],[0.3333333333333333,\"#9c179e\"],[0.4444444444444444,\"#bd3786\"],[0.5555555555555556,\"#d8576b\"],[0.6666666666666666,\"#ed7953\"],[0.7777777777777778,\"#fb9f3a\"],[0.8888888888888888,\"#fdca26\"],[1.0,\"#f0f921\"]],\"sequentialminus\":[[0.0,\"#0d0887\"],[0.1111111111111111,\"#46039f\"],[0.2222222222222222,\"#7201a8\"],[0.3333333333333333,\"#9c179e\"],[0.4444444444444444,\"#bd3786\"],[0.5555555555555556,\"#d8576b\"],[0.6666666666666666,\"#ed7953\"],[0.7777777777777778,\"#fb9f3a\"],[0.8888888888888888,\"#fdca26\"],[1.0,\"#f0f921\"]]},\"colorway\":[\"#636efa\",\"#EF553B\",\"#00cc96\",\"#ab63fa\",\"#FFA15A\",\"#19d3f3\",\"#FF6692\",\"#B6E880\",\"#FF97FF\",\"#FECB52\"],\"font\":{\"color\":\"#f2f5fa\"},\"geo\":{\"bgcolor\":\"rgb(17,17,17)\",\"lakecolor\":\"rgb(17,17,17)\",\"landcolor\":\"rgb(17,17,17)\",\"showlakes\":true,\"showland\":true,\"subunitcolor\":\"#506784\"},\"hoverlabel\":{\"align\":\"left\"},\"hovermode\":\"closest\",\"mapbox\":{\"style\":\"dark\"},\"paper_bgcolor\":\"rgb(17,17,17)\",\"plot_bgcolor\":\"rgb(17,17,17)\",\"polar\":{\"angularaxis\":{\"gridcolor\":\"#506784\",\"linecolor\":\"#506784\",\"ticks\":\"\"},\"bgcolor\":\"rgb(17,17,17)\",\"radialaxis\":{\"gridcolor\":\"#506784\",\"linecolor\":\"#506784\",\"ticks\":\"\"}},\"scene\":{\"xaxis\":{\"backgroundcolor\":\"rgb(17,17,17)\",\"gridcolor\":\"#506784\",\"gridwidth\":2,\"linecolor\":\"#506784\",\"showbackground\":true,\"ticks\":\"\",\"zerolinecolor\":\"#C8D4E3\"},\"yaxis\":{\"backgroundcolor\":\"rgb(17,17,17)\",\"gridcolor\":\"#506784\",\"gridwidth\":2,\"linecolor\":\"#506784\",\"showbackground\":true,\"ticks\":\"\",\"zerolinecolor\":\"#C8D4E3\"},\"zaxis\":{\"backgroundcolor\":\"rgb(17,17,17)\",\"gridcolor\":\"#506784\",\"gridwidth\":2,\"linecolor\":\"#506784\",\"showbackground\":true,\"ticks\":\"\",\"zerolinecolor\":\"#C8D4E3\"}},\"shapedefaults\":{\"line\":{\"color\":\"#f2f5fa\"}},\"sliderdefaults\":{\"bgcolor\":\"#C8D4E3\",\"bordercolor\":\"rgb(17,17,17)\",\"borderwidth\":1,\"tickwidth\":0},\"ternary\":{\"aaxis\":{\"gridcolor\":\"#506784\",\"linecolor\":\"#506784\",\"ticks\":\"\"},\"baxis\":{\"gridcolor\":\"#506784\",\"linecolor\":\"#506784\",\"ticks\":\"\"},\"bgcolor\":\"rgb(17,17,17)\",\"caxis\":{\"gridcolor\":\"#506784\",\"linecolor\":\"#506784\",\"ticks\":\"\"}},\"title\":{\"x\":0.05},\"updatemenudefaults\":{\"bgcolor\":\"#506784\",\"borderwidth\":0},\"xaxis\":{\"automargin\":true,\"gridcolor\":\"#283442\",\"linecolor\":\"#506784\",\"ticks\":\"\",\"title\":{\"standoff\":15},\"zerolinecolor\":\"#283442\",\"zerolinewidth\":2},\"yaxis\":{\"automargin\":true,\"gridcolor\":\"#283442\",\"linecolor\":\"#506784\",\"ticks\":\"\",\"title\":{\"standoff\":15},\"zerolinecolor\":\"#283442\",\"zerolinewidth\":2}}},\"title\":{\"font\":{\"size\":16},\"text\":\"<b>\\ub3c4\\uc2dc\\ubcc4 \\uc9c0\\ubd88 \\ubc29\\ubc95\\uacfc \\ube44\\uc6a9</b>\",\"x\":0.5,\"y\":0.87},\"xaxis\":{\"dtick\":1,\"showticklabels\":true,\"title\":{\"text\":\"<b>\\uc9c0\\ubd88 \\ubc29\\ubc95</b>\"}},\"yaxis\":{\"title\":{\"text\":\"<b>\\ub3c4\\uc2dc</b>\"}}},                        {\"showLink\": true, \"linkText\": \"Export to plot.ly\", \"plotlyServerURL\": \"https://plot.ly\", \"responsive\": true}                    ).then(function(){\n",
       "                            \n",
       "var gd = document.getElementById('a4775323-6e18-439e-b749-7e4319e66d70');\n",
       "var x = new MutationObserver(function (mutations, observer) {{\n",
       "        var display = window.getComputedStyle(gd).display;\n",
       "        if (!display || display === 'none') {{\n",
       "            console.log([gd, 'removed!']);\n",
       "            Plotly.purge(gd);\n",
       "            observer.disconnect();\n",
       "        }}\n",
       "}});\n",
       "\n",
       "// Listen for the removal of the full notebook cells\n",
       "var notebookContainer = gd.closest('#notebook-container');\n",
       "if (notebookContainer) {{\n",
       "    x.observe(notebookContainer, {childList: true});\n",
       "}}\n",
       "\n",
       "// Listen for the clearing of the current output cell\n",
       "var outputEl = gd.closest('.output');\n",
       "if (outputEl) {{\n",
       "    x.observe(outputEl, {childList: true});\n",
       "}}\n",
       "\n",
       "                        })                };                });            </script>        </div>"
      ]
     },
     "metadata": {},
     "output_type": "display_data"
    }
   ],
   "source": [
    "layout = {\n",
    "    'title':  {\n",
    "            \"text\": \"<b>도시별 지불 방법과 비용</b>\",\n",
    "            \"x\": 0.5,\n",
    "            \"y\": 0.87,\n",
    "            \"font\": {\n",
    "                \"size\": 16\n",
    "            }\n",
    "    },\n",
    "    'xaxis': {\n",
    "        'title': '<b>지불 방법</b>',\n",
    "        'showticklabels':True,\n",
    "        'dtick': 1\n",
    "    },\n",
    "    \"yaxis\": {\n",
    "        \"title\": \"<b>도시</b>\"\n",
    "    },\n",
    "    \"template\":'plotly_dark'\n",
    "}\n",
    "products_state_payment_value.iplot(kind = 'heatmap', x = 'customer_state', y = 'payment_type', z = 'payment_value', colorscale = 'Reds', layout = layout)\n",
    "\n",
    "# 기준을 5만헤알 이상으로 정했으나 역시나 상파울루가 압도적임\n",
    "# 아예 상파울루를 지우기로 했음"
   ]
  },
  {
   "cell_type": "code",
   "execution_count": 129,
   "metadata": {},
   "outputs": [
    {
     "data": {
      "text/html": [
       "<div>\n",
       "<style scoped>\n",
       "    .dataframe tbody tr th:only-of-type {\n",
       "        vertical-align: middle;\n",
       "    }\n",
       "\n",
       "    .dataframe tbody tr th {\n",
       "        vertical-align: top;\n",
       "    }\n",
       "\n",
       "    .dataframe thead th {\n",
       "        text-align: right;\n",
       "    }\n",
       "</style>\n",
       "<table border=\"1\" class=\"dataframe\">\n",
       "  <thead>\n",
       "    <tr style=\"text-align: right;\">\n",
       "      <th></th>\n",
       "      <th>customer_state</th>\n",
       "      <th>payment_type</th>\n",
       "      <th>payment_value</th>\n",
       "    </tr>\n",
       "  </thead>\n",
       "  <tbody>\n",
       "    <tr>\n",
       "      <th>5</th>\n",
       "      <td>AL</td>\n",
       "      <td>credit_card</td>\n",
       "      <td>89397.24</td>\n",
       "    </tr>\n",
       "    <tr>\n",
       "      <th>15</th>\n",
       "      <td>BA</td>\n",
       "      <td>boleto</td>\n",
       "      <td>126811.75</td>\n",
       "    </tr>\n",
       "    <tr>\n",
       "      <th>16</th>\n",
       "      <td>BA</td>\n",
       "      <td>credit_card</td>\n",
       "      <td>612667.09</td>\n",
       "    </tr>\n",
       "    <tr>\n",
       "      <th>20</th>\n",
       "      <td>CE</td>\n",
       "      <td>credit_card</td>\n",
       "      <td>276024.55</td>\n",
       "    </tr>\n",
       "    <tr>\n",
       "      <th>23</th>\n",
       "      <td>DF</td>\n",
       "      <td>boleto</td>\n",
       "      <td>63923.58</td>\n",
       "    </tr>\n",
       "    <tr>\n",
       "      <th>24</th>\n",
       "      <td>DF</td>\n",
       "      <td>credit_card</td>\n",
       "      <td>343651.21</td>\n",
       "    </tr>\n",
       "    <tr>\n",
       "      <th>27</th>\n",
       "      <td>ES</td>\n",
       "      <td>boleto</td>\n",
       "      <td>105991.78</td>\n",
       "    </tr>\n",
       "    <tr>\n",
       "      <th>28</th>\n",
       "      <td>ES</td>\n",
       "      <td>credit_card</td>\n",
       "      <td>278074.46</td>\n",
       "    </tr>\n",
       "    <tr>\n",
       "      <th>31</th>\n",
       "      <td>GO</td>\n",
       "      <td>boleto</td>\n",
       "      <td>76474.34</td>\n",
       "    </tr>\n",
       "    <tr>\n",
       "      <th>32</th>\n",
       "      <td>GO</td>\n",
       "      <td>credit_card</td>\n",
       "      <td>394651.44</td>\n",
       "    </tr>\n",
       "    <tr>\n",
       "      <th>35</th>\n",
       "      <td>MA</td>\n",
       "      <td>boleto</td>\n",
       "      <td>66424.69</td>\n",
       "    </tr>\n",
       "    <tr>\n",
       "      <th>36</th>\n",
       "      <td>MA</td>\n",
       "      <td>credit_card</td>\n",
       "      <td>124092.19</td>\n",
       "    </tr>\n",
       "    <tr>\n",
       "      <th>39</th>\n",
       "      <td>MG</td>\n",
       "      <td>boleto</td>\n",
       "      <td>484199.07</td>\n",
       "    </tr>\n",
       "    <tr>\n",
       "      <th>40</th>\n",
       "      <td>MG</td>\n",
       "      <td>credit_card</td>\n",
       "      <td>1706519.69</td>\n",
       "    </tr>\n",
       "    <tr>\n",
       "      <th>44</th>\n",
       "      <td>MS</td>\n",
       "      <td>credit_card</td>\n",
       "      <td>123977.42</td>\n",
       "    </tr>\n",
       "    <tr>\n",
       "      <th>48</th>\n",
       "      <td>MT</td>\n",
       "      <td>credit_card</td>\n",
       "      <td>199247.68</td>\n",
       "    </tr>\n",
       "    <tr>\n",
       "      <th>52</th>\n",
       "      <td>PA</td>\n",
       "      <td>credit_card</td>\n",
       "      <td>187273.16</td>\n",
       "    </tr>\n",
       "    <tr>\n",
       "      <th>56</th>\n",
       "      <td>PB</td>\n",
       "      <td>credit_card</td>\n",
       "      <td>116260.29</td>\n",
       "    </tr>\n",
       "    <tr>\n",
       "      <th>59</th>\n",
       "      <td>PE</td>\n",
       "      <td>boleto</td>\n",
       "      <td>53895.91</td>\n",
       "    </tr>\n",
       "    <tr>\n",
       "      <th>60</th>\n",
       "      <td>PE</td>\n",
       "      <td>credit_card</td>\n",
       "      <td>291802.07</td>\n",
       "    </tr>\n",
       "    <tr>\n",
       "      <th>64</th>\n",
       "      <td>PI</td>\n",
       "      <td>credit_card</td>\n",
       "      <td>105490.60</td>\n",
       "    </tr>\n",
       "    <tr>\n",
       "      <th>67</th>\n",
       "      <td>PR</td>\n",
       "      <td>boleto</td>\n",
       "      <td>219972.98</td>\n",
       "    </tr>\n",
       "    <tr>\n",
       "      <th>68</th>\n",
       "      <td>PR</td>\n",
       "      <td>credit_card</td>\n",
       "      <td>768398.21</td>\n",
       "    </tr>\n",
       "    <tr>\n",
       "      <th>71</th>\n",
       "      <td>RJ</td>\n",
       "      <td>boleto</td>\n",
       "      <td>458567.19</td>\n",
       "    </tr>\n",
       "    <tr>\n",
       "      <th>72</th>\n",
       "      <td>RJ</td>\n",
       "      <td>credit_card</td>\n",
       "      <td>2103203.58</td>\n",
       "    </tr>\n",
       "    <tr>\n",
       "      <th>74</th>\n",
       "      <td>RJ</td>\n",
       "      <td>voucher</td>\n",
       "      <td>54280.78</td>\n",
       "    </tr>\n",
       "    <tr>\n",
       "      <th>76</th>\n",
       "      <td>RN</td>\n",
       "      <td>credit_card</td>\n",
       "      <td>89491.37</td>\n",
       "    </tr>\n",
       "    <tr>\n",
       "      <th>85</th>\n",
       "      <td>RS</td>\n",
       "      <td>boleto</td>\n",
       "      <td>257003.67</td>\n",
       "    </tr>\n",
       "    <tr>\n",
       "      <th>86</th>\n",
       "      <td>RS</td>\n",
       "      <td>credit_card</td>\n",
       "      <td>796093.29</td>\n",
       "    </tr>\n",
       "    <tr>\n",
       "      <th>89</th>\n",
       "      <td>SC</td>\n",
       "      <td>boleto</td>\n",
       "      <td>170010.98</td>\n",
       "    </tr>\n",
       "    <tr>\n",
       "      <th>90</th>\n",
       "      <td>SC</td>\n",
       "      <td>credit_card</td>\n",
       "      <td>567561.02</td>\n",
       "    </tr>\n",
       "    <tr>\n",
       "      <th>94</th>\n",
       "      <td>SE</td>\n",
       "      <td>credit_card</td>\n",
       "      <td>63580.37</td>\n",
       "    </tr>\n",
       "    <tr>\n",
       "      <th>102</th>\n",
       "      <td>TO</td>\n",
       "      <td>credit_card</td>\n",
       "      <td>53358.41</td>\n",
       "    </tr>\n",
       "  </tbody>\n",
       "</table>\n",
       "</div>"
      ],
      "text/plain": [
       "    customer_state payment_type  payment_value\n",
       "5               AL  credit_card       89397.24\n",
       "15              BA       boleto      126811.75\n",
       "16              BA  credit_card      612667.09\n",
       "20              CE  credit_card      276024.55\n",
       "23              DF       boleto       63923.58\n",
       "24              DF  credit_card      343651.21\n",
       "27              ES       boleto      105991.78\n",
       "28              ES  credit_card      278074.46\n",
       "31              GO       boleto       76474.34\n",
       "32              GO  credit_card      394651.44\n",
       "35              MA       boleto       66424.69\n",
       "36              MA  credit_card      124092.19\n",
       "39              MG       boleto      484199.07\n",
       "40              MG  credit_card     1706519.69\n",
       "44              MS  credit_card      123977.42\n",
       "48              MT  credit_card      199247.68\n",
       "52              PA  credit_card      187273.16\n",
       "56              PB  credit_card      116260.29\n",
       "59              PE       boleto       53895.91\n",
       "60              PE  credit_card      291802.07\n",
       "64              PI  credit_card      105490.60\n",
       "67              PR       boleto      219972.98\n",
       "68              PR  credit_card      768398.21\n",
       "71              RJ       boleto      458567.19\n",
       "72              RJ  credit_card     2103203.58\n",
       "74              RJ      voucher       54280.78\n",
       "76              RN  credit_card       89491.37\n",
       "85              RS       boleto      257003.67\n",
       "86              RS  credit_card      796093.29\n",
       "89              SC       boleto      170010.98\n",
       "90              SC  credit_card      567561.02\n",
       "94              SE  credit_card       63580.37\n",
       "102             TO  credit_card       53358.41"
      ]
     },
     "execution_count": 129,
     "metadata": {},
     "output_type": "execute_result"
    }
   ],
   "source": [
    "products_state_payment_value = products_state_payment_value[products_state_payment_value['customer_state'] != 'SP']\n",
    "products_state_payment_value"
   ]
  },
  {
   "cell_type": "code",
   "execution_count": 130,
   "metadata": {},
   "outputs": [
    {
     "data": {
      "application/vnd.plotly.v1+json": {
       "config": {
        "linkText": "Export to plot.ly",
        "plotlyServerURL": "https://plot.ly",
        "showLink": true
       },
       "data": [
        {
         "colorscale": [
          [
           0,
           "rgb(255,245,240)"
          ],
          [
           0.125,
           "rgb(254,224,210)"
          ],
          [
           0.25,
           "rgb(252,187,161)"
          ],
          [
           0.375,
           "rgb(252,146,114)"
          ],
          [
           0.5,
           "rgb(251,106,74)"
          ],
          [
           0.625,
           "rgb(239,59,44)"
          ],
          [
           0.75,
           "rgb(203,24,29)"
          ],
          [
           0.875,
           "rgb(165,15,21)"
          ],
          [
           1,
           "rgb(103,0,13)"
          ]
         ],
         "type": "heatmap",
         "x": [
          "AL",
          "BA",
          "BA",
          "CE",
          "DF",
          "DF",
          "ES",
          "ES",
          "GO",
          "GO",
          "MA",
          "MA",
          "MG",
          "MG",
          "MS",
          "MT",
          "PA",
          "PB",
          "PE",
          "PE",
          "PI",
          "PR",
          "PR",
          "RJ",
          "RJ",
          "RJ",
          "RN",
          "RS",
          "RS",
          "SC",
          "SC",
          "SE",
          "TO"
         ],
         "y": [
          "credit_card",
          "boleto",
          "credit_card",
          "credit_card",
          "boleto",
          "credit_card",
          "boleto",
          "credit_card",
          "boleto",
          "credit_card",
          "boleto",
          "credit_card",
          "boleto",
          "credit_card",
          "credit_card",
          "credit_card",
          "credit_card",
          "credit_card",
          "boleto",
          "credit_card",
          "credit_card",
          "boleto",
          "credit_card",
          "boleto",
          "credit_card",
          "voucher",
          "credit_card",
          "boleto",
          "credit_card",
          "boleto",
          "credit_card",
          "credit_card",
          "credit_card"
         ],
         "z": [
          89397.24,
          126811.75,
          612667.09,
          276024.55,
          63923.58,
          343651.21,
          105991.78,
          278074.46,
          76474.34,
          394651.44,
          66424.69,
          124092.19,
          484199.07,
          1706519.69,
          123977.42,
          199247.68,
          187273.16,
          116260.29,
          53895.91,
          291802.07,
          105490.6,
          219972.98,
          768398.21,
          458567.19,
          2103203.58,
          54280.78,
          89491.37,
          257003.67,
          796093.29,
          170010.98,
          567561.02,
          63580.37,
          53358.409999999996
         ],
         "zmax": 2103203.58,
         "zmin": 53358.409999999996
        }
       ],
       "layout": {
        "template": {
         "data": {
          "bar": [
           {
            "error_x": {
             "color": "#f2f5fa"
            },
            "error_y": {
             "color": "#f2f5fa"
            },
            "marker": {
             "line": {
              "color": "rgb(17,17,17)",
              "width": 0.5
             },
             "pattern": {
              "fillmode": "overlay",
              "size": 10,
              "solidity": 0.2
             }
            },
            "type": "bar"
           }
          ],
          "barpolar": [
           {
            "marker": {
             "line": {
              "color": "rgb(17,17,17)",
              "width": 0.5
             },
             "pattern": {
              "fillmode": "overlay",
              "size": 10,
              "solidity": 0.2
             }
            },
            "type": "barpolar"
           }
          ],
          "carpet": [
           {
            "aaxis": {
             "endlinecolor": "#A2B1C6",
             "gridcolor": "#506784",
             "linecolor": "#506784",
             "minorgridcolor": "#506784",
             "startlinecolor": "#A2B1C6"
            },
            "baxis": {
             "endlinecolor": "#A2B1C6",
             "gridcolor": "#506784",
             "linecolor": "#506784",
             "minorgridcolor": "#506784",
             "startlinecolor": "#A2B1C6"
            },
            "type": "carpet"
           }
          ],
          "choropleth": [
           {
            "colorbar": {
             "outlinewidth": 0,
             "ticks": ""
            },
            "type": "choropleth"
           }
          ],
          "contour": [
           {
            "colorbar": {
             "outlinewidth": 0,
             "ticks": ""
            },
            "colorscale": [
             [
              0,
              "#0d0887"
             ],
             [
              0.1111111111111111,
              "#46039f"
             ],
             [
              0.2222222222222222,
              "#7201a8"
             ],
             [
              0.3333333333333333,
              "#9c179e"
             ],
             [
              0.4444444444444444,
              "#bd3786"
             ],
             [
              0.5555555555555556,
              "#d8576b"
             ],
             [
              0.6666666666666666,
              "#ed7953"
             ],
             [
              0.7777777777777778,
              "#fb9f3a"
             ],
             [
              0.8888888888888888,
              "#fdca26"
             ],
             [
              1,
              "#f0f921"
             ]
            ],
            "type": "contour"
           }
          ],
          "contourcarpet": [
           {
            "colorbar": {
             "outlinewidth": 0,
             "ticks": ""
            },
            "type": "contourcarpet"
           }
          ],
          "heatmap": [
           {
            "colorbar": {
             "outlinewidth": 0,
             "ticks": ""
            },
            "colorscale": [
             [
              0,
              "#0d0887"
             ],
             [
              0.1111111111111111,
              "#46039f"
             ],
             [
              0.2222222222222222,
              "#7201a8"
             ],
             [
              0.3333333333333333,
              "#9c179e"
             ],
             [
              0.4444444444444444,
              "#bd3786"
             ],
             [
              0.5555555555555556,
              "#d8576b"
             ],
             [
              0.6666666666666666,
              "#ed7953"
             ],
             [
              0.7777777777777778,
              "#fb9f3a"
             ],
             [
              0.8888888888888888,
              "#fdca26"
             ],
             [
              1,
              "#f0f921"
             ]
            ],
            "type": "heatmap"
           }
          ],
          "heatmapgl": [
           {
            "colorbar": {
             "outlinewidth": 0,
             "ticks": ""
            },
            "colorscale": [
             [
              0,
              "#0d0887"
             ],
             [
              0.1111111111111111,
              "#46039f"
             ],
             [
              0.2222222222222222,
              "#7201a8"
             ],
             [
              0.3333333333333333,
              "#9c179e"
             ],
             [
              0.4444444444444444,
              "#bd3786"
             ],
             [
              0.5555555555555556,
              "#d8576b"
             ],
             [
              0.6666666666666666,
              "#ed7953"
             ],
             [
              0.7777777777777778,
              "#fb9f3a"
             ],
             [
              0.8888888888888888,
              "#fdca26"
             ],
             [
              1,
              "#f0f921"
             ]
            ],
            "type": "heatmapgl"
           }
          ],
          "histogram": [
           {
            "marker": {
             "pattern": {
              "fillmode": "overlay",
              "size": 10,
              "solidity": 0.2
             }
            },
            "type": "histogram"
           }
          ],
          "histogram2d": [
           {
            "colorbar": {
             "outlinewidth": 0,
             "ticks": ""
            },
            "colorscale": [
             [
              0,
              "#0d0887"
             ],
             [
              0.1111111111111111,
              "#46039f"
             ],
             [
              0.2222222222222222,
              "#7201a8"
             ],
             [
              0.3333333333333333,
              "#9c179e"
             ],
             [
              0.4444444444444444,
              "#bd3786"
             ],
             [
              0.5555555555555556,
              "#d8576b"
             ],
             [
              0.6666666666666666,
              "#ed7953"
             ],
             [
              0.7777777777777778,
              "#fb9f3a"
             ],
             [
              0.8888888888888888,
              "#fdca26"
             ],
             [
              1,
              "#f0f921"
             ]
            ],
            "type": "histogram2d"
           }
          ],
          "histogram2dcontour": [
           {
            "colorbar": {
             "outlinewidth": 0,
             "ticks": ""
            },
            "colorscale": [
             [
              0,
              "#0d0887"
             ],
             [
              0.1111111111111111,
              "#46039f"
             ],
             [
              0.2222222222222222,
              "#7201a8"
             ],
             [
              0.3333333333333333,
              "#9c179e"
             ],
             [
              0.4444444444444444,
              "#bd3786"
             ],
             [
              0.5555555555555556,
              "#d8576b"
             ],
             [
              0.6666666666666666,
              "#ed7953"
             ],
             [
              0.7777777777777778,
              "#fb9f3a"
             ],
             [
              0.8888888888888888,
              "#fdca26"
             ],
             [
              1,
              "#f0f921"
             ]
            ],
            "type": "histogram2dcontour"
           }
          ],
          "mesh3d": [
           {
            "colorbar": {
             "outlinewidth": 0,
             "ticks": ""
            },
            "type": "mesh3d"
           }
          ],
          "parcoords": [
           {
            "line": {
             "colorbar": {
              "outlinewidth": 0,
              "ticks": ""
             }
            },
            "type": "parcoords"
           }
          ],
          "pie": [
           {
            "automargin": true,
            "type": "pie"
           }
          ],
          "scatter": [
           {
            "marker": {
             "line": {
              "color": "#283442"
             }
            },
            "type": "scatter"
           }
          ],
          "scatter3d": [
           {
            "line": {
             "colorbar": {
              "outlinewidth": 0,
              "ticks": ""
             }
            },
            "marker": {
             "colorbar": {
              "outlinewidth": 0,
              "ticks": ""
             }
            },
            "type": "scatter3d"
           }
          ],
          "scattercarpet": [
           {
            "marker": {
             "colorbar": {
              "outlinewidth": 0,
              "ticks": ""
             }
            },
            "type": "scattercarpet"
           }
          ],
          "scattergeo": [
           {
            "marker": {
             "colorbar": {
              "outlinewidth": 0,
              "ticks": ""
             }
            },
            "type": "scattergeo"
           }
          ],
          "scattergl": [
           {
            "marker": {
             "line": {
              "color": "#283442"
             }
            },
            "type": "scattergl"
           }
          ],
          "scattermapbox": [
           {
            "marker": {
             "colorbar": {
              "outlinewidth": 0,
              "ticks": ""
             }
            },
            "type": "scattermapbox"
           }
          ],
          "scatterpolar": [
           {
            "marker": {
             "colorbar": {
              "outlinewidth": 0,
              "ticks": ""
             }
            },
            "type": "scatterpolar"
           }
          ],
          "scatterpolargl": [
           {
            "marker": {
             "colorbar": {
              "outlinewidth": 0,
              "ticks": ""
             }
            },
            "type": "scatterpolargl"
           }
          ],
          "scatterternary": [
           {
            "marker": {
             "colorbar": {
              "outlinewidth": 0,
              "ticks": ""
             }
            },
            "type": "scatterternary"
           }
          ],
          "surface": [
           {
            "colorbar": {
             "outlinewidth": 0,
             "ticks": ""
            },
            "colorscale": [
             [
              0,
              "#0d0887"
             ],
             [
              0.1111111111111111,
              "#46039f"
             ],
             [
              0.2222222222222222,
              "#7201a8"
             ],
             [
              0.3333333333333333,
              "#9c179e"
             ],
             [
              0.4444444444444444,
              "#bd3786"
             ],
             [
              0.5555555555555556,
              "#d8576b"
             ],
             [
              0.6666666666666666,
              "#ed7953"
             ],
             [
              0.7777777777777778,
              "#fb9f3a"
             ],
             [
              0.8888888888888888,
              "#fdca26"
             ],
             [
              1,
              "#f0f921"
             ]
            ],
            "type": "surface"
           }
          ],
          "table": [
           {
            "cells": {
             "fill": {
              "color": "#506784"
             },
             "line": {
              "color": "rgb(17,17,17)"
             }
            },
            "header": {
             "fill": {
              "color": "#2a3f5f"
             },
             "line": {
              "color": "rgb(17,17,17)"
             }
            },
            "type": "table"
           }
          ]
         },
         "layout": {
          "annotationdefaults": {
           "arrowcolor": "#f2f5fa",
           "arrowhead": 0,
           "arrowwidth": 1
          },
          "autotypenumbers": "strict",
          "coloraxis": {
           "colorbar": {
            "outlinewidth": 0,
            "ticks": ""
           }
          },
          "colorscale": {
           "diverging": [
            [
             0,
             "#8e0152"
            ],
            [
             0.1,
             "#c51b7d"
            ],
            [
             0.2,
             "#de77ae"
            ],
            [
             0.3,
             "#f1b6da"
            ],
            [
             0.4,
             "#fde0ef"
            ],
            [
             0.5,
             "#f7f7f7"
            ],
            [
             0.6,
             "#e6f5d0"
            ],
            [
             0.7,
             "#b8e186"
            ],
            [
             0.8,
             "#7fbc41"
            ],
            [
             0.9,
             "#4d9221"
            ],
            [
             1,
             "#276419"
            ]
           ],
           "sequential": [
            [
             0,
             "#0d0887"
            ],
            [
             0.1111111111111111,
             "#46039f"
            ],
            [
             0.2222222222222222,
             "#7201a8"
            ],
            [
             0.3333333333333333,
             "#9c179e"
            ],
            [
             0.4444444444444444,
             "#bd3786"
            ],
            [
             0.5555555555555556,
             "#d8576b"
            ],
            [
             0.6666666666666666,
             "#ed7953"
            ],
            [
             0.7777777777777778,
             "#fb9f3a"
            ],
            [
             0.8888888888888888,
             "#fdca26"
            ],
            [
             1,
             "#f0f921"
            ]
           ],
           "sequentialminus": [
            [
             0,
             "#0d0887"
            ],
            [
             0.1111111111111111,
             "#46039f"
            ],
            [
             0.2222222222222222,
             "#7201a8"
            ],
            [
             0.3333333333333333,
             "#9c179e"
            ],
            [
             0.4444444444444444,
             "#bd3786"
            ],
            [
             0.5555555555555556,
             "#d8576b"
            ],
            [
             0.6666666666666666,
             "#ed7953"
            ],
            [
             0.7777777777777778,
             "#fb9f3a"
            ],
            [
             0.8888888888888888,
             "#fdca26"
            ],
            [
             1,
             "#f0f921"
            ]
           ]
          },
          "colorway": [
           "#636efa",
           "#EF553B",
           "#00cc96",
           "#ab63fa",
           "#FFA15A",
           "#19d3f3",
           "#FF6692",
           "#B6E880",
           "#FF97FF",
           "#FECB52"
          ],
          "font": {
           "color": "#f2f5fa"
          },
          "geo": {
           "bgcolor": "rgb(17,17,17)",
           "lakecolor": "rgb(17,17,17)",
           "landcolor": "rgb(17,17,17)",
           "showlakes": true,
           "showland": true,
           "subunitcolor": "#506784"
          },
          "hoverlabel": {
           "align": "left"
          },
          "hovermode": "closest",
          "mapbox": {
           "style": "dark"
          },
          "paper_bgcolor": "rgb(17,17,17)",
          "plot_bgcolor": "rgb(17,17,17)",
          "polar": {
           "angularaxis": {
            "gridcolor": "#506784",
            "linecolor": "#506784",
            "ticks": ""
           },
           "bgcolor": "rgb(17,17,17)",
           "radialaxis": {
            "gridcolor": "#506784",
            "linecolor": "#506784",
            "ticks": ""
           }
          },
          "scene": {
           "xaxis": {
            "backgroundcolor": "rgb(17,17,17)",
            "gridcolor": "#506784",
            "gridwidth": 2,
            "linecolor": "#506784",
            "showbackground": true,
            "ticks": "",
            "zerolinecolor": "#C8D4E3"
           },
           "yaxis": {
            "backgroundcolor": "rgb(17,17,17)",
            "gridcolor": "#506784",
            "gridwidth": 2,
            "linecolor": "#506784",
            "showbackground": true,
            "ticks": "",
            "zerolinecolor": "#C8D4E3"
           },
           "zaxis": {
            "backgroundcolor": "rgb(17,17,17)",
            "gridcolor": "#506784",
            "gridwidth": 2,
            "linecolor": "#506784",
            "showbackground": true,
            "ticks": "",
            "zerolinecolor": "#C8D4E3"
           }
          },
          "shapedefaults": {
           "line": {
            "color": "#f2f5fa"
           }
          },
          "sliderdefaults": {
           "bgcolor": "#C8D4E3",
           "bordercolor": "rgb(17,17,17)",
           "borderwidth": 1,
           "tickwidth": 0
          },
          "ternary": {
           "aaxis": {
            "gridcolor": "#506784",
            "linecolor": "#506784",
            "ticks": ""
           },
           "baxis": {
            "gridcolor": "#506784",
            "linecolor": "#506784",
            "ticks": ""
           },
           "bgcolor": "rgb(17,17,17)",
           "caxis": {
            "gridcolor": "#506784",
            "linecolor": "#506784",
            "ticks": ""
           }
          },
          "title": {
           "x": 0.05
          },
          "updatemenudefaults": {
           "bgcolor": "#506784",
           "borderwidth": 0
          },
          "xaxis": {
           "automargin": true,
           "gridcolor": "#283442",
           "linecolor": "#506784",
           "ticks": "",
           "title": {
            "standoff": 15
           },
           "zerolinecolor": "#283442",
           "zerolinewidth": 2
          },
          "yaxis": {
           "automargin": true,
           "gridcolor": "#283442",
           "linecolor": "#506784",
           "ticks": "",
           "title": {
            "standoff": 15
           },
           "zerolinecolor": "#283442",
           "zerolinewidth": 2
          }
         }
        },
        "title": {
         "font": {
          "size": 16
         },
         "text": "<b>도시별 지불 방법과 비용</b>",
         "x": 0.5,
         "y": 0.87
        },
        "xaxis": {
         "dtick": 1,
         "showticklabels": true,
         "title": {
          "text": "<b>지불 방법</b>"
         }
        },
        "yaxis": {
         "title": {
          "text": "<b>도시</b>"
         }
        }
       }
      },
      "text/html": [
       "<div>                            <div id=\"733b367c-e117-4d71-bc42-c09f9690ccf3\" class=\"plotly-graph-div\" style=\"height:525px; width:100%;\"></div>            <script type=\"text/javascript\">                require([\"plotly\"], function(Plotly) {                    window.PLOTLYENV=window.PLOTLYENV || {};\n",
       "                    window.PLOTLYENV.BASE_URL='https://plot.ly';                                    if (document.getElementById(\"733b367c-e117-4d71-bc42-c09f9690ccf3\")) {                    Plotly.newPlot(                        \"733b367c-e117-4d71-bc42-c09f9690ccf3\",                        [{\"colorscale\":[[0.0,\"rgb(255,245,240)\"],[0.125,\"rgb(254,224,210)\"],[0.25,\"rgb(252,187,161)\"],[0.375,\"rgb(252,146,114)\"],[0.5,\"rgb(251,106,74)\"],[0.625,\"rgb(239,59,44)\"],[0.75,\"rgb(203,24,29)\"],[0.875,\"rgb(165,15,21)\"],[1.0,\"rgb(103,0,13)\"]],\"x\":[\"AL\",\"BA\",\"BA\",\"CE\",\"DF\",\"DF\",\"ES\",\"ES\",\"GO\",\"GO\",\"MA\",\"MA\",\"MG\",\"MG\",\"MS\",\"MT\",\"PA\",\"PB\",\"PE\",\"PE\",\"PI\",\"PR\",\"PR\",\"RJ\",\"RJ\",\"RJ\",\"RN\",\"RS\",\"RS\",\"SC\",\"SC\",\"SE\",\"TO\"],\"y\":[\"credit_card\",\"boleto\",\"credit_card\",\"credit_card\",\"boleto\",\"credit_card\",\"boleto\",\"credit_card\",\"boleto\",\"credit_card\",\"boleto\",\"credit_card\",\"boleto\",\"credit_card\",\"credit_card\",\"credit_card\",\"credit_card\",\"credit_card\",\"boleto\",\"credit_card\",\"credit_card\",\"boleto\",\"credit_card\",\"boleto\",\"credit_card\",\"voucher\",\"credit_card\",\"boleto\",\"credit_card\",\"boleto\",\"credit_card\",\"credit_card\",\"credit_card\"],\"z\":[89397.24,126811.75,612667.09,276024.55,63923.58,343651.21,105991.78,278074.46,76474.34,394651.44,66424.69,124092.19,484199.07,1706519.69,123977.42,199247.68,187273.16,116260.29,53895.91,291802.07,105490.6,219972.98,768398.21,458567.19,2103203.58,54280.78,89491.37,257003.67,796093.29,170010.98,567561.02,63580.37,53358.409999999996],\"zmax\":2103203.58,\"zmin\":53358.409999999996,\"type\":\"heatmap\"}],                        {\"template\":{\"data\":{\"barpolar\":[{\"marker\":{\"line\":{\"color\":\"rgb(17,17,17)\",\"width\":0.5},\"pattern\":{\"fillmode\":\"overlay\",\"size\":10,\"solidity\":0.2}},\"type\":\"barpolar\"}],\"bar\":[{\"error_x\":{\"color\":\"#f2f5fa\"},\"error_y\":{\"color\":\"#f2f5fa\"},\"marker\":{\"line\":{\"color\":\"rgb(17,17,17)\",\"width\":0.5},\"pattern\":{\"fillmode\":\"overlay\",\"size\":10,\"solidity\":0.2}},\"type\":\"bar\"}],\"carpet\":[{\"aaxis\":{\"endlinecolor\":\"#A2B1C6\",\"gridcolor\":\"#506784\",\"linecolor\":\"#506784\",\"minorgridcolor\":\"#506784\",\"startlinecolor\":\"#A2B1C6\"},\"baxis\":{\"endlinecolor\":\"#A2B1C6\",\"gridcolor\":\"#506784\",\"linecolor\":\"#506784\",\"minorgridcolor\":\"#506784\",\"startlinecolor\":\"#A2B1C6\"},\"type\":\"carpet\"}],\"choropleth\":[{\"colorbar\":{\"outlinewidth\":0,\"ticks\":\"\"},\"type\":\"choropleth\"}],\"contourcarpet\":[{\"colorbar\":{\"outlinewidth\":0,\"ticks\":\"\"},\"type\":\"contourcarpet\"}],\"contour\":[{\"colorbar\":{\"outlinewidth\":0,\"ticks\":\"\"},\"colorscale\":[[0.0,\"#0d0887\"],[0.1111111111111111,\"#46039f\"],[0.2222222222222222,\"#7201a8\"],[0.3333333333333333,\"#9c179e\"],[0.4444444444444444,\"#bd3786\"],[0.5555555555555556,\"#d8576b\"],[0.6666666666666666,\"#ed7953\"],[0.7777777777777778,\"#fb9f3a\"],[0.8888888888888888,\"#fdca26\"],[1.0,\"#f0f921\"]],\"type\":\"contour\"}],\"heatmapgl\":[{\"colorbar\":{\"outlinewidth\":0,\"ticks\":\"\"},\"colorscale\":[[0.0,\"#0d0887\"],[0.1111111111111111,\"#46039f\"],[0.2222222222222222,\"#7201a8\"],[0.3333333333333333,\"#9c179e\"],[0.4444444444444444,\"#bd3786\"],[0.5555555555555556,\"#d8576b\"],[0.6666666666666666,\"#ed7953\"],[0.7777777777777778,\"#fb9f3a\"],[0.8888888888888888,\"#fdca26\"],[1.0,\"#f0f921\"]],\"type\":\"heatmapgl\"}],\"heatmap\":[{\"colorbar\":{\"outlinewidth\":0,\"ticks\":\"\"},\"colorscale\":[[0.0,\"#0d0887\"],[0.1111111111111111,\"#46039f\"],[0.2222222222222222,\"#7201a8\"],[0.3333333333333333,\"#9c179e\"],[0.4444444444444444,\"#bd3786\"],[0.5555555555555556,\"#d8576b\"],[0.6666666666666666,\"#ed7953\"],[0.7777777777777778,\"#fb9f3a\"],[0.8888888888888888,\"#fdca26\"],[1.0,\"#f0f921\"]],\"type\":\"heatmap\"}],\"histogram2dcontour\":[{\"colorbar\":{\"outlinewidth\":0,\"ticks\":\"\"},\"colorscale\":[[0.0,\"#0d0887\"],[0.1111111111111111,\"#46039f\"],[0.2222222222222222,\"#7201a8\"],[0.3333333333333333,\"#9c179e\"],[0.4444444444444444,\"#bd3786\"],[0.5555555555555556,\"#d8576b\"],[0.6666666666666666,\"#ed7953\"],[0.7777777777777778,\"#fb9f3a\"],[0.8888888888888888,\"#fdca26\"],[1.0,\"#f0f921\"]],\"type\":\"histogram2dcontour\"}],\"histogram2d\":[{\"colorbar\":{\"outlinewidth\":0,\"ticks\":\"\"},\"colorscale\":[[0.0,\"#0d0887\"],[0.1111111111111111,\"#46039f\"],[0.2222222222222222,\"#7201a8\"],[0.3333333333333333,\"#9c179e\"],[0.4444444444444444,\"#bd3786\"],[0.5555555555555556,\"#d8576b\"],[0.6666666666666666,\"#ed7953\"],[0.7777777777777778,\"#fb9f3a\"],[0.8888888888888888,\"#fdca26\"],[1.0,\"#f0f921\"]],\"type\":\"histogram2d\"}],\"histogram\":[{\"marker\":{\"pattern\":{\"fillmode\":\"overlay\",\"size\":10,\"solidity\":0.2}},\"type\":\"histogram\"}],\"mesh3d\":[{\"colorbar\":{\"outlinewidth\":0,\"ticks\":\"\"},\"type\":\"mesh3d\"}],\"parcoords\":[{\"line\":{\"colorbar\":{\"outlinewidth\":0,\"ticks\":\"\"}},\"type\":\"parcoords\"}],\"pie\":[{\"automargin\":true,\"type\":\"pie\"}],\"scatter3d\":[{\"line\":{\"colorbar\":{\"outlinewidth\":0,\"ticks\":\"\"}},\"marker\":{\"colorbar\":{\"outlinewidth\":0,\"ticks\":\"\"}},\"type\":\"scatter3d\"}],\"scattercarpet\":[{\"marker\":{\"colorbar\":{\"outlinewidth\":0,\"ticks\":\"\"}},\"type\":\"scattercarpet\"}],\"scattergeo\":[{\"marker\":{\"colorbar\":{\"outlinewidth\":0,\"ticks\":\"\"}},\"type\":\"scattergeo\"}],\"scattergl\":[{\"marker\":{\"line\":{\"color\":\"#283442\"}},\"type\":\"scattergl\"}],\"scattermapbox\":[{\"marker\":{\"colorbar\":{\"outlinewidth\":0,\"ticks\":\"\"}},\"type\":\"scattermapbox\"}],\"scatterpolargl\":[{\"marker\":{\"colorbar\":{\"outlinewidth\":0,\"ticks\":\"\"}},\"type\":\"scatterpolargl\"}],\"scatterpolar\":[{\"marker\":{\"colorbar\":{\"outlinewidth\":0,\"ticks\":\"\"}},\"type\":\"scatterpolar\"}],\"scatter\":[{\"marker\":{\"line\":{\"color\":\"#283442\"}},\"type\":\"scatter\"}],\"scatterternary\":[{\"marker\":{\"colorbar\":{\"outlinewidth\":0,\"ticks\":\"\"}},\"type\":\"scatterternary\"}],\"surface\":[{\"colorbar\":{\"outlinewidth\":0,\"ticks\":\"\"},\"colorscale\":[[0.0,\"#0d0887\"],[0.1111111111111111,\"#46039f\"],[0.2222222222222222,\"#7201a8\"],[0.3333333333333333,\"#9c179e\"],[0.4444444444444444,\"#bd3786\"],[0.5555555555555556,\"#d8576b\"],[0.6666666666666666,\"#ed7953\"],[0.7777777777777778,\"#fb9f3a\"],[0.8888888888888888,\"#fdca26\"],[1.0,\"#f0f921\"]],\"type\":\"surface\"}],\"table\":[{\"cells\":{\"fill\":{\"color\":\"#506784\"},\"line\":{\"color\":\"rgb(17,17,17)\"}},\"header\":{\"fill\":{\"color\":\"#2a3f5f\"},\"line\":{\"color\":\"rgb(17,17,17)\"}},\"type\":\"table\"}]},\"layout\":{\"annotationdefaults\":{\"arrowcolor\":\"#f2f5fa\",\"arrowhead\":0,\"arrowwidth\":1},\"autotypenumbers\":\"strict\",\"coloraxis\":{\"colorbar\":{\"outlinewidth\":0,\"ticks\":\"\"}},\"colorscale\":{\"diverging\":[[0,\"#8e0152\"],[0.1,\"#c51b7d\"],[0.2,\"#de77ae\"],[0.3,\"#f1b6da\"],[0.4,\"#fde0ef\"],[0.5,\"#f7f7f7\"],[0.6,\"#e6f5d0\"],[0.7,\"#b8e186\"],[0.8,\"#7fbc41\"],[0.9,\"#4d9221\"],[1,\"#276419\"]],\"sequential\":[[0.0,\"#0d0887\"],[0.1111111111111111,\"#46039f\"],[0.2222222222222222,\"#7201a8\"],[0.3333333333333333,\"#9c179e\"],[0.4444444444444444,\"#bd3786\"],[0.5555555555555556,\"#d8576b\"],[0.6666666666666666,\"#ed7953\"],[0.7777777777777778,\"#fb9f3a\"],[0.8888888888888888,\"#fdca26\"],[1.0,\"#f0f921\"]],\"sequentialminus\":[[0.0,\"#0d0887\"],[0.1111111111111111,\"#46039f\"],[0.2222222222222222,\"#7201a8\"],[0.3333333333333333,\"#9c179e\"],[0.4444444444444444,\"#bd3786\"],[0.5555555555555556,\"#d8576b\"],[0.6666666666666666,\"#ed7953\"],[0.7777777777777778,\"#fb9f3a\"],[0.8888888888888888,\"#fdca26\"],[1.0,\"#f0f921\"]]},\"colorway\":[\"#636efa\",\"#EF553B\",\"#00cc96\",\"#ab63fa\",\"#FFA15A\",\"#19d3f3\",\"#FF6692\",\"#B6E880\",\"#FF97FF\",\"#FECB52\"],\"font\":{\"color\":\"#f2f5fa\"},\"geo\":{\"bgcolor\":\"rgb(17,17,17)\",\"lakecolor\":\"rgb(17,17,17)\",\"landcolor\":\"rgb(17,17,17)\",\"showlakes\":true,\"showland\":true,\"subunitcolor\":\"#506784\"},\"hoverlabel\":{\"align\":\"left\"},\"hovermode\":\"closest\",\"mapbox\":{\"style\":\"dark\"},\"paper_bgcolor\":\"rgb(17,17,17)\",\"plot_bgcolor\":\"rgb(17,17,17)\",\"polar\":{\"angularaxis\":{\"gridcolor\":\"#506784\",\"linecolor\":\"#506784\",\"ticks\":\"\"},\"bgcolor\":\"rgb(17,17,17)\",\"radialaxis\":{\"gridcolor\":\"#506784\",\"linecolor\":\"#506784\",\"ticks\":\"\"}},\"scene\":{\"xaxis\":{\"backgroundcolor\":\"rgb(17,17,17)\",\"gridcolor\":\"#506784\",\"gridwidth\":2,\"linecolor\":\"#506784\",\"showbackground\":true,\"ticks\":\"\",\"zerolinecolor\":\"#C8D4E3\"},\"yaxis\":{\"backgroundcolor\":\"rgb(17,17,17)\",\"gridcolor\":\"#506784\",\"gridwidth\":2,\"linecolor\":\"#506784\",\"showbackground\":true,\"ticks\":\"\",\"zerolinecolor\":\"#C8D4E3\"},\"zaxis\":{\"backgroundcolor\":\"rgb(17,17,17)\",\"gridcolor\":\"#506784\",\"gridwidth\":2,\"linecolor\":\"#506784\",\"showbackground\":true,\"ticks\":\"\",\"zerolinecolor\":\"#C8D4E3\"}},\"shapedefaults\":{\"line\":{\"color\":\"#f2f5fa\"}},\"sliderdefaults\":{\"bgcolor\":\"#C8D4E3\",\"bordercolor\":\"rgb(17,17,17)\",\"borderwidth\":1,\"tickwidth\":0},\"ternary\":{\"aaxis\":{\"gridcolor\":\"#506784\",\"linecolor\":\"#506784\",\"ticks\":\"\"},\"baxis\":{\"gridcolor\":\"#506784\",\"linecolor\":\"#506784\",\"ticks\":\"\"},\"bgcolor\":\"rgb(17,17,17)\",\"caxis\":{\"gridcolor\":\"#506784\",\"linecolor\":\"#506784\",\"ticks\":\"\"}},\"title\":{\"x\":0.05},\"updatemenudefaults\":{\"bgcolor\":\"#506784\",\"borderwidth\":0},\"xaxis\":{\"automargin\":true,\"gridcolor\":\"#283442\",\"linecolor\":\"#506784\",\"ticks\":\"\",\"title\":{\"standoff\":15},\"zerolinecolor\":\"#283442\",\"zerolinewidth\":2},\"yaxis\":{\"automargin\":true,\"gridcolor\":\"#283442\",\"linecolor\":\"#506784\",\"ticks\":\"\",\"title\":{\"standoff\":15},\"zerolinecolor\":\"#283442\",\"zerolinewidth\":2}}},\"title\":{\"font\":{\"size\":16},\"text\":\"<b>\\ub3c4\\uc2dc\\ubcc4 \\uc9c0\\ubd88 \\ubc29\\ubc95\\uacfc \\ube44\\uc6a9</b>\",\"x\":0.5,\"y\":0.87},\"xaxis\":{\"dtick\":1,\"showticklabels\":true,\"title\":{\"text\":\"<b>\\uc9c0\\ubd88 \\ubc29\\ubc95</b>\"}},\"yaxis\":{\"title\":{\"text\":\"<b>\\ub3c4\\uc2dc</b>\"}}},                        {\"showLink\": true, \"linkText\": \"Export to plot.ly\", \"plotlyServerURL\": \"https://plot.ly\", \"responsive\": true}                    ).then(function(){\n",
       "                            \n",
       "var gd = document.getElementById('733b367c-e117-4d71-bc42-c09f9690ccf3');\n",
       "var x = new MutationObserver(function (mutations, observer) {{\n",
       "        var display = window.getComputedStyle(gd).display;\n",
       "        if (!display || display === 'none') {{\n",
       "            console.log([gd, 'removed!']);\n",
       "            Plotly.purge(gd);\n",
       "            observer.disconnect();\n",
       "        }}\n",
       "}});\n",
       "\n",
       "// Listen for the removal of the full notebook cells\n",
       "var notebookContainer = gd.closest('#notebook-container');\n",
       "if (notebookContainer) {{\n",
       "    x.observe(notebookContainer, {childList: true});\n",
       "}}\n",
       "\n",
       "// Listen for the clearing of the current output cell\n",
       "var outputEl = gd.closest('.output');\n",
       "if (outputEl) {{\n",
       "    x.observe(outputEl, {childList: true});\n",
       "}}\n",
       "\n",
       "                        })                };                });            </script>        </div>"
      ]
     },
     "metadata": {},
     "output_type": "display_data"
    }
   ],
   "source": [
    "layout = {\n",
    "    'title':  {\n",
    "            \"text\": \"<b>도시별 지불 방법과 비용</b>\",\n",
    "            \"x\": 0.5,\n",
    "            \"y\": 0.87,\n",
    "            \"font\": {\n",
    "                \"size\": 16\n",
    "            }\n",
    "    },\n",
    "    'xaxis': {\n",
    "        'title': '<b>지불 방법</b>',\n",
    "        'showticklabels':True,\n",
    "        'dtick': 1\n",
    "    },\n",
    "    \"yaxis\": {\n",
    "        \"title\": \"<b>도시</b>\"\n",
    "    },\n",
    "    \"template\":'plotly_dark'\n",
    "}\n",
    "products_state_payment_value.iplot(kind = 'heatmap', x = 'customer_state', y = 'payment_type', z = 'payment_value', colorscale = 'Reds', layout = layout)\n",
    "\n",
    "# 상파울루를 지우니까 그나마 알록달록해짐\n",
    "# 역시 수도라 그런가 부자가 많나봄\n",
    "# 대부분 신용카드를 쓰고 그다음으로 boleto를 쓰는 경우가 많음"
   ]
  },
  {
   "cell_type": "code",
   "execution_count": 131,
   "metadata": {},
   "outputs": [
    {
     "data": {
      "text/html": [
       "<div>\n",
       "<style scoped>\n",
       "    .dataframe tbody tr th:only-of-type {\n",
       "        vertical-align: middle;\n",
       "    }\n",
       "\n",
       "    .dataframe tbody tr th {\n",
       "        vertical-align: top;\n",
       "    }\n",
       "\n",
       "    .dataframe thead th {\n",
       "        text-align: right;\n",
       "    }\n",
       "</style>\n",
       "<table border=\"1\" class=\"dataframe\">\n",
       "  <thead>\n",
       "    <tr style=\"text-align: right;\">\n",
       "      <th></th>\n",
       "      <th>product_category_name_english</th>\n",
       "      <th>customer_state</th>\n",
       "      <th>payment_type</th>\n",
       "      <th>payment_value</th>\n",
       "    </tr>\n",
       "  </thead>\n",
       "  <tbody>\n",
       "    <tr>\n",
       "      <th>0</th>\n",
       "      <td>perfumery</td>\n",
       "      <td>SP</td>\n",
       "      <td>debit_card</td>\n",
       "      <td>18.30</td>\n",
       "    </tr>\n",
       "    <tr>\n",
       "      <th>1</th>\n",
       "      <td>art</td>\n",
       "      <td>RJ</td>\n",
       "      <td>voucher</td>\n",
       "      <td>265.99</td>\n",
       "    </tr>\n",
       "    <tr>\n",
       "      <th>2</th>\n",
       "      <td>sports_leisure</td>\n",
       "      <td>SP</td>\n",
       "      <td>credit_card</td>\n",
       "      <td>87.62</td>\n",
       "    </tr>\n",
       "    <tr>\n",
       "      <th>3</th>\n",
       "      <td>baby</td>\n",
       "      <td>SP</td>\n",
       "      <td>credit_card</td>\n",
       "      <td>121.84</td>\n",
       "    </tr>\n",
       "    <tr>\n",
       "      <th>4</th>\n",
       "      <td>housewares</td>\n",
       "      <td>SP</td>\n",
       "      <td>credit_card</td>\n",
       "      <td>46.19</td>\n",
       "    </tr>\n",
       "    <tr>\n",
       "      <th>...</th>\n",
       "      <td>...</td>\n",
       "      <td>...</td>\n",
       "      <td>...</td>\n",
       "      <td>...</td>\n",
       "    </tr>\n",
       "    <tr>\n",
       "      <th>117599</th>\n",
       "      <td>computers_accessories</td>\n",
       "      <td>MG</td>\n",
       "      <td>boleto</td>\n",
       "      <td>92.02</td>\n",
       "    </tr>\n",
       "    <tr>\n",
       "      <th>117600</th>\n",
       "      <td>computers_accessories</td>\n",
       "      <td>BA</td>\n",
       "      <td>boleto</td>\n",
       "      <td>159.54</td>\n",
       "    </tr>\n",
       "    <tr>\n",
       "      <th>117601</th>\n",
       "      <td>computers_accessories</td>\n",
       "      <td>BA</td>\n",
       "      <td>boleto</td>\n",
       "      <td>159.54</td>\n",
       "    </tr>\n",
       "    <tr>\n",
       "      <th>117602</th>\n",
       "      <td>computers_accessories</td>\n",
       "      <td>BA</td>\n",
       "      <td>boleto</td>\n",
       "      <td>159.54</td>\n",
       "    </tr>\n",
       "    <tr>\n",
       "      <th>117603</th>\n",
       "      <td>bed_bath_table</td>\n",
       "      <td>MG</td>\n",
       "      <td>credit_card</td>\n",
       "      <td>134.55</td>\n",
       "    </tr>\n",
       "  </tbody>\n",
       "</table>\n",
       "<p>113368 rows × 4 columns</p>\n",
       "</div>"
      ],
      "text/plain": [
       "       product_category_name_english customer_state payment_type  \\\n",
       "0                          perfumery             SP   debit_card   \n",
       "1                                art             RJ      voucher   \n",
       "2                     sports_leisure             SP  credit_card   \n",
       "3                               baby             SP  credit_card   \n",
       "4                         housewares             SP  credit_card   \n",
       "...                              ...            ...          ...   \n",
       "117599         computers_accessories             MG       boleto   \n",
       "117600         computers_accessories             BA       boleto   \n",
       "117601         computers_accessories             BA       boleto   \n",
       "117602         computers_accessories             BA       boleto   \n",
       "117603                bed_bath_table             MG  credit_card   \n",
       "\n",
       "        payment_value  \n",
       "0               18.30  \n",
       "1              265.99  \n",
       "2               87.62  \n",
       "3              121.84  \n",
       "4               46.19  \n",
       "...               ...  \n",
       "117599          92.02  \n",
       "117600         159.54  \n",
       "117601         159.54  \n",
       "117602         159.54  \n",
       "117603         134.55  \n",
       "\n",
       "[113368 rows x 4 columns]"
      ]
     },
     "execution_count": 131,
     "metadata": {},
     "output_type": "execute_result"
    }
   ],
   "source": [
    "products"
   ]
  },
  {
   "cell_type": "code",
   "execution_count": 132,
   "metadata": {},
   "outputs": [
    {
     "data": {
      "text/html": [
       "<div>\n",
       "<style scoped>\n",
       "    .dataframe tbody tr th:only-of-type {\n",
       "        vertical-align: middle;\n",
       "    }\n",
       "\n",
       "    .dataframe tbody tr th {\n",
       "        vertical-align: top;\n",
       "    }\n",
       "\n",
       "    .dataframe thead th {\n",
       "        text-align: right;\n",
       "    }\n",
       "</style>\n",
       "<table border=\"1\" class=\"dataframe\">\n",
       "  <thead>\n",
       "    <tr style=\"text-align: right;\">\n",
       "      <th></th>\n",
       "      <th>product_category_name_english</th>\n",
       "      <th>customer_state</th>\n",
       "      <th>payment_value</th>\n",
       "    </tr>\n",
       "  </thead>\n",
       "  <tbody>\n",
       "    <tr>\n",
       "      <th>0</th>\n",
       "      <td>agro_industry_and_commerce</td>\n",
       "      <td>AL</td>\n",
       "      <td>1518.55</td>\n",
       "    </tr>\n",
       "    <tr>\n",
       "      <th>1</th>\n",
       "      <td>agro_industry_and_commerce</td>\n",
       "      <td>AP</td>\n",
       "      <td>657.61</td>\n",
       "    </tr>\n",
       "    <tr>\n",
       "      <th>2</th>\n",
       "      <td>agro_industry_and_commerce</td>\n",
       "      <td>BA</td>\n",
       "      <td>4489.32</td>\n",
       "    </tr>\n",
       "    <tr>\n",
       "      <th>3</th>\n",
       "      <td>agro_industry_and_commerce</td>\n",
       "      <td>CE</td>\n",
       "      <td>2448.80</td>\n",
       "    </tr>\n",
       "    <tr>\n",
       "      <th>4</th>\n",
       "      <td>agro_industry_and_commerce</td>\n",
       "      <td>ES</td>\n",
       "      <td>487.17</td>\n",
       "    </tr>\n",
       "    <tr>\n",
       "      <th>...</th>\n",
       "      <td>...</td>\n",
       "      <td>...</td>\n",
       "      <td>...</td>\n",
       "    </tr>\n",
       "    <tr>\n",
       "      <th>1346</th>\n",
       "      <td>watches_gifts</td>\n",
       "      <td>RS</td>\n",
       "      <td>53218.90</td>\n",
       "    </tr>\n",
       "    <tr>\n",
       "      <th>1347</th>\n",
       "      <td>watches_gifts</td>\n",
       "      <td>SC</td>\n",
       "      <td>42285.51</td>\n",
       "    </tr>\n",
       "    <tr>\n",
       "      <th>1348</th>\n",
       "      <td>watches_gifts</td>\n",
       "      <td>SE</td>\n",
       "      <td>3491.07</td>\n",
       "    </tr>\n",
       "    <tr>\n",
       "      <th>1349</th>\n",
       "      <td>watches_gifts</td>\n",
       "      <td>SP</td>\n",
       "      <td>492446.70</td>\n",
       "    </tr>\n",
       "    <tr>\n",
       "      <th>1350</th>\n",
       "      <td>watches_gifts</td>\n",
       "      <td>TO</td>\n",
       "      <td>6719.31</td>\n",
       "    </tr>\n",
       "  </tbody>\n",
       "</table>\n",
       "<p>1351 rows × 3 columns</p>\n",
       "</div>"
      ],
      "text/plain": [
       "     product_category_name_english customer_state  payment_value\n",
       "0       agro_industry_and_commerce             AL        1518.55\n",
       "1       agro_industry_and_commerce             AP         657.61\n",
       "2       agro_industry_and_commerce             BA        4489.32\n",
       "3       agro_industry_and_commerce             CE        2448.80\n",
       "4       agro_industry_and_commerce             ES         487.17\n",
       "...                            ...            ...            ...\n",
       "1346                 watches_gifts             RS       53218.90\n",
       "1347                 watches_gifts             SC       42285.51\n",
       "1348                 watches_gifts             SE        3491.07\n",
       "1349                 watches_gifts             SP      492446.70\n",
       "1350                 watches_gifts             TO        6719.31\n",
       "\n",
       "[1351 rows x 3 columns]"
      ]
     },
     "execution_count": 132,
     "metadata": {},
     "output_type": "execute_result"
    }
   ],
   "source": [
    "products_category = products.groupby(['product_category_name_english', 'customer_state'])['payment_value'].sum()\n",
    "products_category = products_category.reset_index()\n",
    "products_category"
   ]
  },
  {
   "cell_type": "code",
   "execution_count": 133,
   "metadata": {},
   "outputs": [
    {
     "data": {
      "application/vnd.plotly.v1+json": {
       "config": {
        "linkText": "Export to plot.ly",
        "plotlyServerURL": "https://plot.ly",
        "showLink": true
       },
       "data": [
        {
         "colorscale": [
          [
           0,
           "rgb(255,245,240)"
          ],
          [
           0.125,
           "rgb(254,224,210)"
          ],
          [
           0.25,
           "rgb(252,187,161)"
          ],
          [
           0.375,
           "rgb(252,146,114)"
          ],
          [
           0.5,
           "rgb(251,106,74)"
          ],
          [
           0.625,
           "rgb(239,59,44)"
          ],
          [
           0.75,
           "rgb(203,24,29)"
          ],
          [
           0.875,
           "rgb(165,15,21)"
          ],
          [
           1,
           "rgb(103,0,13)"
          ]
         ],
         "type": "heatmap",
         "x": [
          "agro_industry_and_commerce",
          "agro_industry_and_commerce",
          "agro_industry_and_commerce",
          "agro_industry_and_commerce",
          "agro_industry_and_commerce",
          "agro_industry_and_commerce",
          "agro_industry_and_commerce",
          "agro_industry_and_commerce",
          "agro_industry_and_commerce",
          "agro_industry_and_commerce",
          "agro_industry_and_commerce",
          "agro_industry_and_commerce",
          "agro_industry_and_commerce",
          "agro_industry_and_commerce",
          "agro_industry_and_commerce",
          "agro_industry_and_commerce",
          "agro_industry_and_commerce",
          "agro_industry_and_commerce",
          "agro_industry_and_commerce",
          "air_conditioning",
          "air_conditioning",
          "air_conditioning",
          "air_conditioning",
          "air_conditioning",
          "air_conditioning",
          "air_conditioning",
          "air_conditioning",
          "air_conditioning",
          "air_conditioning",
          "air_conditioning",
          "air_conditioning",
          "air_conditioning",
          "air_conditioning",
          "air_conditioning",
          "air_conditioning",
          "air_conditioning",
          "air_conditioning",
          "art",
          "art",
          "art",
          "art",
          "art",
          "art",
          "art",
          "art",
          "art",
          "art",
          "art",
          "art",
          "art",
          "art",
          "art",
          "art",
          "art",
          "art",
          "art",
          "art",
          "arts_and_craftmanship",
          "arts_and_craftmanship",
          "arts_and_craftmanship",
          "arts_and_craftmanship",
          "audio",
          "audio",
          "audio",
          "audio",
          "audio",
          "audio",
          "audio",
          "audio",
          "audio",
          "audio",
          "audio",
          "audio",
          "audio",
          "audio",
          "audio",
          "audio",
          "audio",
          "audio",
          "audio",
          "audio",
          "audio",
          "audio",
          "auto",
          "auto",
          "auto",
          "auto",
          "auto",
          "auto",
          "auto",
          "auto",
          "auto",
          "auto",
          "auto",
          "auto",
          "auto",
          "auto",
          "auto",
          "auto",
          "auto",
          "auto",
          "auto",
          "auto",
          "auto",
          "auto",
          "auto",
          "auto",
          "auto",
          "auto",
          "auto",
          "baby",
          "baby",
          "baby",
          "baby",
          "baby",
          "baby",
          "baby",
          "baby",
          "baby",
          "baby",
          "baby",
          "baby",
          "baby",
          "baby",
          "baby",
          "baby",
          "baby",
          "baby",
          "baby",
          "baby",
          "baby",
          "baby",
          "baby",
          "baby",
          "baby",
          "baby",
          "bed_bath_table",
          "bed_bath_table",
          "bed_bath_table",
          "bed_bath_table",
          "bed_bath_table",
          "bed_bath_table",
          "bed_bath_table",
          "bed_bath_table",
          "bed_bath_table",
          "bed_bath_table",
          "bed_bath_table",
          "bed_bath_table",
          "bed_bath_table",
          "bed_bath_table",
          "bed_bath_table",
          "bed_bath_table",
          "bed_bath_table",
          "bed_bath_table",
          "bed_bath_table",
          "bed_bath_table",
          "bed_bath_table",
          "bed_bath_table",
          "bed_bath_table",
          "bed_bath_table",
          "bed_bath_table",
          "bed_bath_table",
          "bed_bath_table",
          "books_general_interest",
          "books_general_interest",
          "books_general_interest",
          "books_general_interest",
          "books_general_interest",
          "books_general_interest",
          "books_general_interest",
          "books_general_interest",
          "books_general_interest",
          "books_general_interest",
          "books_general_interest",
          "books_general_interest",
          "books_general_interest",
          "books_general_interest",
          "books_general_interest",
          "books_general_interest",
          "books_general_interest",
          "books_general_interest",
          "books_general_interest",
          "books_general_interest",
          "books_general_interest",
          "books_general_interest",
          "books_general_interest",
          "books_general_interest",
          "books_general_interest",
          "books_imported",
          "books_imported",
          "books_imported",
          "books_imported",
          "books_imported",
          "books_imported",
          "books_imported",
          "books_imported",
          "books_imported",
          "books_imported",
          "books_technical",
          "books_technical",
          "books_technical",
          "books_technical",
          "books_technical",
          "books_technical",
          "books_technical",
          "books_technical",
          "books_technical",
          "books_technical",
          "books_technical",
          "books_technical",
          "books_technical",
          "books_technical",
          "books_technical",
          "books_technical",
          "books_technical",
          "books_technical",
          "books_technical",
          "cds_dvds_musicals",
          "cds_dvds_musicals",
          "cds_dvds_musicals",
          "cds_dvds_musicals",
          "christmas_supplies",
          "christmas_supplies",
          "christmas_supplies",
          "christmas_supplies",
          "christmas_supplies",
          "christmas_supplies",
          "christmas_supplies",
          "christmas_supplies",
          "christmas_supplies",
          "christmas_supplies",
          "christmas_supplies",
          "christmas_supplies",
          "christmas_supplies",
          "christmas_supplies",
          "christmas_supplies",
          "christmas_supplies",
          "christmas_supplies",
          "christmas_supplies",
          "christmas_supplies",
          "cine_photo",
          "cine_photo",
          "cine_photo",
          "cine_photo",
          "cine_photo",
          "cine_photo",
          "cine_photo",
          "cine_photo",
          "cine_photo",
          "cine_photo",
          "cine_photo",
          "cine_photo",
          "cine_photo",
          "cine_photo",
          "computers",
          "computers",
          "computers",
          "computers",
          "computers",
          "computers",
          "computers",
          "computers",
          "computers",
          "computers",
          "computers",
          "computers",
          "computers",
          "computers",
          "computers",
          "computers",
          "computers",
          "computers",
          "computers",
          "computers",
          "computers",
          "computers",
          "computers",
          "computers",
          "computers",
          "computers_accessories",
          "computers_accessories",
          "computers_accessories",
          "computers_accessories",
          "computers_accessories",
          "computers_accessories",
          "computers_accessories",
          "computers_accessories",
          "computers_accessories",
          "computers_accessories",
          "computers_accessories",
          "computers_accessories",
          "computers_accessories",
          "computers_accessories",
          "computers_accessories",
          "computers_accessories",
          "computers_accessories",
          "computers_accessories",
          "computers_accessories",
          "computers_accessories",
          "computers_accessories",
          "computers_accessories",
          "computers_accessories",
          "computers_accessories",
          "computers_accessories",
          "computers_accessories",
          "computers_accessories",
          "consoles_games",
          "consoles_games",
          "consoles_games",
          "consoles_games",
          "consoles_games",
          "consoles_games",
          "consoles_games",
          "consoles_games",
          "consoles_games",
          "consoles_games",
          "consoles_games",
          "consoles_games",
          "consoles_games",
          "consoles_games",
          "consoles_games",
          "consoles_games",
          "consoles_games",
          "consoles_games",
          "consoles_games",
          "consoles_games",
          "consoles_games",
          "consoles_games",
          "consoles_games",
          "consoles_games",
          "consoles_games",
          "consoles_games",
          "construction_tools_construction",
          "construction_tools_construction",
          "construction_tools_construction",
          "construction_tools_construction",
          "construction_tools_construction",
          "construction_tools_construction",
          "construction_tools_construction",
          "construction_tools_construction",
          "construction_tools_construction",
          "construction_tools_construction",
          "construction_tools_construction",
          "construction_tools_construction",
          "construction_tools_construction",
          "construction_tools_construction",
          "construction_tools_construction",
          "construction_tools_construction",
          "construction_tools_construction",
          "construction_tools_construction",
          "construction_tools_construction",
          "construction_tools_construction",
          "construction_tools_construction",
          "construction_tools_lights",
          "construction_tools_lights",
          "construction_tools_lights",
          "construction_tools_lights",
          "construction_tools_lights",
          "construction_tools_lights",
          "construction_tools_lights",
          "construction_tools_lights",
          "construction_tools_lights",
          "construction_tools_lights",
          "construction_tools_lights",
          "construction_tools_lights",
          "construction_tools_lights",
          "construction_tools_lights",
          "construction_tools_lights",
          "construction_tools_lights",
          "construction_tools_lights",
          "construction_tools_lights",
          "construction_tools_lights",
          "construction_tools_safety",
          "construction_tools_safety",
          "construction_tools_safety",
          "construction_tools_safety",
          "construction_tools_safety",
          "construction_tools_safety",
          "construction_tools_safety",
          "construction_tools_safety",
          "construction_tools_safety",
          "construction_tools_safety",
          "construction_tools_safety",
          "construction_tools_safety",
          "construction_tools_safety",
          "construction_tools_safety",
          "construction_tools_safety",
          "construction_tools_safety",
          "construction_tools_safety",
          "cool_stuff",
          "cool_stuff",
          "cool_stuff",
          "cool_stuff",
          "cool_stuff",
          "cool_stuff",
          "cool_stuff",
          "cool_stuff",
          "cool_stuff",
          "cool_stuff",
          "cool_stuff",
          "cool_stuff",
          "cool_stuff",
          "cool_stuff",
          "cool_stuff",
          "cool_stuff",
          "cool_stuff",
          "cool_stuff",
          "cool_stuff",
          "cool_stuff",
          "cool_stuff",
          "cool_stuff",
          "cool_stuff",
          "cool_stuff",
          "cool_stuff",
          "cool_stuff",
          "cool_stuff",
          "costruction_tools_garden",
          "costruction_tools_garden",
          "costruction_tools_garden",
          "costruction_tools_garden",
          "costruction_tools_garden",
          "costruction_tools_garden",
          "costruction_tools_garden",
          "costruction_tools_garden",
          "costruction_tools_garden",
          "costruction_tools_garden",
          "costruction_tools_garden",
          "costruction_tools_garden",
          "costruction_tools_garden",
          "costruction_tools_garden",
          "costruction_tools_garden",
          "costruction_tools_garden",
          "costruction_tools_garden",
          "costruction_tools_garden",
          "costruction_tools_garden",
          "costruction_tools_tools",
          "costruction_tools_tools",
          "costruction_tools_tools",
          "costruction_tools_tools",
          "costruction_tools_tools",
          "costruction_tools_tools",
          "costruction_tools_tools",
          "costruction_tools_tools",
          "costruction_tools_tools",
          "costruction_tools_tools",
          "costruction_tools_tools",
          "costruction_tools_tools",
          "costruction_tools_tools",
          "costruction_tools_tools",
          "costruction_tools_tools",
          "diapers_and_hygiene",
          "diapers_and_hygiene",
          "diapers_and_hygiene",
          "diapers_and_hygiene",
          "diapers_and_hygiene",
          "diapers_and_hygiene",
          "drinks",
          "drinks",
          "drinks",
          "drinks",
          "drinks",
          "drinks",
          "drinks",
          "drinks",
          "drinks",
          "drinks",
          "drinks",
          "drinks",
          "drinks",
          "drinks",
          "drinks",
          "drinks",
          "drinks",
          "dvds_blu_ray",
          "dvds_blu_ray",
          "dvds_blu_ray",
          "dvds_blu_ray",
          "dvds_blu_ray",
          "dvds_blu_ray",
          "dvds_blu_ray",
          "dvds_blu_ray",
          "dvds_blu_ray",
          "dvds_blu_ray",
          "dvds_blu_ray",
          "dvds_blu_ray",
          "dvds_blu_ray",
          "dvds_blu_ray",
          "electronics",
          "electronics",
          "electronics",
          "electronics",
          "electronics",
          "electronics",
          "electronics",
          "electronics",
          "electronics",
          "electronics",
          "electronics",
          "electronics",
          "electronics",
          "electronics",
          "electronics",
          "electronics",
          "electronics",
          "electronics",
          "electronics",
          "electronics",
          "electronics",
          "electronics",
          "electronics",
          "electronics",
          "electronics",
          "electronics",
          "electronics",
          "fashio_female_clothing",
          "fashio_female_clothing",
          "fashio_female_clothing",
          "fashio_female_clothing",
          "fashio_female_clothing",
          "fashio_female_clothing",
          "fashio_female_clothing",
          "fashio_female_clothing",
          "fashio_female_clothing",
          "fashio_female_clothing",
          "fashio_female_clothing",
          "fashion_bags_accessories",
          "fashion_bags_accessories",
          "fashion_bags_accessories",
          "fashion_bags_accessories",
          "fashion_bags_accessories",
          "fashion_bags_accessories",
          "fashion_bags_accessories",
          "fashion_bags_accessories",
          "fashion_bags_accessories",
          "fashion_bags_accessories",
          "fashion_bags_accessories",
          "fashion_bags_accessories",
          "fashion_bags_accessories",
          "fashion_bags_accessories",
          "fashion_bags_accessories",
          "fashion_bags_accessories",
          "fashion_bags_accessories",
          "fashion_bags_accessories",
          "fashion_bags_accessories",
          "fashion_bags_accessories",
          "fashion_bags_accessories",
          "fashion_bags_accessories",
          "fashion_bags_accessories",
          "fashion_bags_accessories",
          "fashion_bags_accessories",
          "fashion_childrens_clothes",
          "fashion_childrens_clothes",
          "fashion_childrens_clothes",
          "fashion_childrens_clothes",
          "fashion_male_clothing",
          "fashion_male_clothing",
          "fashion_male_clothing",
          "fashion_male_clothing",
          "fashion_male_clothing",
          "fashion_male_clothing",
          "fashion_male_clothing",
          "fashion_male_clothing",
          "fashion_male_clothing",
          "fashion_male_clothing",
          "fashion_male_clothing",
          "fashion_male_clothing",
          "fashion_male_clothing",
          "fashion_shoes",
          "fashion_shoes",
          "fashion_shoes",
          "fashion_shoes",
          "fashion_shoes",
          "fashion_shoes",
          "fashion_shoes",
          "fashion_shoes",
          "fashion_shoes",
          "fashion_shoes",
          "fashion_shoes",
          "fashion_shoes",
          "fashion_shoes",
          "fashion_shoes",
          "fashion_shoes",
          "fashion_shoes",
          "fashion_shoes",
          "fashion_shoes",
          "fashion_shoes",
          "fashion_shoes",
          "fashion_shoes",
          "fashion_shoes",
          "fashion_shoes",
          "fashion_sport",
          "fashion_sport",
          "fashion_sport",
          "fashion_sport",
          "fashion_sport",
          "fashion_sport",
          "fashion_sport",
          "fashion_sport",
          "fashion_sport",
          "fashion_sport",
          "fashion_underwear_beach",
          "fashion_underwear_beach",
          "fashion_underwear_beach",
          "fashion_underwear_beach",
          "fashion_underwear_beach",
          "fashion_underwear_beach",
          "fashion_underwear_beach",
          "fashion_underwear_beach",
          "fashion_underwear_beach",
          "fashion_underwear_beach",
          "fashion_underwear_beach",
          "fashion_underwear_beach",
          "fashion_underwear_beach",
          "fashion_underwear_beach",
          "fixed_telephony",
          "fixed_telephony",
          "fixed_telephony",
          "fixed_telephony",
          "fixed_telephony",
          "fixed_telephony",
          "fixed_telephony",
          "fixed_telephony",
          "fixed_telephony",
          "fixed_telephony",
          "fixed_telephony",
          "fixed_telephony",
          "fixed_telephony",
          "fixed_telephony",
          "fixed_telephony",
          "fixed_telephony",
          "fixed_telephony",
          "fixed_telephony",
          "fixed_telephony",
          "fixed_telephony",
          "fixed_telephony",
          "fixed_telephony",
          "flowers",
          "flowers",
          "flowers",
          "flowers",
          "flowers",
          "flowers",
          "flowers",
          "flowers",
          "food",
          "food",
          "food",
          "food",
          "food",
          "food",
          "food",
          "food",
          "food",
          "food",
          "food",
          "food",
          "food",
          "food",
          "food",
          "food",
          "food",
          "food",
          "food",
          "food",
          "food",
          "food_drink",
          "food_drink",
          "food_drink",
          "food_drink",
          "food_drink",
          "food_drink",
          "food_drink",
          "food_drink",
          "food_drink",
          "food_drink",
          "food_drink",
          "food_drink",
          "food_drink",
          "food_drink",
          "food_drink",
          "food_drink",
          "food_drink",
          "food_drink",
          "furniture_bedroom",
          "furniture_bedroom",
          "furniture_bedroom",
          "furniture_bedroom",
          "furniture_bedroom",
          "furniture_bedroom",
          "furniture_bedroom",
          "furniture_bedroom",
          "furniture_bedroom",
          "furniture_bedroom",
          "furniture_bedroom",
          "furniture_bedroom",
          "furniture_bedroom",
          "furniture_bedroom",
          "furniture_decor",
          "furniture_decor",
          "furniture_decor",
          "furniture_decor",
          "furniture_decor",
          "furniture_decor",
          "furniture_decor",
          "furniture_decor",
          "furniture_decor",
          "furniture_decor",
          "furniture_decor",
          "furniture_decor",
          "furniture_decor",
          "furniture_decor",
          "furniture_decor",
          "furniture_decor",
          "furniture_decor",
          "furniture_decor",
          "furniture_decor",
          "furniture_decor",
          "furniture_decor",
          "furniture_decor",
          "furniture_decor",
          "furniture_decor",
          "furniture_decor",
          "furniture_decor",
          "furniture_decor",
          "furniture_living_room",
          "furniture_living_room",
          "furniture_living_room",
          "furniture_living_room",
          "furniture_living_room",
          "furniture_living_room",
          "furniture_living_room",
          "furniture_living_room",
          "furniture_living_room",
          "furniture_living_room",
          "furniture_living_room",
          "furniture_living_room",
          "furniture_living_room",
          "furniture_living_room",
          "furniture_living_room",
          "furniture_living_room",
          "furniture_living_room",
          "furniture_living_room",
          "furniture_living_room",
          "furniture_living_room",
          "furniture_living_room",
          "furniture_living_room",
          "furniture_living_room",
          "furniture_mattress_and_upholstery",
          "furniture_mattress_and_upholstery",
          "furniture_mattress_and_upholstery",
          "furniture_mattress_and_upholstery",
          "furniture_mattress_and_upholstery",
          "furniture_mattress_and_upholstery",
          "furniture_mattress_and_upholstery",
          "garden_tools",
          "garden_tools",
          "garden_tools",
          "garden_tools",
          "garden_tools",
          "garden_tools",
          "garden_tools",
          "garden_tools",
          "garden_tools",
          "garden_tools",
          "garden_tools",
          "garden_tools",
          "garden_tools",
          "garden_tools",
          "garden_tools",
          "garden_tools",
          "garden_tools",
          "garden_tools",
          "garden_tools",
          "garden_tools",
          "garden_tools",
          "garden_tools",
          "garden_tools",
          "garden_tools",
          "garden_tools",
          "garden_tools",
          "garden_tools",
          "health_beauty",
          "health_beauty",
          "health_beauty",
          "health_beauty",
          "health_beauty",
          "health_beauty",
          "health_beauty",
          "health_beauty",
          "health_beauty",
          "health_beauty",
          "health_beauty",
          "health_beauty",
          "health_beauty",
          "health_beauty",
          "health_beauty",
          "health_beauty",
          "health_beauty",
          "health_beauty",
          "health_beauty",
          "health_beauty",
          "health_beauty",
          "health_beauty",
          "health_beauty",
          "health_beauty",
          "health_beauty",
          "health_beauty",
          "health_beauty",
          "home_appliances",
          "home_appliances",
          "home_appliances",
          "home_appliances",
          "home_appliances",
          "home_appliances",
          "home_appliances",
          "home_appliances",
          "home_appliances",
          "home_appliances",
          "home_appliances",
          "home_appliances",
          "home_appliances",
          "home_appliances",
          "home_appliances",
          "home_appliances",
          "home_appliances",
          "home_appliances",
          "home_appliances",
          "home_appliances",
          "home_appliances",
          "home_appliances",
          "home_appliances",
          "home_appliances",
          "home_appliances",
          "home_appliances_2",
          "home_appliances_2",
          "home_appliances_2",
          "home_appliances_2",
          "home_appliances_2",
          "home_appliances_2",
          "home_appliances_2",
          "home_appliances_2",
          "home_appliances_2",
          "home_appliances_2",
          "home_appliances_2",
          "home_appliances_2",
          "home_appliances_2",
          "home_appliances_2",
          "home_appliances_2",
          "home_appliances_2",
          "home_appliances_2",
          "home_appliances_2",
          "home_appliances_2",
          "home_appliances_2",
          "home_comfort_2",
          "home_comfort_2",
          "home_comfort_2",
          "home_comfort_2",
          "home_comfort_2",
          "home_comfort_2",
          "home_comfort_2",
          "home_comfort_2",
          "home_confort",
          "home_confort",
          "home_confort",
          "home_confort",
          "home_confort",
          "home_confort",
          "home_confort",
          "home_confort",
          "home_confort",
          "home_confort",
          "home_confort",
          "home_confort",
          "home_confort",
          "home_confort",
          "home_confort",
          "home_confort",
          "home_confort",
          "home_confort",
          "home_confort",
          "home_confort",
          "home_confort",
          "home_confort",
          "home_construction",
          "home_construction",
          "home_construction",
          "home_construction",
          "home_construction",
          "home_construction",
          "home_construction",
          "home_construction",
          "home_construction",
          "home_construction",
          "home_construction",
          "home_construction",
          "home_construction",
          "home_construction",
          "home_construction",
          "home_construction",
          "home_construction",
          "home_construction",
          "home_construction",
          "home_construction",
          "home_construction",
          "home_construction",
          "home_construction",
          "housewares",
          "housewares",
          "housewares",
          "housewares",
          "housewares",
          "housewares",
          "housewares",
          "housewares",
          "housewares",
          "housewares",
          "housewares",
          "housewares",
          "housewares",
          "housewares",
          "housewares",
          "housewares",
          "housewares",
          "housewares",
          "housewares",
          "housewares",
          "housewares",
          "housewares",
          "housewares",
          "housewares",
          "housewares",
          "housewares",
          "industry_commerce_and_business",
          "industry_commerce_and_business",
          "industry_commerce_and_business",
          "industry_commerce_and_business",
          "industry_commerce_and_business",
          "industry_commerce_and_business",
          "industry_commerce_and_business",
          "industry_commerce_and_business",
          "industry_commerce_and_business",
          "industry_commerce_and_business",
          "industry_commerce_and_business",
          "industry_commerce_and_business",
          "industry_commerce_and_business",
          "industry_commerce_and_business",
          "industry_commerce_and_business",
          "industry_commerce_and_business",
          "industry_commerce_and_business",
          "industry_commerce_and_business",
          "industry_commerce_and_business",
          "industry_commerce_and_business",
          "industry_commerce_and_business",
          "industry_commerce_and_business",
          "kitchen_dining_laundry_garden_furniture",
          "kitchen_dining_laundry_garden_furniture",
          "kitchen_dining_laundry_garden_furniture",
          "kitchen_dining_laundry_garden_furniture",
          "kitchen_dining_laundry_garden_furniture",
          "kitchen_dining_laundry_garden_furniture",
          "kitchen_dining_laundry_garden_furniture",
          "kitchen_dining_laundry_garden_furniture",
          "kitchen_dining_laundry_garden_furniture",
          "kitchen_dining_laundry_garden_furniture",
          "kitchen_dining_laundry_garden_furniture",
          "kitchen_dining_laundry_garden_furniture",
          "kitchen_dining_laundry_garden_furniture",
          "kitchen_dining_laundry_garden_furniture",
          "kitchen_dining_laundry_garden_furniture",
          "kitchen_dining_laundry_garden_furniture",
          "kitchen_dining_laundry_garden_furniture",
          "kitchen_dining_laundry_garden_furniture",
          "la_cuisine",
          "la_cuisine",
          "la_cuisine",
          "la_cuisine",
          "la_cuisine",
          "luggage_accessories",
          "luggage_accessories",
          "luggage_accessories",
          "luggage_accessories",
          "luggage_accessories",
          "luggage_accessories",
          "luggage_accessories",
          "luggage_accessories",
          "luggage_accessories",
          "luggage_accessories",
          "luggage_accessories",
          "luggage_accessories",
          "luggage_accessories",
          "luggage_accessories",
          "luggage_accessories",
          "luggage_accessories",
          "luggage_accessories",
          "luggage_accessories",
          "luggage_accessories",
          "luggage_accessories",
          "luggage_accessories",
          "luggage_accessories",
          "luggage_accessories",
          "luggage_accessories",
          "luggage_accessories",
          "market_place",
          "market_place",
          "market_place",
          "market_place",
          "market_place",
          "market_place",
          "market_place",
          "market_place",
          "market_place",
          "market_place",
          "market_place",
          "market_place",
          "market_place",
          "market_place",
          "market_place",
          "market_place",
          "market_place",
          "market_place",
          "market_place",
          "market_place",
          "market_place",
          "market_place",
          "market_place",
          "market_place",
          "market_place",
          "music",
          "music",
          "music",
          "music",
          "music",
          "music",
          "music",
          "music",
          "music",
          "musical_instruments",
          "musical_instruments",
          "musical_instruments",
          "musical_instruments",
          "musical_instruments",
          "musical_instruments",
          "musical_instruments",
          "musical_instruments",
          "musical_instruments",
          "musical_instruments",
          "musical_instruments",
          "musical_instruments",
          "musical_instruments",
          "musical_instruments",
          "musical_instruments",
          "musical_instruments",
          "musical_instruments",
          "musical_instruments",
          "musical_instruments",
          "musical_instruments",
          "musical_instruments",
          "musical_instruments",
          "musical_instruments",
          "musical_instruments",
          "musical_instruments",
          "musical_instruments",
          "office_furniture",
          "office_furniture",
          "office_furniture",
          "office_furniture",
          "office_furniture",
          "office_furniture",
          "office_furniture",
          "office_furniture",
          "office_furniture",
          "office_furniture",
          "office_furniture",
          "office_furniture",
          "office_furniture",
          "office_furniture",
          "office_furniture",
          "office_furniture",
          "office_furniture",
          "office_furniture",
          "office_furniture",
          "office_furniture",
          "office_furniture",
          "office_furniture",
          "office_furniture",
          "office_furniture",
          "office_furniture",
          "party_supplies",
          "party_supplies",
          "party_supplies",
          "party_supplies",
          "party_supplies",
          "party_supplies",
          "party_supplies",
          "party_supplies",
          "party_supplies",
          "party_supplies",
          "perfumery",
          "perfumery",
          "perfumery",
          "perfumery",
          "perfumery",
          "perfumery",
          "perfumery",
          "perfumery",
          "perfumery",
          "perfumery",
          "perfumery",
          "perfumery",
          "perfumery",
          "perfumery",
          "perfumery",
          "perfumery",
          "perfumery",
          "perfumery",
          "perfumery",
          "perfumery",
          "perfumery",
          "perfumery",
          "perfumery",
          "perfumery",
          "perfumery",
          "perfumery",
          "pet_shop",
          "pet_shop",
          "pet_shop",
          "pet_shop",
          "pet_shop",
          "pet_shop",
          "pet_shop",
          "pet_shop",
          "pet_shop",
          "pet_shop",
          "pet_shop",
          "pet_shop",
          "pet_shop",
          "pet_shop",
          "pet_shop",
          "pet_shop",
          "pet_shop",
          "pet_shop",
          "pet_shop",
          "pet_shop",
          "pet_shop",
          "pet_shop",
          "pet_shop",
          "pet_shop",
          "pet_shop",
          "security_and_services",
          "security_and_services",
          "signaling_and_security",
          "signaling_and_security",
          "signaling_and_security",
          "signaling_and_security",
          "signaling_and_security",
          "signaling_and_security",
          "signaling_and_security",
          "signaling_and_security",
          "signaling_and_security",
          "signaling_and_security",
          "signaling_and_security",
          "signaling_and_security",
          "signaling_and_security",
          "signaling_and_security",
          "signaling_and_security",
          "signaling_and_security",
          "signaling_and_security",
          "small_appliances",
          "small_appliances",
          "small_appliances",
          "small_appliances",
          "small_appliances",
          "small_appliances",
          "small_appliances",
          "small_appliances",
          "small_appliances",
          "small_appliances",
          "small_appliances",
          "small_appliances",
          "small_appliances",
          "small_appliances",
          "small_appliances",
          "small_appliances",
          "small_appliances",
          "small_appliances",
          "small_appliances",
          "small_appliances",
          "small_appliances",
          "small_appliances_home_oven_and_coffee",
          "small_appliances_home_oven_and_coffee",
          "small_appliances_home_oven_and_coffee",
          "small_appliances_home_oven_and_coffee",
          "small_appliances_home_oven_and_coffee",
          "small_appliances_home_oven_and_coffee",
          "small_appliances_home_oven_and_coffee",
          "small_appliances_home_oven_and_coffee",
          "small_appliances_home_oven_and_coffee",
          "small_appliances_home_oven_and_coffee",
          "small_appliances_home_oven_and_coffee",
          "small_appliances_home_oven_and_coffee",
          "small_appliances_home_oven_and_coffee",
          "sports_leisure",
          "sports_leisure",
          "sports_leisure",
          "sports_leisure",
          "sports_leisure",
          "sports_leisure",
          "sports_leisure",
          "sports_leisure",
          "sports_leisure",
          "sports_leisure",
          "sports_leisure",
          "sports_leisure",
          "sports_leisure",
          "sports_leisure",
          "sports_leisure",
          "sports_leisure",
          "sports_leisure",
          "sports_leisure",
          "sports_leisure",
          "sports_leisure",
          "sports_leisure",
          "sports_leisure",
          "sports_leisure",
          "sports_leisure",
          "sports_leisure",
          "sports_leisure",
          "sports_leisure",
          "stationery",
          "stationery",
          "stationery",
          "stationery",
          "stationery",
          "stationery",
          "stationery",
          "stationery",
          "stationery",
          "stationery",
          "stationery",
          "stationery",
          "stationery",
          "stationery",
          "stationery",
          "stationery",
          "stationery",
          "stationery",
          "stationery",
          "stationery",
          "stationery",
          "stationery",
          "stationery",
          "stationery",
          "stationery",
          "stationery",
          "stationery",
          "tablets_printing_image",
          "tablets_printing_image",
          "tablets_printing_image",
          "tablets_printing_image",
          "tablets_printing_image",
          "tablets_printing_image",
          "tablets_printing_image",
          "tablets_printing_image",
          "tablets_printing_image",
          "tablets_printing_image",
          "tablets_printing_image",
          "tablets_printing_image",
          "tablets_printing_image",
          "tablets_printing_image",
          "tablets_printing_image",
          "tablets_printing_image",
          "telephony",
          "telephony",
          "telephony",
          "telephony",
          "telephony",
          "telephony",
          "telephony",
          "telephony",
          "telephony",
          "telephony",
          "telephony",
          "telephony",
          "telephony",
          "telephony",
          "telephony",
          "telephony",
          "telephony",
          "telephony",
          "telephony",
          "telephony",
          "telephony",
          "telephony",
          "telephony",
          "telephony",
          "telephony",
          "telephony",
          "telephony",
          "toys",
          "toys",
          "toys",
          "toys",
          "toys",
          "toys",
          "toys",
          "toys",
          "toys",
          "toys",
          "toys",
          "toys",
          "toys",
          "toys",
          "toys",
          "toys",
          "toys",
          "toys",
          "toys",
          "toys",
          "toys",
          "toys",
          "toys",
          "toys",
          "toys",
          "toys",
          "watches_gifts",
          "watches_gifts",
          "watches_gifts",
          "watches_gifts",
          "watches_gifts",
          "watches_gifts",
          "watches_gifts",
          "watches_gifts",
          "watches_gifts",
          "watches_gifts",
          "watches_gifts",
          "watches_gifts",
          "watches_gifts",
          "watches_gifts",
          "watches_gifts",
          "watches_gifts",
          "watches_gifts",
          "watches_gifts",
          "watches_gifts",
          "watches_gifts",
          "watches_gifts",
          "watches_gifts",
          "watches_gifts",
          "watches_gifts",
          "watches_gifts",
          "watches_gifts",
          "watches_gifts"
         ],
         "y": [
          "AL",
          "AP",
          "BA",
          "CE",
          "ES",
          "GO",
          "MG",
          "MS",
          "MT",
          "PA",
          "PB",
          "PE",
          "PI",
          "PR",
          "RJ",
          "RO",
          "RS",
          "SC",
          "SP",
          "AL",
          "AM",
          "BA",
          "CE",
          "DF",
          "ES",
          "GO",
          "MA",
          "MG",
          "MT",
          "PB",
          "PE",
          "PI",
          "PR",
          "RJ",
          "RS",
          "SC",
          "SP",
          "AM",
          "AP",
          "BA",
          "DF",
          "ES",
          "GO",
          "MG",
          "MS",
          "MT",
          "PA",
          "PB",
          "PE",
          "PI",
          "PR",
          "RJ",
          "RN",
          "RO",
          "RS",
          "SC",
          "SP",
          "DF",
          "MG",
          "SC",
          "SP",
          "AL",
          "AM",
          "BA",
          "CE",
          "DF",
          "ES",
          "GO",
          "MA",
          "MG",
          "MS",
          "MT",
          "PA",
          "PB",
          "PE",
          "PI",
          "PR",
          "RJ",
          "RN",
          "RS",
          "SC",
          "SP",
          "TO",
          "AC",
          "AL",
          "AM",
          "AP",
          "BA",
          "CE",
          "DF",
          "ES",
          "GO",
          "MA",
          "MG",
          "MS",
          "MT",
          "PA",
          "PB",
          "PE",
          "PI",
          "PR",
          "RJ",
          "RN",
          "RO",
          "RR",
          "RS",
          "SC",
          "SE",
          "SP",
          "TO",
          "AC",
          "AL",
          "AM",
          "BA",
          "CE",
          "DF",
          "ES",
          "GO",
          "MA",
          "MG",
          "MS",
          "MT",
          "PA",
          "PB",
          "PE",
          "PI",
          "PR",
          "RJ",
          "RN",
          "RO",
          "RR",
          "RS",
          "SC",
          "SE",
          "SP",
          "TO",
          "AC",
          "AL",
          "AM",
          "AP",
          "BA",
          "CE",
          "DF",
          "ES",
          "GO",
          "MA",
          "MG",
          "MS",
          "MT",
          "PA",
          "PB",
          "PE",
          "PI",
          "PR",
          "RJ",
          "RN",
          "RO",
          "RR",
          "RS",
          "SC",
          "SE",
          "SP",
          "TO",
          "AC",
          "AL",
          "AM",
          "BA",
          "CE",
          "DF",
          "ES",
          "GO",
          "MA",
          "MG",
          "MS",
          "MT",
          "PA",
          "PB",
          "PE",
          "PI",
          "PR",
          "RJ",
          "RN",
          "RO",
          "RS",
          "SC",
          "SE",
          "SP",
          "TO",
          "BA",
          "MA",
          "MG",
          "PA",
          "PR",
          "RJ",
          "RS",
          "SC",
          "SE",
          "SP",
          "BA",
          "CE",
          "DF",
          "ES",
          "GO",
          "MA",
          "MG",
          "MS",
          "MT",
          "PA",
          "PE",
          "PI",
          "PR",
          "RJ",
          "RN",
          "RS",
          "SC",
          "SP",
          "TO",
          "MA",
          "RJ",
          "RS",
          "SP",
          "AC",
          "BA",
          "CE",
          "DF",
          "ES",
          "GO",
          "MA",
          "MG",
          "MS",
          "MT",
          "PA",
          "PE",
          "PR",
          "RJ",
          "RN",
          "RO",
          "RS",
          "SC",
          "SP",
          "BA",
          "DF",
          "ES",
          "GO",
          "MA",
          "MG",
          "MT",
          "PA",
          "PE",
          "PR",
          "RJ",
          "RS",
          "SC",
          "SP",
          "AC",
          "AL",
          "AM",
          "AP",
          "BA",
          "CE",
          "DF",
          "ES",
          "GO",
          "MA",
          "MG",
          "MS",
          "MT",
          "PA",
          "PB",
          "PE",
          "PI",
          "PR",
          "RJ",
          "RO",
          "RS",
          "SC",
          "SE",
          "SP",
          "TO",
          "AC",
          "AL",
          "AM",
          "AP",
          "BA",
          "CE",
          "DF",
          "ES",
          "GO",
          "MA",
          "MG",
          "MS",
          "MT",
          "PA",
          "PB",
          "PE",
          "PI",
          "PR",
          "RJ",
          "RN",
          "RO",
          "RR",
          "RS",
          "SC",
          "SE",
          "SP",
          "TO",
          "AC",
          "AL",
          "AM",
          "AP",
          "BA",
          "CE",
          "DF",
          "ES",
          "GO",
          "MA",
          "MG",
          "MS",
          "MT",
          "PA",
          "PB",
          "PE",
          "PI",
          "PR",
          "RJ",
          "RN",
          "RO",
          "RS",
          "SC",
          "SE",
          "SP",
          "TO",
          "AL",
          "BA",
          "CE",
          "DF",
          "ES",
          "GO",
          "MA",
          "MG",
          "MS",
          "MT",
          "PA",
          "PB",
          "PE",
          "PR",
          "RJ",
          "RN",
          "RO",
          "RS",
          "SC",
          "SE",
          "SP",
          "BA",
          "CE",
          "DF",
          "ES",
          "GO",
          "MA",
          "MG",
          "MS",
          "MT",
          "PA",
          "PE",
          "PI",
          "PR",
          "RJ",
          "RS",
          "SC",
          "SE",
          "SP",
          "TO",
          "BA",
          "CE",
          "DF",
          "GO",
          "MG",
          "MS",
          "MT",
          "PB",
          "PE",
          "PR",
          "RJ",
          "RN",
          "RO",
          "RS",
          "SC",
          "SE",
          "SP",
          "AC",
          "AL",
          "AM",
          "AP",
          "BA",
          "CE",
          "DF",
          "ES",
          "GO",
          "MA",
          "MG",
          "MS",
          "MT",
          "PA",
          "PB",
          "PE",
          "PI",
          "PR",
          "RJ",
          "RN",
          "RO",
          "RR",
          "RS",
          "SC",
          "SE",
          "SP",
          "TO",
          "AM",
          "BA",
          "CE",
          "DF",
          "ES",
          "GO",
          "MG",
          "MS",
          "PA",
          "PB",
          "PE",
          "PI",
          "PR",
          "RJ",
          "RN",
          "RO",
          "RS",
          "SC",
          "SP",
          "BA",
          "CE",
          "ES",
          "GO",
          "MG",
          "MS",
          "MT",
          "PA",
          "PB",
          "PE",
          "PR",
          "RJ",
          "RS",
          "SC",
          "SP",
          "CE",
          "MG",
          "PB",
          "PR",
          "RJ",
          "SP",
          "AL",
          "AM",
          "BA",
          "CE",
          "DF",
          "ES",
          "GO",
          "MG",
          "MS",
          "MT",
          "PA",
          "PI",
          "PR",
          "RJ",
          "RS",
          "SC",
          "SP",
          "AL",
          "DF",
          "GO",
          "MG",
          "MS",
          "PE",
          "PI",
          "PR",
          "RJ",
          "RN",
          "RO",
          "RS",
          "SC",
          "SP",
          "AC",
          "AL",
          "AM",
          "AP",
          "BA",
          "CE",
          "DF",
          "ES",
          "GO",
          "MA",
          "MG",
          "MS",
          "MT",
          "PA",
          "PB",
          "PE",
          "PI",
          "PR",
          "RJ",
          "RN",
          "RO",
          "RR",
          "RS",
          "SC",
          "SE",
          "SP",
          "TO",
          "BA",
          "DF",
          "ES",
          "GO",
          "MG",
          "MT",
          "PB",
          "PR",
          "RJ",
          "SC",
          "SP",
          "AC",
          "AL",
          "AM",
          "BA",
          "CE",
          "DF",
          "ES",
          "GO",
          "MA",
          "MG",
          "MS",
          "MT",
          "PA",
          "PB",
          "PE",
          "PI",
          "PR",
          "RJ",
          "RN",
          "RO",
          "RS",
          "SC",
          "SE",
          "SP",
          "TO",
          "BA",
          "RJ",
          "SC",
          "SP",
          "BA",
          "CE",
          "ES",
          "GO",
          "MA",
          "MG",
          "MT",
          "PA",
          "PR",
          "RJ",
          "RS",
          "SC",
          "SP",
          "AC",
          "AL",
          "BA",
          "CE",
          "DF",
          "ES",
          "GO",
          "MA",
          "MG",
          "MS",
          "MT",
          "PA",
          "PB",
          "PE",
          "PI",
          "PR",
          "RJ",
          "RN",
          "RO",
          "RS",
          "SC",
          "SP",
          "TO",
          "BA",
          "DF",
          "MA",
          "MG",
          "PA",
          "PR",
          "RJ",
          "RS",
          "SC",
          "SP",
          "BA",
          "DF",
          "ES",
          "GO",
          "MG",
          "MS",
          "PA",
          "PE",
          "PI",
          "PR",
          "RJ",
          "RS",
          "SC",
          "SP",
          "AL",
          "AM",
          "AP",
          "BA",
          "CE",
          "DF",
          "ES",
          "GO",
          "MA",
          "MG",
          "MS",
          "PA",
          "PB",
          "PE",
          "PI",
          "PR",
          "RJ",
          "RS",
          "SC",
          "SE",
          "SP",
          "TO",
          "ES",
          "GO",
          "MG",
          "MS",
          "PE",
          "RJ",
          "RS",
          "SP",
          "AL",
          "AM",
          "BA",
          "CE",
          "DF",
          "ES",
          "GO",
          "MG",
          "MS",
          "MT",
          "PB",
          "PE",
          "PI",
          "PR",
          "RJ",
          "RN",
          "RO",
          "RS",
          "SC",
          "SE",
          "SP",
          "AL",
          "BA",
          "CE",
          "DF",
          "ES",
          "MA",
          "MG",
          "MS",
          "PA",
          "PE",
          "PI",
          "PR",
          "RJ",
          "RN",
          "RS",
          "SC",
          "SE",
          "SP",
          "BA",
          "DF",
          "ES",
          "GO",
          "MG",
          "MS",
          "MT",
          "PR",
          "RJ",
          "RN",
          "RS",
          "SC",
          "SE",
          "SP",
          "AC",
          "AL",
          "AM",
          "AP",
          "BA",
          "CE",
          "DF",
          "ES",
          "GO",
          "MA",
          "MG",
          "MS",
          "MT",
          "PA",
          "PB",
          "PE",
          "PI",
          "PR",
          "RJ",
          "RN",
          "RO",
          "RR",
          "RS",
          "SC",
          "SE",
          "SP",
          "TO",
          "AC",
          "AL",
          "BA",
          "CE",
          "DF",
          "ES",
          "GO",
          "MA",
          "MG",
          "MS",
          "MT",
          "PA",
          "PB",
          "PE",
          "PI",
          "PR",
          "RJ",
          "RO",
          "RS",
          "SC",
          "SE",
          "SP",
          "TO",
          "DF",
          "GO",
          "MG",
          "RJ",
          "RN",
          "SC",
          "SP",
          "AC",
          "AL",
          "AM",
          "AP",
          "BA",
          "CE",
          "DF",
          "ES",
          "GO",
          "MA",
          "MG",
          "MS",
          "MT",
          "PA",
          "PB",
          "PE",
          "PI",
          "PR",
          "RJ",
          "RN",
          "RO",
          "RR",
          "RS",
          "SC",
          "SE",
          "SP",
          "TO",
          "AC",
          "AL",
          "AM",
          "AP",
          "BA",
          "CE",
          "DF",
          "ES",
          "GO",
          "MA",
          "MG",
          "MS",
          "MT",
          "PA",
          "PB",
          "PE",
          "PI",
          "PR",
          "RJ",
          "RN",
          "RO",
          "RR",
          "RS",
          "SC",
          "SE",
          "SP",
          "TO",
          "AL",
          "AM",
          "BA",
          "CE",
          "DF",
          "ES",
          "GO",
          "MA",
          "MG",
          "MS",
          "MT",
          "PA",
          "PB",
          "PE",
          "PI",
          "PR",
          "RJ",
          "RN",
          "RO",
          "RR",
          "RS",
          "SC",
          "SE",
          "SP",
          "TO",
          "AL",
          "AM",
          "BA",
          "CE",
          "DF",
          "ES",
          "GO",
          "MG",
          "MS",
          "MT",
          "PE",
          "PI",
          "PR",
          "RJ",
          "RN",
          "RS",
          "SC",
          "SE",
          "SP",
          "TO",
          "BA",
          "ES",
          "GO",
          "MG",
          "PR",
          "RJ",
          "RS",
          "SP",
          "AL",
          "BA",
          "CE",
          "DF",
          "ES",
          "GO",
          "MA",
          "MG",
          "MS",
          "MT",
          "PB",
          "PE",
          "PI",
          "PR",
          "RJ",
          "RN",
          "RO",
          "RS",
          "SC",
          "SE",
          "SP",
          "TO",
          "AL",
          "AM",
          "BA",
          "CE",
          "DF",
          "ES",
          "GO",
          "MA",
          "MG",
          "MS",
          "MT",
          "PA",
          "PB",
          "PE",
          "PI",
          "PR",
          "RJ",
          "RN",
          "RS",
          "SC",
          "SE",
          "SP",
          "TO",
          "AC",
          "AL",
          "AM",
          "AP",
          "BA",
          "CE",
          "DF",
          "ES",
          "GO",
          "MA",
          "MG",
          "MS",
          "MT",
          "PA",
          "PB",
          "PE",
          "PI",
          "PR",
          "RJ",
          "RN",
          "RO",
          "RS",
          "SC",
          "SE",
          "SP",
          "TO",
          "AL",
          "BA",
          "CE",
          "DF",
          "ES",
          "GO",
          "MA",
          "MG",
          "MS",
          "MT",
          "PB",
          "PE",
          "PI",
          "PR",
          "RJ",
          "RN",
          "RO",
          "RS",
          "SC",
          "SE",
          "SP",
          "TO",
          "AL",
          "BA",
          "CE",
          "DF",
          "ES",
          "GO",
          "MG",
          "MT",
          "PA",
          "PB",
          "PE",
          "PR",
          "RJ",
          "RN",
          "RS",
          "SC",
          "SP",
          "TO",
          "GO",
          "MG",
          "RS",
          "SC",
          "SP",
          "AC",
          "AL",
          "AM",
          "BA",
          "CE",
          "DF",
          "ES",
          "GO",
          "MA",
          "MG",
          "MS",
          "MT",
          "PA",
          "PB",
          "PE",
          "PI",
          "PR",
          "RJ",
          "RN",
          "RO",
          "RS",
          "SC",
          "SE",
          "SP",
          "TO",
          "AC",
          "AL",
          "AM",
          "BA",
          "CE",
          "DF",
          "ES",
          "GO",
          "MA",
          "MG",
          "MS",
          "MT",
          "PA",
          "PB",
          "PE",
          "PI",
          "PR",
          "RJ",
          "RN",
          "RO",
          "RS",
          "SC",
          "SE",
          "SP",
          "TO",
          "AM",
          "CE",
          "DF",
          "GO",
          "MG",
          "PR",
          "RJ",
          "RS",
          "SP",
          "AC",
          "AL",
          "AM",
          "AP",
          "BA",
          "CE",
          "DF",
          "ES",
          "GO",
          "MA",
          "MG",
          "MS",
          "MT",
          "PA",
          "PB",
          "PE",
          "PI",
          "PR",
          "RJ",
          "RN",
          "RO",
          "RS",
          "SC",
          "SE",
          "SP",
          "TO",
          "AL",
          "AM",
          "BA",
          "CE",
          "DF",
          "ES",
          "GO",
          "MA",
          "MG",
          "MS",
          "MT",
          "PA",
          "PB",
          "PE",
          "PI",
          "PR",
          "RJ",
          "RN",
          "RO",
          "RR",
          "RS",
          "SC",
          "SE",
          "SP",
          "TO",
          "DF",
          "ES",
          "GO",
          "MG",
          "PI",
          "PR",
          "RJ",
          "RS",
          "SC",
          "SP",
          "AC",
          "AL",
          "AM",
          "BA",
          "CE",
          "DF",
          "ES",
          "GO",
          "MA",
          "MG",
          "MS",
          "MT",
          "PA",
          "PB",
          "PE",
          "PI",
          "PR",
          "RJ",
          "RN",
          "RO",
          "RR",
          "RS",
          "SC",
          "SE",
          "SP",
          "TO",
          "AL",
          "AM",
          "AP",
          "BA",
          "CE",
          "DF",
          "ES",
          "GO",
          "MA",
          "MG",
          "MS",
          "MT",
          "PA",
          "PB",
          "PE",
          "PI",
          "PR",
          "RJ",
          "RN",
          "RO",
          "RS",
          "SC",
          "SE",
          "SP",
          "TO",
          "DF",
          "RO",
          "BA",
          "DF",
          "ES",
          "GO",
          "MG",
          "MS",
          "MT",
          "PA",
          "PB",
          "PE",
          "PR",
          "RJ",
          "RN",
          "RS",
          "SC",
          "SE",
          "SP",
          "AC",
          "BA",
          "CE",
          "DF",
          "ES",
          "GO",
          "MA",
          "MG",
          "MS",
          "MT",
          "PA",
          "PB",
          "PE",
          "PR",
          "RJ",
          "RN",
          "RO",
          "RS",
          "SC",
          "SE",
          "SP",
          "BA",
          "DF",
          "MG",
          "MS",
          "MT",
          "PE",
          "PR",
          "RJ",
          "RO",
          "RS",
          "SC",
          "SP",
          "TO",
          "AC",
          "AL",
          "AM",
          "AP",
          "BA",
          "CE",
          "DF",
          "ES",
          "GO",
          "MA",
          "MG",
          "MS",
          "MT",
          "PA",
          "PB",
          "PE",
          "PI",
          "PR",
          "RJ",
          "RN",
          "RO",
          "RR",
          "RS",
          "SC",
          "SE",
          "SP",
          "TO",
          "AC",
          "AL",
          "AM",
          "AP",
          "BA",
          "CE",
          "DF",
          "ES",
          "GO",
          "MA",
          "MG",
          "MS",
          "MT",
          "PA",
          "PB",
          "PE",
          "PI",
          "PR",
          "RJ",
          "RN",
          "RO",
          "RR",
          "RS",
          "SC",
          "SE",
          "SP",
          "TO",
          "AM",
          "BA",
          "CE",
          "ES",
          "GO",
          "MA",
          "MG",
          "MS",
          "MT",
          "PA",
          "PE",
          "PI",
          "PR",
          "RJ",
          "RS",
          "SP",
          "AC",
          "AL",
          "AM",
          "AP",
          "BA",
          "CE",
          "DF",
          "ES",
          "GO",
          "MA",
          "MG",
          "MS",
          "MT",
          "PA",
          "PB",
          "PE",
          "PI",
          "PR",
          "RJ",
          "RN",
          "RO",
          "RR",
          "RS",
          "SC",
          "SE",
          "SP",
          "TO",
          "AC",
          "AL",
          "AM",
          "AP",
          "BA",
          "CE",
          "DF",
          "ES",
          "GO",
          "MA",
          "MG",
          "MS",
          "MT",
          "PA",
          "PB",
          "PE",
          "PI",
          "PR",
          "RJ",
          "RN",
          "RO",
          "RS",
          "SC",
          "SE",
          "SP",
          "TO",
          "AC",
          "AL",
          "AM",
          "AP",
          "BA",
          "CE",
          "DF",
          "ES",
          "GO",
          "MA",
          "MG",
          "MS",
          "MT",
          "PA",
          "PB",
          "PE",
          "PI",
          "PR",
          "RJ",
          "RN",
          "RO",
          "RR",
          "RS",
          "SC",
          "SE",
          "SP",
          "TO"
         ],
         "z": [
          1518.55,
          657.61,
          4489.32,
          2448.7999999999997,
          487.17,
          1565.2,
          44016.72,
          594.17,
          636.45,
          1287.1599999999999,
          81.21,
          6088.700000000001,
          429.02,
          5285.16,
          9770.67,
          898.4,
          3355.1,
          1151.71,
          30871.12,
          643.89,
          114.11,
          979.95,
          537.25,
          534.61,
          1026.46,
          1374.38,
          222.71,
          6258.3,
          1124.7,
          86.75,
          224.9,
          620.99,
          4492.2,
          23252.5,
          2373.76,
          2707.68,
          42274.58,
          90.68,
          227.84,
          1111.25,
          941.4,
          76.79,
          383.56,
          1699.96,
          151.39,
          97.43,
          250.32,
          154.18,
          144.22,
          616.72,
          915.42,
          3725.1,
          137.1,
          252.77,
          758.27,
          559.09,
          16204.96,
          151.7,
          670.76,
          314.32,
          1189.39,
          675.28,
          114.53,
          1695.59,
          1080.71,
          2322.44,
          1531.46,
          2390.14,
          858.97,
          6750.72,
          206.99,
          758.5699999999999,
          608.67,
          103.55,
          542.44,
          347.14,
          3490.57,
          11637.86,
          224.12,
          2512.81,
          1894.55,
          20220.97,
          212.92,
          661.91,
          5819.53,
          1853.25,
          1406.68,
          36987.64,
          19022.22,
          21427.82,
          14890.98,
          57732.00000000001,
          7591.45,
          99769.84,
          8560.64,
          18449.07,
          11781.41,
          5463.19,
          15131.99,
          20026.82,
          45721.770000000004,
          82395.77,
          5191.7,
          1964.15,
          257.21,
          33565.45,
          43461.33,
          3195.16,
          268333.25,
          2948.61,
          871.97,
          1071.93,
          796.97,
          18624.9,
          5869.9800000000005,
          11005.98,
          10264.210000000001,
          11203.89,
          6331.43,
          64107.38,
          6613.02,
          8079.76,
          12311.26,
          2388.4500000000003,
          6370.89,
          5527.57,
          27962.33,
          53202.38,
          2960.62,
          2596.45,
          994.77,
          35583.73,
          35188.37,
          1880.43,
          191316.53,
          2428.02,
          1377.07,
          3100.93,
          1087.77,
          1899.93,
          47250.39,
          13681.64,
          27563.06,
          34481.72,
          40788.93,
          6393.94,
          216969.38,
          8681.79,
          13750.439999999999,
          5309.29,
          5712.11,
          17095.5,
          10397.57,
          76297.41,
          242431.81,
          6348.14,
          2916.18,
          1532.3600000000001,
          93266.17,
          52961.71,
          2875.38,
          756727.97,
          1658.5,
          757.51,
          325.74,
          114.67,
          1198.4,
          1770.74,
          1578.07,
          3533.8900000000003,
          1791.51,
          395.63,
          6478.74,
          263.08,
          88.18,
          597.79,
          702.64,
          727.8399999999999,
          159.39,
          4075.69,
          4990.75,
          2316.4300000000003,
          67.66,
          3109.92,
          2954.62,
          156.35,
          24559.8,
          48,
          93.98,
          804.96,
          519.24,
          337.44,
          155.7,
          755.1800000000001,
          171.79000000000002,
          40.18,
          84.66,
          3480,
          909.55,
          315.02,
          1140.75,
          1381.46,
          430.43,
          238.07999999999998,
          2707.41,
          234.02999999999997,
          416.49,
          213.13,
          409.55999999999995,
          149.49,
          2042.7,
          2152.29,
          100.77,
          1139.52,
          1388.93,
          8809.93,
          257.85,
          117.58,
          122.22,
          549.99,
          409.64,
          130.85,
          1186.65,
          238.9,
          809.3199999999999,
          161.38,
          473.45000000000005,
          155.27,
          1688.6000000000001,
          136.98,
          109.5,
          5589.72,
          530.2,
          289.86,
          1090.24,
          53.98,
          214.01999999999998,
          841.31,
          1900.56,
          3292.61,
          383.99,
          118.23,
          110.66,
          127.41,
          72.65,
          537.34,
          723,
          560.62,
          68.84,
          336.12,
          626.8,
          1342.88,
          1213.58,
          3020.72,
          1251.7,
          2106.37,
          1384.74,
          1482.42,
          37888.5,
          7439.58,
          13010.5,
          8353.72,
          9649.56,
          6988.74,
          23221.22,
          690.68,
          2995.04,
          3604.43,
          7369.29,
          9960.539999999999,
          2555.57,
          6957.82,
          24420.13,
          2605.12,
          9048.24,
          6325.91,
          1220,
          82904.25,
          1237.81,
          1765.24,
          14280.47,
          5866.85,
          4128.95,
          58308.56,
          19148.15,
          38634.68,
          20665.23,
          21287.45,
          32283.55,
          170939.37,
          13002.73,
          14900.72,
          17934.22,
          15726.869999999999,
          19003.3,
          6171.03,
          70095.32,
          189763.18,
          4709.25,
          4291.42,
          612.97,
          108472.88,
          63469.16,
          6377.15,
          622212.26,
          5201.51,
          321.92,
          2977.98,
          511.94000000000005,
          137.27,
          4865.0599999999995,
          4216.42,
          2551.33,
          2545.61,
          2898.68,
          1531.89,
          24000.23,
          596.31,
          1512.67,
          2539.84,
          1095.58,
          6201.0599999999995,
          2519.68,
          8861.2,
          20930.72,
          1865.18,
          54.05,
          9738.2,
          5230.93,
          2069.3999999999996,
          73413.55,
          617.49,
          1359.4,
          9934.44,
          2624.93,
          1619.36,
          4612.63,
          2153.75,
          71.14,
          30314.170000000002,
          5075.97,
          3750.54,
          556.02,
          280.84,
          6255.54,
          12035.24,
          33891.74,
          2459.74,
          1565.56,
          9173.39,
          8229.19,
          847.38,
          101062.51,
          964.56,
          1768.4,
          966.23,
          2726.3599999999997,
          1177.11,
          331.2,
          10061.19,
          2458.57,
          816.21,
          48.11,
          421.33000000000004,
          394.36,
          2515.02,
          4643.97,
          5518.32,
          3283.7000000000003,
          310.11,
          30747.86,
          1190.59,
          2495.47,
          1610.01,
          588.41,
          2418.41,
          7601.77,
          2272.2,
          1244.24,
          2371.34,
          983.12,
          4900.29,
          3293.71,
          190.59,
          402.34,
          598.13,
          3399.37,
          145.37,
          26020.44,
          130.22,
          3021.78,
          759.74,
          363.19,
          25790.07,
          14948.92,
          14345.53,
          13286.7,
          25392.02,
          8457.33,
          86486.54,
          7100.21,
          8863.039999999999,
          9121.7,
          7796.34,
          18645.32,
          4182.82,
          45724.82,
          97466.19,
          4668.35,
          3235.84,
          189.95,
          52943.24,
          35662.39,
          6702.78,
          245073.71,
          3981.2,
          182.35000000000002,
          1858.29,
          2752.8,
          542.7,
          948.59,
          636.29,
          5067.15,
          236.53000000000003,
          324.59,
          624.59,
          1228.77,
          535.25,
          1177.15,
          10030.02,
          237.21999999999997,
          202.56,
          1109.24,
          503.20000000000005,
          13309.41,
          814.8299999999999,
          113.7,
          599.03,
          5042.39,
          2523.71,
          26.12,
          222.16,
          52.63,
          355.01,
          226.56,
          510.15999999999997,
          1239.97,
          1322.49,
          613.0699999999999,
          7407.24,
          80.69,
          58.23,
          98.05,
          135.93,
          230.60000000000002,
          3522.67,
          49.64,
          83.16,
          501.76,
          379.94,
          382.57,
          300.38,
          1044.42,
          4478.22,
          264.45,
          41.55,
          125.78,
          112.95,
          4504.41,
          34281.01,
          2203.69,
          1141.6200000000001,
          19014.18,
          47.75,
          164.16,
          28.01,
          338.7,
          498.54,
          77.99,
          75.85,
          474.35,
          737.3,
          42.28,
          46.05,
          337.96,
          87.1,
          3460.95,
          677.59,
          820.16,
          145.25,
          1015.96,
          9613.92,
          6726.2,
          3488.64,
          5439.76,
          1520.87,
          780.04,
          37891.9,
          2538.09,
          2336.36,
          3944.24,
          3069.71,
          3461.02,
          2318.75,
          15608.84,
          39986.49,
          786.16,
          467.75,
          80.09,
          12430.51,
          11507.42,
          4468.22,
          74278.15,
          467.44,
          171.69,
          148.06,
          131.51,
          235.74,
          585.1,
          57.17,
          304.32,
          119.2,
          69.45,
          35,
          3045.4300000000003,
          121.2,
          360.14,
          725.69,
          9535.15,
          3582.2400000000002,
          4621.5,
          4898.7,
          4018.23,
          3263.12,
          29438.52,
          1277.08,
          816.8100000000001,
          3326.5299999999997,
          2231.02,
          3268.42,
          313.65999999999997,
          11246.71,
          23370.38,
          1948.8300000000002,
          1203.05,
          10634,
          8423.02,
          678.4,
          83572.48,
          795.7900000000001,
          107.06,
          124.52,
          106.43,
          380.97,
          1540.17,
          55.62,
          540.06,
          390.99,
          95.64,
          3063.31,
          183.85,
          345.9,
          1626.55,
          1043.34,
          1218.42,
          120.59,
          6499.02,
          393.74,
          437.06,
          1007.11,
          560.06,
          1084.59,
          886.17,
          1300.73,
          53.28,
          4348.43,
          629.3,
          550.98,
          660.3299999999999,
          439.48,
          1458.69,
          238.65,
          1474.81,
          4029.66,
          257.65,
          227.75,
          917.2,
          1490.83,
          9079.93,
          229.5,
          248.45,
          39.09,
          314.37,
          293.7,
          1048.48,
          65,
          159.42,
          41.04,
          225.52999999999997,
          1170.75,
          722.24,
          177.22,
          125.52,
          541.6700000000001,
          1879.45,
          492.37,
          246.32999999999998,
          253.87,
          186.86,
          353.86,
          2273.84,
          447.37,
          548.1999999999999,
          4168.0199999999995,
          848.8,
          41.14,
          1678.58,
          9679.63,
          579.3,
          120.60000000000001,
          30248.54,
          640.25,
          124.43,
          1550.69,
          49.04,
          614.49,
          2239.98,
          152.75,
          402.79999999999995,
          371.03,
          115214.61,
          2768.22,
          2439.21,
          223.16,
          20906.57,
          1444.57,
          110.28999999999999,
          41.1,
          247.67000000000002,
          46.3,
          290.24,
          567.98,
          124.96,
          784.47,
          215.58,
          187.91,
          1412.48,
          453.5,
          1116.6599999999999,
          1147.6,
          667.16,
          3019.12,
          460.45000000000005,
          1331.65,
          195.51,
          757.4599999999999,
          173.49,
          2557.03,
          4971.23,
          156.42000000000002,
          126.45,
          1249.18,
          1322.09,
          37.34,
          23782.14,
          68.54,
          998.3199999999999,
          429.45,
          377.68,
          583.5,
          214.54000000000002,
          3071.09,
          33.7,
          85.85,
          775.75,
          237.47,
          1272.85,
          5624.96,
          465.08,
          604.46,
          131.10999999999999,
          135.5,
          11499.58,
          1027.16,
          565.58,
          120.33,
          218.62,
          2419.9700000000003,
          224.71,
          1255.32,
          124.34,
          5223.4,
          488.08000000000004,
          230.75,
          959.9200000000001,
          413.54999999999995,
          16785.5,
          5261.2300000000005,
          7654.74,
          326.63,
          629.53,
          48144.41,
          15777.4,
          27352.41,
          25462.98,
          24321.95,
          7206.11,
          154860.72,
          10957.86,
          13284.93,
          19757.66,
          9001.06,
          18956.81,
          3564.17,
          114060.51000000001,
          177682.75,
          4365.83,
          3735.0899999999997,
          1172.05,
          93386.58,
          60206.09,
          8544.12,
          533514.77,
          4783.65,
          132.82,
          901.42,
          4032.28,
          685.96,
          1674.0900000000001,
          2406.5299999999997,
          1766.95,
          6464.53,
          11439.49,
          619.95,
          634.7,
          218.21,
          700.51,
          421.36,
          288.34000000000003,
          4189.46,
          34665.14,
          212.73,
          5523.2699999999995,
          3090.83,
          2209.31,
          51629.39,
          391.84,
          258.33,
          147.41,
          723.4,
          1368.35,
          288.29,
          250.55,
          2868.42,
          707.1999999999999,
          2158.3,
          2267.8,
          300.2,
          40124.98,
          12226.22,
          15058.53,
          17741.73,
          42451.17,
          3923.64,
          102369.79,
          6857.46,
          16336.13,
          10797.38,
          6504.73,
          11135.6,
          4222.64,
          35128.55,
          113245.71,
          4241.67,
          1055.45,
          288.35,
          57671.07,
          38006.43,
          7908.35,
          254857.78,
          2873.84,
          2067.62,
          14741.33,
          4566.7,
          1719.02,
          65382.14,
          45615.12,
          38294.58,
          26743.14,
          36722.57,
          17625.19,
          196330.05,
          14065.61,
          21028.01,
          31145.63,
          19472.68,
          55903.7,
          14944.45,
          70919.01,
          178266.9,
          16112.05,
          8517.220000000001,
          897.48,
          67283.17,
          49797.16,
          9639.74,
          604699.12,
          8368.960000000001,
          226.86,
          286.83,
          3450.86,
          1987.78,
          2151.69,
          1404.48,
          827.13,
          1584.05,
          7144.1,
          353.89,
          1187.85,
          898.22,
          2419.2999999999997,
          390.84000000000003,
          470.52,
          7013.4,
          10377.39,
          527.64,
          364.85,
          1125.05,
          7133.43,
          3721.24,
          128,
          38486.77,
          181.45,
          2515.7,
          592.49,
          2282.2599999999998,
          2982.29,
          2966.72,
          1248.78,
          1691.6399999999999,
          7195.099999999999,
          1082.25,
          734.4300000000001,
          1151.99,
          674.83,
          5975.84,
          30408.73,
          1621.02,
          11599.71,
          6952.55,
          182.85,
          35754.42,
          1240.46,
          29.69,
          28,
          200.22,
          134.06,
          28,
          280,
          129.35,
          881.22,
          128.08,
          1947.36,
          574.36,
          1190.25,
          1970,
          1472.51,
          809.9300000000001,
          11307.36,
          110.09,
          980.42,
          140.06,
          1950.76,
          660.51,
          2196.12,
          12198.42,
          115.02,
          257.37,
          3976,
          1872.1,
          294.8,
          38846.88,
          695.61,
          821.4000000000001,
          1001.8100000000001,
          5221.34,
          3649.42,
          954.84,
          2577.64,
          4494.03,
          1574.8899999999999,
          11425.92,
          1441.03,
          2739.06,
          487.55999999999995,
          1235.51,
          2415.81,
          1525.33,
          3795.62,
          12505.4,
          528.62,
          14748.220000000001,
          4988.42,
          1305.8,
          55059.84,
          118.73,
          1136.43,
          1122.1200000000001,
          518.86,
          731.61,
          27125.98,
          17024.79,
          25098.67,
          17549.2,
          41963.9,
          3541.68,
          135835.48,
          13155.19,
          8855.93,
          7888.2,
          6769.25,
          8378.32,
          7341.38,
          49514.34,
          129491.59,
          3671.96,
          713.96,
          81298.12,
          42470.85,
          2014.72,
          434929.47,
          1645.97,
          272.76,
          829.47,
          300.06,
          1656.71,
          223.61,
          1855.97,
          157.79,
          2874.39,
          113.4,
          388.06,
          3759.73,
          543.59,
          972.52,
          1994.9,
          5579.88,
          194.97,
          127.9,
          5271.5,
          2873.26,
          469.6,
          24327.87,
          128.63,
          393.76,
          267.41999999999996,
          221.8,
          1703.23,
          66.94,
          984.1200000000001,
          5834.3,
          1118.68,
          86.8,
          660.39,
          1367.54,
          5978.73,
          10676.84,
          425.53,
          2668.2799999999997,
          1134.33,
          39602.85,
          214.61,
          299.54,
          316.01,
          516.64,
          546.3,
          1235.04,
          466.40999999999997,
          1578.1599999999999,
          751.63,
          4131.37,
          5263.01,
          3532.88,
          3587.1,
          2087.34,
          1865.56,
          29162.78,
          1608.8600000000001,
          1358.96,
          1896.73,
          1331.77,
          2375.8,
          865.27,
          8258.48,
          19734.84,
          470.01,
          1598.71,
          8851.72,
          7116.3099999999995,
          373.92,
          76327.36,
          459.21999999999997,
          88.27,
          531.74,
          202.06,
          2344.3700000000003,
          686.85,
          405.95,
          988.75,
          1866.0500000000002,
          4051.03,
          3734.0099999999998,
          258.3,
          786.51,
          616.6,
          861.04,
          564.65,
          172.87,
          1404.39,
          3892.08,
          176.2,
          209.48,
          2354.15,
          1684.96,
          633.03,
          16021.91,
          80.52,
          38.95,
          169.64,
          65.83,
          1244.12,
          927.86,
          661.81,
          1153.57,
          322.17,
          2317.48,
          79.28,
          420.29,
          517.2,
          348.94,
          11917.49,
          3601.8700000000003,
          3002.24,
          5941.06,
          1702.24,
          4332.42,
          33804.81,
          3848.58,
          6333.46,
          2363.69,
          1175.01,
          6934.95,
          1810.53,
          12624.24,
          23818.69,
          477.28,
          72.27,
          8606.22,
          8262.43,
          1855.55,
          77196.37,
          71.05,
          3729.7,
          267.34,
          55468.26,
          9883.11,
          3781.5299999999997,
          9249.54,
          4415.26,
          13384.95,
          56042.37,
          993.95,
          9809.92,
          7648.77,
          3579.19,
          5897.73,
          1730.4199999999998,
          47781.77,
          124116.6,
          1742.15,
          1850.79,
          434.76,
          19919.08,
          24560.81,
          694.06,
          226498.76,
          2644.06,
          269.73,
          98.99,
          175.84,
          1297.2600000000002,
          292.88,
          356.49,
          453.03,
          730.72,
          334.16,
          1929.44,
          380.56,
          2143.91,
          148.98000000000002,
          12259.83,
          10914.38,
          12172.77,
          10041.65,
          12883.63,
          5487.85,
          58566.56,
          2681.7400000000002,
          4726.67,
          6002.93,
          3403.89,
          8407.78,
          2459.87,
          21080.41,
          67864.53,
          3775.31,
          1454,
          272.99,
          24621.32,
          17780.85,
          1416.62,
          203128.51,
          2590.21,
          2426.7200000000003,
          541.05,
          175.6,
          8685.78,
          1619.74,
          7031.2300000000005,
          3872.52,
          6179.46,
          1354.8,
          45248.85,
          3855.98,
          3723.4700000000003,
          2484.23,
          1041.62,
          3804.3900000000003,
          1706.65,
          11249.76,
          33940.18,
          6066.77,
          1384.17,
          16189.05,
          13523.08,
          269.94,
          130905.53,
          435.78999999999996,
          115.45,
          209.06,
          868.8199999999999,
          738.6899999999999,
          2221.67,
          1534.67,
          1469.23,
          382.22,
          19457.04,
          774.1800000000001,
          17069.760000000002,
          309.2,
          388.07,
          3783.74,
          100.02,
          2503.71,
          1565.1000000000001,
          438.84,
          14658.630000000001,
          100.91,
          4387.69,
          4631.65,
          11608.86,
          736.04,
          3161.0899999999997,
          320.79,
          19473.13,
          520.8299999999999,
          4199.69,
          3995.42,
          2283.33,
          1115.3500000000001,
          11631.7,
          32209.48,
          365.85,
          125.15,
          18205.329999999998,
          10409.09,
          1677.03,
          85516.6,
          1717.69,
          793.09,
          4991.66,
          818.4,
          836.7,
          673.47,
          8924.98,
          3588.41,
          2114.63,
          565.34,
          4894.200000000001,
          18268.64,
          2094.44,
          2071.54,
          5093.0599999999995,
          1732.1399999999999,
          1480.9099999999999,
          57880.04,
          14691.93,
          36794.64,
          26847.08,
          25746.43,
          14281.47,
          153371.65,
          14432.14,
          10636.48,
          19431.329999999998,
          6242.4,
          27939.5,
          7790.72,
          80240.53,
          174869.66,
          5360.02,
          5202.34,
          2579.08,
          72900.25,
          60391.48,
          5275.85,
          508950.16,
          6961.25,
          646.76,
          879.24,
          869.01,
          335.04,
          8981.11,
          5966.84,
          5644.3099999999995,
          7065.9,
          7576.59,
          3060.17,
          36314.07,
          2756.66,
          4317.3,
          3152.21,
          3210.95,
          6284.16,
          1741.6399999999999,
          14558.17,
          41973.23,
          5860,
          1179.23,
          65.37,
          17642.33,
          13410.01,
          300.33,
          114533.08,
          350.6,
          72.85,
          759.43,
          47.62,
          1094.04,
          117.12,
          178.55,
          1307.19,
          461.56,
          87.39,
          455.36,
          249.15,
          381.85,
          298.53999999999996,
          1059.27,
          115.39,
          3357.62,
          1271.4299999999998,
          5577.3,
          1252.64,
          396.28999999999996,
          29419.05,
          9733.09,
          10111.45,
          15334.94,
          9199.64,
          7677.95,
          45289.65,
          2199.7599999999998,
          5402.86,
          12087.33,
          4140.7,
          15310.62,
          4567.6,
          22634.92,
          49314.18,
          6783.72,
          1374.19,
          209.13,
          48385.100000000006,
          16904.64,
          3065.48,
          139977.31,
          2015.52,
          318.04999999999995,
          1419.18,
          1135.1000000000001,
          389.72,
          17466.71,
          11172.71,
          15037.25,
          12997.26,
          11279.32,
          4276.05,
          74700.79,
          4852.65,
          8418.48,
          4499.389999999999,
          5697.84,
          11783.5,
          5566.96,
          28085.07,
          91722.15,
          3175.67,
          4175.38,
          34837.31,
          18681.16,
          1461.93,
          227851.32,
          2469.97,
          1573.7200000000003,
          13249.34,
          2074.9,
          2016.42,
          52801.7,
          35362.19,
          36434.7,
          32627.85,
          34997.19,
          12306.65,
          137957.88,
          10128.35,
          17758.4,
          24090.11,
          14544.56,
          39978.61,
          10362.77,
          85401.59,
          207651.19,
          12269.07,
          5010.179999999999,
          287.45,
          53218.9,
          42285.51,
          3491.07,
          492446.7,
          6719.3099999999995
         ],
         "zmax": 756727.97,
         "zmin": 26.12
        }
       ],
       "layout": {
        "template": {
         "data": {
          "bar": [
           {
            "error_x": {
             "color": "#f2f5fa"
            },
            "error_y": {
             "color": "#f2f5fa"
            },
            "marker": {
             "line": {
              "color": "rgb(17,17,17)",
              "width": 0.5
             },
             "pattern": {
              "fillmode": "overlay",
              "size": 10,
              "solidity": 0.2
             }
            },
            "type": "bar"
           }
          ],
          "barpolar": [
           {
            "marker": {
             "line": {
              "color": "rgb(17,17,17)",
              "width": 0.5
             },
             "pattern": {
              "fillmode": "overlay",
              "size": 10,
              "solidity": 0.2
             }
            },
            "type": "barpolar"
           }
          ],
          "carpet": [
           {
            "aaxis": {
             "endlinecolor": "#A2B1C6",
             "gridcolor": "#506784",
             "linecolor": "#506784",
             "minorgridcolor": "#506784",
             "startlinecolor": "#A2B1C6"
            },
            "baxis": {
             "endlinecolor": "#A2B1C6",
             "gridcolor": "#506784",
             "linecolor": "#506784",
             "minorgridcolor": "#506784",
             "startlinecolor": "#A2B1C6"
            },
            "type": "carpet"
           }
          ],
          "choropleth": [
           {
            "colorbar": {
             "outlinewidth": 0,
             "ticks": ""
            },
            "type": "choropleth"
           }
          ],
          "contour": [
           {
            "colorbar": {
             "outlinewidth": 0,
             "ticks": ""
            },
            "colorscale": [
             [
              0,
              "#0d0887"
             ],
             [
              0.1111111111111111,
              "#46039f"
             ],
             [
              0.2222222222222222,
              "#7201a8"
             ],
             [
              0.3333333333333333,
              "#9c179e"
             ],
             [
              0.4444444444444444,
              "#bd3786"
             ],
             [
              0.5555555555555556,
              "#d8576b"
             ],
             [
              0.6666666666666666,
              "#ed7953"
             ],
             [
              0.7777777777777778,
              "#fb9f3a"
             ],
             [
              0.8888888888888888,
              "#fdca26"
             ],
             [
              1,
              "#f0f921"
             ]
            ],
            "type": "contour"
           }
          ],
          "contourcarpet": [
           {
            "colorbar": {
             "outlinewidth": 0,
             "ticks": ""
            },
            "type": "contourcarpet"
           }
          ],
          "heatmap": [
           {
            "colorbar": {
             "outlinewidth": 0,
             "ticks": ""
            },
            "colorscale": [
             [
              0,
              "#0d0887"
             ],
             [
              0.1111111111111111,
              "#46039f"
             ],
             [
              0.2222222222222222,
              "#7201a8"
             ],
             [
              0.3333333333333333,
              "#9c179e"
             ],
             [
              0.4444444444444444,
              "#bd3786"
             ],
             [
              0.5555555555555556,
              "#d8576b"
             ],
             [
              0.6666666666666666,
              "#ed7953"
             ],
             [
              0.7777777777777778,
              "#fb9f3a"
             ],
             [
              0.8888888888888888,
              "#fdca26"
             ],
             [
              1,
              "#f0f921"
             ]
            ],
            "type": "heatmap"
           }
          ],
          "heatmapgl": [
           {
            "colorbar": {
             "outlinewidth": 0,
             "ticks": ""
            },
            "colorscale": [
             [
              0,
              "#0d0887"
             ],
             [
              0.1111111111111111,
              "#46039f"
             ],
             [
              0.2222222222222222,
              "#7201a8"
             ],
             [
              0.3333333333333333,
              "#9c179e"
             ],
             [
              0.4444444444444444,
              "#bd3786"
             ],
             [
              0.5555555555555556,
              "#d8576b"
             ],
             [
              0.6666666666666666,
              "#ed7953"
             ],
             [
              0.7777777777777778,
              "#fb9f3a"
             ],
             [
              0.8888888888888888,
              "#fdca26"
             ],
             [
              1,
              "#f0f921"
             ]
            ],
            "type": "heatmapgl"
           }
          ],
          "histogram": [
           {
            "marker": {
             "pattern": {
              "fillmode": "overlay",
              "size": 10,
              "solidity": 0.2
             }
            },
            "type": "histogram"
           }
          ],
          "histogram2d": [
           {
            "colorbar": {
             "outlinewidth": 0,
             "ticks": ""
            },
            "colorscale": [
             [
              0,
              "#0d0887"
             ],
             [
              0.1111111111111111,
              "#46039f"
             ],
             [
              0.2222222222222222,
              "#7201a8"
             ],
             [
              0.3333333333333333,
              "#9c179e"
             ],
             [
              0.4444444444444444,
              "#bd3786"
             ],
             [
              0.5555555555555556,
              "#d8576b"
             ],
             [
              0.6666666666666666,
              "#ed7953"
             ],
             [
              0.7777777777777778,
              "#fb9f3a"
             ],
             [
              0.8888888888888888,
              "#fdca26"
             ],
             [
              1,
              "#f0f921"
             ]
            ],
            "type": "histogram2d"
           }
          ],
          "histogram2dcontour": [
           {
            "colorbar": {
             "outlinewidth": 0,
             "ticks": ""
            },
            "colorscale": [
             [
              0,
              "#0d0887"
             ],
             [
              0.1111111111111111,
              "#46039f"
             ],
             [
              0.2222222222222222,
              "#7201a8"
             ],
             [
              0.3333333333333333,
              "#9c179e"
             ],
             [
              0.4444444444444444,
              "#bd3786"
             ],
             [
              0.5555555555555556,
              "#d8576b"
             ],
             [
              0.6666666666666666,
              "#ed7953"
             ],
             [
              0.7777777777777778,
              "#fb9f3a"
             ],
             [
              0.8888888888888888,
              "#fdca26"
             ],
             [
              1,
              "#f0f921"
             ]
            ],
            "type": "histogram2dcontour"
           }
          ],
          "mesh3d": [
           {
            "colorbar": {
             "outlinewidth": 0,
             "ticks": ""
            },
            "type": "mesh3d"
           }
          ],
          "parcoords": [
           {
            "line": {
             "colorbar": {
              "outlinewidth": 0,
              "ticks": ""
             }
            },
            "type": "parcoords"
           }
          ],
          "pie": [
           {
            "automargin": true,
            "type": "pie"
           }
          ],
          "scatter": [
           {
            "marker": {
             "line": {
              "color": "#283442"
             }
            },
            "type": "scatter"
           }
          ],
          "scatter3d": [
           {
            "line": {
             "colorbar": {
              "outlinewidth": 0,
              "ticks": ""
             }
            },
            "marker": {
             "colorbar": {
              "outlinewidth": 0,
              "ticks": ""
             }
            },
            "type": "scatter3d"
           }
          ],
          "scattercarpet": [
           {
            "marker": {
             "colorbar": {
              "outlinewidth": 0,
              "ticks": ""
             }
            },
            "type": "scattercarpet"
           }
          ],
          "scattergeo": [
           {
            "marker": {
             "colorbar": {
              "outlinewidth": 0,
              "ticks": ""
             }
            },
            "type": "scattergeo"
           }
          ],
          "scattergl": [
           {
            "marker": {
             "line": {
              "color": "#283442"
             }
            },
            "type": "scattergl"
           }
          ],
          "scattermapbox": [
           {
            "marker": {
             "colorbar": {
              "outlinewidth": 0,
              "ticks": ""
             }
            },
            "type": "scattermapbox"
           }
          ],
          "scatterpolar": [
           {
            "marker": {
             "colorbar": {
              "outlinewidth": 0,
              "ticks": ""
             }
            },
            "type": "scatterpolar"
           }
          ],
          "scatterpolargl": [
           {
            "marker": {
             "colorbar": {
              "outlinewidth": 0,
              "ticks": ""
             }
            },
            "type": "scatterpolargl"
           }
          ],
          "scatterternary": [
           {
            "marker": {
             "colorbar": {
              "outlinewidth": 0,
              "ticks": ""
             }
            },
            "type": "scatterternary"
           }
          ],
          "surface": [
           {
            "colorbar": {
             "outlinewidth": 0,
             "ticks": ""
            },
            "colorscale": [
             [
              0,
              "#0d0887"
             ],
             [
              0.1111111111111111,
              "#46039f"
             ],
             [
              0.2222222222222222,
              "#7201a8"
             ],
             [
              0.3333333333333333,
              "#9c179e"
             ],
             [
              0.4444444444444444,
              "#bd3786"
             ],
             [
              0.5555555555555556,
              "#d8576b"
             ],
             [
              0.6666666666666666,
              "#ed7953"
             ],
             [
              0.7777777777777778,
              "#fb9f3a"
             ],
             [
              0.8888888888888888,
              "#fdca26"
             ],
             [
              1,
              "#f0f921"
             ]
            ],
            "type": "surface"
           }
          ],
          "table": [
           {
            "cells": {
             "fill": {
              "color": "#506784"
             },
             "line": {
              "color": "rgb(17,17,17)"
             }
            },
            "header": {
             "fill": {
              "color": "#2a3f5f"
             },
             "line": {
              "color": "rgb(17,17,17)"
             }
            },
            "type": "table"
           }
          ]
         },
         "layout": {
          "annotationdefaults": {
           "arrowcolor": "#f2f5fa",
           "arrowhead": 0,
           "arrowwidth": 1
          },
          "autotypenumbers": "strict",
          "coloraxis": {
           "colorbar": {
            "outlinewidth": 0,
            "ticks": ""
           }
          },
          "colorscale": {
           "diverging": [
            [
             0,
             "#8e0152"
            ],
            [
             0.1,
             "#c51b7d"
            ],
            [
             0.2,
             "#de77ae"
            ],
            [
             0.3,
             "#f1b6da"
            ],
            [
             0.4,
             "#fde0ef"
            ],
            [
             0.5,
             "#f7f7f7"
            ],
            [
             0.6,
             "#e6f5d0"
            ],
            [
             0.7,
             "#b8e186"
            ],
            [
             0.8,
             "#7fbc41"
            ],
            [
             0.9,
             "#4d9221"
            ],
            [
             1,
             "#276419"
            ]
           ],
           "sequential": [
            [
             0,
             "#0d0887"
            ],
            [
             0.1111111111111111,
             "#46039f"
            ],
            [
             0.2222222222222222,
             "#7201a8"
            ],
            [
             0.3333333333333333,
             "#9c179e"
            ],
            [
             0.4444444444444444,
             "#bd3786"
            ],
            [
             0.5555555555555556,
             "#d8576b"
            ],
            [
             0.6666666666666666,
             "#ed7953"
            ],
            [
             0.7777777777777778,
             "#fb9f3a"
            ],
            [
             0.8888888888888888,
             "#fdca26"
            ],
            [
             1,
             "#f0f921"
            ]
           ],
           "sequentialminus": [
            [
             0,
             "#0d0887"
            ],
            [
             0.1111111111111111,
             "#46039f"
            ],
            [
             0.2222222222222222,
             "#7201a8"
            ],
            [
             0.3333333333333333,
             "#9c179e"
            ],
            [
             0.4444444444444444,
             "#bd3786"
            ],
            [
             0.5555555555555556,
             "#d8576b"
            ],
            [
             0.6666666666666666,
             "#ed7953"
            ],
            [
             0.7777777777777778,
             "#fb9f3a"
            ],
            [
             0.8888888888888888,
             "#fdca26"
            ],
            [
             1,
             "#f0f921"
            ]
           ]
          },
          "colorway": [
           "#636efa",
           "#EF553B",
           "#00cc96",
           "#ab63fa",
           "#FFA15A",
           "#19d3f3",
           "#FF6692",
           "#B6E880",
           "#FF97FF",
           "#FECB52"
          ],
          "font": {
           "color": "#f2f5fa"
          },
          "geo": {
           "bgcolor": "rgb(17,17,17)",
           "lakecolor": "rgb(17,17,17)",
           "landcolor": "rgb(17,17,17)",
           "showlakes": true,
           "showland": true,
           "subunitcolor": "#506784"
          },
          "hoverlabel": {
           "align": "left"
          },
          "hovermode": "closest",
          "mapbox": {
           "style": "dark"
          },
          "paper_bgcolor": "rgb(17,17,17)",
          "plot_bgcolor": "rgb(17,17,17)",
          "polar": {
           "angularaxis": {
            "gridcolor": "#506784",
            "linecolor": "#506784",
            "ticks": ""
           },
           "bgcolor": "rgb(17,17,17)",
           "radialaxis": {
            "gridcolor": "#506784",
            "linecolor": "#506784",
            "ticks": ""
           }
          },
          "scene": {
           "xaxis": {
            "backgroundcolor": "rgb(17,17,17)",
            "gridcolor": "#506784",
            "gridwidth": 2,
            "linecolor": "#506784",
            "showbackground": true,
            "ticks": "",
            "zerolinecolor": "#C8D4E3"
           },
           "yaxis": {
            "backgroundcolor": "rgb(17,17,17)",
            "gridcolor": "#506784",
            "gridwidth": 2,
            "linecolor": "#506784",
            "showbackground": true,
            "ticks": "",
            "zerolinecolor": "#C8D4E3"
           },
           "zaxis": {
            "backgroundcolor": "rgb(17,17,17)",
            "gridcolor": "#506784",
            "gridwidth": 2,
            "linecolor": "#506784",
            "showbackground": true,
            "ticks": "",
            "zerolinecolor": "#C8D4E3"
           }
          },
          "shapedefaults": {
           "line": {
            "color": "#f2f5fa"
           }
          },
          "sliderdefaults": {
           "bgcolor": "#C8D4E3",
           "bordercolor": "rgb(17,17,17)",
           "borderwidth": 1,
           "tickwidth": 0
          },
          "ternary": {
           "aaxis": {
            "gridcolor": "#506784",
            "linecolor": "#506784",
            "ticks": ""
           },
           "baxis": {
            "gridcolor": "#506784",
            "linecolor": "#506784",
            "ticks": ""
           },
           "bgcolor": "rgb(17,17,17)",
           "caxis": {
            "gridcolor": "#506784",
            "linecolor": "#506784",
            "ticks": ""
           }
          },
          "title": {
           "x": 0.05
          },
          "updatemenudefaults": {
           "bgcolor": "#506784",
           "borderwidth": 0
          },
          "xaxis": {
           "automargin": true,
           "gridcolor": "#283442",
           "linecolor": "#506784",
           "ticks": "",
           "title": {
            "standoff": 15
           },
           "zerolinecolor": "#283442",
           "zerolinewidth": 2
          },
          "yaxis": {
           "automargin": true,
           "gridcolor": "#283442",
           "linecolor": "#506784",
           "ticks": "",
           "title": {
            "standoff": 15
           },
           "zerolinecolor": "#283442",
           "zerolinewidth": 2
          }
         }
        },
        "title": {
         "font": {
          "size": 16
         },
         "text": "<b>도시별 구매 품목과 비용</b>",
         "x": 0.5,
         "y": 0.87
        },
        "xaxis": {
         "dtick": 1,
         "showticklabels": true,
         "title": {
          "text": "<b>구매 품목</b>"
         }
        },
        "yaxis": {
         "title": {
          "text": "<b>도시</b>"
         }
        }
       }
      },
      "text/html": [
       "<div>                            <div id=\"9d015939-a2ad-4bff-8acc-9fcefe11350a\" class=\"plotly-graph-div\" style=\"height:525px; width:100%;\"></div>            <script type=\"text/javascript\">                require([\"plotly\"], function(Plotly) {                    window.PLOTLYENV=window.PLOTLYENV || {};\n",
       "                    window.PLOTLYENV.BASE_URL='https://plot.ly';                                    if (document.getElementById(\"9d015939-a2ad-4bff-8acc-9fcefe11350a\")) {                    Plotly.newPlot(                        \"9d015939-a2ad-4bff-8acc-9fcefe11350a\",                        [{\"colorscale\":[[0.0,\"rgb(255,245,240)\"],[0.125,\"rgb(254,224,210)\"],[0.25,\"rgb(252,187,161)\"],[0.375,\"rgb(252,146,114)\"],[0.5,\"rgb(251,106,74)\"],[0.625,\"rgb(239,59,44)\"],[0.75,\"rgb(203,24,29)\"],[0.875,\"rgb(165,15,21)\"],[1.0,\"rgb(103,0,13)\"]],\"x\":[\"agro_industry_and_commerce\",\"agro_industry_and_commerce\",\"agro_industry_and_commerce\",\"agro_industry_and_commerce\",\"agro_industry_and_commerce\",\"agro_industry_and_commerce\",\"agro_industry_and_commerce\",\"agro_industry_and_commerce\",\"agro_industry_and_commerce\",\"agro_industry_and_commerce\",\"agro_industry_and_commerce\",\"agro_industry_and_commerce\",\"agro_industry_and_commerce\",\"agro_industry_and_commerce\",\"agro_industry_and_commerce\",\"agro_industry_and_commerce\",\"agro_industry_and_commerce\",\"agro_industry_and_commerce\",\"agro_industry_and_commerce\",\"air_conditioning\",\"air_conditioning\",\"air_conditioning\",\"air_conditioning\",\"air_conditioning\",\"air_conditioning\",\"air_conditioning\",\"air_conditioning\",\"air_conditioning\",\"air_conditioning\",\"air_conditioning\",\"air_conditioning\",\"air_conditioning\",\"air_conditioning\",\"air_conditioning\",\"air_conditioning\",\"air_conditioning\",\"air_conditioning\",\"art\",\"art\",\"art\",\"art\",\"art\",\"art\",\"art\",\"art\",\"art\",\"art\",\"art\",\"art\",\"art\",\"art\",\"art\",\"art\",\"art\",\"art\",\"art\",\"art\",\"arts_and_craftmanship\",\"arts_and_craftmanship\",\"arts_and_craftmanship\",\"arts_and_craftmanship\",\"audio\",\"audio\",\"audio\",\"audio\",\"audio\",\"audio\",\"audio\",\"audio\",\"audio\",\"audio\",\"audio\",\"audio\",\"audio\",\"audio\",\"audio\",\"audio\",\"audio\",\"audio\",\"audio\",\"audio\",\"audio\",\"audio\",\"auto\",\"auto\",\"auto\",\"auto\",\"auto\",\"auto\",\"auto\",\"auto\",\"auto\",\"auto\",\"auto\",\"auto\",\"auto\",\"auto\",\"auto\",\"auto\",\"auto\",\"auto\",\"auto\",\"auto\",\"auto\",\"auto\",\"auto\",\"auto\",\"auto\",\"auto\",\"auto\",\"baby\",\"baby\",\"baby\",\"baby\",\"baby\",\"baby\",\"baby\",\"baby\",\"baby\",\"baby\",\"baby\",\"baby\",\"baby\",\"baby\",\"baby\",\"baby\",\"baby\",\"baby\",\"baby\",\"baby\",\"baby\",\"baby\",\"baby\",\"baby\",\"baby\",\"baby\",\"bed_bath_table\",\"bed_bath_table\",\"bed_bath_table\",\"bed_bath_table\",\"bed_bath_table\",\"bed_bath_table\",\"bed_bath_table\",\"bed_bath_table\",\"bed_bath_table\",\"bed_bath_table\",\"bed_bath_table\",\"bed_bath_table\",\"bed_bath_table\",\"bed_bath_table\",\"bed_bath_table\",\"bed_bath_table\",\"bed_bath_table\",\"bed_bath_table\",\"bed_bath_table\",\"bed_bath_table\",\"bed_bath_table\",\"bed_bath_table\",\"bed_bath_table\",\"bed_bath_table\",\"bed_bath_table\",\"bed_bath_table\",\"bed_bath_table\",\"books_general_interest\",\"books_general_interest\",\"books_general_interest\",\"books_general_interest\",\"books_general_interest\",\"books_general_interest\",\"books_general_interest\",\"books_general_interest\",\"books_general_interest\",\"books_general_interest\",\"books_general_interest\",\"books_general_interest\",\"books_general_interest\",\"books_general_interest\",\"books_general_interest\",\"books_general_interest\",\"books_general_interest\",\"books_general_interest\",\"books_general_interest\",\"books_general_interest\",\"books_general_interest\",\"books_general_interest\",\"books_general_interest\",\"books_general_interest\",\"books_general_interest\",\"books_imported\",\"books_imported\",\"books_imported\",\"books_imported\",\"books_imported\",\"books_imported\",\"books_imported\",\"books_imported\",\"books_imported\",\"books_imported\",\"books_technical\",\"books_technical\",\"books_technical\",\"books_technical\",\"books_technical\",\"books_technical\",\"books_technical\",\"books_technical\",\"books_technical\",\"books_technical\",\"books_technical\",\"books_technical\",\"books_technical\",\"books_technical\",\"books_technical\",\"books_technical\",\"books_technical\",\"books_technical\",\"books_technical\",\"cds_dvds_musicals\",\"cds_dvds_musicals\",\"cds_dvds_musicals\",\"cds_dvds_musicals\",\"christmas_supplies\",\"christmas_supplies\",\"christmas_supplies\",\"christmas_supplies\",\"christmas_supplies\",\"christmas_supplies\",\"christmas_supplies\",\"christmas_supplies\",\"christmas_supplies\",\"christmas_supplies\",\"christmas_supplies\",\"christmas_supplies\",\"christmas_supplies\",\"christmas_supplies\",\"christmas_supplies\",\"christmas_supplies\",\"christmas_supplies\",\"christmas_supplies\",\"christmas_supplies\",\"cine_photo\",\"cine_photo\",\"cine_photo\",\"cine_photo\",\"cine_photo\",\"cine_photo\",\"cine_photo\",\"cine_photo\",\"cine_photo\",\"cine_photo\",\"cine_photo\",\"cine_photo\",\"cine_photo\",\"cine_photo\",\"computers\",\"computers\",\"computers\",\"computers\",\"computers\",\"computers\",\"computers\",\"computers\",\"computers\",\"computers\",\"computers\",\"computers\",\"computers\",\"computers\",\"computers\",\"computers\",\"computers\",\"computers\",\"computers\",\"computers\",\"computers\",\"computers\",\"computers\",\"computers\",\"computers\",\"computers_accessories\",\"computers_accessories\",\"computers_accessories\",\"computers_accessories\",\"computers_accessories\",\"computers_accessories\",\"computers_accessories\",\"computers_accessories\",\"computers_accessories\",\"computers_accessories\",\"computers_accessories\",\"computers_accessories\",\"computers_accessories\",\"computers_accessories\",\"computers_accessories\",\"computers_accessories\",\"computers_accessories\",\"computers_accessories\",\"computers_accessories\",\"computers_accessories\",\"computers_accessories\",\"computers_accessories\",\"computers_accessories\",\"computers_accessories\",\"computers_accessories\",\"computers_accessories\",\"computers_accessories\",\"consoles_games\",\"consoles_games\",\"consoles_games\",\"consoles_games\",\"consoles_games\",\"consoles_games\",\"consoles_games\",\"consoles_games\",\"consoles_games\",\"consoles_games\",\"consoles_games\",\"consoles_games\",\"consoles_games\",\"consoles_games\",\"consoles_games\",\"consoles_games\",\"consoles_games\",\"consoles_games\",\"consoles_games\",\"consoles_games\",\"consoles_games\",\"consoles_games\",\"consoles_games\",\"consoles_games\",\"consoles_games\",\"consoles_games\",\"construction_tools_construction\",\"construction_tools_construction\",\"construction_tools_construction\",\"construction_tools_construction\",\"construction_tools_construction\",\"construction_tools_construction\",\"construction_tools_construction\",\"construction_tools_construction\",\"construction_tools_construction\",\"construction_tools_construction\",\"construction_tools_construction\",\"construction_tools_construction\",\"construction_tools_construction\",\"construction_tools_construction\",\"construction_tools_construction\",\"construction_tools_construction\",\"construction_tools_construction\",\"construction_tools_construction\",\"construction_tools_construction\",\"construction_tools_construction\",\"construction_tools_construction\",\"construction_tools_lights\",\"construction_tools_lights\",\"construction_tools_lights\",\"construction_tools_lights\",\"construction_tools_lights\",\"construction_tools_lights\",\"construction_tools_lights\",\"construction_tools_lights\",\"construction_tools_lights\",\"construction_tools_lights\",\"construction_tools_lights\",\"construction_tools_lights\",\"construction_tools_lights\",\"construction_tools_lights\",\"construction_tools_lights\",\"construction_tools_lights\",\"construction_tools_lights\",\"construction_tools_lights\",\"construction_tools_lights\",\"construction_tools_safety\",\"construction_tools_safety\",\"construction_tools_safety\",\"construction_tools_safety\",\"construction_tools_safety\",\"construction_tools_safety\",\"construction_tools_safety\",\"construction_tools_safety\",\"construction_tools_safety\",\"construction_tools_safety\",\"construction_tools_safety\",\"construction_tools_safety\",\"construction_tools_safety\",\"construction_tools_safety\",\"construction_tools_safety\",\"construction_tools_safety\",\"construction_tools_safety\",\"cool_stuff\",\"cool_stuff\",\"cool_stuff\",\"cool_stuff\",\"cool_stuff\",\"cool_stuff\",\"cool_stuff\",\"cool_stuff\",\"cool_stuff\",\"cool_stuff\",\"cool_stuff\",\"cool_stuff\",\"cool_stuff\",\"cool_stuff\",\"cool_stuff\",\"cool_stuff\",\"cool_stuff\",\"cool_stuff\",\"cool_stuff\",\"cool_stuff\",\"cool_stuff\",\"cool_stuff\",\"cool_stuff\",\"cool_stuff\",\"cool_stuff\",\"cool_stuff\",\"cool_stuff\",\"costruction_tools_garden\",\"costruction_tools_garden\",\"costruction_tools_garden\",\"costruction_tools_garden\",\"costruction_tools_garden\",\"costruction_tools_garden\",\"costruction_tools_garden\",\"costruction_tools_garden\",\"costruction_tools_garden\",\"costruction_tools_garden\",\"costruction_tools_garden\",\"costruction_tools_garden\",\"costruction_tools_garden\",\"costruction_tools_garden\",\"costruction_tools_garden\",\"costruction_tools_garden\",\"costruction_tools_garden\",\"costruction_tools_garden\",\"costruction_tools_garden\",\"costruction_tools_tools\",\"costruction_tools_tools\",\"costruction_tools_tools\",\"costruction_tools_tools\",\"costruction_tools_tools\",\"costruction_tools_tools\",\"costruction_tools_tools\",\"costruction_tools_tools\",\"costruction_tools_tools\",\"costruction_tools_tools\",\"costruction_tools_tools\",\"costruction_tools_tools\",\"costruction_tools_tools\",\"costruction_tools_tools\",\"costruction_tools_tools\",\"diapers_and_hygiene\",\"diapers_and_hygiene\",\"diapers_and_hygiene\",\"diapers_and_hygiene\",\"diapers_and_hygiene\",\"diapers_and_hygiene\",\"drinks\",\"drinks\",\"drinks\",\"drinks\",\"drinks\",\"drinks\",\"drinks\",\"drinks\",\"drinks\",\"drinks\",\"drinks\",\"drinks\",\"drinks\",\"drinks\",\"drinks\",\"drinks\",\"drinks\",\"dvds_blu_ray\",\"dvds_blu_ray\",\"dvds_blu_ray\",\"dvds_blu_ray\",\"dvds_blu_ray\",\"dvds_blu_ray\",\"dvds_blu_ray\",\"dvds_blu_ray\",\"dvds_blu_ray\",\"dvds_blu_ray\",\"dvds_blu_ray\",\"dvds_blu_ray\",\"dvds_blu_ray\",\"dvds_blu_ray\",\"electronics\",\"electronics\",\"electronics\",\"electronics\",\"electronics\",\"electronics\",\"electronics\",\"electronics\",\"electronics\",\"electronics\",\"electronics\",\"electronics\",\"electronics\",\"electronics\",\"electronics\",\"electronics\",\"electronics\",\"electronics\",\"electronics\",\"electronics\",\"electronics\",\"electronics\",\"electronics\",\"electronics\",\"electronics\",\"electronics\",\"electronics\",\"fashio_female_clothing\",\"fashio_female_clothing\",\"fashio_female_clothing\",\"fashio_female_clothing\",\"fashio_female_clothing\",\"fashio_female_clothing\",\"fashio_female_clothing\",\"fashio_female_clothing\",\"fashio_female_clothing\",\"fashio_female_clothing\",\"fashio_female_clothing\",\"fashion_bags_accessories\",\"fashion_bags_accessories\",\"fashion_bags_accessories\",\"fashion_bags_accessories\",\"fashion_bags_accessories\",\"fashion_bags_accessories\",\"fashion_bags_accessories\",\"fashion_bags_accessories\",\"fashion_bags_accessories\",\"fashion_bags_accessories\",\"fashion_bags_accessories\",\"fashion_bags_accessories\",\"fashion_bags_accessories\",\"fashion_bags_accessories\",\"fashion_bags_accessories\",\"fashion_bags_accessories\",\"fashion_bags_accessories\",\"fashion_bags_accessories\",\"fashion_bags_accessories\",\"fashion_bags_accessories\",\"fashion_bags_accessories\",\"fashion_bags_accessories\",\"fashion_bags_accessories\",\"fashion_bags_accessories\",\"fashion_bags_accessories\",\"fashion_childrens_clothes\",\"fashion_childrens_clothes\",\"fashion_childrens_clothes\",\"fashion_childrens_clothes\",\"fashion_male_clothing\",\"fashion_male_clothing\",\"fashion_male_clothing\",\"fashion_male_clothing\",\"fashion_male_clothing\",\"fashion_male_clothing\",\"fashion_male_clothing\",\"fashion_male_clothing\",\"fashion_male_clothing\",\"fashion_male_clothing\",\"fashion_male_clothing\",\"fashion_male_clothing\",\"fashion_male_clothing\",\"fashion_shoes\",\"fashion_shoes\",\"fashion_shoes\",\"fashion_shoes\",\"fashion_shoes\",\"fashion_shoes\",\"fashion_shoes\",\"fashion_shoes\",\"fashion_shoes\",\"fashion_shoes\",\"fashion_shoes\",\"fashion_shoes\",\"fashion_shoes\",\"fashion_shoes\",\"fashion_shoes\",\"fashion_shoes\",\"fashion_shoes\",\"fashion_shoes\",\"fashion_shoes\",\"fashion_shoes\",\"fashion_shoes\",\"fashion_shoes\",\"fashion_shoes\",\"fashion_sport\",\"fashion_sport\",\"fashion_sport\",\"fashion_sport\",\"fashion_sport\",\"fashion_sport\",\"fashion_sport\",\"fashion_sport\",\"fashion_sport\",\"fashion_sport\",\"fashion_underwear_beach\",\"fashion_underwear_beach\",\"fashion_underwear_beach\",\"fashion_underwear_beach\",\"fashion_underwear_beach\",\"fashion_underwear_beach\",\"fashion_underwear_beach\",\"fashion_underwear_beach\",\"fashion_underwear_beach\",\"fashion_underwear_beach\",\"fashion_underwear_beach\",\"fashion_underwear_beach\",\"fashion_underwear_beach\",\"fashion_underwear_beach\",\"fixed_telephony\",\"fixed_telephony\",\"fixed_telephony\",\"fixed_telephony\",\"fixed_telephony\",\"fixed_telephony\",\"fixed_telephony\",\"fixed_telephony\",\"fixed_telephony\",\"fixed_telephony\",\"fixed_telephony\",\"fixed_telephony\",\"fixed_telephony\",\"fixed_telephony\",\"fixed_telephony\",\"fixed_telephony\",\"fixed_telephony\",\"fixed_telephony\",\"fixed_telephony\",\"fixed_telephony\",\"fixed_telephony\",\"fixed_telephony\",\"flowers\",\"flowers\",\"flowers\",\"flowers\",\"flowers\",\"flowers\",\"flowers\",\"flowers\",\"food\",\"food\",\"food\",\"food\",\"food\",\"food\",\"food\",\"food\",\"food\",\"food\",\"food\",\"food\",\"food\",\"food\",\"food\",\"food\",\"food\",\"food\",\"food\",\"food\",\"food\",\"food_drink\",\"food_drink\",\"food_drink\",\"food_drink\",\"food_drink\",\"food_drink\",\"food_drink\",\"food_drink\",\"food_drink\",\"food_drink\",\"food_drink\",\"food_drink\",\"food_drink\",\"food_drink\",\"food_drink\",\"food_drink\",\"food_drink\",\"food_drink\",\"furniture_bedroom\",\"furniture_bedroom\",\"furniture_bedroom\",\"furniture_bedroom\",\"furniture_bedroom\",\"furniture_bedroom\",\"furniture_bedroom\",\"furniture_bedroom\",\"furniture_bedroom\",\"furniture_bedroom\",\"furniture_bedroom\",\"furniture_bedroom\",\"furniture_bedroom\",\"furniture_bedroom\",\"furniture_decor\",\"furniture_decor\",\"furniture_decor\",\"furniture_decor\",\"furniture_decor\",\"furniture_decor\",\"furniture_decor\",\"furniture_decor\",\"furniture_decor\",\"furniture_decor\",\"furniture_decor\",\"furniture_decor\",\"furniture_decor\",\"furniture_decor\",\"furniture_decor\",\"furniture_decor\",\"furniture_decor\",\"furniture_decor\",\"furniture_decor\",\"furniture_decor\",\"furniture_decor\",\"furniture_decor\",\"furniture_decor\",\"furniture_decor\",\"furniture_decor\",\"furniture_decor\",\"furniture_decor\",\"furniture_living_room\",\"furniture_living_room\",\"furniture_living_room\",\"furniture_living_room\",\"furniture_living_room\",\"furniture_living_room\",\"furniture_living_room\",\"furniture_living_room\",\"furniture_living_room\",\"furniture_living_room\",\"furniture_living_room\",\"furniture_living_room\",\"furniture_living_room\",\"furniture_living_room\",\"furniture_living_room\",\"furniture_living_room\",\"furniture_living_room\",\"furniture_living_room\",\"furniture_living_room\",\"furniture_living_room\",\"furniture_living_room\",\"furniture_living_room\",\"furniture_living_room\",\"furniture_mattress_and_upholstery\",\"furniture_mattress_and_upholstery\",\"furniture_mattress_and_upholstery\",\"furniture_mattress_and_upholstery\",\"furniture_mattress_and_upholstery\",\"furniture_mattress_and_upholstery\",\"furniture_mattress_and_upholstery\",\"garden_tools\",\"garden_tools\",\"garden_tools\",\"garden_tools\",\"garden_tools\",\"garden_tools\",\"garden_tools\",\"garden_tools\",\"garden_tools\",\"garden_tools\",\"garden_tools\",\"garden_tools\",\"garden_tools\",\"garden_tools\",\"garden_tools\",\"garden_tools\",\"garden_tools\",\"garden_tools\",\"garden_tools\",\"garden_tools\",\"garden_tools\",\"garden_tools\",\"garden_tools\",\"garden_tools\",\"garden_tools\",\"garden_tools\",\"garden_tools\",\"health_beauty\",\"health_beauty\",\"health_beauty\",\"health_beauty\",\"health_beauty\",\"health_beauty\",\"health_beauty\",\"health_beauty\",\"health_beauty\",\"health_beauty\",\"health_beauty\",\"health_beauty\",\"health_beauty\",\"health_beauty\",\"health_beauty\",\"health_beauty\",\"health_beauty\",\"health_beauty\",\"health_beauty\",\"health_beauty\",\"health_beauty\",\"health_beauty\",\"health_beauty\",\"health_beauty\",\"health_beauty\",\"health_beauty\",\"health_beauty\",\"home_appliances\",\"home_appliances\",\"home_appliances\",\"home_appliances\",\"home_appliances\",\"home_appliances\",\"home_appliances\",\"home_appliances\",\"home_appliances\",\"home_appliances\",\"home_appliances\",\"home_appliances\",\"home_appliances\",\"home_appliances\",\"home_appliances\",\"home_appliances\",\"home_appliances\",\"home_appliances\",\"home_appliances\",\"home_appliances\",\"home_appliances\",\"home_appliances\",\"home_appliances\",\"home_appliances\",\"home_appliances\",\"home_appliances_2\",\"home_appliances_2\",\"home_appliances_2\",\"home_appliances_2\",\"home_appliances_2\",\"home_appliances_2\",\"home_appliances_2\",\"home_appliances_2\",\"home_appliances_2\",\"home_appliances_2\",\"home_appliances_2\",\"home_appliances_2\",\"home_appliances_2\",\"home_appliances_2\",\"home_appliances_2\",\"home_appliances_2\",\"home_appliances_2\",\"home_appliances_2\",\"home_appliances_2\",\"home_appliances_2\",\"home_comfort_2\",\"home_comfort_2\",\"home_comfort_2\",\"home_comfort_2\",\"home_comfort_2\",\"home_comfort_2\",\"home_comfort_2\",\"home_comfort_2\",\"home_confort\",\"home_confort\",\"home_confort\",\"home_confort\",\"home_confort\",\"home_confort\",\"home_confort\",\"home_confort\",\"home_confort\",\"home_confort\",\"home_confort\",\"home_confort\",\"home_confort\",\"home_confort\",\"home_confort\",\"home_confort\",\"home_confort\",\"home_confort\",\"home_confort\",\"home_confort\",\"home_confort\",\"home_confort\",\"home_construction\",\"home_construction\",\"home_construction\",\"home_construction\",\"home_construction\",\"home_construction\",\"home_construction\",\"home_construction\",\"home_construction\",\"home_construction\",\"home_construction\",\"home_construction\",\"home_construction\",\"home_construction\",\"home_construction\",\"home_construction\",\"home_construction\",\"home_construction\",\"home_construction\",\"home_construction\",\"home_construction\",\"home_construction\",\"home_construction\",\"housewares\",\"housewares\",\"housewares\",\"housewares\",\"housewares\",\"housewares\",\"housewares\",\"housewares\",\"housewares\",\"housewares\",\"housewares\",\"housewares\",\"housewares\",\"housewares\",\"housewares\",\"housewares\",\"housewares\",\"housewares\",\"housewares\",\"housewares\",\"housewares\",\"housewares\",\"housewares\",\"housewares\",\"housewares\",\"housewares\",\"industry_commerce_and_business\",\"industry_commerce_and_business\",\"industry_commerce_and_business\",\"industry_commerce_and_business\",\"industry_commerce_and_business\",\"industry_commerce_and_business\",\"industry_commerce_and_business\",\"industry_commerce_and_business\",\"industry_commerce_and_business\",\"industry_commerce_and_business\",\"industry_commerce_and_business\",\"industry_commerce_and_business\",\"industry_commerce_and_business\",\"industry_commerce_and_business\",\"industry_commerce_and_business\",\"industry_commerce_and_business\",\"industry_commerce_and_business\",\"industry_commerce_and_business\",\"industry_commerce_and_business\",\"industry_commerce_and_business\",\"industry_commerce_and_business\",\"industry_commerce_and_business\",\"kitchen_dining_laundry_garden_furniture\",\"kitchen_dining_laundry_garden_furniture\",\"kitchen_dining_laundry_garden_furniture\",\"kitchen_dining_laundry_garden_furniture\",\"kitchen_dining_laundry_garden_furniture\",\"kitchen_dining_laundry_garden_furniture\",\"kitchen_dining_laundry_garden_furniture\",\"kitchen_dining_laundry_garden_furniture\",\"kitchen_dining_laundry_garden_furniture\",\"kitchen_dining_laundry_garden_furniture\",\"kitchen_dining_laundry_garden_furniture\",\"kitchen_dining_laundry_garden_furniture\",\"kitchen_dining_laundry_garden_furniture\",\"kitchen_dining_laundry_garden_furniture\",\"kitchen_dining_laundry_garden_furniture\",\"kitchen_dining_laundry_garden_furniture\",\"kitchen_dining_laundry_garden_furniture\",\"kitchen_dining_laundry_garden_furniture\",\"la_cuisine\",\"la_cuisine\",\"la_cuisine\",\"la_cuisine\",\"la_cuisine\",\"luggage_accessories\",\"luggage_accessories\",\"luggage_accessories\",\"luggage_accessories\",\"luggage_accessories\",\"luggage_accessories\",\"luggage_accessories\",\"luggage_accessories\",\"luggage_accessories\",\"luggage_accessories\",\"luggage_accessories\",\"luggage_accessories\",\"luggage_accessories\",\"luggage_accessories\",\"luggage_accessories\",\"luggage_accessories\",\"luggage_accessories\",\"luggage_accessories\",\"luggage_accessories\",\"luggage_accessories\",\"luggage_accessories\",\"luggage_accessories\",\"luggage_accessories\",\"luggage_accessories\",\"luggage_accessories\",\"market_place\",\"market_place\",\"market_place\",\"market_place\",\"market_place\",\"market_place\",\"market_place\",\"market_place\",\"market_place\",\"market_place\",\"market_place\",\"market_place\",\"market_place\",\"market_place\",\"market_place\",\"market_place\",\"market_place\",\"market_place\",\"market_place\",\"market_place\",\"market_place\",\"market_place\",\"market_place\",\"market_place\",\"market_place\",\"music\",\"music\",\"music\",\"music\",\"music\",\"music\",\"music\",\"music\",\"music\",\"musical_instruments\",\"musical_instruments\",\"musical_instruments\",\"musical_instruments\",\"musical_instruments\",\"musical_instruments\",\"musical_instruments\",\"musical_instruments\",\"musical_instruments\",\"musical_instruments\",\"musical_instruments\",\"musical_instruments\",\"musical_instruments\",\"musical_instruments\",\"musical_instruments\",\"musical_instruments\",\"musical_instruments\",\"musical_instruments\",\"musical_instruments\",\"musical_instruments\",\"musical_instruments\",\"musical_instruments\",\"musical_instruments\",\"musical_instruments\",\"musical_instruments\",\"musical_instruments\",\"office_furniture\",\"office_furniture\",\"office_furniture\",\"office_furniture\",\"office_furniture\",\"office_furniture\",\"office_furniture\",\"office_furniture\",\"office_furniture\",\"office_furniture\",\"office_furniture\",\"office_furniture\",\"office_furniture\",\"office_furniture\",\"office_furniture\",\"office_furniture\",\"office_furniture\",\"office_furniture\",\"office_furniture\",\"office_furniture\",\"office_furniture\",\"office_furniture\",\"office_furniture\",\"office_furniture\",\"office_furniture\",\"party_supplies\",\"party_supplies\",\"party_supplies\",\"party_supplies\",\"party_supplies\",\"party_supplies\",\"party_supplies\",\"party_supplies\",\"party_supplies\",\"party_supplies\",\"perfumery\",\"perfumery\",\"perfumery\",\"perfumery\",\"perfumery\",\"perfumery\",\"perfumery\",\"perfumery\",\"perfumery\",\"perfumery\",\"perfumery\",\"perfumery\",\"perfumery\",\"perfumery\",\"perfumery\",\"perfumery\",\"perfumery\",\"perfumery\",\"perfumery\",\"perfumery\",\"perfumery\",\"perfumery\",\"perfumery\",\"perfumery\",\"perfumery\",\"perfumery\",\"pet_shop\",\"pet_shop\",\"pet_shop\",\"pet_shop\",\"pet_shop\",\"pet_shop\",\"pet_shop\",\"pet_shop\",\"pet_shop\",\"pet_shop\",\"pet_shop\",\"pet_shop\",\"pet_shop\",\"pet_shop\",\"pet_shop\",\"pet_shop\",\"pet_shop\",\"pet_shop\",\"pet_shop\",\"pet_shop\",\"pet_shop\",\"pet_shop\",\"pet_shop\",\"pet_shop\",\"pet_shop\",\"security_and_services\",\"security_and_services\",\"signaling_and_security\",\"signaling_and_security\",\"signaling_and_security\",\"signaling_and_security\",\"signaling_and_security\",\"signaling_and_security\",\"signaling_and_security\",\"signaling_and_security\",\"signaling_and_security\",\"signaling_and_security\",\"signaling_and_security\",\"signaling_and_security\",\"signaling_and_security\",\"signaling_and_security\",\"signaling_and_security\",\"signaling_and_security\",\"signaling_and_security\",\"small_appliances\",\"small_appliances\",\"small_appliances\",\"small_appliances\",\"small_appliances\",\"small_appliances\",\"small_appliances\",\"small_appliances\",\"small_appliances\",\"small_appliances\",\"small_appliances\",\"small_appliances\",\"small_appliances\",\"small_appliances\",\"small_appliances\",\"small_appliances\",\"small_appliances\",\"small_appliances\",\"small_appliances\",\"small_appliances\",\"small_appliances\",\"small_appliances_home_oven_and_coffee\",\"small_appliances_home_oven_and_coffee\",\"small_appliances_home_oven_and_coffee\",\"small_appliances_home_oven_and_coffee\",\"small_appliances_home_oven_and_coffee\",\"small_appliances_home_oven_and_coffee\",\"small_appliances_home_oven_and_coffee\",\"small_appliances_home_oven_and_coffee\",\"small_appliances_home_oven_and_coffee\",\"small_appliances_home_oven_and_coffee\",\"small_appliances_home_oven_and_coffee\",\"small_appliances_home_oven_and_coffee\",\"small_appliances_home_oven_and_coffee\",\"sports_leisure\",\"sports_leisure\",\"sports_leisure\",\"sports_leisure\",\"sports_leisure\",\"sports_leisure\",\"sports_leisure\",\"sports_leisure\",\"sports_leisure\",\"sports_leisure\",\"sports_leisure\",\"sports_leisure\",\"sports_leisure\",\"sports_leisure\",\"sports_leisure\",\"sports_leisure\",\"sports_leisure\",\"sports_leisure\",\"sports_leisure\",\"sports_leisure\",\"sports_leisure\",\"sports_leisure\",\"sports_leisure\",\"sports_leisure\",\"sports_leisure\",\"sports_leisure\",\"sports_leisure\",\"stationery\",\"stationery\",\"stationery\",\"stationery\",\"stationery\",\"stationery\",\"stationery\",\"stationery\",\"stationery\",\"stationery\",\"stationery\",\"stationery\",\"stationery\",\"stationery\",\"stationery\",\"stationery\",\"stationery\",\"stationery\",\"stationery\",\"stationery\",\"stationery\",\"stationery\",\"stationery\",\"stationery\",\"stationery\",\"stationery\",\"stationery\",\"tablets_printing_image\",\"tablets_printing_image\",\"tablets_printing_image\",\"tablets_printing_image\",\"tablets_printing_image\",\"tablets_printing_image\",\"tablets_printing_image\",\"tablets_printing_image\",\"tablets_printing_image\",\"tablets_printing_image\",\"tablets_printing_image\",\"tablets_printing_image\",\"tablets_printing_image\",\"tablets_printing_image\",\"tablets_printing_image\",\"tablets_printing_image\",\"telephony\",\"telephony\",\"telephony\",\"telephony\",\"telephony\",\"telephony\",\"telephony\",\"telephony\",\"telephony\",\"telephony\",\"telephony\",\"telephony\",\"telephony\",\"telephony\",\"telephony\",\"telephony\",\"telephony\",\"telephony\",\"telephony\",\"telephony\",\"telephony\",\"telephony\",\"telephony\",\"telephony\",\"telephony\",\"telephony\",\"telephony\",\"toys\",\"toys\",\"toys\",\"toys\",\"toys\",\"toys\",\"toys\",\"toys\",\"toys\",\"toys\",\"toys\",\"toys\",\"toys\",\"toys\",\"toys\",\"toys\",\"toys\",\"toys\",\"toys\",\"toys\",\"toys\",\"toys\",\"toys\",\"toys\",\"toys\",\"toys\",\"watches_gifts\",\"watches_gifts\",\"watches_gifts\",\"watches_gifts\",\"watches_gifts\",\"watches_gifts\",\"watches_gifts\",\"watches_gifts\",\"watches_gifts\",\"watches_gifts\",\"watches_gifts\",\"watches_gifts\",\"watches_gifts\",\"watches_gifts\",\"watches_gifts\",\"watches_gifts\",\"watches_gifts\",\"watches_gifts\",\"watches_gifts\",\"watches_gifts\",\"watches_gifts\",\"watches_gifts\",\"watches_gifts\",\"watches_gifts\",\"watches_gifts\",\"watches_gifts\",\"watches_gifts\"],\"y\":[\"AL\",\"AP\",\"BA\",\"CE\",\"ES\",\"GO\",\"MG\",\"MS\",\"MT\",\"PA\",\"PB\",\"PE\",\"PI\",\"PR\",\"RJ\",\"RO\",\"RS\",\"SC\",\"SP\",\"AL\",\"AM\",\"BA\",\"CE\",\"DF\",\"ES\",\"GO\",\"MA\",\"MG\",\"MT\",\"PB\",\"PE\",\"PI\",\"PR\",\"RJ\",\"RS\",\"SC\",\"SP\",\"AM\",\"AP\",\"BA\",\"DF\",\"ES\",\"GO\",\"MG\",\"MS\",\"MT\",\"PA\",\"PB\",\"PE\",\"PI\",\"PR\",\"RJ\",\"RN\",\"RO\",\"RS\",\"SC\",\"SP\",\"DF\",\"MG\",\"SC\",\"SP\",\"AL\",\"AM\",\"BA\",\"CE\",\"DF\",\"ES\",\"GO\",\"MA\",\"MG\",\"MS\",\"MT\",\"PA\",\"PB\",\"PE\",\"PI\",\"PR\",\"RJ\",\"RN\",\"RS\",\"SC\",\"SP\",\"TO\",\"AC\",\"AL\",\"AM\",\"AP\",\"BA\",\"CE\",\"DF\",\"ES\",\"GO\",\"MA\",\"MG\",\"MS\",\"MT\",\"PA\",\"PB\",\"PE\",\"PI\",\"PR\",\"RJ\",\"RN\",\"RO\",\"RR\",\"RS\",\"SC\",\"SE\",\"SP\",\"TO\",\"AC\",\"AL\",\"AM\",\"BA\",\"CE\",\"DF\",\"ES\",\"GO\",\"MA\",\"MG\",\"MS\",\"MT\",\"PA\",\"PB\",\"PE\",\"PI\",\"PR\",\"RJ\",\"RN\",\"RO\",\"RR\",\"RS\",\"SC\",\"SE\",\"SP\",\"TO\",\"AC\",\"AL\",\"AM\",\"AP\",\"BA\",\"CE\",\"DF\",\"ES\",\"GO\",\"MA\",\"MG\",\"MS\",\"MT\",\"PA\",\"PB\",\"PE\",\"PI\",\"PR\",\"RJ\",\"RN\",\"RO\",\"RR\",\"RS\",\"SC\",\"SE\",\"SP\",\"TO\",\"AC\",\"AL\",\"AM\",\"BA\",\"CE\",\"DF\",\"ES\",\"GO\",\"MA\",\"MG\",\"MS\",\"MT\",\"PA\",\"PB\",\"PE\",\"PI\",\"PR\",\"RJ\",\"RN\",\"RO\",\"RS\",\"SC\",\"SE\",\"SP\",\"TO\",\"BA\",\"MA\",\"MG\",\"PA\",\"PR\",\"RJ\",\"RS\",\"SC\",\"SE\",\"SP\",\"BA\",\"CE\",\"DF\",\"ES\",\"GO\",\"MA\",\"MG\",\"MS\",\"MT\",\"PA\",\"PE\",\"PI\",\"PR\",\"RJ\",\"RN\",\"RS\",\"SC\",\"SP\",\"TO\",\"MA\",\"RJ\",\"RS\",\"SP\",\"AC\",\"BA\",\"CE\",\"DF\",\"ES\",\"GO\",\"MA\",\"MG\",\"MS\",\"MT\",\"PA\",\"PE\",\"PR\",\"RJ\",\"RN\",\"RO\",\"RS\",\"SC\",\"SP\",\"BA\",\"DF\",\"ES\",\"GO\",\"MA\",\"MG\",\"MT\",\"PA\",\"PE\",\"PR\",\"RJ\",\"RS\",\"SC\",\"SP\",\"AC\",\"AL\",\"AM\",\"AP\",\"BA\",\"CE\",\"DF\",\"ES\",\"GO\",\"MA\",\"MG\",\"MS\",\"MT\",\"PA\",\"PB\",\"PE\",\"PI\",\"PR\",\"RJ\",\"RO\",\"RS\",\"SC\",\"SE\",\"SP\",\"TO\",\"AC\",\"AL\",\"AM\",\"AP\",\"BA\",\"CE\",\"DF\",\"ES\",\"GO\",\"MA\",\"MG\",\"MS\",\"MT\",\"PA\",\"PB\",\"PE\",\"PI\",\"PR\",\"RJ\",\"RN\",\"RO\",\"RR\",\"RS\",\"SC\",\"SE\",\"SP\",\"TO\",\"AC\",\"AL\",\"AM\",\"AP\",\"BA\",\"CE\",\"DF\",\"ES\",\"GO\",\"MA\",\"MG\",\"MS\",\"MT\",\"PA\",\"PB\",\"PE\",\"PI\",\"PR\",\"RJ\",\"RN\",\"RO\",\"RS\",\"SC\",\"SE\",\"SP\",\"TO\",\"AL\",\"BA\",\"CE\",\"DF\",\"ES\",\"GO\",\"MA\",\"MG\",\"MS\",\"MT\",\"PA\",\"PB\",\"PE\",\"PR\",\"RJ\",\"RN\",\"RO\",\"RS\",\"SC\",\"SE\",\"SP\",\"BA\",\"CE\",\"DF\",\"ES\",\"GO\",\"MA\",\"MG\",\"MS\",\"MT\",\"PA\",\"PE\",\"PI\",\"PR\",\"RJ\",\"RS\",\"SC\",\"SE\",\"SP\",\"TO\",\"BA\",\"CE\",\"DF\",\"GO\",\"MG\",\"MS\",\"MT\",\"PB\",\"PE\",\"PR\",\"RJ\",\"RN\",\"RO\",\"RS\",\"SC\",\"SE\",\"SP\",\"AC\",\"AL\",\"AM\",\"AP\",\"BA\",\"CE\",\"DF\",\"ES\",\"GO\",\"MA\",\"MG\",\"MS\",\"MT\",\"PA\",\"PB\",\"PE\",\"PI\",\"PR\",\"RJ\",\"RN\",\"RO\",\"RR\",\"RS\",\"SC\",\"SE\",\"SP\",\"TO\",\"AM\",\"BA\",\"CE\",\"DF\",\"ES\",\"GO\",\"MG\",\"MS\",\"PA\",\"PB\",\"PE\",\"PI\",\"PR\",\"RJ\",\"RN\",\"RO\",\"RS\",\"SC\",\"SP\",\"BA\",\"CE\",\"ES\",\"GO\",\"MG\",\"MS\",\"MT\",\"PA\",\"PB\",\"PE\",\"PR\",\"RJ\",\"RS\",\"SC\",\"SP\",\"CE\",\"MG\",\"PB\",\"PR\",\"RJ\",\"SP\",\"AL\",\"AM\",\"BA\",\"CE\",\"DF\",\"ES\",\"GO\",\"MG\",\"MS\",\"MT\",\"PA\",\"PI\",\"PR\",\"RJ\",\"RS\",\"SC\",\"SP\",\"AL\",\"DF\",\"GO\",\"MG\",\"MS\",\"PE\",\"PI\",\"PR\",\"RJ\",\"RN\",\"RO\",\"RS\",\"SC\",\"SP\",\"AC\",\"AL\",\"AM\",\"AP\",\"BA\",\"CE\",\"DF\",\"ES\",\"GO\",\"MA\",\"MG\",\"MS\",\"MT\",\"PA\",\"PB\",\"PE\",\"PI\",\"PR\",\"RJ\",\"RN\",\"RO\",\"RR\",\"RS\",\"SC\",\"SE\",\"SP\",\"TO\",\"BA\",\"DF\",\"ES\",\"GO\",\"MG\",\"MT\",\"PB\",\"PR\",\"RJ\",\"SC\",\"SP\",\"AC\",\"AL\",\"AM\",\"BA\",\"CE\",\"DF\",\"ES\",\"GO\",\"MA\",\"MG\",\"MS\",\"MT\",\"PA\",\"PB\",\"PE\",\"PI\",\"PR\",\"RJ\",\"RN\",\"RO\",\"RS\",\"SC\",\"SE\",\"SP\",\"TO\",\"BA\",\"RJ\",\"SC\",\"SP\",\"BA\",\"CE\",\"ES\",\"GO\",\"MA\",\"MG\",\"MT\",\"PA\",\"PR\",\"RJ\",\"RS\",\"SC\",\"SP\",\"AC\",\"AL\",\"BA\",\"CE\",\"DF\",\"ES\",\"GO\",\"MA\",\"MG\",\"MS\",\"MT\",\"PA\",\"PB\",\"PE\",\"PI\",\"PR\",\"RJ\",\"RN\",\"RO\",\"RS\",\"SC\",\"SP\",\"TO\",\"BA\",\"DF\",\"MA\",\"MG\",\"PA\",\"PR\",\"RJ\",\"RS\",\"SC\",\"SP\",\"BA\",\"DF\",\"ES\",\"GO\",\"MG\",\"MS\",\"PA\",\"PE\",\"PI\",\"PR\",\"RJ\",\"RS\",\"SC\",\"SP\",\"AL\",\"AM\",\"AP\",\"BA\",\"CE\",\"DF\",\"ES\",\"GO\",\"MA\",\"MG\",\"MS\",\"PA\",\"PB\",\"PE\",\"PI\",\"PR\",\"RJ\",\"RS\",\"SC\",\"SE\",\"SP\",\"TO\",\"ES\",\"GO\",\"MG\",\"MS\",\"PE\",\"RJ\",\"RS\",\"SP\",\"AL\",\"AM\",\"BA\",\"CE\",\"DF\",\"ES\",\"GO\",\"MG\",\"MS\",\"MT\",\"PB\",\"PE\",\"PI\",\"PR\",\"RJ\",\"RN\",\"RO\",\"RS\",\"SC\",\"SE\",\"SP\",\"AL\",\"BA\",\"CE\",\"DF\",\"ES\",\"MA\",\"MG\",\"MS\",\"PA\",\"PE\",\"PI\",\"PR\",\"RJ\",\"RN\",\"RS\",\"SC\",\"SE\",\"SP\",\"BA\",\"DF\",\"ES\",\"GO\",\"MG\",\"MS\",\"MT\",\"PR\",\"RJ\",\"RN\",\"RS\",\"SC\",\"SE\",\"SP\",\"AC\",\"AL\",\"AM\",\"AP\",\"BA\",\"CE\",\"DF\",\"ES\",\"GO\",\"MA\",\"MG\",\"MS\",\"MT\",\"PA\",\"PB\",\"PE\",\"PI\",\"PR\",\"RJ\",\"RN\",\"RO\",\"RR\",\"RS\",\"SC\",\"SE\",\"SP\",\"TO\",\"AC\",\"AL\",\"BA\",\"CE\",\"DF\",\"ES\",\"GO\",\"MA\",\"MG\",\"MS\",\"MT\",\"PA\",\"PB\",\"PE\",\"PI\",\"PR\",\"RJ\",\"RO\",\"RS\",\"SC\",\"SE\",\"SP\",\"TO\",\"DF\",\"GO\",\"MG\",\"RJ\",\"RN\",\"SC\",\"SP\",\"AC\",\"AL\",\"AM\",\"AP\",\"BA\",\"CE\",\"DF\",\"ES\",\"GO\",\"MA\",\"MG\",\"MS\",\"MT\",\"PA\",\"PB\",\"PE\",\"PI\",\"PR\",\"RJ\",\"RN\",\"RO\",\"RR\",\"RS\",\"SC\",\"SE\",\"SP\",\"TO\",\"AC\",\"AL\",\"AM\",\"AP\",\"BA\",\"CE\",\"DF\",\"ES\",\"GO\",\"MA\",\"MG\",\"MS\",\"MT\",\"PA\",\"PB\",\"PE\",\"PI\",\"PR\",\"RJ\",\"RN\",\"RO\",\"RR\",\"RS\",\"SC\",\"SE\",\"SP\",\"TO\",\"AL\",\"AM\",\"BA\",\"CE\",\"DF\",\"ES\",\"GO\",\"MA\",\"MG\",\"MS\",\"MT\",\"PA\",\"PB\",\"PE\",\"PI\",\"PR\",\"RJ\",\"RN\",\"RO\",\"RR\",\"RS\",\"SC\",\"SE\",\"SP\",\"TO\",\"AL\",\"AM\",\"BA\",\"CE\",\"DF\",\"ES\",\"GO\",\"MG\",\"MS\",\"MT\",\"PE\",\"PI\",\"PR\",\"RJ\",\"RN\",\"RS\",\"SC\",\"SE\",\"SP\",\"TO\",\"BA\",\"ES\",\"GO\",\"MG\",\"PR\",\"RJ\",\"RS\",\"SP\",\"AL\",\"BA\",\"CE\",\"DF\",\"ES\",\"GO\",\"MA\",\"MG\",\"MS\",\"MT\",\"PB\",\"PE\",\"PI\",\"PR\",\"RJ\",\"RN\",\"RO\",\"RS\",\"SC\",\"SE\",\"SP\",\"TO\",\"AL\",\"AM\",\"BA\",\"CE\",\"DF\",\"ES\",\"GO\",\"MA\",\"MG\",\"MS\",\"MT\",\"PA\",\"PB\",\"PE\",\"PI\",\"PR\",\"RJ\",\"RN\",\"RS\",\"SC\",\"SE\",\"SP\",\"TO\",\"AC\",\"AL\",\"AM\",\"AP\",\"BA\",\"CE\",\"DF\",\"ES\",\"GO\",\"MA\",\"MG\",\"MS\",\"MT\",\"PA\",\"PB\",\"PE\",\"PI\",\"PR\",\"RJ\",\"RN\",\"RO\",\"RS\",\"SC\",\"SE\",\"SP\",\"TO\",\"AL\",\"BA\",\"CE\",\"DF\",\"ES\",\"GO\",\"MA\",\"MG\",\"MS\",\"MT\",\"PB\",\"PE\",\"PI\",\"PR\",\"RJ\",\"RN\",\"RO\",\"RS\",\"SC\",\"SE\",\"SP\",\"TO\",\"AL\",\"BA\",\"CE\",\"DF\",\"ES\",\"GO\",\"MG\",\"MT\",\"PA\",\"PB\",\"PE\",\"PR\",\"RJ\",\"RN\",\"RS\",\"SC\",\"SP\",\"TO\",\"GO\",\"MG\",\"RS\",\"SC\",\"SP\",\"AC\",\"AL\",\"AM\",\"BA\",\"CE\",\"DF\",\"ES\",\"GO\",\"MA\",\"MG\",\"MS\",\"MT\",\"PA\",\"PB\",\"PE\",\"PI\",\"PR\",\"RJ\",\"RN\",\"RO\",\"RS\",\"SC\",\"SE\",\"SP\",\"TO\",\"AC\",\"AL\",\"AM\",\"BA\",\"CE\",\"DF\",\"ES\",\"GO\",\"MA\",\"MG\",\"MS\",\"MT\",\"PA\",\"PB\",\"PE\",\"PI\",\"PR\",\"RJ\",\"RN\",\"RO\",\"RS\",\"SC\",\"SE\",\"SP\",\"TO\",\"AM\",\"CE\",\"DF\",\"GO\",\"MG\",\"PR\",\"RJ\",\"RS\",\"SP\",\"AC\",\"AL\",\"AM\",\"AP\",\"BA\",\"CE\",\"DF\",\"ES\",\"GO\",\"MA\",\"MG\",\"MS\",\"MT\",\"PA\",\"PB\",\"PE\",\"PI\",\"PR\",\"RJ\",\"RN\",\"RO\",\"RS\",\"SC\",\"SE\",\"SP\",\"TO\",\"AL\",\"AM\",\"BA\",\"CE\",\"DF\",\"ES\",\"GO\",\"MA\",\"MG\",\"MS\",\"MT\",\"PA\",\"PB\",\"PE\",\"PI\",\"PR\",\"RJ\",\"RN\",\"RO\",\"RR\",\"RS\",\"SC\",\"SE\",\"SP\",\"TO\",\"DF\",\"ES\",\"GO\",\"MG\",\"PI\",\"PR\",\"RJ\",\"RS\",\"SC\",\"SP\",\"AC\",\"AL\",\"AM\",\"BA\",\"CE\",\"DF\",\"ES\",\"GO\",\"MA\",\"MG\",\"MS\",\"MT\",\"PA\",\"PB\",\"PE\",\"PI\",\"PR\",\"RJ\",\"RN\",\"RO\",\"RR\",\"RS\",\"SC\",\"SE\",\"SP\",\"TO\",\"AL\",\"AM\",\"AP\",\"BA\",\"CE\",\"DF\",\"ES\",\"GO\",\"MA\",\"MG\",\"MS\",\"MT\",\"PA\",\"PB\",\"PE\",\"PI\",\"PR\",\"RJ\",\"RN\",\"RO\",\"RS\",\"SC\",\"SE\",\"SP\",\"TO\",\"DF\",\"RO\",\"BA\",\"DF\",\"ES\",\"GO\",\"MG\",\"MS\",\"MT\",\"PA\",\"PB\",\"PE\",\"PR\",\"RJ\",\"RN\",\"RS\",\"SC\",\"SE\",\"SP\",\"AC\",\"BA\",\"CE\",\"DF\",\"ES\",\"GO\",\"MA\",\"MG\",\"MS\",\"MT\",\"PA\",\"PB\",\"PE\",\"PR\",\"RJ\",\"RN\",\"RO\",\"RS\",\"SC\",\"SE\",\"SP\",\"BA\",\"DF\",\"MG\",\"MS\",\"MT\",\"PE\",\"PR\",\"RJ\",\"RO\",\"RS\",\"SC\",\"SP\",\"TO\",\"AC\",\"AL\",\"AM\",\"AP\",\"BA\",\"CE\",\"DF\",\"ES\",\"GO\",\"MA\",\"MG\",\"MS\",\"MT\",\"PA\",\"PB\",\"PE\",\"PI\",\"PR\",\"RJ\",\"RN\",\"RO\",\"RR\",\"RS\",\"SC\",\"SE\",\"SP\",\"TO\",\"AC\",\"AL\",\"AM\",\"AP\",\"BA\",\"CE\",\"DF\",\"ES\",\"GO\",\"MA\",\"MG\",\"MS\",\"MT\",\"PA\",\"PB\",\"PE\",\"PI\",\"PR\",\"RJ\",\"RN\",\"RO\",\"RR\",\"RS\",\"SC\",\"SE\",\"SP\",\"TO\",\"AM\",\"BA\",\"CE\",\"ES\",\"GO\",\"MA\",\"MG\",\"MS\",\"MT\",\"PA\",\"PE\",\"PI\",\"PR\",\"RJ\",\"RS\",\"SP\",\"AC\",\"AL\",\"AM\",\"AP\",\"BA\",\"CE\",\"DF\",\"ES\",\"GO\",\"MA\",\"MG\",\"MS\",\"MT\",\"PA\",\"PB\",\"PE\",\"PI\",\"PR\",\"RJ\",\"RN\",\"RO\",\"RR\",\"RS\",\"SC\",\"SE\",\"SP\",\"TO\",\"AC\",\"AL\",\"AM\",\"AP\",\"BA\",\"CE\",\"DF\",\"ES\",\"GO\",\"MA\",\"MG\",\"MS\",\"MT\",\"PA\",\"PB\",\"PE\",\"PI\",\"PR\",\"RJ\",\"RN\",\"RO\",\"RS\",\"SC\",\"SE\",\"SP\",\"TO\",\"AC\",\"AL\",\"AM\",\"AP\",\"BA\",\"CE\",\"DF\",\"ES\",\"GO\",\"MA\",\"MG\",\"MS\",\"MT\",\"PA\",\"PB\",\"PE\",\"PI\",\"PR\",\"RJ\",\"RN\",\"RO\",\"RR\",\"RS\",\"SC\",\"SE\",\"SP\",\"TO\"],\"z\":[1518.55,657.61,4489.32,2448.7999999999997,487.17,1565.2,44016.72,594.17,636.45,1287.1599999999999,81.21,6088.700000000001,429.02,5285.16,9770.67,898.4,3355.1,1151.71,30871.12,643.89,114.11,979.95,537.25,534.61,1026.46,1374.38,222.71,6258.3,1124.7,86.75,224.9,620.99,4492.2,23252.5,2373.76,2707.68,42274.58,90.68,227.84,1111.25,941.4,76.79,383.56,1699.96,151.39,97.43,250.32,154.18,144.22,616.72,915.42,3725.1,137.1,252.77,758.27,559.09,16204.96,151.7,670.76,314.32,1189.39,675.28,114.53,1695.59,1080.71,2322.44,1531.46,2390.14,858.97,6750.72,206.99,758.5699999999999,608.67,103.55,542.44,347.14,3490.57,11637.86,224.12,2512.81,1894.55,20220.97,212.92,661.91,5819.53,1853.25,1406.68,36987.64,19022.22,21427.82,14890.98,57732.00000000001,7591.45,99769.84,8560.64,18449.07,11781.41,5463.19,15131.99,20026.82,45721.770000000004,82395.77,5191.7,1964.15,257.21,33565.45,43461.33,3195.16,268333.25,2948.61,871.97,1071.93,796.97,18624.9,5869.9800000000005,11005.98,10264.210000000001,11203.89,6331.43,64107.38,6613.02,8079.76,12311.26,2388.4500000000003,6370.89,5527.57,27962.33,53202.38,2960.62,2596.45,994.77,35583.73,35188.37,1880.43,191316.53,2428.02,1377.07,3100.93,1087.77,1899.93,47250.39,13681.64,27563.06,34481.72,40788.93,6393.94,216969.38,8681.79,13750.439999999999,5309.29,5712.11,17095.5,10397.57,76297.41,242431.81,6348.14,2916.18,1532.3600000000001,93266.17,52961.71,2875.38,756727.97,1658.5,757.51,325.74,114.67,1198.4,1770.74,1578.07,3533.8900000000003,1791.51,395.63,6478.74,263.08,88.18,597.79,702.64,727.8399999999999,159.39,4075.69,4990.75,2316.4300000000003,67.66,3109.92,2954.62,156.35,24559.8,48.0,93.98,804.96,519.24,337.44,155.7,755.1800000000001,171.79000000000002,40.18,84.66,3480.0,909.55,315.02,1140.75,1381.46,430.43,238.07999999999998,2707.41,234.02999999999997,416.49,213.13,409.55999999999995,149.49,2042.7,2152.29,100.77,1139.52,1388.93,8809.93,257.85,117.58,122.22,549.99,409.64,130.85,1186.65,238.9,809.3199999999999,161.38,473.45000000000005,155.27,1688.6000000000001,136.98,109.5,5589.72,530.2,289.86,1090.24,53.98,214.01999999999998,841.31,1900.56,3292.61,383.99,118.23,110.66,127.41,72.65,537.34,723.0,560.62,68.84,336.12,626.8,1342.88,1213.58,3020.72,1251.7,2106.37,1384.74,1482.42,37888.5,7439.58,13010.5,8353.72,9649.56,6988.74,23221.22,690.68,2995.04,3604.43,7369.29,9960.539999999999,2555.57,6957.82,24420.13,2605.12,9048.24,6325.91,1220.0,82904.25,1237.81,1765.24,14280.47,5866.85,4128.95,58308.56,19148.15,38634.68,20665.23,21287.45,32283.55,170939.37,13002.73,14900.72,17934.22,15726.869999999999,19003.3,6171.03,70095.32,189763.18,4709.25,4291.42,612.97,108472.88,63469.16,6377.15,622212.26,5201.51,321.92,2977.98,511.94000000000005,137.27,4865.0599999999995,4216.42,2551.33,2545.61,2898.68,1531.89,24000.23,596.31,1512.67,2539.84,1095.58,6201.0599999999995,2519.68,8861.2,20930.72,1865.18,54.05,9738.2,5230.93,2069.3999999999996,73413.55,617.49,1359.4,9934.44,2624.93,1619.36,4612.63,2153.75,71.14,30314.170000000002,5075.97,3750.54,556.02,280.84,6255.54,12035.24,33891.74,2459.74,1565.56,9173.39,8229.19,847.38,101062.51,964.56,1768.4,966.23,2726.3599999999997,1177.11,331.2,10061.19,2458.57,816.21,48.11,421.33000000000004,394.36,2515.02,4643.97,5518.32,3283.7000000000003,310.11,30747.86,1190.59,2495.47,1610.01,588.41,2418.41,7601.77,2272.2,1244.24,2371.34,983.12,4900.29,3293.71,190.59,402.34,598.13,3399.37,145.37,26020.44,130.22,3021.78,759.74,363.19,25790.07,14948.92,14345.53,13286.7,25392.02,8457.33,86486.54,7100.21,8863.039999999999,9121.7,7796.34,18645.32,4182.82,45724.82,97466.19,4668.35,3235.84,189.95,52943.24,35662.39,6702.78,245073.71,3981.2,182.35000000000002,1858.29,2752.8,542.7,948.59,636.29,5067.15,236.53000000000003,324.59,624.59,1228.77,535.25,1177.15,10030.02,237.21999999999997,202.56,1109.24,503.20000000000005,13309.41,814.8299999999999,113.7,599.03,5042.39,2523.71,26.12,222.16,52.63,355.01,226.56,510.15999999999997,1239.97,1322.49,613.0699999999999,7407.24,80.69,58.23,98.05,135.93,230.60000000000002,3522.67,49.64,83.16,501.76,379.94,382.57,300.38,1044.42,4478.22,264.45,41.55,125.78,112.95,4504.41,34281.01,2203.69,1141.6200000000001,19014.18,47.75,164.16,28.01,338.7,498.54,77.99,75.85,474.35,737.3,42.28,46.05,337.96,87.1,3460.95,677.59,820.16,145.25,1015.96,9613.92,6726.2,3488.64,5439.76,1520.87,780.04,37891.9,2538.09,2336.36,3944.24,3069.71,3461.02,2318.75,15608.84,39986.49,786.16,467.75,80.09,12430.51,11507.42,4468.22,74278.15,467.44,171.69,148.06,131.51,235.74,585.1,57.17,304.32,119.2,69.45,35.0,3045.4300000000003,121.2,360.14,725.69,9535.15,3582.2400000000002,4621.5,4898.7,4018.23,3263.12,29438.52,1277.08,816.8100000000001,3326.5299999999997,2231.02,3268.42,313.65999999999997,11246.71,23370.38,1948.8300000000002,1203.05,10634.0,8423.02,678.4,83572.48,795.7900000000001,107.06,124.52,106.43,380.97,1540.17,55.62,540.06,390.99,95.64,3063.31,183.85,345.9,1626.55,1043.34,1218.42,120.59,6499.02,393.74,437.06,1007.11,560.06,1084.59,886.17,1300.73,53.28,4348.43,629.3,550.98,660.3299999999999,439.48,1458.69,238.65,1474.81,4029.66,257.65,227.75,917.2,1490.83,9079.93,229.5,248.45,39.09,314.37,293.7,1048.48,65.0,159.42,41.04,225.52999999999997,1170.75,722.24,177.22,125.52,541.6700000000001,1879.45,492.37,246.32999999999998,253.87,186.86,353.86,2273.84,447.37,548.1999999999999,4168.0199999999995,848.8,41.14,1678.58,9679.63,579.3,120.60000000000001,30248.54,640.25,124.43,1550.69,49.04,614.49,2239.98,152.75,402.79999999999995,371.03,115214.61,2768.22,2439.21,223.16,20906.57,1444.57,110.28999999999999,41.1,247.67000000000002,46.3,290.24,567.98,124.96,784.47,215.58,187.91,1412.48,453.5,1116.6599999999999,1147.6,667.16,3019.12,460.45000000000005,1331.65,195.51,757.4599999999999,173.49,2557.03,4971.23,156.42000000000002,126.45,1249.18,1322.09,37.34,23782.14,68.54,998.3199999999999,429.45,377.68,583.5,214.54000000000002,3071.09,33.7,85.85,775.75,237.47,1272.85,5624.96,465.08,604.46,131.10999999999999,135.5,11499.58,1027.16,565.58,120.33,218.62,2419.9700000000003,224.71,1255.32,124.34,5223.4,488.08000000000004,230.75,959.9200000000001,413.54999999999995,16785.5,5261.2300000000005,7654.74,326.63,629.53,48144.41,15777.4,27352.41,25462.98,24321.95,7206.11,154860.72,10957.86,13284.93,19757.66,9001.06,18956.81,3564.17,114060.51000000001,177682.75,4365.83,3735.0899999999997,1172.05,93386.58,60206.09,8544.12,533514.77,4783.65,132.82,901.42,4032.28,685.96,1674.0900000000001,2406.5299999999997,1766.95,6464.53,11439.49,619.95,634.7,218.21,700.51,421.36,288.34000000000003,4189.46,34665.14,212.73,5523.2699999999995,3090.83,2209.31,51629.39,391.84,258.33,147.41,723.4,1368.35,288.29,250.55,2868.42,707.1999999999999,2158.3,2267.8,300.2,40124.98,12226.22,15058.53,17741.73,42451.17,3923.64,102369.79,6857.46,16336.13,10797.38,6504.73,11135.6,4222.64,35128.55,113245.71,4241.67,1055.45,288.35,57671.07,38006.43,7908.35,254857.78,2873.84,2067.62,14741.33,4566.7,1719.02,65382.14,45615.12,38294.58,26743.14,36722.57,17625.19,196330.05,14065.61,21028.01,31145.63,19472.68,55903.7,14944.45,70919.01,178266.9,16112.05,8517.220000000001,897.48,67283.17,49797.16,9639.74,604699.12,8368.960000000001,226.86,286.83,3450.86,1987.78,2151.69,1404.48,827.13,1584.05,7144.1,353.89,1187.85,898.22,2419.2999999999997,390.84000000000003,470.52,7013.4,10377.39,527.64,364.85,1125.05,7133.43,3721.24,128.0,38486.77,181.45,2515.7,592.49,2282.2599999999998,2982.29,2966.72,1248.78,1691.6399999999999,7195.099999999999,1082.25,734.4300000000001,1151.99,674.83,5975.84,30408.73,1621.02,11599.71,6952.55,182.85,35754.42,1240.46,29.69,28.0,200.22,134.06,28.0,280.0,129.35,881.22,128.08,1947.36,574.36,1190.25,1970.0,1472.51,809.9300000000001,11307.36,110.09,980.42,140.06,1950.76,660.51,2196.12,12198.42,115.02,257.37,3976.0,1872.1,294.8,38846.88,695.61,821.4000000000001,1001.8100000000001,5221.34,3649.42,954.84,2577.64,4494.03,1574.8899999999999,11425.92,1441.03,2739.06,487.55999999999995,1235.51,2415.81,1525.33,3795.62,12505.4,528.62,14748.220000000001,4988.42,1305.8,55059.84,118.73,1136.43,1122.1200000000001,518.86,731.61,27125.98,17024.79,25098.67,17549.2,41963.9,3541.68,135835.48,13155.19,8855.93,7888.2,6769.25,8378.32,7341.38,49514.34,129491.59,3671.96,713.96,81298.12,42470.85,2014.72,434929.47,1645.97,272.76,829.47,300.06,1656.71,223.61,1855.97,157.79,2874.39,113.4,388.06,3759.73,543.59,972.52,1994.9,5579.88,194.97,127.9,5271.5,2873.26,469.6,24327.87,128.63,393.76,267.41999999999996,221.8,1703.23,66.94,984.1200000000001,5834.3,1118.68,86.8,660.39,1367.54,5978.73,10676.84,425.53,2668.2799999999997,1134.33,39602.85,214.61,299.54,316.01,516.64,546.3,1235.04,466.40999999999997,1578.1599999999999,751.63,4131.37,5263.01,3532.88,3587.1,2087.34,1865.56,29162.78,1608.8600000000001,1358.96,1896.73,1331.77,2375.8,865.27,8258.48,19734.84,470.01,1598.71,8851.72,7116.3099999999995,373.92,76327.36,459.21999999999997,88.27,531.74,202.06,2344.3700000000003,686.85,405.95,988.75,1866.0500000000002,4051.03,3734.0099999999998,258.3,786.51,616.6,861.04,564.65,172.87,1404.39,3892.08,176.2,209.48,2354.15,1684.96,633.03,16021.91,80.52,38.95,169.64,65.83,1244.12,927.86,661.81,1153.57,322.17,2317.48,79.28,420.29,517.2,348.94,11917.49,3601.8700000000003,3002.24,5941.06,1702.24,4332.42,33804.81,3848.58,6333.46,2363.69,1175.01,6934.95,1810.53,12624.24,23818.69,477.28,72.27,8606.22,8262.43,1855.55,77196.37,71.05,3729.7,267.34,55468.26,9883.11,3781.5299999999997,9249.54,4415.26,13384.95,56042.37,993.95,9809.92,7648.77,3579.19,5897.73,1730.4199999999998,47781.77,124116.6,1742.15,1850.79,434.76,19919.08,24560.81,694.06,226498.76,2644.06,269.73,98.99,175.84,1297.2600000000002,292.88,356.49,453.03,730.72,334.16,1929.44,380.56,2143.91,148.98000000000002,12259.83,10914.38,12172.77,10041.65,12883.63,5487.85,58566.56,2681.7400000000002,4726.67,6002.93,3403.89,8407.78,2459.87,21080.41,67864.53,3775.31,1454.0,272.99,24621.32,17780.85,1416.62,203128.51,2590.21,2426.7200000000003,541.05,175.6,8685.78,1619.74,7031.2300000000005,3872.52,6179.46,1354.8,45248.85,3855.98,3723.4700000000003,2484.23,1041.62,3804.3900000000003,1706.65,11249.76,33940.18,6066.77,1384.17,16189.05,13523.08,269.94,130905.53,435.78999999999996,115.45,209.06,868.8199999999999,738.6899999999999,2221.67,1534.67,1469.23,382.22,19457.04,774.1800000000001,17069.760000000002,309.2,388.07,3783.74,100.02,2503.71,1565.1000000000001,438.84,14658.630000000001,100.91,4387.69,4631.65,11608.86,736.04,3161.0899999999997,320.79,19473.13,520.8299999999999,4199.69,3995.42,2283.33,1115.3500000000001,11631.7,32209.48,365.85,125.15,18205.329999999998,10409.09,1677.03,85516.6,1717.69,793.09,4991.66,818.4,836.7,673.47,8924.98,3588.41,2114.63,565.34,4894.200000000001,18268.64,2094.44,2071.54,5093.0599999999995,1732.1399999999999,1480.9099999999999,57880.04,14691.93,36794.64,26847.08,25746.43,14281.47,153371.65,14432.14,10636.48,19431.329999999998,6242.4,27939.5,7790.72,80240.53,174869.66,5360.02,5202.34,2579.08,72900.25,60391.48,5275.85,508950.16,6961.25,646.76,879.24,869.01,335.04,8981.11,5966.84,5644.3099999999995,7065.9,7576.59,3060.17,36314.07,2756.66,4317.3,3152.21,3210.95,6284.16,1741.6399999999999,14558.17,41973.23,5860.0,1179.23,65.37,17642.33,13410.01,300.33,114533.08,350.6,72.85,759.43,47.62,1094.04,117.12,178.55,1307.19,461.56,87.39,455.36,249.15,381.85,298.53999999999996,1059.27,115.39,3357.62,1271.4299999999998,5577.3,1252.64,396.28999999999996,29419.05,9733.09,10111.45,15334.94,9199.64,7677.95,45289.65,2199.7599999999998,5402.86,12087.33,4140.7,15310.62,4567.6,22634.92,49314.18,6783.72,1374.19,209.13,48385.100000000006,16904.64,3065.48,139977.31,2015.52,318.04999999999995,1419.18,1135.1000000000001,389.72,17466.71,11172.71,15037.25,12997.26,11279.32,4276.05,74700.79,4852.65,8418.48,4499.389999999999,5697.84,11783.5,5566.96,28085.07,91722.15,3175.67,4175.38,34837.31,18681.16,1461.93,227851.32,2469.97,1573.7200000000003,13249.34,2074.9,2016.42,52801.7,35362.19,36434.7,32627.85,34997.19,12306.65,137957.88,10128.35,17758.4,24090.11,14544.56,39978.61,10362.77,85401.59,207651.19,12269.07,5010.179999999999,287.45,53218.9,42285.51,3491.07,492446.7,6719.3099999999995],\"zmax\":756727.97,\"zmin\":26.12,\"type\":\"heatmap\"}],                        {\"template\":{\"data\":{\"barpolar\":[{\"marker\":{\"line\":{\"color\":\"rgb(17,17,17)\",\"width\":0.5},\"pattern\":{\"fillmode\":\"overlay\",\"size\":10,\"solidity\":0.2}},\"type\":\"barpolar\"}],\"bar\":[{\"error_x\":{\"color\":\"#f2f5fa\"},\"error_y\":{\"color\":\"#f2f5fa\"},\"marker\":{\"line\":{\"color\":\"rgb(17,17,17)\",\"width\":0.5},\"pattern\":{\"fillmode\":\"overlay\",\"size\":10,\"solidity\":0.2}},\"type\":\"bar\"}],\"carpet\":[{\"aaxis\":{\"endlinecolor\":\"#A2B1C6\",\"gridcolor\":\"#506784\",\"linecolor\":\"#506784\",\"minorgridcolor\":\"#506784\",\"startlinecolor\":\"#A2B1C6\"},\"baxis\":{\"endlinecolor\":\"#A2B1C6\",\"gridcolor\":\"#506784\",\"linecolor\":\"#506784\",\"minorgridcolor\":\"#506784\",\"startlinecolor\":\"#A2B1C6\"},\"type\":\"carpet\"}],\"choropleth\":[{\"colorbar\":{\"outlinewidth\":0,\"ticks\":\"\"},\"type\":\"choropleth\"}],\"contourcarpet\":[{\"colorbar\":{\"outlinewidth\":0,\"ticks\":\"\"},\"type\":\"contourcarpet\"}],\"contour\":[{\"colorbar\":{\"outlinewidth\":0,\"ticks\":\"\"},\"colorscale\":[[0.0,\"#0d0887\"],[0.1111111111111111,\"#46039f\"],[0.2222222222222222,\"#7201a8\"],[0.3333333333333333,\"#9c179e\"],[0.4444444444444444,\"#bd3786\"],[0.5555555555555556,\"#d8576b\"],[0.6666666666666666,\"#ed7953\"],[0.7777777777777778,\"#fb9f3a\"],[0.8888888888888888,\"#fdca26\"],[1.0,\"#f0f921\"]],\"type\":\"contour\"}],\"heatmapgl\":[{\"colorbar\":{\"outlinewidth\":0,\"ticks\":\"\"},\"colorscale\":[[0.0,\"#0d0887\"],[0.1111111111111111,\"#46039f\"],[0.2222222222222222,\"#7201a8\"],[0.3333333333333333,\"#9c179e\"],[0.4444444444444444,\"#bd3786\"],[0.5555555555555556,\"#d8576b\"],[0.6666666666666666,\"#ed7953\"],[0.7777777777777778,\"#fb9f3a\"],[0.8888888888888888,\"#fdca26\"],[1.0,\"#f0f921\"]],\"type\":\"heatmapgl\"}],\"heatmap\":[{\"colorbar\":{\"outlinewidth\":0,\"ticks\":\"\"},\"colorscale\":[[0.0,\"#0d0887\"],[0.1111111111111111,\"#46039f\"],[0.2222222222222222,\"#7201a8\"],[0.3333333333333333,\"#9c179e\"],[0.4444444444444444,\"#bd3786\"],[0.5555555555555556,\"#d8576b\"],[0.6666666666666666,\"#ed7953\"],[0.7777777777777778,\"#fb9f3a\"],[0.8888888888888888,\"#fdca26\"],[1.0,\"#f0f921\"]],\"type\":\"heatmap\"}],\"histogram2dcontour\":[{\"colorbar\":{\"outlinewidth\":0,\"ticks\":\"\"},\"colorscale\":[[0.0,\"#0d0887\"],[0.1111111111111111,\"#46039f\"],[0.2222222222222222,\"#7201a8\"],[0.3333333333333333,\"#9c179e\"],[0.4444444444444444,\"#bd3786\"],[0.5555555555555556,\"#d8576b\"],[0.6666666666666666,\"#ed7953\"],[0.7777777777777778,\"#fb9f3a\"],[0.8888888888888888,\"#fdca26\"],[1.0,\"#f0f921\"]],\"type\":\"histogram2dcontour\"}],\"histogram2d\":[{\"colorbar\":{\"outlinewidth\":0,\"ticks\":\"\"},\"colorscale\":[[0.0,\"#0d0887\"],[0.1111111111111111,\"#46039f\"],[0.2222222222222222,\"#7201a8\"],[0.3333333333333333,\"#9c179e\"],[0.4444444444444444,\"#bd3786\"],[0.5555555555555556,\"#d8576b\"],[0.6666666666666666,\"#ed7953\"],[0.7777777777777778,\"#fb9f3a\"],[0.8888888888888888,\"#fdca26\"],[1.0,\"#f0f921\"]],\"type\":\"histogram2d\"}],\"histogram\":[{\"marker\":{\"pattern\":{\"fillmode\":\"overlay\",\"size\":10,\"solidity\":0.2}},\"type\":\"histogram\"}],\"mesh3d\":[{\"colorbar\":{\"outlinewidth\":0,\"ticks\":\"\"},\"type\":\"mesh3d\"}],\"parcoords\":[{\"line\":{\"colorbar\":{\"outlinewidth\":0,\"ticks\":\"\"}},\"type\":\"parcoords\"}],\"pie\":[{\"automargin\":true,\"type\":\"pie\"}],\"scatter3d\":[{\"line\":{\"colorbar\":{\"outlinewidth\":0,\"ticks\":\"\"}},\"marker\":{\"colorbar\":{\"outlinewidth\":0,\"ticks\":\"\"}},\"type\":\"scatter3d\"}],\"scattercarpet\":[{\"marker\":{\"colorbar\":{\"outlinewidth\":0,\"ticks\":\"\"}},\"type\":\"scattercarpet\"}],\"scattergeo\":[{\"marker\":{\"colorbar\":{\"outlinewidth\":0,\"ticks\":\"\"}},\"type\":\"scattergeo\"}],\"scattergl\":[{\"marker\":{\"line\":{\"color\":\"#283442\"}},\"type\":\"scattergl\"}],\"scattermapbox\":[{\"marker\":{\"colorbar\":{\"outlinewidth\":0,\"ticks\":\"\"}},\"type\":\"scattermapbox\"}],\"scatterpolargl\":[{\"marker\":{\"colorbar\":{\"outlinewidth\":0,\"ticks\":\"\"}},\"type\":\"scatterpolargl\"}],\"scatterpolar\":[{\"marker\":{\"colorbar\":{\"outlinewidth\":0,\"ticks\":\"\"}},\"type\":\"scatterpolar\"}],\"scatter\":[{\"marker\":{\"line\":{\"color\":\"#283442\"}},\"type\":\"scatter\"}],\"scatterternary\":[{\"marker\":{\"colorbar\":{\"outlinewidth\":0,\"ticks\":\"\"}},\"type\":\"scatterternary\"}],\"surface\":[{\"colorbar\":{\"outlinewidth\":0,\"ticks\":\"\"},\"colorscale\":[[0.0,\"#0d0887\"],[0.1111111111111111,\"#46039f\"],[0.2222222222222222,\"#7201a8\"],[0.3333333333333333,\"#9c179e\"],[0.4444444444444444,\"#bd3786\"],[0.5555555555555556,\"#d8576b\"],[0.6666666666666666,\"#ed7953\"],[0.7777777777777778,\"#fb9f3a\"],[0.8888888888888888,\"#fdca26\"],[1.0,\"#f0f921\"]],\"type\":\"surface\"}],\"table\":[{\"cells\":{\"fill\":{\"color\":\"#506784\"},\"line\":{\"color\":\"rgb(17,17,17)\"}},\"header\":{\"fill\":{\"color\":\"#2a3f5f\"},\"line\":{\"color\":\"rgb(17,17,17)\"}},\"type\":\"table\"}]},\"layout\":{\"annotationdefaults\":{\"arrowcolor\":\"#f2f5fa\",\"arrowhead\":0,\"arrowwidth\":1},\"autotypenumbers\":\"strict\",\"coloraxis\":{\"colorbar\":{\"outlinewidth\":0,\"ticks\":\"\"}},\"colorscale\":{\"diverging\":[[0,\"#8e0152\"],[0.1,\"#c51b7d\"],[0.2,\"#de77ae\"],[0.3,\"#f1b6da\"],[0.4,\"#fde0ef\"],[0.5,\"#f7f7f7\"],[0.6,\"#e6f5d0\"],[0.7,\"#b8e186\"],[0.8,\"#7fbc41\"],[0.9,\"#4d9221\"],[1,\"#276419\"]],\"sequential\":[[0.0,\"#0d0887\"],[0.1111111111111111,\"#46039f\"],[0.2222222222222222,\"#7201a8\"],[0.3333333333333333,\"#9c179e\"],[0.4444444444444444,\"#bd3786\"],[0.5555555555555556,\"#d8576b\"],[0.6666666666666666,\"#ed7953\"],[0.7777777777777778,\"#fb9f3a\"],[0.8888888888888888,\"#fdca26\"],[1.0,\"#f0f921\"]],\"sequentialminus\":[[0.0,\"#0d0887\"],[0.1111111111111111,\"#46039f\"],[0.2222222222222222,\"#7201a8\"],[0.3333333333333333,\"#9c179e\"],[0.4444444444444444,\"#bd3786\"],[0.5555555555555556,\"#d8576b\"],[0.6666666666666666,\"#ed7953\"],[0.7777777777777778,\"#fb9f3a\"],[0.8888888888888888,\"#fdca26\"],[1.0,\"#f0f921\"]]},\"colorway\":[\"#636efa\",\"#EF553B\",\"#00cc96\",\"#ab63fa\",\"#FFA15A\",\"#19d3f3\",\"#FF6692\",\"#B6E880\",\"#FF97FF\",\"#FECB52\"],\"font\":{\"color\":\"#f2f5fa\"},\"geo\":{\"bgcolor\":\"rgb(17,17,17)\",\"lakecolor\":\"rgb(17,17,17)\",\"landcolor\":\"rgb(17,17,17)\",\"showlakes\":true,\"showland\":true,\"subunitcolor\":\"#506784\"},\"hoverlabel\":{\"align\":\"left\"},\"hovermode\":\"closest\",\"mapbox\":{\"style\":\"dark\"},\"paper_bgcolor\":\"rgb(17,17,17)\",\"plot_bgcolor\":\"rgb(17,17,17)\",\"polar\":{\"angularaxis\":{\"gridcolor\":\"#506784\",\"linecolor\":\"#506784\",\"ticks\":\"\"},\"bgcolor\":\"rgb(17,17,17)\",\"radialaxis\":{\"gridcolor\":\"#506784\",\"linecolor\":\"#506784\",\"ticks\":\"\"}},\"scene\":{\"xaxis\":{\"backgroundcolor\":\"rgb(17,17,17)\",\"gridcolor\":\"#506784\",\"gridwidth\":2,\"linecolor\":\"#506784\",\"showbackground\":true,\"ticks\":\"\",\"zerolinecolor\":\"#C8D4E3\"},\"yaxis\":{\"backgroundcolor\":\"rgb(17,17,17)\",\"gridcolor\":\"#506784\",\"gridwidth\":2,\"linecolor\":\"#506784\",\"showbackground\":true,\"ticks\":\"\",\"zerolinecolor\":\"#C8D4E3\"},\"zaxis\":{\"backgroundcolor\":\"rgb(17,17,17)\",\"gridcolor\":\"#506784\",\"gridwidth\":2,\"linecolor\":\"#506784\",\"showbackground\":true,\"ticks\":\"\",\"zerolinecolor\":\"#C8D4E3\"}},\"shapedefaults\":{\"line\":{\"color\":\"#f2f5fa\"}},\"sliderdefaults\":{\"bgcolor\":\"#C8D4E3\",\"bordercolor\":\"rgb(17,17,17)\",\"borderwidth\":1,\"tickwidth\":0},\"ternary\":{\"aaxis\":{\"gridcolor\":\"#506784\",\"linecolor\":\"#506784\",\"ticks\":\"\"},\"baxis\":{\"gridcolor\":\"#506784\",\"linecolor\":\"#506784\",\"ticks\":\"\"},\"bgcolor\":\"rgb(17,17,17)\",\"caxis\":{\"gridcolor\":\"#506784\",\"linecolor\":\"#506784\",\"ticks\":\"\"}},\"title\":{\"x\":0.05},\"updatemenudefaults\":{\"bgcolor\":\"#506784\",\"borderwidth\":0},\"xaxis\":{\"automargin\":true,\"gridcolor\":\"#283442\",\"linecolor\":\"#506784\",\"ticks\":\"\",\"title\":{\"standoff\":15},\"zerolinecolor\":\"#283442\",\"zerolinewidth\":2},\"yaxis\":{\"automargin\":true,\"gridcolor\":\"#283442\",\"linecolor\":\"#506784\",\"ticks\":\"\",\"title\":{\"standoff\":15},\"zerolinecolor\":\"#283442\",\"zerolinewidth\":2}}},\"title\":{\"font\":{\"size\":16},\"text\":\"<b>\\ub3c4\\uc2dc\\ubcc4 \\uad6c\\ub9e4 \\ud488\\ubaa9\\uacfc \\ube44\\uc6a9</b>\",\"x\":0.5,\"y\":0.87},\"xaxis\":{\"dtick\":1,\"showticklabels\":true,\"title\":{\"text\":\"<b>\\uad6c\\ub9e4 \\ud488\\ubaa9</b>\"}},\"yaxis\":{\"title\":{\"text\":\"<b>\\ub3c4\\uc2dc</b>\"}}},                        {\"showLink\": true, \"linkText\": \"Export to plot.ly\", \"plotlyServerURL\": \"https://plot.ly\", \"responsive\": true}                    ).then(function(){\n",
       "                            \n",
       "var gd = document.getElementById('9d015939-a2ad-4bff-8acc-9fcefe11350a');\n",
       "var x = new MutationObserver(function (mutations, observer) {{\n",
       "        var display = window.getComputedStyle(gd).display;\n",
       "        if (!display || display === 'none') {{\n",
       "            console.log([gd, 'removed!']);\n",
       "            Plotly.purge(gd);\n",
       "            observer.disconnect();\n",
       "        }}\n",
       "}});\n",
       "\n",
       "// Listen for the removal of the full notebook cells\n",
       "var notebookContainer = gd.closest('#notebook-container');\n",
       "if (notebookContainer) {{\n",
       "    x.observe(notebookContainer, {childList: true});\n",
       "}}\n",
       "\n",
       "// Listen for the clearing of the current output cell\n",
       "var outputEl = gd.closest('.output');\n",
       "if (outputEl) {{\n",
       "    x.observe(outputEl, {childList: true});\n",
       "}}\n",
       "\n",
       "                        })                };                });            </script>        </div>"
      ]
     },
     "metadata": {},
     "output_type": "display_data"
    }
   ],
   "source": [
    "layout = {\n",
    "    'title':  {\n",
    "            \"text\": \"<b>도시별 구매 품목과 비용</b>\",\n",
    "            \"x\": 0.5,\n",
    "            \"y\": 0.87,\n",
    "            \"font\": {\n",
    "                \"size\": 16\n",
    "            }\n",
    "    },\n",
    "    'xaxis': {\n",
    "        'title': '<b>구매 품목</b>',\n",
    "        'showticklabels':True,\n",
    "        'dtick': 1\n",
    "    },\n",
    "    \"yaxis\": {\n",
    "        \"title\": \"<b>도시</b>\"\n",
    "    },\n",
    "    \"template\":'plotly_dark'\n",
    "}\n",
    "products_category.iplot(kind = 'heatmap', x = 'product_category_name_english', y = 'customer_state', z = 'payment_value', colorscale = 'Reds', layout = layout)"
   ]
  },
  {
   "cell_type": "code",
   "execution_count": 136,
   "metadata": {},
   "outputs": [
    {
     "data": {
      "text/html": [
       "<div>\n",
       "<style scoped>\n",
       "    .dataframe tbody tr th:only-of-type {\n",
       "        vertical-align: middle;\n",
       "    }\n",
       "\n",
       "    .dataframe tbody tr th {\n",
       "        vertical-align: top;\n",
       "    }\n",
       "\n",
       "    .dataframe thead th {\n",
       "        text-align: right;\n",
       "    }\n",
       "</style>\n",
       "<table border=\"1\" class=\"dataframe\">\n",
       "  <thead>\n",
       "    <tr style=\"text-align: right;\">\n",
       "      <th></th>\n",
       "      <th>product_category_name_english</th>\n",
       "      <th>customer_state</th>\n",
       "      <th>payment_value</th>\n",
       "    </tr>\n",
       "  </thead>\n",
       "  <tbody>\n",
       "    <tr>\n",
       "      <th>91</th>\n",
       "      <td>auto</td>\n",
       "      <td>GO</td>\n",
       "      <td>57732.00</td>\n",
       "    </tr>\n",
       "    <tr>\n",
       "      <th>93</th>\n",
       "      <td>auto</td>\n",
       "      <td>MG</td>\n",
       "      <td>99769.84</td>\n",
       "    </tr>\n",
       "    <tr>\n",
       "      <th>101</th>\n",
       "      <td>auto</td>\n",
       "      <td>RJ</td>\n",
       "      <td>82395.77</td>\n",
       "    </tr>\n",
       "    <tr>\n",
       "      <th>108</th>\n",
       "      <td>auto</td>\n",
       "      <td>SP</td>\n",
       "      <td>268333.25</td>\n",
       "    </tr>\n",
       "    <tr>\n",
       "      <th>119</th>\n",
       "      <td>baby</td>\n",
       "      <td>MG</td>\n",
       "      <td>64107.38</td>\n",
       "    </tr>\n",
       "    <tr>\n",
       "      <th>...</th>\n",
       "      <td>...</td>\n",
       "      <td>...</td>\n",
       "      <td>...</td>\n",
       "    </tr>\n",
       "    <tr>\n",
       "      <th>1334</th>\n",
       "      <td>watches_gifts</td>\n",
       "      <td>MG</td>\n",
       "      <td>137957.88</td>\n",
       "    </tr>\n",
       "    <tr>\n",
       "      <th>1341</th>\n",
       "      <td>watches_gifts</td>\n",
       "      <td>PR</td>\n",
       "      <td>85401.59</td>\n",
       "    </tr>\n",
       "    <tr>\n",
       "      <th>1342</th>\n",
       "      <td>watches_gifts</td>\n",
       "      <td>RJ</td>\n",
       "      <td>207651.19</td>\n",
       "    </tr>\n",
       "    <tr>\n",
       "      <th>1346</th>\n",
       "      <td>watches_gifts</td>\n",
       "      <td>RS</td>\n",
       "      <td>53218.90</td>\n",
       "    </tr>\n",
       "    <tr>\n",
       "      <th>1349</th>\n",
       "      <td>watches_gifts</td>\n",
       "      <td>SP</td>\n",
       "      <td>492446.70</td>\n",
       "    </tr>\n",
       "  </tbody>\n",
       "</table>\n",
       "<p>82 rows × 3 columns</p>\n",
       "</div>"
      ],
      "text/plain": [
       "     product_category_name_english customer_state  payment_value\n",
       "91                            auto             GO       57732.00\n",
       "93                            auto             MG       99769.84\n",
       "101                           auto             RJ       82395.77\n",
       "108                           auto             SP      268333.25\n",
       "119                           baby             MG       64107.38\n",
       "...                            ...            ...            ...\n",
       "1334                 watches_gifts             MG      137957.88\n",
       "1341                 watches_gifts             PR       85401.59\n",
       "1342                 watches_gifts             RJ      207651.19\n",
       "1346                 watches_gifts             RS       53218.90\n",
       "1349                 watches_gifts             SP      492446.70\n",
       "\n",
       "[82 rows x 3 columns]"
      ]
     },
     "execution_count": 136,
     "metadata": {},
     "output_type": "execute_result"
    }
   ],
   "source": [
    "products_category = products_category[products_category['payment_value'] > 50000]\n",
    "products_category\n",
    "\n",
    "# 50000헤알은 한국돈으로 1200만원 이상"
   ]
  },
  {
   "cell_type": "code",
   "execution_count": 137,
   "metadata": {},
   "outputs": [
    {
     "data": {
      "application/vnd.plotly.v1+json": {
       "config": {
        "linkText": "Export to plot.ly",
        "plotlyServerURL": "https://plot.ly",
        "showLink": true
       },
       "data": [
        {
         "colorscale": [
          [
           0,
           "rgb(255,245,240)"
          ],
          [
           0.125,
           "rgb(254,224,210)"
          ],
          [
           0.25,
           "rgb(252,187,161)"
          ],
          [
           0.375,
           "rgb(252,146,114)"
          ],
          [
           0.5,
           "rgb(251,106,74)"
          ],
          [
           0.625,
           "rgb(239,59,44)"
          ],
          [
           0.75,
           "rgb(203,24,29)"
          ],
          [
           0.875,
           "rgb(165,15,21)"
          ],
          [
           1,
           "rgb(103,0,13)"
          ]
         ],
         "type": "heatmap",
         "x": [
          "auto",
          "auto",
          "auto",
          "auto",
          "baby",
          "baby",
          "baby",
          "bed_bath_table",
          "bed_bath_table",
          "bed_bath_table",
          "bed_bath_table",
          "bed_bath_table",
          "bed_bath_table",
          "computers",
          "computers_accessories",
          "computers_accessories",
          "computers_accessories",
          "computers_accessories",
          "computers_accessories",
          "computers_accessories",
          "computers_accessories",
          "consoles_games",
          "construction_tools_construction",
          "cool_stuff",
          "cool_stuff",
          "cool_stuff",
          "cool_stuff",
          "electronics",
          "fashion_bags_accessories",
          "fixed_telephony",
          "furniture_decor",
          "furniture_decor",
          "furniture_decor",
          "furniture_decor",
          "furniture_decor",
          "furniture_decor",
          "furniture_living_room",
          "garden_tools",
          "garden_tools",
          "garden_tools",
          "garden_tools",
          "health_beauty",
          "health_beauty",
          "health_beauty",
          "health_beauty",
          "health_beauty",
          "health_beauty",
          "health_beauty",
          "home_construction",
          "housewares",
          "housewares",
          "housewares",
          "housewares",
          "luggage_accessories",
          "musical_instruments",
          "office_furniture",
          "office_furniture",
          "office_furniture",
          "office_furniture",
          "perfumery",
          "perfumery",
          "perfumery",
          "pet_shop",
          "small_appliances",
          "sports_leisure",
          "sports_leisure",
          "sports_leisure",
          "sports_leisure",
          "sports_leisure",
          "sports_leisure",
          "sports_leisure",
          "stationery",
          "telephony",
          "toys",
          "toys",
          "toys",
          "watches_gifts",
          "watches_gifts",
          "watches_gifts",
          "watches_gifts",
          "watches_gifts",
          "watches_gifts"
         ],
         "y": [
          "GO",
          "MG",
          "RJ",
          "SP",
          "MG",
          "RJ",
          "SP",
          "MG",
          "PR",
          "RJ",
          "RS",
          "SC",
          "SP",
          "SP",
          "BA",
          "MG",
          "PR",
          "RJ",
          "RS",
          "SC",
          "SP",
          "SP",
          "SP",
          "MG",
          "RJ",
          "RS",
          "SP",
          "SP",
          "SP",
          "RJ",
          "MG",
          "PR",
          "RJ",
          "RS",
          "SC",
          "SP",
          "SP",
          "MG",
          "RJ",
          "RS",
          "SP",
          "BA",
          "MG",
          "PE",
          "PR",
          "RJ",
          "RS",
          "SP",
          "SP",
          "MG",
          "RJ",
          "RS",
          "SP",
          "SP",
          "SP",
          "BA",
          "MG",
          "RJ",
          "SP",
          "MG",
          "RJ",
          "SP",
          "SP",
          "SP",
          "BA",
          "MG",
          "PR",
          "RJ",
          "RS",
          "SC",
          "SP",
          "SP",
          "SP",
          "MG",
          "RJ",
          "SP",
          "BA",
          "MG",
          "PR",
          "RJ",
          "RS",
          "SP"
         ],
         "z": [
          57732.00000000001,
          99769.84,
          82395.77,
          268333.25,
          64107.38,
          53202.38,
          191316.53,
          216969.38,
          76297.41,
          242431.81,
          93266.17,
          52961.71,
          756727.97,
          82904.25,
          58308.56,
          170939.37,
          70095.32,
          189763.18,
          108472.88,
          63469.16,
          622212.26,
          73413.55,
          101062.51,
          86486.54,
          97466.19,
          52943.24,
          245073.71,
          74278.15,
          83572.48,
          115214.61,
          154860.72,
          114060.51000000001,
          177682.75,
          93386.58,
          60206.09,
          533514.77,
          51629.39,
          102369.79,
          113245.71,
          57671.07,
          254857.78,
          65382.14,
          196330.05,
          55903.7,
          70919.01,
          178266.9,
          67283.17,
          604699.12,
          55059.84,
          135835.48,
          129491.59,
          81298.12,
          434929.47,
          76327.36,
          77196.37,
          55468.26,
          56042.37,
          124116.6,
          226498.76,
          58566.56,
          67864.53,
          203128.51,
          130905.53,
          85516.6,
          57880.04,
          153371.65,
          80240.53,
          174869.66,
          72900.25,
          60391.48,
          508950.16,
          114533.08,
          139977.31,
          74700.79,
          91722.15,
          227851.32,
          52801.7,
          137957.88,
          85401.59,
          207651.19,
          53218.9,
          492446.7
         ],
         "zmax": 756727.97,
         "zmin": 51629.39
        }
       ],
       "layout": {
        "template": {
         "data": {
          "bar": [
           {
            "error_x": {
             "color": "#f2f5fa"
            },
            "error_y": {
             "color": "#f2f5fa"
            },
            "marker": {
             "line": {
              "color": "rgb(17,17,17)",
              "width": 0.5
             },
             "pattern": {
              "fillmode": "overlay",
              "size": 10,
              "solidity": 0.2
             }
            },
            "type": "bar"
           }
          ],
          "barpolar": [
           {
            "marker": {
             "line": {
              "color": "rgb(17,17,17)",
              "width": 0.5
             },
             "pattern": {
              "fillmode": "overlay",
              "size": 10,
              "solidity": 0.2
             }
            },
            "type": "barpolar"
           }
          ],
          "carpet": [
           {
            "aaxis": {
             "endlinecolor": "#A2B1C6",
             "gridcolor": "#506784",
             "linecolor": "#506784",
             "minorgridcolor": "#506784",
             "startlinecolor": "#A2B1C6"
            },
            "baxis": {
             "endlinecolor": "#A2B1C6",
             "gridcolor": "#506784",
             "linecolor": "#506784",
             "minorgridcolor": "#506784",
             "startlinecolor": "#A2B1C6"
            },
            "type": "carpet"
           }
          ],
          "choropleth": [
           {
            "colorbar": {
             "outlinewidth": 0,
             "ticks": ""
            },
            "type": "choropleth"
           }
          ],
          "contour": [
           {
            "colorbar": {
             "outlinewidth": 0,
             "ticks": ""
            },
            "colorscale": [
             [
              0,
              "#0d0887"
             ],
             [
              0.1111111111111111,
              "#46039f"
             ],
             [
              0.2222222222222222,
              "#7201a8"
             ],
             [
              0.3333333333333333,
              "#9c179e"
             ],
             [
              0.4444444444444444,
              "#bd3786"
             ],
             [
              0.5555555555555556,
              "#d8576b"
             ],
             [
              0.6666666666666666,
              "#ed7953"
             ],
             [
              0.7777777777777778,
              "#fb9f3a"
             ],
             [
              0.8888888888888888,
              "#fdca26"
             ],
             [
              1,
              "#f0f921"
             ]
            ],
            "type": "contour"
           }
          ],
          "contourcarpet": [
           {
            "colorbar": {
             "outlinewidth": 0,
             "ticks": ""
            },
            "type": "contourcarpet"
           }
          ],
          "heatmap": [
           {
            "colorbar": {
             "outlinewidth": 0,
             "ticks": ""
            },
            "colorscale": [
             [
              0,
              "#0d0887"
             ],
             [
              0.1111111111111111,
              "#46039f"
             ],
             [
              0.2222222222222222,
              "#7201a8"
             ],
             [
              0.3333333333333333,
              "#9c179e"
             ],
             [
              0.4444444444444444,
              "#bd3786"
             ],
             [
              0.5555555555555556,
              "#d8576b"
             ],
             [
              0.6666666666666666,
              "#ed7953"
             ],
             [
              0.7777777777777778,
              "#fb9f3a"
             ],
             [
              0.8888888888888888,
              "#fdca26"
             ],
             [
              1,
              "#f0f921"
             ]
            ],
            "type": "heatmap"
           }
          ],
          "heatmapgl": [
           {
            "colorbar": {
             "outlinewidth": 0,
             "ticks": ""
            },
            "colorscale": [
             [
              0,
              "#0d0887"
             ],
             [
              0.1111111111111111,
              "#46039f"
             ],
             [
              0.2222222222222222,
              "#7201a8"
             ],
             [
              0.3333333333333333,
              "#9c179e"
             ],
             [
              0.4444444444444444,
              "#bd3786"
             ],
             [
              0.5555555555555556,
              "#d8576b"
             ],
             [
              0.6666666666666666,
              "#ed7953"
             ],
             [
              0.7777777777777778,
              "#fb9f3a"
             ],
             [
              0.8888888888888888,
              "#fdca26"
             ],
             [
              1,
              "#f0f921"
             ]
            ],
            "type": "heatmapgl"
           }
          ],
          "histogram": [
           {
            "marker": {
             "pattern": {
              "fillmode": "overlay",
              "size": 10,
              "solidity": 0.2
             }
            },
            "type": "histogram"
           }
          ],
          "histogram2d": [
           {
            "colorbar": {
             "outlinewidth": 0,
             "ticks": ""
            },
            "colorscale": [
             [
              0,
              "#0d0887"
             ],
             [
              0.1111111111111111,
              "#46039f"
             ],
             [
              0.2222222222222222,
              "#7201a8"
             ],
             [
              0.3333333333333333,
              "#9c179e"
             ],
             [
              0.4444444444444444,
              "#bd3786"
             ],
             [
              0.5555555555555556,
              "#d8576b"
             ],
             [
              0.6666666666666666,
              "#ed7953"
             ],
             [
              0.7777777777777778,
              "#fb9f3a"
             ],
             [
              0.8888888888888888,
              "#fdca26"
             ],
             [
              1,
              "#f0f921"
             ]
            ],
            "type": "histogram2d"
           }
          ],
          "histogram2dcontour": [
           {
            "colorbar": {
             "outlinewidth": 0,
             "ticks": ""
            },
            "colorscale": [
             [
              0,
              "#0d0887"
             ],
             [
              0.1111111111111111,
              "#46039f"
             ],
             [
              0.2222222222222222,
              "#7201a8"
             ],
             [
              0.3333333333333333,
              "#9c179e"
             ],
             [
              0.4444444444444444,
              "#bd3786"
             ],
             [
              0.5555555555555556,
              "#d8576b"
             ],
             [
              0.6666666666666666,
              "#ed7953"
             ],
             [
              0.7777777777777778,
              "#fb9f3a"
             ],
             [
              0.8888888888888888,
              "#fdca26"
             ],
             [
              1,
              "#f0f921"
             ]
            ],
            "type": "histogram2dcontour"
           }
          ],
          "mesh3d": [
           {
            "colorbar": {
             "outlinewidth": 0,
             "ticks": ""
            },
            "type": "mesh3d"
           }
          ],
          "parcoords": [
           {
            "line": {
             "colorbar": {
              "outlinewidth": 0,
              "ticks": ""
             }
            },
            "type": "parcoords"
           }
          ],
          "pie": [
           {
            "automargin": true,
            "type": "pie"
           }
          ],
          "scatter": [
           {
            "marker": {
             "line": {
              "color": "#283442"
             }
            },
            "type": "scatter"
           }
          ],
          "scatter3d": [
           {
            "line": {
             "colorbar": {
              "outlinewidth": 0,
              "ticks": ""
             }
            },
            "marker": {
             "colorbar": {
              "outlinewidth": 0,
              "ticks": ""
             }
            },
            "type": "scatter3d"
           }
          ],
          "scattercarpet": [
           {
            "marker": {
             "colorbar": {
              "outlinewidth": 0,
              "ticks": ""
             }
            },
            "type": "scattercarpet"
           }
          ],
          "scattergeo": [
           {
            "marker": {
             "colorbar": {
              "outlinewidth": 0,
              "ticks": ""
             }
            },
            "type": "scattergeo"
           }
          ],
          "scattergl": [
           {
            "marker": {
             "line": {
              "color": "#283442"
             }
            },
            "type": "scattergl"
           }
          ],
          "scattermapbox": [
           {
            "marker": {
             "colorbar": {
              "outlinewidth": 0,
              "ticks": ""
             }
            },
            "type": "scattermapbox"
           }
          ],
          "scatterpolar": [
           {
            "marker": {
             "colorbar": {
              "outlinewidth": 0,
              "ticks": ""
             }
            },
            "type": "scatterpolar"
           }
          ],
          "scatterpolargl": [
           {
            "marker": {
             "colorbar": {
              "outlinewidth": 0,
              "ticks": ""
             }
            },
            "type": "scatterpolargl"
           }
          ],
          "scatterternary": [
           {
            "marker": {
             "colorbar": {
              "outlinewidth": 0,
              "ticks": ""
             }
            },
            "type": "scatterternary"
           }
          ],
          "surface": [
           {
            "colorbar": {
             "outlinewidth": 0,
             "ticks": ""
            },
            "colorscale": [
             [
              0,
              "#0d0887"
             ],
             [
              0.1111111111111111,
              "#46039f"
             ],
             [
              0.2222222222222222,
              "#7201a8"
             ],
             [
              0.3333333333333333,
              "#9c179e"
             ],
             [
              0.4444444444444444,
              "#bd3786"
             ],
             [
              0.5555555555555556,
              "#d8576b"
             ],
             [
              0.6666666666666666,
              "#ed7953"
             ],
             [
              0.7777777777777778,
              "#fb9f3a"
             ],
             [
              0.8888888888888888,
              "#fdca26"
             ],
             [
              1,
              "#f0f921"
             ]
            ],
            "type": "surface"
           }
          ],
          "table": [
           {
            "cells": {
             "fill": {
              "color": "#506784"
             },
             "line": {
              "color": "rgb(17,17,17)"
             }
            },
            "header": {
             "fill": {
              "color": "#2a3f5f"
             },
             "line": {
              "color": "rgb(17,17,17)"
             }
            },
            "type": "table"
           }
          ]
         },
         "layout": {
          "annotationdefaults": {
           "arrowcolor": "#f2f5fa",
           "arrowhead": 0,
           "arrowwidth": 1
          },
          "autotypenumbers": "strict",
          "coloraxis": {
           "colorbar": {
            "outlinewidth": 0,
            "ticks": ""
           }
          },
          "colorscale": {
           "diverging": [
            [
             0,
             "#8e0152"
            ],
            [
             0.1,
             "#c51b7d"
            ],
            [
             0.2,
             "#de77ae"
            ],
            [
             0.3,
             "#f1b6da"
            ],
            [
             0.4,
             "#fde0ef"
            ],
            [
             0.5,
             "#f7f7f7"
            ],
            [
             0.6,
             "#e6f5d0"
            ],
            [
             0.7,
             "#b8e186"
            ],
            [
             0.8,
             "#7fbc41"
            ],
            [
             0.9,
             "#4d9221"
            ],
            [
             1,
             "#276419"
            ]
           ],
           "sequential": [
            [
             0,
             "#0d0887"
            ],
            [
             0.1111111111111111,
             "#46039f"
            ],
            [
             0.2222222222222222,
             "#7201a8"
            ],
            [
             0.3333333333333333,
             "#9c179e"
            ],
            [
             0.4444444444444444,
             "#bd3786"
            ],
            [
             0.5555555555555556,
             "#d8576b"
            ],
            [
             0.6666666666666666,
             "#ed7953"
            ],
            [
             0.7777777777777778,
             "#fb9f3a"
            ],
            [
             0.8888888888888888,
             "#fdca26"
            ],
            [
             1,
             "#f0f921"
            ]
           ],
           "sequentialminus": [
            [
             0,
             "#0d0887"
            ],
            [
             0.1111111111111111,
             "#46039f"
            ],
            [
             0.2222222222222222,
             "#7201a8"
            ],
            [
             0.3333333333333333,
             "#9c179e"
            ],
            [
             0.4444444444444444,
             "#bd3786"
            ],
            [
             0.5555555555555556,
             "#d8576b"
            ],
            [
             0.6666666666666666,
             "#ed7953"
            ],
            [
             0.7777777777777778,
             "#fb9f3a"
            ],
            [
             0.8888888888888888,
             "#fdca26"
            ],
            [
             1,
             "#f0f921"
            ]
           ]
          },
          "colorway": [
           "#636efa",
           "#EF553B",
           "#00cc96",
           "#ab63fa",
           "#FFA15A",
           "#19d3f3",
           "#FF6692",
           "#B6E880",
           "#FF97FF",
           "#FECB52"
          ],
          "font": {
           "color": "#f2f5fa"
          },
          "geo": {
           "bgcolor": "rgb(17,17,17)",
           "lakecolor": "rgb(17,17,17)",
           "landcolor": "rgb(17,17,17)",
           "showlakes": true,
           "showland": true,
           "subunitcolor": "#506784"
          },
          "hoverlabel": {
           "align": "left"
          },
          "hovermode": "closest",
          "mapbox": {
           "style": "dark"
          },
          "paper_bgcolor": "rgb(17,17,17)",
          "plot_bgcolor": "rgb(17,17,17)",
          "polar": {
           "angularaxis": {
            "gridcolor": "#506784",
            "linecolor": "#506784",
            "ticks": ""
           },
           "bgcolor": "rgb(17,17,17)",
           "radialaxis": {
            "gridcolor": "#506784",
            "linecolor": "#506784",
            "ticks": ""
           }
          },
          "scene": {
           "xaxis": {
            "backgroundcolor": "rgb(17,17,17)",
            "gridcolor": "#506784",
            "gridwidth": 2,
            "linecolor": "#506784",
            "showbackground": true,
            "ticks": "",
            "zerolinecolor": "#C8D4E3"
           },
           "yaxis": {
            "backgroundcolor": "rgb(17,17,17)",
            "gridcolor": "#506784",
            "gridwidth": 2,
            "linecolor": "#506784",
            "showbackground": true,
            "ticks": "",
            "zerolinecolor": "#C8D4E3"
           },
           "zaxis": {
            "backgroundcolor": "rgb(17,17,17)",
            "gridcolor": "#506784",
            "gridwidth": 2,
            "linecolor": "#506784",
            "showbackground": true,
            "ticks": "",
            "zerolinecolor": "#C8D4E3"
           }
          },
          "shapedefaults": {
           "line": {
            "color": "#f2f5fa"
           }
          },
          "sliderdefaults": {
           "bgcolor": "#C8D4E3",
           "bordercolor": "rgb(17,17,17)",
           "borderwidth": 1,
           "tickwidth": 0
          },
          "ternary": {
           "aaxis": {
            "gridcolor": "#506784",
            "linecolor": "#506784",
            "ticks": ""
           },
           "baxis": {
            "gridcolor": "#506784",
            "linecolor": "#506784",
            "ticks": ""
           },
           "bgcolor": "rgb(17,17,17)",
           "caxis": {
            "gridcolor": "#506784",
            "linecolor": "#506784",
            "ticks": ""
           }
          },
          "title": {
           "x": 0.05
          },
          "updatemenudefaults": {
           "bgcolor": "#506784",
           "borderwidth": 0
          },
          "xaxis": {
           "automargin": true,
           "gridcolor": "#283442",
           "linecolor": "#506784",
           "ticks": "",
           "title": {
            "standoff": 15
           },
           "zerolinecolor": "#283442",
           "zerolinewidth": 2
          },
          "yaxis": {
           "automargin": true,
           "gridcolor": "#283442",
           "linecolor": "#506784",
           "ticks": "",
           "title": {
            "standoff": 15
           },
           "zerolinecolor": "#283442",
           "zerolinewidth": 2
          }
         }
        },
        "title": {
         "font": {
          "size": 16
         },
         "text": "<b>도시별 구매 품목과 비용</b>",
         "x": 0.5,
         "y": 0.87
        },
        "xaxis": {
         "dtick": 1,
         "showticklabels": true,
         "title": {
          "text": "<b>구매 품목</b>"
         }
        },
        "yaxis": {
         "title": {
          "text": "<b>도시</b>"
         }
        }
       }
      },
      "text/html": [
       "<div>                            <div id=\"d7579526-fa30-443b-8c52-f6d5262394a3\" class=\"plotly-graph-div\" style=\"height:525px; width:100%;\"></div>            <script type=\"text/javascript\">                require([\"plotly\"], function(Plotly) {                    window.PLOTLYENV=window.PLOTLYENV || {};\n",
       "                    window.PLOTLYENV.BASE_URL='https://plot.ly';                                    if (document.getElementById(\"d7579526-fa30-443b-8c52-f6d5262394a3\")) {                    Plotly.newPlot(                        \"d7579526-fa30-443b-8c52-f6d5262394a3\",                        [{\"colorscale\":[[0.0,\"rgb(255,245,240)\"],[0.125,\"rgb(254,224,210)\"],[0.25,\"rgb(252,187,161)\"],[0.375,\"rgb(252,146,114)\"],[0.5,\"rgb(251,106,74)\"],[0.625,\"rgb(239,59,44)\"],[0.75,\"rgb(203,24,29)\"],[0.875,\"rgb(165,15,21)\"],[1.0,\"rgb(103,0,13)\"]],\"x\":[\"auto\",\"auto\",\"auto\",\"auto\",\"baby\",\"baby\",\"baby\",\"bed_bath_table\",\"bed_bath_table\",\"bed_bath_table\",\"bed_bath_table\",\"bed_bath_table\",\"bed_bath_table\",\"computers\",\"computers_accessories\",\"computers_accessories\",\"computers_accessories\",\"computers_accessories\",\"computers_accessories\",\"computers_accessories\",\"computers_accessories\",\"consoles_games\",\"construction_tools_construction\",\"cool_stuff\",\"cool_stuff\",\"cool_stuff\",\"cool_stuff\",\"electronics\",\"fashion_bags_accessories\",\"fixed_telephony\",\"furniture_decor\",\"furniture_decor\",\"furniture_decor\",\"furniture_decor\",\"furniture_decor\",\"furniture_decor\",\"furniture_living_room\",\"garden_tools\",\"garden_tools\",\"garden_tools\",\"garden_tools\",\"health_beauty\",\"health_beauty\",\"health_beauty\",\"health_beauty\",\"health_beauty\",\"health_beauty\",\"health_beauty\",\"home_construction\",\"housewares\",\"housewares\",\"housewares\",\"housewares\",\"luggage_accessories\",\"musical_instruments\",\"office_furniture\",\"office_furniture\",\"office_furniture\",\"office_furniture\",\"perfumery\",\"perfumery\",\"perfumery\",\"pet_shop\",\"small_appliances\",\"sports_leisure\",\"sports_leisure\",\"sports_leisure\",\"sports_leisure\",\"sports_leisure\",\"sports_leisure\",\"sports_leisure\",\"stationery\",\"telephony\",\"toys\",\"toys\",\"toys\",\"watches_gifts\",\"watches_gifts\",\"watches_gifts\",\"watches_gifts\",\"watches_gifts\",\"watches_gifts\"],\"y\":[\"GO\",\"MG\",\"RJ\",\"SP\",\"MG\",\"RJ\",\"SP\",\"MG\",\"PR\",\"RJ\",\"RS\",\"SC\",\"SP\",\"SP\",\"BA\",\"MG\",\"PR\",\"RJ\",\"RS\",\"SC\",\"SP\",\"SP\",\"SP\",\"MG\",\"RJ\",\"RS\",\"SP\",\"SP\",\"SP\",\"RJ\",\"MG\",\"PR\",\"RJ\",\"RS\",\"SC\",\"SP\",\"SP\",\"MG\",\"RJ\",\"RS\",\"SP\",\"BA\",\"MG\",\"PE\",\"PR\",\"RJ\",\"RS\",\"SP\",\"SP\",\"MG\",\"RJ\",\"RS\",\"SP\",\"SP\",\"SP\",\"BA\",\"MG\",\"RJ\",\"SP\",\"MG\",\"RJ\",\"SP\",\"SP\",\"SP\",\"BA\",\"MG\",\"PR\",\"RJ\",\"RS\",\"SC\",\"SP\",\"SP\",\"SP\",\"MG\",\"RJ\",\"SP\",\"BA\",\"MG\",\"PR\",\"RJ\",\"RS\",\"SP\"],\"z\":[57732.00000000001,99769.84,82395.77,268333.25,64107.38,53202.38,191316.53,216969.38,76297.41,242431.81,93266.17,52961.71,756727.97,82904.25,58308.56,170939.37,70095.32,189763.18,108472.88,63469.16,622212.26,73413.55,101062.51,86486.54,97466.19,52943.24,245073.71,74278.15,83572.48,115214.61,154860.72,114060.51000000001,177682.75,93386.58,60206.09,533514.77,51629.39,102369.79,113245.71,57671.07,254857.78,65382.14,196330.05,55903.7,70919.01,178266.9,67283.17,604699.12,55059.84,135835.48,129491.59,81298.12,434929.47,76327.36,77196.37,55468.26,56042.37,124116.6,226498.76,58566.56,67864.53,203128.51,130905.53,85516.6,57880.04,153371.65,80240.53,174869.66,72900.25,60391.48,508950.16,114533.08,139977.31,74700.79,91722.15,227851.32,52801.7,137957.88,85401.59,207651.19,53218.9,492446.7],\"zmax\":756727.97,\"zmin\":51629.39,\"type\":\"heatmap\"}],                        {\"template\":{\"data\":{\"barpolar\":[{\"marker\":{\"line\":{\"color\":\"rgb(17,17,17)\",\"width\":0.5},\"pattern\":{\"fillmode\":\"overlay\",\"size\":10,\"solidity\":0.2}},\"type\":\"barpolar\"}],\"bar\":[{\"error_x\":{\"color\":\"#f2f5fa\"},\"error_y\":{\"color\":\"#f2f5fa\"},\"marker\":{\"line\":{\"color\":\"rgb(17,17,17)\",\"width\":0.5},\"pattern\":{\"fillmode\":\"overlay\",\"size\":10,\"solidity\":0.2}},\"type\":\"bar\"}],\"carpet\":[{\"aaxis\":{\"endlinecolor\":\"#A2B1C6\",\"gridcolor\":\"#506784\",\"linecolor\":\"#506784\",\"minorgridcolor\":\"#506784\",\"startlinecolor\":\"#A2B1C6\"},\"baxis\":{\"endlinecolor\":\"#A2B1C6\",\"gridcolor\":\"#506784\",\"linecolor\":\"#506784\",\"minorgridcolor\":\"#506784\",\"startlinecolor\":\"#A2B1C6\"},\"type\":\"carpet\"}],\"choropleth\":[{\"colorbar\":{\"outlinewidth\":0,\"ticks\":\"\"},\"type\":\"choropleth\"}],\"contourcarpet\":[{\"colorbar\":{\"outlinewidth\":0,\"ticks\":\"\"},\"type\":\"contourcarpet\"}],\"contour\":[{\"colorbar\":{\"outlinewidth\":0,\"ticks\":\"\"},\"colorscale\":[[0.0,\"#0d0887\"],[0.1111111111111111,\"#46039f\"],[0.2222222222222222,\"#7201a8\"],[0.3333333333333333,\"#9c179e\"],[0.4444444444444444,\"#bd3786\"],[0.5555555555555556,\"#d8576b\"],[0.6666666666666666,\"#ed7953\"],[0.7777777777777778,\"#fb9f3a\"],[0.8888888888888888,\"#fdca26\"],[1.0,\"#f0f921\"]],\"type\":\"contour\"}],\"heatmapgl\":[{\"colorbar\":{\"outlinewidth\":0,\"ticks\":\"\"},\"colorscale\":[[0.0,\"#0d0887\"],[0.1111111111111111,\"#46039f\"],[0.2222222222222222,\"#7201a8\"],[0.3333333333333333,\"#9c179e\"],[0.4444444444444444,\"#bd3786\"],[0.5555555555555556,\"#d8576b\"],[0.6666666666666666,\"#ed7953\"],[0.7777777777777778,\"#fb9f3a\"],[0.8888888888888888,\"#fdca26\"],[1.0,\"#f0f921\"]],\"type\":\"heatmapgl\"}],\"heatmap\":[{\"colorbar\":{\"outlinewidth\":0,\"ticks\":\"\"},\"colorscale\":[[0.0,\"#0d0887\"],[0.1111111111111111,\"#46039f\"],[0.2222222222222222,\"#7201a8\"],[0.3333333333333333,\"#9c179e\"],[0.4444444444444444,\"#bd3786\"],[0.5555555555555556,\"#d8576b\"],[0.6666666666666666,\"#ed7953\"],[0.7777777777777778,\"#fb9f3a\"],[0.8888888888888888,\"#fdca26\"],[1.0,\"#f0f921\"]],\"type\":\"heatmap\"}],\"histogram2dcontour\":[{\"colorbar\":{\"outlinewidth\":0,\"ticks\":\"\"},\"colorscale\":[[0.0,\"#0d0887\"],[0.1111111111111111,\"#46039f\"],[0.2222222222222222,\"#7201a8\"],[0.3333333333333333,\"#9c179e\"],[0.4444444444444444,\"#bd3786\"],[0.5555555555555556,\"#d8576b\"],[0.6666666666666666,\"#ed7953\"],[0.7777777777777778,\"#fb9f3a\"],[0.8888888888888888,\"#fdca26\"],[1.0,\"#f0f921\"]],\"type\":\"histogram2dcontour\"}],\"histogram2d\":[{\"colorbar\":{\"outlinewidth\":0,\"ticks\":\"\"},\"colorscale\":[[0.0,\"#0d0887\"],[0.1111111111111111,\"#46039f\"],[0.2222222222222222,\"#7201a8\"],[0.3333333333333333,\"#9c179e\"],[0.4444444444444444,\"#bd3786\"],[0.5555555555555556,\"#d8576b\"],[0.6666666666666666,\"#ed7953\"],[0.7777777777777778,\"#fb9f3a\"],[0.8888888888888888,\"#fdca26\"],[1.0,\"#f0f921\"]],\"type\":\"histogram2d\"}],\"histogram\":[{\"marker\":{\"pattern\":{\"fillmode\":\"overlay\",\"size\":10,\"solidity\":0.2}},\"type\":\"histogram\"}],\"mesh3d\":[{\"colorbar\":{\"outlinewidth\":0,\"ticks\":\"\"},\"type\":\"mesh3d\"}],\"parcoords\":[{\"line\":{\"colorbar\":{\"outlinewidth\":0,\"ticks\":\"\"}},\"type\":\"parcoords\"}],\"pie\":[{\"automargin\":true,\"type\":\"pie\"}],\"scatter3d\":[{\"line\":{\"colorbar\":{\"outlinewidth\":0,\"ticks\":\"\"}},\"marker\":{\"colorbar\":{\"outlinewidth\":0,\"ticks\":\"\"}},\"type\":\"scatter3d\"}],\"scattercarpet\":[{\"marker\":{\"colorbar\":{\"outlinewidth\":0,\"ticks\":\"\"}},\"type\":\"scattercarpet\"}],\"scattergeo\":[{\"marker\":{\"colorbar\":{\"outlinewidth\":0,\"ticks\":\"\"}},\"type\":\"scattergeo\"}],\"scattergl\":[{\"marker\":{\"line\":{\"color\":\"#283442\"}},\"type\":\"scattergl\"}],\"scattermapbox\":[{\"marker\":{\"colorbar\":{\"outlinewidth\":0,\"ticks\":\"\"}},\"type\":\"scattermapbox\"}],\"scatterpolargl\":[{\"marker\":{\"colorbar\":{\"outlinewidth\":0,\"ticks\":\"\"}},\"type\":\"scatterpolargl\"}],\"scatterpolar\":[{\"marker\":{\"colorbar\":{\"outlinewidth\":0,\"ticks\":\"\"}},\"type\":\"scatterpolar\"}],\"scatter\":[{\"marker\":{\"line\":{\"color\":\"#283442\"}},\"type\":\"scatter\"}],\"scatterternary\":[{\"marker\":{\"colorbar\":{\"outlinewidth\":0,\"ticks\":\"\"}},\"type\":\"scatterternary\"}],\"surface\":[{\"colorbar\":{\"outlinewidth\":0,\"ticks\":\"\"},\"colorscale\":[[0.0,\"#0d0887\"],[0.1111111111111111,\"#46039f\"],[0.2222222222222222,\"#7201a8\"],[0.3333333333333333,\"#9c179e\"],[0.4444444444444444,\"#bd3786\"],[0.5555555555555556,\"#d8576b\"],[0.6666666666666666,\"#ed7953\"],[0.7777777777777778,\"#fb9f3a\"],[0.8888888888888888,\"#fdca26\"],[1.0,\"#f0f921\"]],\"type\":\"surface\"}],\"table\":[{\"cells\":{\"fill\":{\"color\":\"#506784\"},\"line\":{\"color\":\"rgb(17,17,17)\"}},\"header\":{\"fill\":{\"color\":\"#2a3f5f\"},\"line\":{\"color\":\"rgb(17,17,17)\"}},\"type\":\"table\"}]},\"layout\":{\"annotationdefaults\":{\"arrowcolor\":\"#f2f5fa\",\"arrowhead\":0,\"arrowwidth\":1},\"autotypenumbers\":\"strict\",\"coloraxis\":{\"colorbar\":{\"outlinewidth\":0,\"ticks\":\"\"}},\"colorscale\":{\"diverging\":[[0,\"#8e0152\"],[0.1,\"#c51b7d\"],[0.2,\"#de77ae\"],[0.3,\"#f1b6da\"],[0.4,\"#fde0ef\"],[0.5,\"#f7f7f7\"],[0.6,\"#e6f5d0\"],[0.7,\"#b8e186\"],[0.8,\"#7fbc41\"],[0.9,\"#4d9221\"],[1,\"#276419\"]],\"sequential\":[[0.0,\"#0d0887\"],[0.1111111111111111,\"#46039f\"],[0.2222222222222222,\"#7201a8\"],[0.3333333333333333,\"#9c179e\"],[0.4444444444444444,\"#bd3786\"],[0.5555555555555556,\"#d8576b\"],[0.6666666666666666,\"#ed7953\"],[0.7777777777777778,\"#fb9f3a\"],[0.8888888888888888,\"#fdca26\"],[1.0,\"#f0f921\"]],\"sequentialminus\":[[0.0,\"#0d0887\"],[0.1111111111111111,\"#46039f\"],[0.2222222222222222,\"#7201a8\"],[0.3333333333333333,\"#9c179e\"],[0.4444444444444444,\"#bd3786\"],[0.5555555555555556,\"#d8576b\"],[0.6666666666666666,\"#ed7953\"],[0.7777777777777778,\"#fb9f3a\"],[0.8888888888888888,\"#fdca26\"],[1.0,\"#f0f921\"]]},\"colorway\":[\"#636efa\",\"#EF553B\",\"#00cc96\",\"#ab63fa\",\"#FFA15A\",\"#19d3f3\",\"#FF6692\",\"#B6E880\",\"#FF97FF\",\"#FECB52\"],\"font\":{\"color\":\"#f2f5fa\"},\"geo\":{\"bgcolor\":\"rgb(17,17,17)\",\"lakecolor\":\"rgb(17,17,17)\",\"landcolor\":\"rgb(17,17,17)\",\"showlakes\":true,\"showland\":true,\"subunitcolor\":\"#506784\"},\"hoverlabel\":{\"align\":\"left\"},\"hovermode\":\"closest\",\"mapbox\":{\"style\":\"dark\"},\"paper_bgcolor\":\"rgb(17,17,17)\",\"plot_bgcolor\":\"rgb(17,17,17)\",\"polar\":{\"angularaxis\":{\"gridcolor\":\"#506784\",\"linecolor\":\"#506784\",\"ticks\":\"\"},\"bgcolor\":\"rgb(17,17,17)\",\"radialaxis\":{\"gridcolor\":\"#506784\",\"linecolor\":\"#506784\",\"ticks\":\"\"}},\"scene\":{\"xaxis\":{\"backgroundcolor\":\"rgb(17,17,17)\",\"gridcolor\":\"#506784\",\"gridwidth\":2,\"linecolor\":\"#506784\",\"showbackground\":true,\"ticks\":\"\",\"zerolinecolor\":\"#C8D4E3\"},\"yaxis\":{\"backgroundcolor\":\"rgb(17,17,17)\",\"gridcolor\":\"#506784\",\"gridwidth\":2,\"linecolor\":\"#506784\",\"showbackground\":true,\"ticks\":\"\",\"zerolinecolor\":\"#C8D4E3\"},\"zaxis\":{\"backgroundcolor\":\"rgb(17,17,17)\",\"gridcolor\":\"#506784\",\"gridwidth\":2,\"linecolor\":\"#506784\",\"showbackground\":true,\"ticks\":\"\",\"zerolinecolor\":\"#C8D4E3\"}},\"shapedefaults\":{\"line\":{\"color\":\"#f2f5fa\"}},\"sliderdefaults\":{\"bgcolor\":\"#C8D4E3\",\"bordercolor\":\"rgb(17,17,17)\",\"borderwidth\":1,\"tickwidth\":0},\"ternary\":{\"aaxis\":{\"gridcolor\":\"#506784\",\"linecolor\":\"#506784\",\"ticks\":\"\"},\"baxis\":{\"gridcolor\":\"#506784\",\"linecolor\":\"#506784\",\"ticks\":\"\"},\"bgcolor\":\"rgb(17,17,17)\",\"caxis\":{\"gridcolor\":\"#506784\",\"linecolor\":\"#506784\",\"ticks\":\"\"}},\"title\":{\"x\":0.05},\"updatemenudefaults\":{\"bgcolor\":\"#506784\",\"borderwidth\":0},\"xaxis\":{\"automargin\":true,\"gridcolor\":\"#283442\",\"linecolor\":\"#506784\",\"ticks\":\"\",\"title\":{\"standoff\":15},\"zerolinecolor\":\"#283442\",\"zerolinewidth\":2},\"yaxis\":{\"automargin\":true,\"gridcolor\":\"#283442\",\"linecolor\":\"#506784\",\"ticks\":\"\",\"title\":{\"standoff\":15},\"zerolinecolor\":\"#283442\",\"zerolinewidth\":2}}},\"title\":{\"font\":{\"size\":16},\"text\":\"<b>\\ub3c4\\uc2dc\\ubcc4 \\uad6c\\ub9e4 \\ud488\\ubaa9\\uacfc \\ube44\\uc6a9</b>\",\"x\":0.5,\"y\":0.87},\"xaxis\":{\"dtick\":1,\"showticklabels\":true,\"title\":{\"text\":\"<b>\\uad6c\\ub9e4 \\ud488\\ubaa9</b>\"}},\"yaxis\":{\"title\":{\"text\":\"<b>\\ub3c4\\uc2dc</b>\"}}},                        {\"showLink\": true, \"linkText\": \"Export to plot.ly\", \"plotlyServerURL\": \"https://plot.ly\", \"responsive\": true}                    ).then(function(){\n",
       "                            \n",
       "var gd = document.getElementById('d7579526-fa30-443b-8c52-f6d5262394a3');\n",
       "var x = new MutationObserver(function (mutations, observer) {{\n",
       "        var display = window.getComputedStyle(gd).display;\n",
       "        if (!display || display === 'none') {{\n",
       "            console.log([gd, 'removed!']);\n",
       "            Plotly.purge(gd);\n",
       "            observer.disconnect();\n",
       "        }}\n",
       "}});\n",
       "\n",
       "// Listen for the removal of the full notebook cells\n",
       "var notebookContainer = gd.closest('#notebook-container');\n",
       "if (notebookContainer) {{\n",
       "    x.observe(notebookContainer, {childList: true});\n",
       "}}\n",
       "\n",
       "// Listen for the clearing of the current output cell\n",
       "var outputEl = gd.closest('.output');\n",
       "if (outputEl) {{\n",
       "    x.observe(outputEl, {childList: true});\n",
       "}}\n",
       "\n",
       "                        })                };                });            </script>        </div>"
      ]
     },
     "metadata": {},
     "output_type": "display_data"
    }
   ],
   "source": [
    "layout = {\n",
    "    'title':  {\n",
    "            \"text\": \"<b>도시별 구매 품목과 비용</b>\",\n",
    "            \"x\": 0.5,\n",
    "            \"y\": 0.87,\n",
    "            \"font\": {\n",
    "                \"size\": 16\n",
    "            }\n",
    "    },\n",
    "    'xaxis': {\n",
    "        'title': '<b>구매 품목</b>',\n",
    "        'showticklabels':True,\n",
    "        'dtick': 1\n",
    "    },\n",
    "    \"yaxis\": {\n",
    "        \"title\": \"<b>도시</b>\"\n",
    "    },\n",
    "    \"template\":'plotly_dark'\n",
    "}\n",
    "products_category.iplot(kind = 'heatmap', x = 'product_category_name_english', y = 'customer_state', z = 'payment_value', colorscale = 'Reds', layout = layout)"
   ]
  }
 ],
 "metadata": {
  "kernelspec": {
   "display_name": "Python 3.9.7 ('base')",
   "language": "python",
   "name": "python3"
  },
  "language_info": {
   "codemirror_mode": {
    "name": "ipython",
    "version": 3
   },
   "file_extension": ".py",
   "mimetype": "text/x-python",
   "name": "python",
   "nbconvert_exporter": "python",
   "pygments_lexer": "ipython3",
   "version": "3.9.7"
  },
  "orig_nbformat": 4,
  "vscode": {
   "interpreter": {
    "hash": "a077222d77dfe082b8f1dd562ad70e458ac2ab76993a0b248ab0476e32e9e8dd"
   }
  }
 },
 "nbformat": 4,
 "nbformat_minor": 2
}
