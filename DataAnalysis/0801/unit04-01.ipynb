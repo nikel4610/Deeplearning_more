{
 "cells": [
  {
   "cell_type": "code",
   "execution_count": null,
   "metadata": {},
   "outputs": [],
   "source": [
    "import matplotlib.pyplot as plt\n",
    "plt.plot([10, 20, 30, 40])\n",
    "plt.show()"
   ]
  },
  {
   "cell_type": "code",
   "execution_count": null,
   "metadata": {},
   "outputs": [],
   "source": [
    "import matplotlib.pyplot as plt\n",
    "plt.plot([1,2,3,4], [12, 43, 25, 15])\n",
    "plt.show()"
   ]
  },
  {
   "cell_type": "code",
   "execution_count": null,
   "metadata": {},
   "outputs": [],
   "source": [
    "import matplotlib.pyplot as plt\n",
    "plt.title('plotting')\n",
    "plt.plot([10, 20, 30, 40])\n",
    "plt.show()"
   ]
  },
  {
   "cell_type": "code",
   "execution_count": null,
   "metadata": {},
   "outputs": [],
   "source": [
    "import matplotlib.pyplot as plt\n",
    "plt.title('legend')\n",
    "plt.plot([10, 20, 30, 40], label ='asc') # 증가를 의미하는 asc 범례\n",
    "plt.plot([40, 30, 20, 10], label ='desc') # 감소를 의미하는 desc 범례\n",
    "plt.legend()\n",
    "plt.show()"
   ]
  },
  {
   "cell_type": "code",
   "execution_count": null,
   "metadata": {},
   "outputs": [],
   "source": [
    "import matplotlib.pyplot as plt\n",
    "plt.title('color') # 제목 설정\n",
    "plt.plot([10, 20, 30, 40], color ='skyblue', label ='skyblue') # 하늘색 그래프\n",
    "plt.plot([40, 30, 20, 10], 'pink', label ='pink') # 분홍색 그래프\n",
    "plt.legend() # 범례 표시\n",
    "plt.show()"
   ]
  },
  {
   "cell_type": "code",
   "execution_count": null,
   "metadata": {},
   "outputs": [],
   "source": [
    "import matplotlib.pyplot as plt\n",
    "plt.title('linestyle') #제목 설정\n",
    "plt.plot([10, 20, 30, 40], color ='r', linestyle ='--', label\n",
    "='dashed') # 빨간색 dashed 그래프\n",
    "plt.plot([40, 30, 20, 10], color ='g', ls =':', label ='dotted')\n",
    "# 초록색 dotted 그래프\n",
    "plt.legend() # 범례 표시\n",
    "plt.show()"
   ]
  },
  {
   "cell_type": "code",
   "execution_count": null,
   "metadata": {},
   "outputs": [],
   "source": [
    "import matplotlib.pyplot as plt\n",
    "plt.title('marker') # 제목 설정\n",
    "plt.plot([10, 20, 30, 40], 'r.', label ='circle') # 빨간색 원형 마커 그래프\n",
    "plt.plot([40, 30, 20, 10], 'g^', label ='triangle up')\n",
    "# 초록색 삼각형 마커 그래프\n",
    "plt.legend() # 범례 표시\n",
    "plt.show()"
   ]
  },
  {
   "cell_type": "code",
   "execution_count": null,
   "metadata": {},
   "outputs": [],
   "source": []
  }
 ],
 "metadata": {
  "kernelspec": {
   "display_name": "Python 3 (ipykernel)",
   "language": "python",
   "name": "python3"
  },
  "language_info": {
   "codemirror_mode": {
    "name": "ipython",
    "version": 3
   },
   "file_extension": ".py",
   "mimetype": "text/x-python",
   "name": "python",
   "nbconvert_exporter": "python",
   "pygments_lexer": "ipython3",
   "version": "3.9.12"
  }
 },
 "nbformat": 4,
 "nbformat_minor": 2
}
